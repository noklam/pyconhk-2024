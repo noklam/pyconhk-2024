{
 "cells": [
  {
   "cell_type": "code",
   "execution_count": 2,
   "metadata": {},
   "outputs": [],
   "source": [
    "import pandas as pd\n",
    "import duckdb\n",
    "DATA = \"pypi-data\""
   ]
  },
  {
   "cell_type": "code",
   "execution_count": 3,
   "metadata": {},
   "outputs": [
    {
     "name": "stdout",
     "output_type": "stream",
     "text": [
      "total 21316M\n",
      "-rw-r--r-- 1 root root 1823M Nov  6 00:13 dataset-03269778.parquet\n",
      "-rw-r--r-- 1 root root 1829M Nov  6 00:13 dataset-17d8be30.parquet\n",
      "-rw-r--r-- 1 root root 1821M Nov  6 00:14 dataset-2d0ae87e.parquet\n",
      "-rw-r--r-- 1 root root 1813M Nov  6 00:15 dataset-44ce2ca1.parquet\n",
      "-rw-r--r-- 1 root root 1841M Nov  6 00:15 dataset-47c23325.parquet\n",
      "-rw-r--r-- 1 root root 1829M Nov  6 00:16 dataset-47e8e969.parquet\n",
      "-rw-r--r-- 1 root root 1814M Nov  6 00:15 dataset-653fcaa4.parquet\n",
      "-rw-r--r-- 1 root root 1250M Nov  6 00:13 dataset-83504e31.parquet\n",
      "-rw-r--r-- 1 root root 1814M Nov  6 00:14 dataset-a1368ea1.parquet\n",
      "-rw-r--r-- 1 root root 1847M Nov  6 00:14 dataset-a24b456d.parquet\n",
      "-rw-r--r-- 1 root root 1819M Nov  6 00:14 dataset-e6ebf1fd.parquet\n",
      "-rw-r--r-- 1 root root 1821M Nov  6 00:14 dataset-f75219d2.parquet\n"
     ]
    }
   ],
   "source": [
    "!ls -l --block-size=M pypi-data"
   ]
  },
  {
   "cell_type": "code",
   "execution_count": 4,
   "metadata": {},
   "outputs": [
    {
     "name": "stdout",
     "output_type": "stream",
     "text": [
      "(130411924, 1)\n",
      "CPU times: user 2min 3s, sys: 1min 15s, total: 3min 19s\n",
      "Wall time: 2min 25s\n"
     ]
    }
   ],
   "source": [
    "%%time\n",
    "df = pd.read_parquet(f\"{DATA}/dataset-44ce2ca1.parquet\")\n",
    "df = df[[\"lines\"]]\n",
    "print(df.shape)\n",
    "df[\"lines\"] = df[\"lines\"] * 10"
   ]
  },
  {
   "cell_type": "code",
   "execution_count": 8,
   "metadata": {},
   "outputs": [
    {
     "name": "stdout",
     "output_type": "stream",
     "text": [
      "CPU times: user 601 ms, sys: 368 ms, total: 970 ms\n",
      "Wall time: 563 ms\n"
     ]
    }
   ],
   "source": [
    "%%time\n",
    "df = pd.read_parquet(f\"{DATA}/dataset-44ce2ca1.parquet\", columns=[\"lines\"])\n",
    "df[\"lines\"] = df[\"lines\"] * 10"
   ]
  },
  {
   "cell_type": "code",
   "execution_count": 9,
   "metadata": {},
   "outputs": [
    {
     "name": "stdout",
     "output_type": "stream",
     "text": [
      "CPU times: user 1.6 s, sys: 543 ms, total: 2.14 s\n",
      "Wall time: 477 ms\n"
     ]
    }
   ],
   "source": [
    "%%time\n",
    "duckdb_con = duckdb.connect() # In memory\n",
    "table = duckdb_con.sql(f\"SELECT lines*10 from read_parquet('{DATA}/dataset-44ce2ca1.parquet');\")\n",
    "table_df = table.to_df()"
   ]
  }
 ],
 "metadata": {
  "kernelspec": {
   "display_name": ".venv",
   "language": "python",
   "name": "python3"
  },
  "language_info": {
   "codemirror_mode": {
    "name": "ipython",
    "version": 3
   },
   "file_extension": ".py",
   "mimetype": "text/x-python",
   "name": "python",
   "nbconvert_exporter": "python",
   "pygments_lexer": "ipython3",
   "version": "3.10.15"
  }
 },
 "nbformat": 4,
 "nbformat_minor": 2
}
