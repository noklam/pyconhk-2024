{
 "cells": [
  {
   "cell_type": "code",
   "execution_count": 3,
   "metadata": {},
   "outputs": [
    {
     "ename": "IOException",
     "evalue": "IO Error: Could not set lock on file \"/workspaces/pyconhk-2024/tpch.duckdb\": Conflicting lock is held in /usr/local/bin/python3.10 (PID 2112). See also https://duckdb.org/docs/connect/concurrency",
     "output_type": "error",
     "traceback": [
      "\u001b[0;31m---------------------------------------------------------------------------\u001b[0m",
      "\u001b[0;31mIOException\u001b[0m                               Traceback (most recent call last)",
      "Cell \u001b[0;32mIn[3], line 7\u001b[0m\n\u001b[1;32m      4\u001b[0m SCALE_FACTOR \u001b[38;5;241m=\u001b[39m \u001b[38;5;241m1\u001b[39m\n\u001b[1;32m      6\u001b[0m \u001b[38;5;66;03m# Connect to DuckDB\u001b[39;00m\n\u001b[0;32m----> 7\u001b[0m duckdb_con \u001b[38;5;241m=\u001b[39m \u001b[43mduckdb\u001b[49m\u001b[38;5;241;43m.\u001b[39;49m\u001b[43mconnect\u001b[49m\u001b[43m(\u001b[49m\u001b[38;5;124;43m\"\u001b[39;49m\u001b[38;5;124;43mtpch.duckdb\u001b[39;49m\u001b[38;5;124;43m\"\u001b[39;49m\u001b[43m)\u001b[49m\n\u001b[1;32m      8\u001b[0m con \u001b[38;5;241m=\u001b[39m ibis\u001b[38;5;241m.\u001b[39mconnect(\u001b[38;5;124m\"\u001b[39m\u001b[38;5;124mduckdb://tpch.duckdb\u001b[39m\u001b[38;5;124m\"\u001b[39m)\n",
      "\u001b[0;31mIOException\u001b[0m: IO Error: Could not set lock on file \"/workspaces/pyconhk-2024/tpch.duckdb\": Conflicting lock is held in /usr/local/bin/python3.10 (PID 2112). See also https://duckdb.org/docs/connect/concurrency"
     ]
    }
   ],
   "source": [
    "import ibis\n",
    "import duckdb\n",
    "\n",
    "SCALE_FACTOR = 1\n",
    "\n",
    "# Connect to DuckDB\n",
    "duckdb_con = duckdb.connect(\"tpch.duckdb\")\n",
    "con = ibis.connect(\"duckdb://tpch.duckdb\")"
   ]
  },
  {
   "cell_type": "markdown",
   "metadata": {},
   "source": [
    "# Generate Data"
   ]
  },
  {
   "cell_type": "code",
   "execution_count": 2,
   "metadata": {},
   "outputs": [
    {
     "ename": "NameError",
     "evalue": "name 'duckdb_con' is not defined",
     "output_type": "error",
     "traceback": [
      "\u001b[0;31m---------------------------------------------------------------------------\u001b[0m",
      "\u001b[0;31mNameError\u001b[0m                                 Traceback (most recent call last)",
      "Cell \u001b[0;32mIn[2], line 2\u001b[0m\n\u001b[1;32m      1\u001b[0m \u001b[38;5;66;03m# Generate TPC-H data at scale factor 1 (1 GB)\u001b[39;00m\n\u001b[0;32m----> 2\u001b[0m \u001b[43mduckdb_con\u001b[49m\u001b[38;5;241m.\u001b[39msql(\u001b[38;5;124mf\u001b[39m\u001b[38;5;124m\"\u001b[39m\u001b[38;5;124mCALL dbgen(sf=\u001b[39m\u001b[38;5;132;01m{\u001b[39;00mSCALE_FACTOR\u001b[38;5;132;01m}\u001b[39;00m\u001b[38;5;124m)\u001b[39m\u001b[38;5;124m\"\u001b[39m)\n\u001b[1;32m      4\u001b[0m \u001b[38;5;66;03m# Export each table to Parquet format\u001b[39;00m\n\u001b[1;32m      5\u001b[0m tables \u001b[38;5;241m=\u001b[39m [\u001b[38;5;124m\"\u001b[39m\u001b[38;5;124mlineitem\u001b[39m\u001b[38;5;124m\"\u001b[39m, \u001b[38;5;124m\"\u001b[39m\u001b[38;5;124morders\u001b[39m\u001b[38;5;124m\"\u001b[39m, \u001b[38;5;124m\"\u001b[39m\u001b[38;5;124mcustomer\u001b[39m\u001b[38;5;124m\"\u001b[39m, \u001b[38;5;124m\"\u001b[39m\u001b[38;5;124msupplier\u001b[39m\u001b[38;5;124m\"\u001b[39m, \u001b[38;5;124m\"\u001b[39m\u001b[38;5;124mnation\u001b[39m\u001b[38;5;124m\"\u001b[39m, \u001b[38;5;124m\"\u001b[39m\u001b[38;5;124mregion\u001b[39m\u001b[38;5;124m\"\u001b[39m, \u001b[38;5;124m\"\u001b[39m\u001b[38;5;124mpart\u001b[39m\u001b[38;5;124m\"\u001b[39m, \u001b[38;5;124m\"\u001b[39m\u001b[38;5;124mpartsupp\u001b[39m\u001b[38;5;124m\"\u001b[39m]\n",
      "\u001b[0;31mNameError\u001b[0m: name 'duckdb_con' is not defined"
     ]
    }
   ],
   "source": [
    "# Generate TPC-H data at scale factor 1 (1 GB)\n",
    "duckdb_con.sql(f\"CALL dbgen(sf={SCALE_FACTOR})\")\n",
    "\n",
    "# Export each table to Parquet format\n",
    "tables = [\"lineitem\", \"orders\", \"customer\", \"supplier\", \"nation\", \"region\", \"part\", \"partsupp\"]\n",
    "for table in tables:\n",
    "    duckdb_con.sql(f\"COPY {table} TO 'data/{table}.parquet' (FORMAT PARQUET)\")\n"
   ]
  },
  {
   "cell_type": "code",
   "execution_count": 4,
   "metadata": {},
   "outputs": [],
   "source": [
    "part = con.table(\"part\")\n",
    "partsupp = con.table(\"partsupp\")\n"
   ]
  },
  {
   "cell_type": "code",
   "execution_count": null,
   "metadata": {},
   "outputs": [],
   "source": []
  },
  {
   "cell_type": "code",
   "execution_count": null,
   "metadata": {},
   "outputs": [],
   "source": []
  },
  {
   "cell_type": "code",
   "execution_count": null,
   "metadata": {},
   "outputs": [],
   "source": []
  },
  {
   "cell_type": "code",
   "execution_count": 20,
   "metadata": {},
   "outputs": [],
   "source": [
    "part = part.sql(\"SELECT * from part\")\n",
    "partsupp = partsupp.sql(\"SELECT * from partsupp\")"
   ]
  },
  {
   "cell_type": "code",
   "execution_count": 24,
   "metadata": {},
   "outputs": [
    {
     "data": {
      "text/html": [
       "<pre style=\"white-space:pre;overflow-x:auto;line-height:normal;font-family:Menlo,'DejaVu Sans Mono',consolas,'Courier New',monospace\">r0 := DatabaseTable: part\n",
       "  p_partkey     !int64\n",
       "  p_name        !string\n",
       "  p_mfgr        !string\n",
       "  p_brand       !string\n",
       "  p_type        !string\n",
       "  p_size        !int32\n",
       "  p_container   !string\n",
       "  p_retailprice !decimal(15, 2)\n",
       "  p_comment     !string\n",
       "\n",
       "r1 := SQLStringView[r0]\n",
       "  query:\n",
       "    SELECT * from part\n",
       "  schema:\n",
       "    p_partkey     int64\n",
       "    p_name        string\n",
       "    p_mfgr        string\n",
       "    p_brand       string\n",
       "    p_type        string\n",
       "    p_size        int32\n",
       "    p_container   string\n",
       "    p_retailprice decimal(15, 2)\n",
       "    p_comment     string\n",
       "\n",
       "p_partkey: r1.p_partkey\n",
       "</pre>\n"
      ],
      "text/plain": [
       "r0 := DatabaseTable: part\n",
       "  p_partkey     !int64\n",
       "  p_name        !string\n",
       "  p_mfgr        !string\n",
       "  p_brand       !string\n",
       "  p_type        !string\n",
       "  p_size        !int32\n",
       "  p_container   !string\n",
       "  p_retailprice !decimal(15, 2)\n",
       "  p_comment     !string\n",
       "\n",
       "r1 := SQLStringView[r0]\n",
       "  query:\n",
       "    SELECT * from part\n",
       "  schema:\n",
       "    p_partkey     int64\n",
       "    p_name        string\n",
       "    p_mfgr        string\n",
       "    p_brand       string\n",
       "    p_type        string\n",
       "    p_size        int32\n",
       "    p_container   string\n",
       "    p_retailprice decimal(15, 2)\n",
       "    p_comment     string\n",
       "\n",
       "p_partkey: r1.p_partkey"
      ]
     },
     "execution_count": 24,
     "metadata": {},
     "output_type": "execute_result"
    }
   ],
   "source": [
    "part.p_partkey"
   ]
  },
  {
   "cell_type": "code",
   "execution_count": 27,
   "metadata": {},
   "outputs": [
    {
     "data": {
      "text/plain": [
       "ibis.expr.types.relations.Table"
      ]
     },
     "execution_count": 27,
     "metadata": {},
     "output_type": "execute_result"
    }
   ],
   "source": [
    "type(part)"
   ]
  },
  {
   "cell_type": "code",
   "execution_count": 28,
   "metadata": {},
   "outputs": [
    {
     "data": {
      "text/plain": [
       "ibis.expr.types.relations.Table"
      ]
     },
     "execution_count": 28,
     "metadata": {},
     "output_type": "execute_result"
    }
   ],
   "source": [
    "type(part_sql)"
   ]
  },
  {
   "cell_type": "code",
   "execution_count": null,
   "metadata": {},
   "outputs": [],
   "source": [
    "part_sql."
   ]
  },
  {
   "cell_type": "code",
   "execution_count": 25,
   "metadata": {},
   "outputs": [
    {
     "data": {
      "text/markdown": [
       "```sql\n",
       "SELECT\n",
       "  *\n",
       "FROM part\n",
       "```"
      ],
      "text/plain": [
       "\u001b[34mSELECT\u001b[39;49;00m\u001b[37m\u001b[39;49;00m\n",
       "\u001b[37m  \u001b[39;49;00m*\u001b[37m\u001b[39;49;00m\n",
       "\u001b[34mFROM\u001b[39;49;00m\u001b[37m \u001b[39;49;00mpart\u001b[37m\u001b[39;49;00m"
      ]
     },
     "execution_count": 25,
     "metadata": {},
     "output_type": "execute_result"
    }
   ],
   "source": [
    "ibis.to_sql(part)"
   ]
  },
  {
   "cell_type": "code",
   "execution_count": 26,
   "metadata": {},
   "outputs": [
    {
     "data": {
      "text/html": [
       "<pre style=\"white-space:pre;overflow-x:auto;line-height:normal;font-family:Menlo,'DejaVu Sans Mono',consolas,'Courier New',monospace\">r0 := DatabaseTable: part\n",
       "  p_partkey     !int64\n",
       "  p_name        !string\n",
       "  p_mfgr        !string\n",
       "  p_brand       !string\n",
       "  p_type        !string\n",
       "  p_size        !int32\n",
       "  p_container   !string\n",
       "  p_retailprice !decimal(15, 2)\n",
       "  p_comment     !string\n",
       "\n",
       "SQLStringView[r0]\n",
       "  query:\n",
       "    SELECT * from part\n",
       "  schema:\n",
       "    p_partkey     int64\n",
       "    p_name        string\n",
       "    p_mfgr        string\n",
       "    p_brand       string\n",
       "    p_type        string\n",
       "    p_size        int32\n",
       "    p_container   string\n",
       "    p_retailprice decimal(15, 2)\n",
       "    p_comment     string\n",
       "</pre>\n"
      ],
      "text/plain": [
       "r0 := DatabaseTable: part\n",
       "  p_partkey     !int64\n",
       "  p_name        !string\n",
       "  p_mfgr        !string\n",
       "  p_brand       !string\n",
       "  p_type        !string\n",
       "  p_size        !int32\n",
       "  p_container   !string\n",
       "  p_retailprice !decimal(15, 2)\n",
       "  p_comment     !string\n",
       "\n",
       "SQLStringView[r0]\n",
       "  query:\n",
       "    SELECT * from part\n",
       "  schema:\n",
       "    p_partkey     int64\n",
       "    p_name        string\n",
       "    p_mfgr        string\n",
       "    p_brand       string\n",
       "    p_type        string\n",
       "    p_size        int32\n",
       "    p_container   string\n",
       "    p_retailprice decimal(15, 2)\n",
       "    p_comment     string"
      ]
     },
     "execution_count": 26,
     "metadata": {},
     "output_type": "execute_result"
    }
   ],
   "source": [
    "part"
   ]
  },
  {
   "cell_type": "code",
   "execution_count": null,
   "metadata": {},
   "outputs": [],
   "source": []
  },
  {
   "cell_type": "code",
   "execution_count": 22,
   "metadata": {},
   "outputs": [],
   "source": [
    "part_sql = part.sql(\"select * from part where p_partkey>1\")"
   ]
  },
  {
   "cell_type": "code",
   "execution_count": 23,
   "metadata": {},
   "outputs": [
    {
     "data": {
      "text/markdown": [
       "```sql\n",
       "SELECT\n",
       "  *\n",
       "FROM part\n",
       "WHERE\n",
       "  p_partkey > 1\n",
       "```"
      ],
      "text/plain": [
       "\u001b[34mSELECT\u001b[39;49;00m\u001b[37m\u001b[39;49;00m\n",
       "\u001b[37m  \u001b[39;49;00m*\u001b[37m\u001b[39;49;00m\n",
       "\u001b[34mFROM\u001b[39;49;00m\u001b[37m \u001b[39;49;00mpart\u001b[37m\u001b[39;49;00m\n",
       "\u001b[34mWHERE\u001b[39;49;00m\u001b[37m\u001b[39;49;00m\n",
       "\u001b[37m  \u001b[39;49;00mp_partkey\u001b[37m \u001b[39;49;00m>\u001b[37m \u001b[39;49;00m\u001b[34m1\u001b[39;49;00m\u001b[37m\u001b[39;49;00m"
      ]
     },
     "execution_count": 23,
     "metadata": {},
     "output_type": "execute_result"
    }
   ],
   "source": [
    "ibis.to_sql(part_sql)"
   ]
  },
  {
   "cell_type": "code",
   "execution_count": null,
   "metadata": {},
   "outputs": [],
   "source": []
  },
  {
   "cell_type": "code",
   "execution_count": null,
   "metadata": {},
   "outputs": [],
   "source": []
  },
  {
   "cell_type": "code",
   "execution_count": 15,
   "metadata": {},
   "outputs": [
    {
     "ename": "AttributeError",
     "evalue": "'Table' object has no attribute 'to_sql'",
     "output_type": "error",
     "traceback": [
      "\u001b[0;31m---------------------------------------------------------------------------\u001b[0m",
      "\u001b[0;31mAttributeError\u001b[0m                            Traceback (most recent call last)",
      "Cell \u001b[0;32mIn[15], line 1\u001b[0m\n\u001b[0;32m----> 1\u001b[0m \u001b[43mpart_sql\u001b[49m\u001b[38;5;241;43m.\u001b[39;49m\u001b[43msql\u001b[49m\u001b[43m(\u001b[49m\u001b[38;5;124;43m\"\u001b[39;49m\u001b[38;5;124;43mselect * from part\u001b[39;49m\u001b[38;5;124;43m\"\u001b[39;49m\u001b[43m)\u001b[49m\u001b[38;5;241;43m.\u001b[39;49m\u001b[43mto_sql\u001b[49m()\n",
      "File \u001b[0;32m~/conference/pycon2024/.venv/lib/python3.11/site-packages/ibis/expr/types/relations.py:757\u001b[0m, in \u001b[0;36mTable.__getattr__\u001b[0;34m(self, key)\u001b[0m\n\u001b[1;32m    752\u001b[0m     hint \u001b[38;5;241m=\u001b[39m common_typos[key]\n\u001b[1;32m    753\u001b[0m     \u001b[38;5;28;01mraise\u001b[39;00m \u001b[38;5;167;01mAttributeError\u001b[39;00m(\n\u001b[1;32m    754\u001b[0m         \u001b[38;5;124mf\u001b[39m\u001b[38;5;124m\"\u001b[39m\u001b[38;5;132;01m{\u001b[39;00m\u001b[38;5;28mtype\u001b[39m(\u001b[38;5;28mself\u001b[39m)\u001b[38;5;241m.\u001b[39m\u001b[38;5;18m__name__\u001b[39m\u001b[38;5;132;01m}\u001b[39;00m\u001b[38;5;124m object has no attribute \u001b[39m\u001b[38;5;132;01m{\u001b[39;00mkey\u001b[38;5;132;01m!r}\u001b[39;00m\u001b[38;5;124m, did you mean \u001b[39m\u001b[38;5;132;01m{\u001b[39;00mhint\u001b[38;5;132;01m!r}\u001b[39;00m\u001b[38;5;124m\"\u001b[39m\n\u001b[1;32m    755\u001b[0m     )\n\u001b[0;32m--> 757\u001b[0m \u001b[38;5;28;01mraise\u001b[39;00m \u001b[38;5;167;01mAttributeError\u001b[39;00m(\u001b[38;5;124mf\u001b[39m\u001b[38;5;124m\"\u001b[39m\u001b[38;5;124m'\u001b[39m\u001b[38;5;124mTable\u001b[39m\u001b[38;5;124m'\u001b[39m\u001b[38;5;124m object has no attribute \u001b[39m\u001b[38;5;132;01m{\u001b[39;00mkey\u001b[38;5;132;01m!r}\u001b[39;00m\u001b[38;5;124m\"\u001b[39m)\n",
      "\u001b[0;31mAttributeError\u001b[0m: 'Table' object has no attribute 'to_sql'"
     ]
    }
   ],
   "source": [
    "part_sql.sql(\"where p_partkey>1\")"
   ]
  },
  {
   "cell_type": "code",
   "execution_count": null,
   "metadata": {},
   "outputs": [],
   "source": []
  },
  {
   "cell_type": "code",
   "execution_count": null,
   "metadata": {},
   "outputs": [],
   "source": []
  },
  {
   "cell_type": "code",
   "execution_count": 13,
   "metadata": {},
   "outputs": [
    {
     "ename": "CatalogException",
     "evalue": "Catalog Error: Table with name part_sql does not exist!\nDid you mean \"part\"?\nLINE 1: DESCRIBE select * from part_sql\n                               ^",
     "output_type": "error",
     "traceback": [
      "\u001b[0;31m---------------------------------------------------------------------------\u001b[0m",
      "\u001b[0;31mCatalogException\u001b[0m                          Traceback (most recent call last)",
      "Cell \u001b[0;32mIn[13], line 1\u001b[0m\n\u001b[0;32m----> 1\u001b[0m \u001b[43mcon\u001b[49m\u001b[38;5;241;43m.\u001b[39;49m\u001b[43msql\u001b[49m\u001b[43m(\u001b[49m\u001b[38;5;124;43m\"\u001b[39;49m\u001b[38;5;124;43mselect * from part_sql\u001b[39;49m\u001b[38;5;124;43m\"\u001b[39;49m\u001b[43m)\u001b[49m\n",
      "File \u001b[0;32m~/conference/pycon2024/.venv/lib/python3.11/site-packages/ibis/backends/sql/__init__.py:176\u001b[0m, in \u001b[0;36mSQLBackend.sql\u001b[0;34m(self, query, schema, dialect)\u001b[0m\n\u001b[1;32m    174\u001b[0m query \u001b[38;5;241m=\u001b[39m \u001b[38;5;28mself\u001b[39m\u001b[38;5;241m.\u001b[39m_transpile_sql(query, dialect\u001b[38;5;241m=\u001b[39mdialect)\n\u001b[1;32m    175\u001b[0m \u001b[38;5;28;01mif\u001b[39;00m schema \u001b[38;5;129;01mis\u001b[39;00m \u001b[38;5;28;01mNone\u001b[39;00m:\n\u001b[0;32m--> 176\u001b[0m     schema \u001b[38;5;241m=\u001b[39m \u001b[38;5;28;43mself\u001b[39;49m\u001b[38;5;241;43m.\u001b[39;49m\u001b[43m_get_schema_using_query\u001b[49m\u001b[43m(\u001b[49m\u001b[43mquery\u001b[49m\u001b[43m)\u001b[49m\n\u001b[1;32m    177\u001b[0m \u001b[38;5;28;01mreturn\u001b[39;00m ops\u001b[38;5;241m.\u001b[39mSQLQueryResult(query, ibis\u001b[38;5;241m.\u001b[39mschema(schema), \u001b[38;5;28mself\u001b[39m)\u001b[38;5;241m.\u001b[39mto_expr()\n",
      "File \u001b[0;32m~/conference/pycon2024/.venv/lib/python3.11/site-packages/ibis/backends/duckdb/__init__.py:1594\u001b[0m, in \u001b[0;36mBackend._get_schema_using_query\u001b[0;34m(self, query)\u001b[0m\n\u001b[1;32m   1593\u001b[0m \u001b[38;5;28;01mdef\u001b[39;00m \u001b[38;5;21m_get_schema_using_query\u001b[39m(\u001b[38;5;28mself\u001b[39m, query: \u001b[38;5;28mstr\u001b[39m) \u001b[38;5;241m-\u001b[39m\u001b[38;5;241m>\u001b[39m sch\u001b[38;5;241m.\u001b[39mSchema:\n\u001b[0;32m-> 1594\u001b[0m \u001b[43m    \u001b[49m\u001b[38;5;28;43;01mwith\u001b[39;49;00m\u001b[43m \u001b[49m\u001b[38;5;28;43mself\u001b[39;49m\u001b[38;5;241;43m.\u001b[39;49m\u001b[43m_safe_raw_sql\u001b[49m\u001b[43m(\u001b[49m\u001b[38;5;124;43mf\u001b[39;49m\u001b[38;5;124;43m\"\u001b[39;49m\u001b[38;5;124;43mDESCRIBE \u001b[39;49m\u001b[38;5;132;43;01m{\u001b[39;49;00m\u001b[43mquery\u001b[49m\u001b[38;5;132;43;01m}\u001b[39;49;00m\u001b[38;5;124;43m\"\u001b[39;49m\u001b[43m)\u001b[49m\u001b[43m \u001b[49m\u001b[38;5;28;43;01mas\u001b[39;49;00m\u001b[43m \u001b[49m\u001b[43mcur\u001b[49m\u001b[43m:\u001b[49m\n\u001b[1;32m   1595\u001b[0m \u001b[43m        \u001b[49m\u001b[43mrows\u001b[49m\u001b[43m \u001b[49m\u001b[38;5;241;43m=\u001b[39;49m\u001b[43m \u001b[49m\u001b[43mcur\u001b[49m\u001b[38;5;241;43m.\u001b[39;49m\u001b[43mfetch_arrow_table\u001b[49m\u001b[43m(\u001b[49m\u001b[43m)\u001b[49m\n\u001b[1;32m   1597\u001b[0m     rows \u001b[38;5;241m=\u001b[39m rows\u001b[38;5;241m.\u001b[39mto_pydict()\n",
      "File \u001b[0;32m~/miniconda3/lib/python3.11/contextlib.py:137\u001b[0m, in \u001b[0;36m_GeneratorContextManager.__enter__\u001b[0;34m(self)\u001b[0m\n\u001b[1;32m    135\u001b[0m \u001b[38;5;28;01mdel\u001b[39;00m \u001b[38;5;28mself\u001b[39m\u001b[38;5;241m.\u001b[39margs, \u001b[38;5;28mself\u001b[39m\u001b[38;5;241m.\u001b[39mkwds, \u001b[38;5;28mself\u001b[39m\u001b[38;5;241m.\u001b[39mfunc\n\u001b[1;32m    136\u001b[0m \u001b[38;5;28;01mtry\u001b[39;00m:\n\u001b[0;32m--> 137\u001b[0m     \u001b[38;5;28;01mreturn\u001b[39;00m \u001b[38;5;28mnext\u001b[39m(\u001b[38;5;28mself\u001b[39m\u001b[38;5;241m.\u001b[39mgen)\n\u001b[1;32m    138\u001b[0m \u001b[38;5;28;01mexcept\u001b[39;00m \u001b[38;5;167;01mStopIteration\u001b[39;00m:\n\u001b[1;32m    139\u001b[0m     \u001b[38;5;28;01mraise\u001b[39;00m \u001b[38;5;167;01mRuntimeError\u001b[39;00m(\u001b[38;5;124m\"\u001b[39m\u001b[38;5;124mgenerator didn\u001b[39m\u001b[38;5;124m'\u001b[39m\u001b[38;5;124mt yield\u001b[39m\u001b[38;5;124m\"\u001b[39m) \u001b[38;5;28;01mfrom\u001b[39;00m \u001b[38;5;28;01mNone\u001b[39;00m\n",
      "File \u001b[0;32m~/conference/pycon2024/.venv/lib/python3.11/site-packages/ibis/backends/duckdb/__init__.py:323\u001b[0m, in \u001b[0;36mBackend._safe_raw_sql\u001b[0;34m(self, *args, **kwargs)\u001b[0m\n\u001b[1;32m    321\u001b[0m \u001b[38;5;129m@contextlib\u001b[39m\u001b[38;5;241m.\u001b[39mcontextmanager\n\u001b[1;32m    322\u001b[0m \u001b[38;5;28;01mdef\u001b[39;00m \u001b[38;5;21m_safe_raw_sql\u001b[39m(\u001b[38;5;28mself\u001b[39m, \u001b[38;5;241m*\u001b[39margs, \u001b[38;5;241m*\u001b[39m\u001b[38;5;241m*\u001b[39mkwargs):\n\u001b[0;32m--> 323\u001b[0m     \u001b[38;5;28;01myield\u001b[39;00m \u001b[38;5;28;43mself\u001b[39;49m\u001b[38;5;241;43m.\u001b[39;49m\u001b[43mraw_sql\u001b[49m\u001b[43m(\u001b[49m\u001b[38;5;241;43m*\u001b[39;49m\u001b[43margs\u001b[49m\u001b[43m,\u001b[49m\u001b[43m \u001b[49m\u001b[38;5;241;43m*\u001b[39;49m\u001b[38;5;241;43m*\u001b[39;49m\u001b[43mkwargs\u001b[49m\u001b[43m)\u001b[49m\n",
      "File \u001b[0;32m~/conference/pycon2024/.venv/lib/python3.11/site-packages/ibis/backends/duckdb/__init__.py:97\u001b[0m, in \u001b[0;36mBackend.raw_sql\u001b[0;34m(self, query, **kwargs)\u001b[0m\n\u001b[1;32m     95\u001b[0m \u001b[38;5;28;01mwith\u001b[39;00m contextlib\u001b[38;5;241m.\u001b[39msuppress(\u001b[38;5;167;01mAttributeError\u001b[39;00m):\n\u001b[1;32m     96\u001b[0m     query \u001b[38;5;241m=\u001b[39m query\u001b[38;5;241m.\u001b[39msql(dialect\u001b[38;5;241m=\u001b[39m\u001b[38;5;28mself\u001b[39m\u001b[38;5;241m.\u001b[39mname)\n\u001b[0;32m---> 97\u001b[0m \u001b[38;5;28;01mreturn\u001b[39;00m \u001b[38;5;28;43mself\u001b[39;49m\u001b[38;5;241;43m.\u001b[39;49m\u001b[43mcon\u001b[49m\u001b[38;5;241;43m.\u001b[39;49m\u001b[43mexecute\u001b[49m\u001b[43m(\u001b[49m\u001b[43mquery\u001b[49m\u001b[43m,\u001b[49m\u001b[43m \u001b[49m\u001b[38;5;241;43m*\u001b[39;49m\u001b[38;5;241;43m*\u001b[39;49m\u001b[43mkwargs\u001b[49m\u001b[43m)\u001b[49m\n",
      "\u001b[0;31mCatalogException\u001b[0m: Catalog Error: Table with name part_sql does not exist!\nDid you mean \"part\"?\nLINE 1: DESCRIBE select * from part_sql\n                               ^"
     ]
    }
   ],
   "source": [
    "con.sql(\"select * from part_sql\")"
   ]
  },
  {
   "cell_type": "code",
   "execution_count": null,
   "metadata": {},
   "outputs": [],
   "source": []
  },
  {
   "cell_type": "code",
   "execution_count": null,
   "metadata": {},
   "outputs": [],
   "source": []
  },
  {
   "cell_type": "code",
   "execution_count": 11,
   "metadata": {},
   "outputs": [
    {
     "data": {
      "text/html": [
       "<pre style=\"white-space:pre;overflow-x:auto;line-height:normal;font-family:Menlo,'DejaVu Sans Mono',consolas,'Courier New',monospace\">r0 := DatabaseTable: part\n",
       "  p_partkey     !int64\n",
       "  p_name        !string\n",
       "  p_mfgr        !string\n",
       "  p_brand       !string\n",
       "  p_type        !string\n",
       "  p_size        !int32\n",
       "  p_container   !string\n",
       "  p_retailprice !decimal(15, 2)\n",
       "  p_comment     !string\n",
       "\n",
       "SQLStringView[r0]\n",
       "  query:\n",
       "    select * from part\n",
       "  schema:\n",
       "    p_partkey     int64\n",
       "    p_name        string\n",
       "    p_mfgr        string\n",
       "    p_brand       string\n",
       "    p_type        string\n",
       "    p_size        int32\n",
       "    p_container   string\n",
       "    p_retailprice decimal(15, 2)\n",
       "    p_comment     string\n",
       "</pre>\n"
      ],
      "text/plain": [
       "r0 := DatabaseTable: part\n",
       "  p_partkey     !int64\n",
       "  p_name        !string\n",
       "  p_mfgr        !string\n",
       "  p_brand       !string\n",
       "  p_type        !string\n",
       "  p_size        !int32\n",
       "  p_container   !string\n",
       "  p_retailprice !decimal(15, 2)\n",
       "  p_comment     !string\n",
       "\n",
       "SQLStringView[r0]\n",
       "  query:\n",
       "    select * from part\n",
       "  schema:\n",
       "    p_partkey     int64\n",
       "    p_name        string\n",
       "    p_mfgr        string\n",
       "    p_brand       string\n",
       "    p_type        string\n",
       "    p_size        int32\n",
       "    p_container   string\n",
       "    p_retailprice decimal(15, 2)\n",
       "    p_comment     string"
      ]
     },
     "execution_count": 11,
     "metadata": {},
     "output_type": "execute_result"
    }
   ],
   "source": [
    "part_sql"
   ]
  },
  {
   "cell_type": "code",
   "execution_count": null,
   "metadata": {},
   "outputs": [],
   "source": []
  },
  {
   "cell_type": "code",
   "execution_count": 8,
   "metadata": {},
   "outputs": [],
   "source": [
    "r = part.join(partsupp, part.p_partkey == partsupp.ps_partkey)"
   ]
  },
  {
   "cell_type": "code",
   "execution_count": 9,
   "metadata": {},
   "outputs": [
    {
     "data": {
      "text/html": [
       "<div>\n",
       "<style scoped>\n",
       "    .dataframe tbody tr th:only-of-type {\n",
       "        vertical-align: middle;\n",
       "    }\n",
       "\n",
       "    .dataframe tbody tr th {\n",
       "        vertical-align: top;\n",
       "    }\n",
       "\n",
       "    .dataframe thead th {\n",
       "        text-align: right;\n",
       "    }\n",
       "</style>\n",
       "<table border=\"1\" class=\"dataframe\">\n",
       "  <thead>\n",
       "    <tr style=\"text-align: right;\">\n",
       "      <th></th>\n",
       "      <th>p_partkey</th>\n",
       "      <th>p_name</th>\n",
       "      <th>p_mfgr</th>\n",
       "      <th>p_brand</th>\n",
       "      <th>p_type</th>\n",
       "      <th>p_size</th>\n",
       "      <th>p_container</th>\n",
       "      <th>p_retailprice</th>\n",
       "      <th>p_comment</th>\n",
       "      <th>ps_partkey</th>\n",
       "      <th>ps_suppkey</th>\n",
       "      <th>ps_availqty</th>\n",
       "      <th>ps_supplycost</th>\n",
       "      <th>ps_comment</th>\n",
       "    </tr>\n",
       "  </thead>\n",
       "  <tbody>\n",
       "    <tr>\n",
       "      <th>0</th>\n",
       "      <td>92161</td>\n",
       "      <td>coral misty blush black blanched</td>\n",
       "      <td>Manufacturer#2</td>\n",
       "      <td>Brand#25</td>\n",
       "      <td>ECONOMY BRUSHED STEEL</td>\n",
       "      <td>31</td>\n",
       "      <td>LG PACK</td>\n",
       "      <td>1153.16</td>\n",
       "      <td>subla</td>\n",
       "      <td>92161</td>\n",
       "      <td>2162</td>\n",
       "      <td>5815</td>\n",
       "      <td>284.89</td>\n",
       "      <td>ts sleep carefully according to the theodolite...</td>\n",
       "    </tr>\n",
       "    <tr>\n",
       "      <th>1</th>\n",
       "      <td>92161</td>\n",
       "      <td>coral misty blush black blanched</td>\n",
       "      <td>Manufacturer#2</td>\n",
       "      <td>Brand#25</td>\n",
       "      <td>ECONOMY BRUSHED STEEL</td>\n",
       "      <td>31</td>\n",
       "      <td>LG PACK</td>\n",
       "      <td>1153.16</td>\n",
       "      <td>subla</td>\n",
       "      <td>92161</td>\n",
       "      <td>4671</td>\n",
       "      <td>4415</td>\n",
       "      <td>141.93</td>\n",
       "      <td>final requests thrash after the bold pearls. ...</td>\n",
       "    </tr>\n",
       "    <tr>\n",
       "      <th>2</th>\n",
       "      <td>92161</td>\n",
       "      <td>coral misty blush black blanched</td>\n",
       "      <td>Manufacturer#2</td>\n",
       "      <td>Brand#25</td>\n",
       "      <td>ECONOMY BRUSHED STEEL</td>\n",
       "      <td>31</td>\n",
       "      <td>LG PACK</td>\n",
       "      <td>1153.16</td>\n",
       "      <td>subla</td>\n",
       "      <td>92161</td>\n",
       "      <td>7180</td>\n",
       "      <td>9557</td>\n",
       "      <td>982.01</td>\n",
       "      <td>. silent deposits cajole. special, bold excuse...</td>\n",
       "    </tr>\n",
       "    <tr>\n",
       "      <th>3</th>\n",
       "      <td>92161</td>\n",
       "      <td>coral misty blush black blanched</td>\n",
       "      <td>Manufacturer#2</td>\n",
       "      <td>Brand#25</td>\n",
       "      <td>ECONOMY BRUSHED STEEL</td>\n",
       "      <td>31</td>\n",
       "      <td>LG PACK</td>\n",
       "      <td>1153.16</td>\n",
       "      <td>subla</td>\n",
       "      <td>92161</td>\n",
       "      <td>9689</td>\n",
       "      <td>6518</td>\n",
       "      <td>190.21</td>\n",
       "      <td>about the furiously unusual escapades should ...</td>\n",
       "    </tr>\n",
       "    <tr>\n",
       "      <th>4</th>\n",
       "      <td>92162</td>\n",
       "      <td>coral steel tomato red puff</td>\n",
       "      <td>Manufacturer#3</td>\n",
       "      <td>Brand#33</td>\n",
       "      <td>MEDIUM ANODIZED TIN</td>\n",
       "      <td>4</td>\n",
       "      <td>LG DRUM</td>\n",
       "      <td>1154.16</td>\n",
       "      <td>e stealthily among th</td>\n",
       "      <td>92162</td>\n",
       "      <td>2163</td>\n",
       "      <td>5906</td>\n",
       "      <td>232.07</td>\n",
       "      <td>ecial excuses. blithely silent accounts integr...</td>\n",
       "    </tr>\n",
       "  </tbody>\n",
       "</table>\n",
       "</div>"
      ],
      "text/plain": [
       "   p_partkey                            p_name          p_mfgr   p_brand  \\\n",
       "0      92161  coral misty blush black blanched  Manufacturer#2  Brand#25   \n",
       "1      92161  coral misty blush black blanched  Manufacturer#2  Brand#25   \n",
       "2      92161  coral misty blush black blanched  Manufacturer#2  Brand#25   \n",
       "3      92161  coral misty blush black blanched  Manufacturer#2  Brand#25   \n",
       "4      92162       coral steel tomato red puff  Manufacturer#3  Brand#33   \n",
       "\n",
       "                  p_type  p_size p_container p_retailprice  \\\n",
       "0  ECONOMY BRUSHED STEEL      31     LG PACK       1153.16   \n",
       "1  ECONOMY BRUSHED STEEL      31     LG PACK       1153.16   \n",
       "2  ECONOMY BRUSHED STEEL      31     LG PACK       1153.16   \n",
       "3  ECONOMY BRUSHED STEEL      31     LG PACK       1153.16   \n",
       "4    MEDIUM ANODIZED TIN       4     LG DRUM       1154.16   \n",
       "\n",
       "               p_comment  ps_partkey  ps_suppkey  ps_availqty ps_supplycost  \\\n",
       "0                  subla       92161        2162         5815        284.89   \n",
       "1                  subla       92161        4671         4415        141.93   \n",
       "2                  subla       92161        7180         9557        982.01   \n",
       "3                  subla       92161        9689         6518        190.21   \n",
       "4  e stealthily among th       92162        2163         5906        232.07   \n",
       "\n",
       "                                          ps_comment  \n",
       "0  ts sleep carefully according to the theodolite...  \n",
       "1   final requests thrash after the bold pearls. ...  \n",
       "2  . silent deposits cajole. special, bold excuse...  \n",
       "3   about the furiously unusual escapades should ...  \n",
       "4  ecial excuses. blithely silent accounts integr...  "
      ]
     },
     "execution_count": 9,
     "metadata": {},
     "output_type": "execute_result"
    }
   ],
   "source": [
    "r.head().to_pandas()"
   ]
  },
  {
   "cell_type": "code",
   "execution_count": 10,
   "metadata": {},
   "outputs": [],
   "source": [
    "from pathlib import Path\n",
    "cwd = str(Path.cwd())"
   ]
  },
  {
   "cell_type": "code",
   "execution_count": 11,
   "metadata": {},
   "outputs": [
    {
     "data": {
      "text/plain": [
       "'/Users/Nok_Lam_Chan/conference/pycon2024'"
      ]
     },
     "execution_count": 11,
     "metadata": {},
     "output_type": "execute_result"
    }
   ],
   "source": [
    "cwd"
   ]
  },
  {
   "cell_type": "code",
   "execution_count": 12,
   "metadata": {},
   "outputs": [],
   "source": [
    "from __future__ import annotations\n",
    "\n",
    "\n",
    "import ibis\n",
    "import datetime\n",
    "from dateutil.relativedelta import relativedelta\n",
    "\n",
    "def add_date(datestr: str, dy: int = 0, dm: int = 0, dd: int = 0) -> ir.DateScalar:\n",
    "    dt = datetime.date.fromisoformat(datestr)\n",
    "    dt += relativedelta(years=dy, months=dm, days=dd)\n",
    "    return ibis.date(dt.isoformat())"
   ]
  },
  {
   "cell_type": "markdown",
   "metadata": {},
   "source": [
    "## Ibis Dataframe"
   ]
  },
  {
   "cell_type": "code",
   "execution_count": 13,
   "metadata": {},
   "outputs": [
    {
     "name": "stdout",
     "output_type": "stream",
     "text": [
      "r0 := DatabaseTable: tpch.lineitem\n",
      "  l_orderkey      !int64\n",
      "  l_partkey       !int64\n",
      "  l_suppkey       !int64\n",
      "  l_linenumber    !int64\n",
      "  l_quantity      !decimal(15, 2)\n",
      "  l_extendedprice !decimal(15, 2)\n",
      "  l_discount      !decimal(15, 2)\n",
      "  l_tax           !decimal(15, 2)\n",
      "  l_returnflag    !string\n",
      "  l_linestatus    !string\n",
      "  l_shipdate      !date\n",
      "  l_commitdate    !date\n",
      "  l_receiptdate   !date\n",
      "  l_shipinstruct  !string\n",
      "  l_shipmode      !string\n",
      "  l_comment       !string\n",
      "\n",
      "r1 := Filter[r0]\n",
      "  r0.l_shipdate <= datetime.date(1998, 9, 2)\n",
      "\n",
      "r2 := Aggregate[r1]\n",
      "  groups:\n",
      "    l_returnflag: r1.l_returnflag\n",
      "    l_linestatus: r1.l_linestatus\n",
      "  metrics:\n",
      "    sum_qty:        Sum(r1.l_quantity)\n",
      "    sum_base_price: Sum(r1.l_extendedprice)\n",
      "    sum_disc_price: Sum(r1.l_extendedprice * 1 - r1.l_discount)\n",
      "    sum_charge:     Sum(r1.l_extendedprice * 1 - r1.l_discount * r1.l_tax + 1)\n",
      "    avg_qty:        Mean(r1.l_quantity)\n",
      "    avg_price:      Mean(r1.l_extendedprice)\n",
      "    avg_disc:       Mean(r1.l_discount)\n",
      "    count_order:    CountStar(r1)\n",
      "\n",
      "Sort[r2]\n",
      "  asc r2.l_returnflag\n",
      "  asc r2.l_linestatus\n",
      "SELECT\n",
      "  *\n",
      "FROM (\n",
      "  SELECT\n",
      "    \"t1\".\"l_returnflag\",\n",
      "    \"t1\".\"l_linestatus\",\n",
      "    SUM(\"t1\".\"l_quantity\") AS \"sum_qty\",\n",
      "    SUM(\"t1\".\"l_extendedprice\") AS \"sum_base_price\",\n",
      "    SUM(\"t1\".\"l_extendedprice\" * (\n",
      "      1 - \"t1\".\"l_discount\"\n",
      "    )) AS \"sum_disc_price\",\n",
      "    SUM(\"t1\".\"l_extendedprice\" * (\n",
      "      1 - \"t1\".\"l_discount\"\n",
      "    ) * (\n",
      "      \"t1\".\"l_tax\" + 1\n",
      "    )) AS \"sum_charge\",\n",
      "    AVG(\"t1\".\"l_quantity\") AS \"avg_qty\",\n",
      "    AVG(\"t1\".\"l_extendedprice\") AS \"avg_price\",\n",
      "    AVG(\"t1\".\"l_discount\") AS \"avg_disc\",\n",
      "    COUNT(*) AS \"count_order\"\n",
      "  FROM (\n",
      "    SELECT\n",
      "      *\n",
      "    FROM \"tpch\".\"lineitem\" AS \"t0\"\n",
      "    WHERE\n",
      "      \"t0\".\"l_shipdate\" <= MAKE_DATE(1998, 9, 2)\n",
      "  ) AS \"t1\"\n",
      "  GROUP BY\n",
      "    1,\n",
      "    2\n",
      ") AS \"t2\"\n",
      "ORDER BY\n",
      "  \"t2\".\"l_returnflag\" ASC,\n",
      "  \"t2\".\"l_linestatus\" ASC\n"
     ]
    }
   ],
   "source": [
    "\n",
    "lineitem = con.table(\"lineitem\", database=f\"tpch\")\n",
    "\n",
    "t = lineitem\n",
    "q = t.filter(t.l_shipdate <= add_date(\"1998-12-01\", dd=-90))\n",
    "discount_price = t.l_extendedprice * (1 - t.l_discount)\n",
    "charge = discount_price * (1 + t.l_tax)\n",
    "q = q.group_by([\"l_returnflag\", \"l_linestatus\"])\n",
    "q = q.aggregate(\n",
    "    sum_qty=t.l_quantity.sum(),\n",
    "    sum_base_price=t.l_extendedprice.sum(),\n",
    "    sum_disc_price=discount_price.sum(),\n",
    "    sum_charge=charge.sum(),\n",
    "    avg_qty=t.l_quantity.mean(),\n",
    "    avg_price=t.l_extendedprice.mean(),\n",
    "    avg_disc=t.l_discount.mean(),\n",
    "    count_order=lambda t: t.count(),\n",
    ")\n",
    "q = q.order_by([\"l_returnflag\", \"l_linestatus\"])\n",
    "print(q)\n",
    "print(ibis.to_sql(q))"
   ]
  },
  {
   "cell_type": "markdown",
   "metadata": {},
   "source": []
  },
  {
   "cell_type": "code",
   "execution_count": 14,
   "metadata": {},
   "outputs": [
    {
     "data": {
      "text/html": [
       "<div>\n",
       "<style scoped>\n",
       "    .dataframe tbody tr th:only-of-type {\n",
       "        vertical-align: middle;\n",
       "    }\n",
       "\n",
       "    .dataframe tbody tr th {\n",
       "        vertical-align: top;\n",
       "    }\n",
       "\n",
       "    .dataframe thead th {\n",
       "        text-align: right;\n",
       "    }\n",
       "</style>\n",
       "<table border=\"1\" class=\"dataframe\">\n",
       "  <thead>\n",
       "    <tr style=\"text-align: right;\">\n",
       "      <th></th>\n",
       "      <th>l_returnflag</th>\n",
       "      <th>l_linestatus</th>\n",
       "      <th>sum_qty</th>\n",
       "      <th>sum_base_price</th>\n",
       "      <th>sum_disc_price</th>\n",
       "      <th>sum_charge</th>\n",
       "      <th>avg_qty</th>\n",
       "      <th>avg_price</th>\n",
       "      <th>avg_disc</th>\n",
       "      <th>count_order</th>\n",
       "    </tr>\n",
       "  </thead>\n",
       "  <tbody>\n",
       "    <tr>\n",
       "      <th>0</th>\n",
       "      <td>A</td>\n",
       "      <td>F</td>\n",
       "      <td>37734107.00</td>\n",
       "      <td>56586554400.73</td>\n",
       "      <td>53758257134.87</td>\n",
       "      <td>55909065222.83</td>\n",
       "      <td>25.52</td>\n",
       "      <td>38273.13</td>\n",
       "      <td>0.05</td>\n",
       "      <td>1478493</td>\n",
       "    </tr>\n",
       "    <tr>\n",
       "      <th>1</th>\n",
       "      <td>N</td>\n",
       "      <td>F</td>\n",
       "      <td>991417.00</td>\n",
       "      <td>1487504710.38</td>\n",
       "      <td>1413082168.05</td>\n",
       "      <td>1469649223.19</td>\n",
       "      <td>25.52</td>\n",
       "      <td>38284.47</td>\n",
       "      <td>0.05</td>\n",
       "      <td>38854</td>\n",
       "    </tr>\n",
       "    <tr>\n",
       "      <th>2</th>\n",
       "      <td>N</td>\n",
       "      <td>O</td>\n",
       "      <td>74476040.00</td>\n",
       "      <td>111701729697.74</td>\n",
       "      <td>106118230307.61</td>\n",
       "      <td>110367043872.50</td>\n",
       "      <td>25.50</td>\n",
       "      <td>38249.12</td>\n",
       "      <td>0.05</td>\n",
       "      <td>2920374</td>\n",
       "    </tr>\n",
       "    <tr>\n",
       "      <th>3</th>\n",
       "      <td>R</td>\n",
       "      <td>F</td>\n",
       "      <td>37719753.00</td>\n",
       "      <td>56568041380.90</td>\n",
       "      <td>53741292684.60</td>\n",
       "      <td>55889619119.83</td>\n",
       "      <td>25.51</td>\n",
       "      <td>38250.85</td>\n",
       "      <td>0.05</td>\n",
       "      <td>1478870</td>\n",
       "    </tr>\n",
       "  </tbody>\n",
       "</table>\n",
       "</div>"
      ],
      "text/plain": [
       "  l_returnflag l_linestatus      sum_qty   sum_base_price   sum_disc_price  \\\n",
       "0            A            F  37734107.00   56586554400.73   53758257134.87   \n",
       "1            N            F    991417.00    1487504710.38    1413082168.05   \n",
       "2            N            O  74476040.00  111701729697.74  106118230307.61   \n",
       "3            R            F  37719753.00   56568041380.90   53741292684.60   \n",
       "\n",
       "        sum_charge avg_qty avg_price avg_disc  count_order  \n",
       "0   55909065222.83   25.52  38273.13     0.05      1478493  \n",
       "1    1469649223.19   25.52  38284.47     0.05        38854  \n",
       "2  110367043872.50   25.50  38249.12     0.05      2920374  \n",
       "3   55889619119.83   25.51  38250.85     0.05      1478870  "
      ]
     },
     "execution_count": 14,
     "metadata": {},
     "output_type": "execute_result"
    }
   ],
   "source": [
    "q.to_pandas().head()\n"
   ]
  },
  {
   "cell_type": "markdown",
   "metadata": {},
   "source": [
    "## Using the `Table.sql` method"
   ]
  },
  {
   "cell_type": "code",
   "execution_count": 15,
   "metadata": {},
   "outputs": [],
   "source": [
    "sql = \"\"\"\n",
    "SELECT\n",
    "    l_returnflag,\n",
    "    l_linestatus,\n",
    "    SUM(l_quantity) AS sum_qty,\n",
    "    SUM(l_extendedprice) AS sum_base_price,\n",
    "    SUM(l_extendedprice * (1 - l_discount)) AS sum_disc_price,\n",
    "    SUM(l_extendedprice * (1 - l_discount) * (1 + l_tax)) AS sum_charge,\n",
    "    AVG(l_quantity) AS avg_qty,\n",
    "    AVG(l_extendedprice) AS avg_price,\n",
    "    AVG(l_discount) AS avg_disc,\n",
    "    COUNT(*) AS count_order\n",
    "FROM\n",
    "    lineitem\n",
    "WHERE\n",
    "    l_shipdate <= DATE '1998-12-01' - INTERVAL '90' DAY\n",
    "GROUP BY\n",
    "    l_returnflag,\n",
    "    l_linestatus\n",
    "ORDER BY\n",
    "    l_returnflag,\n",
    "    l_linestatus;\n",
    "\"\"\""
   ]
  },
  {
   "cell_type": "code",
   "execution_count": 16,
   "metadata": {},
   "outputs": [
    {
     "data": {
      "text/html": [
       "<div>\n",
       "<style scoped>\n",
       "    .dataframe tbody tr th:only-of-type {\n",
       "        vertical-align: middle;\n",
       "    }\n",
       "\n",
       "    .dataframe tbody tr th {\n",
       "        vertical-align: top;\n",
       "    }\n",
       "\n",
       "    .dataframe thead th {\n",
       "        text-align: right;\n",
       "    }\n",
       "</style>\n",
       "<table border=\"1\" class=\"dataframe\">\n",
       "  <thead>\n",
       "    <tr style=\"text-align: right;\">\n",
       "      <th></th>\n",
       "      <th>l_returnflag</th>\n",
       "      <th>l_linestatus</th>\n",
       "      <th>sum_qty</th>\n",
       "      <th>sum_base_price</th>\n",
       "      <th>sum_disc_price</th>\n",
       "      <th>sum_charge</th>\n",
       "      <th>avg_qty</th>\n",
       "      <th>avg_price</th>\n",
       "      <th>avg_disc</th>\n",
       "      <th>count_order</th>\n",
       "    </tr>\n",
       "  </thead>\n",
       "  <tbody>\n",
       "    <tr>\n",
       "      <th>0</th>\n",
       "      <td>A</td>\n",
       "      <td>F</td>\n",
       "      <td>37734107.00</td>\n",
       "      <td>56586554400.73</td>\n",
       "      <td>53758257134.8700</td>\n",
       "      <td>55909065222.827692</td>\n",
       "      <td>25.522006</td>\n",
       "      <td>38273.129735</td>\n",
       "      <td>0.049985</td>\n",
       "      <td>1478493</td>\n",
       "    </tr>\n",
       "    <tr>\n",
       "      <th>1</th>\n",
       "      <td>N</td>\n",
       "      <td>F</td>\n",
       "      <td>991417.00</td>\n",
       "      <td>1487504710.38</td>\n",
       "      <td>1413082168.0541</td>\n",
       "      <td>1469649223.194375</td>\n",
       "      <td>25.516472</td>\n",
       "      <td>38284.467761</td>\n",
       "      <td>0.050093</td>\n",
       "      <td>38854</td>\n",
       "    </tr>\n",
       "    <tr>\n",
       "      <th>2</th>\n",
       "      <td>N</td>\n",
       "      <td>O</td>\n",
       "      <td>74476040.00</td>\n",
       "      <td>111701729697.74</td>\n",
       "      <td>106118230307.6056</td>\n",
       "      <td>110367043872.497010</td>\n",
       "      <td>25.502227</td>\n",
       "      <td>38249.117989</td>\n",
       "      <td>0.049997</td>\n",
       "      <td>2920374</td>\n",
       "    </tr>\n",
       "    <tr>\n",
       "      <th>3</th>\n",
       "      <td>R</td>\n",
       "      <td>F</td>\n",
       "      <td>37719753.00</td>\n",
       "      <td>56568041380.90</td>\n",
       "      <td>53741292684.6040</td>\n",
       "      <td>55889619119.831932</td>\n",
       "      <td>25.505794</td>\n",
       "      <td>38250.854626</td>\n",
       "      <td>0.050009</td>\n",
       "      <td>1478870</td>\n",
       "    </tr>\n",
       "  </tbody>\n",
       "</table>\n",
       "</div>"
      ],
      "text/plain": [
       "  l_returnflag l_linestatus      sum_qty   sum_base_price     sum_disc_price  \\\n",
       "0            A            F  37734107.00   56586554400.73   53758257134.8700   \n",
       "1            N            F    991417.00    1487504710.38    1413082168.0541   \n",
       "2            N            O  74476040.00  111701729697.74  106118230307.6056   \n",
       "3            R            F  37719753.00   56568041380.90   53741292684.6040   \n",
       "\n",
       "            sum_charge    avg_qty     avg_price  avg_disc  count_order  \n",
       "0   55909065222.827692  25.522006  38273.129735  0.049985      1478493  \n",
       "1    1469649223.194375  25.516472  38284.467761  0.050093        38854  \n",
       "2  110367043872.497010  25.502227  38249.117989  0.049997      2920374  \n",
       "3   55889619119.831932  25.505794  38250.854626  0.050009      1478870  "
      ]
     },
     "execution_count": 16,
     "metadata": {},
     "output_type": "execute_result"
    }
   ],
   "source": [
    "t.sql(sql).to_pandas().head()"
   ]
  },
  {
   "cell_type": "markdown",
   "metadata": {},
   "source": [
    "# Now do this with Spark"
   ]
  },
  {
   "cell_type": "code",
   "execution_count": 3,
   "metadata": {},
   "outputs": [
    {
     "name": "stdout",
     "output_type": "stream",
     "text": [
      "env: JAVA_HOME\"/Library/Internet=Plug-Ins/JavaAppletPlugin.plugin/Contents/Home\"\n"
     ]
    }
   ],
   "source": [
    "%env JAVA_HOME\"/Library/Internet Plug-Ins/JavaAppletPlugin.plugin/Contents/Home\""
   ]
  },
  {
   "cell_type": "code",
   "execution_count": null,
   "metadata": {},
   "outputs": [],
   "source": []
  },
  {
   "cell_type": "code",
   "execution_count": null,
   "metadata": {},
   "outputs": [],
   "source": [
    "from pyspark.sql import SparkSession\n",
    "\n",
    "\n",
    "spark = SparkSession.builder.appName('TPCH Benchmark for Python').getOrCreate()\n",
    "\n",
    "\n",
    "decrease = udf(lambda x, y: x * (1 - y), FloatType())\n",
    "increase = udf(lambda x, y: x * (1 + y), FloatType())\n",
    "\n",
    "\n",
    "lineitem = spark.read.parquet(\"data/lineitem.parquet\")\n",
    "lineitem.filter(col(\"l_shipdate\") <= \"1998-09-02\") \\\n",
    "    .groupBy(col(\"l_returnflag\"), col(\"l_linestatus\")) \\\n",
    "    .agg(F.sum(col(\"l_quantity\")).alias(\"sum_qty\"),\n",
    "            F.sum(col(\"l_extendedprice\")).alias(\"sum_base_price\"),\n",
    "            F.sum(decrease(col(\"l_extendedprice\"), col(\"l_discount\"))).alias(\"sum_disc_price\"),\n",
    "            F.sum(increase(decrease(col(\"l_extendedprice\"), col(\"l_discount\")), col(\"l_tax\"))).alias(\"sum_charge\"),\n",
    "            F.avg(col(\"l_quantity\")).alias(\"avg_qty\"),\n",
    "            F.avg(col(\"l_extendedprice\")).alias(\"avg_price\"),\n",
    "            F.avg(col(\"l_discount\")).alias(\"avg_disc\"),\n",
    "            F.count(col(\"l_quantity\")).alias(\"count_order\")) \\\n",
    "    .sort(col(\"l_returnflag\"), col(\"l_linestatus\")) \\\n",
    "    .show()"
   ]
  },
  {
   "cell_type": "markdown",
   "metadata": {},
   "source": []
  },
  {
   "cell_type": "markdown",
   "metadata": {},
   "source": [
    "# Q15 CTE example - Top Supplier Query"
   ]
  },
  {
   "cell_type": "code",
   "execution_count": 46,
   "metadata": {},
   "outputs": [],
   "source": [
    "sql_q15 = \"\"\"\n",
    "with revenue0 as (\n",
    "    select\n",
    "        l_suppkey as supplier_no,\n",
    "        sum(l_extendedprice * (1 - l_discount)) as total_revenue\n",
    "    from\n",
    "        lineitem\n",
    "    where\n",
    "        l_shipdate >= date '1996-01-01'\n",
    "        and l_shipdate < date '1996-01-01' + interval '3' month\n",
    "    group by\n",
    "        l_suppkey\n",
    ")\n",
    "select\n",
    "    s_suppkey,\n",
    "    s_name,\n",
    "    s_address,\n",
    "    s_phone,\n",
    "    total_revenue\n",
    "from\n",
    "    supplier,\n",
    "    revenue0\n",
    "where\n",
    "    s_suppkey = supplier_no\n",
    "    and total_revenue = (\n",
    "        select\n",
    "            max(total_revenue)\n",
    "        from\n",
    "            revenue0\n",
    "    )\n",
    "order by\n",
    "    s_suppkey\n",
    "\"\"\""
   ]
  },
  {
   "cell_type": "code",
   "execution_count": 47,
   "metadata": {},
   "outputs": [
    {
     "data": {
      "text/html": [
       "<div>\n",
       "<style scoped>\n",
       "    .dataframe tbody tr th:only-of-type {\n",
       "        vertical-align: middle;\n",
       "    }\n",
       "\n",
       "    .dataframe tbody tr th {\n",
       "        vertical-align: top;\n",
       "    }\n",
       "\n",
       "    .dataframe thead th {\n",
       "        text-align: right;\n",
       "    }\n",
       "</style>\n",
       "<table border=\"1\" class=\"dataframe\">\n",
       "  <thead>\n",
       "    <tr style=\"text-align: right;\">\n",
       "      <th></th>\n",
       "      <th>s_suppkey</th>\n",
       "      <th>s_name</th>\n",
       "      <th>s_address</th>\n",
       "      <th>s_phone</th>\n",
       "      <th>total_revenue</th>\n",
       "    </tr>\n",
       "  </thead>\n",
       "  <tbody>\n",
       "    <tr>\n",
       "      <th>0</th>\n",
       "      <td>8449</td>\n",
       "      <td>Supplier#000008449</td>\n",
       "      <td>5BXWsJERA2mP5OyO4</td>\n",
       "      <td>20-469-856-8873</td>\n",
       "      <td>3545254.4174</td>\n",
       "    </tr>\n",
       "    <tr>\n",
       "      <th>1</th>\n",
       "      <td>8449</td>\n",
       "      <td>Supplier#000008449</td>\n",
       "      <td>5BXWsJERA2mP5OyO4</td>\n",
       "      <td>20-469-856-8873</td>\n",
       "      <td>3545254.4174</td>\n",
       "    </tr>\n",
       "  </tbody>\n",
       "</table>\n",
       "</div>"
      ],
      "text/plain": [
       "   s_suppkey              s_name          s_address          s_phone  \\\n",
       "0       8449  Supplier#000008449  5BXWsJERA2mP5OyO4  20-469-856-8873   \n",
       "1       8449  Supplier#000008449  5BXWsJERA2mP5OyO4  20-469-856-8873   \n",
       "\n",
       "  total_revenue  \n",
       "0  3545254.4174  \n",
       "1  3545254.4174  "
      ]
     },
     "execution_count": 47,
     "metadata": {},
     "output_type": "execute_result"
    }
   ],
   "source": [
    "con.sql(sql_q15).to_pandas().head()"
   ]
  },
  {
   "cell_type": "markdown",
   "metadata": {},
   "source": [
    "## Break it down into multiple table"
   ]
  },
  {
   "cell_type": "code",
   "execution_count": 67,
   "metadata": {},
   "outputs": [],
   "source": [
    "revenue = con.sql(\"\"\"    select\n",
    "        l_suppkey as supplier_no,\n",
    "        sum(l_extendedprice * (1 - l_discount)) as total_revenue\n",
    "    from\n",
    "        lineitem\n",
    "    where\n",
    "        l_shipdate >= date '1996-01-01'\n",
    "        and l_shipdate < date '1996-01-01' + interval '3' month\n",
    "    group by\n",
    "        l_suppkey\"\"\").alias(\"lineitem\")"
   ]
  },
  {
   "cell_type": "code",
   "execution_count": 53,
   "metadata": {},
   "outputs": [
    {
     "ename": "CatalogException",
     "evalue": "Catalog Error: Table with name revenue0 does not exist!\nDid you mean \"pg_sequence\"?\nLINE 1: ... s_phone, total_revenue FROM supplier, revenue0 WHERE s_suppkey = supplier_no ...\n                                                  ^",
     "output_type": "error",
     "traceback": [
      "\u001b[0;31m---------------------------------------------------------------------------\u001b[0m",
      "\u001b[0;31mCatalogException\u001b[0m                          Traceback (most recent call last)",
      "Cell \u001b[0;32mIn[53], line 1\u001b[0m\n\u001b[0;32m----> 1\u001b[0m final \u001b[38;5;241m=\u001b[39m \u001b[43mrevenue\u001b[49m\u001b[38;5;241;43m.\u001b[39;49m\u001b[43msql\u001b[49m\u001b[43m(\u001b[49m\u001b[38;5;124;43m\"\"\"\u001b[39;49m\u001b[38;5;124;43mselect\u001b[39;49m\n\u001b[1;32m      2\u001b[0m \u001b[38;5;124;43m    s_suppkey,\u001b[39;49m\n\u001b[1;32m      3\u001b[0m \u001b[38;5;124;43m    s_name,\u001b[39;49m\n\u001b[1;32m      4\u001b[0m \u001b[38;5;124;43m    s_address,\u001b[39;49m\n\u001b[1;32m      5\u001b[0m \u001b[38;5;124;43m    s_phone,\u001b[39;49m\n\u001b[1;32m      6\u001b[0m \u001b[38;5;124;43m    total_revenue\u001b[39;49m\n\u001b[1;32m      7\u001b[0m \u001b[38;5;124;43mfrom\u001b[39;49m\n\u001b[1;32m      8\u001b[0m \u001b[38;5;124;43m    supplier,\u001b[39;49m\n\u001b[1;32m      9\u001b[0m \u001b[38;5;124;43m    revenue0\u001b[39;49m\n\u001b[1;32m     10\u001b[0m \u001b[38;5;124;43mwhere\u001b[39;49m\n\u001b[1;32m     11\u001b[0m \u001b[38;5;124;43m    s_suppkey = supplier_no\u001b[39;49m\n\u001b[1;32m     12\u001b[0m \u001b[38;5;124;43m    and total_revenue = (\u001b[39;49m\n\u001b[1;32m     13\u001b[0m \u001b[38;5;124;43m        select\u001b[39;49m\n\u001b[1;32m     14\u001b[0m \u001b[38;5;124;43m            max(total_revenue)\u001b[39;49m\n\u001b[1;32m     15\u001b[0m \u001b[38;5;124;43m        from\u001b[39;49m\n\u001b[1;32m     16\u001b[0m \u001b[38;5;124;43m            revenue0\u001b[39;49m\n\u001b[1;32m     17\u001b[0m \u001b[38;5;124;43m    )\u001b[39;49m\n\u001b[1;32m     18\u001b[0m \u001b[38;5;124;43morder by\u001b[39;49m\n\u001b[1;32m     19\u001b[0m \u001b[38;5;124;43m    s_suppkey\u001b[39;49m\u001b[38;5;124;43m\"\"\"\u001b[39;49m\u001b[43m)\u001b[49m\n",
      "File \u001b[0;32m~/conference/pycon2024/.venv/lib/python3.11/site-packages/ibis/expr/types/relations.py:3441\u001b[0m, in \u001b[0;36mTable.sql\u001b[0;34m(self, query, dialect)\u001b[0m\n\u001b[1;32m   3438\u001b[0m     name \u001b[38;5;241m=\u001b[39m util\u001b[38;5;241m.\u001b[39mgen_name(\u001b[38;5;124m\"\u001b[39m\u001b[38;5;124msql_query\u001b[39m\u001b[38;5;124m\"\u001b[39m)\n\u001b[1;32m   3439\u001b[0m     expr \u001b[38;5;241m=\u001b[39m \u001b[38;5;28mself\u001b[39m\n\u001b[0;32m-> 3441\u001b[0m schema \u001b[38;5;241m=\u001b[39m \u001b[43mbackend\u001b[49m\u001b[38;5;241;43m.\u001b[39;49m\u001b[43m_get_sql_string_view_schema\u001b[49m\u001b[43m(\u001b[49m\u001b[43mname\u001b[49m\u001b[38;5;241;43m=\u001b[39;49m\u001b[43mname\u001b[49m\u001b[43m,\u001b[49m\u001b[43m \u001b[49m\u001b[43mtable\u001b[49m\u001b[38;5;241;43m=\u001b[39;49m\u001b[43mexpr\u001b[49m\u001b[43m,\u001b[49m\u001b[43m \u001b[49m\u001b[43mquery\u001b[49m\u001b[38;5;241;43m=\u001b[39;49m\u001b[43mquery\u001b[49m\u001b[43m)\u001b[49m\n\u001b[1;32m   3442\u001b[0m node \u001b[38;5;241m=\u001b[39m ops\u001b[38;5;241m.\u001b[39mSQLStringView(child\u001b[38;5;241m=\u001b[39m\u001b[38;5;28mself\u001b[39m\u001b[38;5;241m.\u001b[39mop(), query\u001b[38;5;241m=\u001b[39mquery, schema\u001b[38;5;241m=\u001b[39mschema)\n\u001b[1;32m   3443\u001b[0m \u001b[38;5;28;01mreturn\u001b[39;00m node\u001b[38;5;241m.\u001b[39mto_expr()\n",
      "File \u001b[0;32m~/conference/pycon2024/.venv/lib/python3.11/site-packages/ibis/backends/sql/__init__.py:198\u001b[0m, in \u001b[0;36mSQLBackend._get_sql_string_view_schema\u001b[0;34m(self, name, table, query)\u001b[0m\n\u001b[1;32m    194\u001b[0m \u001b[38;5;28;01mdef\u001b[39;00m \u001b[38;5;21m_get_sql_string_view_schema\u001b[39m(\n\u001b[1;32m    195\u001b[0m     \u001b[38;5;28mself\u001b[39m, \u001b[38;5;241m*\u001b[39m, name: \u001b[38;5;28mstr\u001b[39m, table: ir\u001b[38;5;241m.\u001b[39mTable, query: \u001b[38;5;28mstr\u001b[39m\n\u001b[1;32m    196\u001b[0m ) \u001b[38;5;241m-\u001b[39m\u001b[38;5;241m>\u001b[39m sch\u001b[38;5;241m.\u001b[39mSchema:\n\u001b[1;32m    197\u001b[0m     sql \u001b[38;5;241m=\u001b[39m \u001b[38;5;28mself\u001b[39m\u001b[38;5;241m.\u001b[39mcompiler\u001b[38;5;241m.\u001b[39madd_query_to_expr(name\u001b[38;5;241m=\u001b[39mname, table\u001b[38;5;241m=\u001b[39mtable, query\u001b[38;5;241m=\u001b[39mquery)\n\u001b[0;32m--> 198\u001b[0m     \u001b[38;5;28;01mreturn\u001b[39;00m \u001b[38;5;28;43mself\u001b[39;49m\u001b[38;5;241;43m.\u001b[39;49m\u001b[43m_get_schema_using_query\u001b[49m\u001b[43m(\u001b[49m\u001b[43msql\u001b[49m\u001b[43m)\u001b[49m\n",
      "File \u001b[0;32m~/conference/pycon2024/.venv/lib/python3.11/site-packages/ibis/backends/duckdb/__init__.py:1594\u001b[0m, in \u001b[0;36mBackend._get_schema_using_query\u001b[0;34m(self, query)\u001b[0m\n\u001b[1;32m   1593\u001b[0m \u001b[38;5;28;01mdef\u001b[39;00m \u001b[38;5;21m_get_schema_using_query\u001b[39m(\u001b[38;5;28mself\u001b[39m, query: \u001b[38;5;28mstr\u001b[39m) \u001b[38;5;241m-\u001b[39m\u001b[38;5;241m>\u001b[39m sch\u001b[38;5;241m.\u001b[39mSchema:\n\u001b[0;32m-> 1594\u001b[0m \u001b[43m    \u001b[49m\u001b[38;5;28;43;01mwith\u001b[39;49;00m\u001b[43m \u001b[49m\u001b[38;5;28;43mself\u001b[39;49m\u001b[38;5;241;43m.\u001b[39;49m\u001b[43m_safe_raw_sql\u001b[49m\u001b[43m(\u001b[49m\u001b[38;5;124;43mf\u001b[39;49m\u001b[38;5;124;43m\"\u001b[39;49m\u001b[38;5;124;43mDESCRIBE \u001b[39;49m\u001b[38;5;132;43;01m{\u001b[39;49;00m\u001b[43mquery\u001b[49m\u001b[38;5;132;43;01m}\u001b[39;49;00m\u001b[38;5;124;43m\"\u001b[39;49m\u001b[43m)\u001b[49m\u001b[43m \u001b[49m\u001b[38;5;28;43;01mas\u001b[39;49;00m\u001b[43m \u001b[49m\u001b[43mcur\u001b[49m\u001b[43m:\u001b[49m\n\u001b[1;32m   1595\u001b[0m \u001b[43m        \u001b[49m\u001b[43mrows\u001b[49m\u001b[43m \u001b[49m\u001b[38;5;241;43m=\u001b[39;49m\u001b[43m \u001b[49m\u001b[43mcur\u001b[49m\u001b[38;5;241;43m.\u001b[39;49m\u001b[43mfetch_arrow_table\u001b[49m\u001b[43m(\u001b[49m\u001b[43m)\u001b[49m\n\u001b[1;32m   1597\u001b[0m     rows \u001b[38;5;241m=\u001b[39m rows\u001b[38;5;241m.\u001b[39mto_pydict()\n",
      "File \u001b[0;32m~/miniconda3/lib/python3.11/contextlib.py:137\u001b[0m, in \u001b[0;36m_GeneratorContextManager.__enter__\u001b[0;34m(self)\u001b[0m\n\u001b[1;32m    135\u001b[0m \u001b[38;5;28;01mdel\u001b[39;00m \u001b[38;5;28mself\u001b[39m\u001b[38;5;241m.\u001b[39margs, \u001b[38;5;28mself\u001b[39m\u001b[38;5;241m.\u001b[39mkwds, \u001b[38;5;28mself\u001b[39m\u001b[38;5;241m.\u001b[39mfunc\n\u001b[1;32m    136\u001b[0m \u001b[38;5;28;01mtry\u001b[39;00m:\n\u001b[0;32m--> 137\u001b[0m     \u001b[38;5;28;01mreturn\u001b[39;00m \u001b[38;5;28mnext\u001b[39m(\u001b[38;5;28mself\u001b[39m\u001b[38;5;241m.\u001b[39mgen)\n\u001b[1;32m    138\u001b[0m \u001b[38;5;28;01mexcept\u001b[39;00m \u001b[38;5;167;01mStopIteration\u001b[39;00m:\n\u001b[1;32m    139\u001b[0m     \u001b[38;5;28;01mraise\u001b[39;00m \u001b[38;5;167;01mRuntimeError\u001b[39;00m(\u001b[38;5;124m\"\u001b[39m\u001b[38;5;124mgenerator didn\u001b[39m\u001b[38;5;124m'\u001b[39m\u001b[38;5;124mt yield\u001b[39m\u001b[38;5;124m\"\u001b[39m) \u001b[38;5;28;01mfrom\u001b[39;00m \u001b[38;5;28;01mNone\u001b[39;00m\n",
      "File \u001b[0;32m~/conference/pycon2024/.venv/lib/python3.11/site-packages/ibis/backends/duckdb/__init__.py:323\u001b[0m, in \u001b[0;36mBackend._safe_raw_sql\u001b[0;34m(self, *args, **kwargs)\u001b[0m\n\u001b[1;32m    321\u001b[0m \u001b[38;5;129m@contextlib\u001b[39m\u001b[38;5;241m.\u001b[39mcontextmanager\n\u001b[1;32m    322\u001b[0m \u001b[38;5;28;01mdef\u001b[39;00m \u001b[38;5;21m_safe_raw_sql\u001b[39m(\u001b[38;5;28mself\u001b[39m, \u001b[38;5;241m*\u001b[39margs, \u001b[38;5;241m*\u001b[39m\u001b[38;5;241m*\u001b[39mkwargs):\n\u001b[0;32m--> 323\u001b[0m     \u001b[38;5;28;01myield\u001b[39;00m \u001b[38;5;28;43mself\u001b[39;49m\u001b[38;5;241;43m.\u001b[39;49m\u001b[43mraw_sql\u001b[49m\u001b[43m(\u001b[49m\u001b[38;5;241;43m*\u001b[39;49m\u001b[43margs\u001b[49m\u001b[43m,\u001b[49m\u001b[43m \u001b[49m\u001b[38;5;241;43m*\u001b[39;49m\u001b[38;5;241;43m*\u001b[39;49m\u001b[43mkwargs\u001b[49m\u001b[43m)\u001b[49m\n",
      "File \u001b[0;32m~/conference/pycon2024/.venv/lib/python3.11/site-packages/ibis/backends/duckdb/__init__.py:97\u001b[0m, in \u001b[0;36mBackend.raw_sql\u001b[0;34m(self, query, **kwargs)\u001b[0m\n\u001b[1;32m     95\u001b[0m \u001b[38;5;28;01mwith\u001b[39;00m contextlib\u001b[38;5;241m.\u001b[39msuppress(\u001b[38;5;167;01mAttributeError\u001b[39;00m):\n\u001b[1;32m     96\u001b[0m     query \u001b[38;5;241m=\u001b[39m query\u001b[38;5;241m.\u001b[39msql(dialect\u001b[38;5;241m=\u001b[39m\u001b[38;5;28mself\u001b[39m\u001b[38;5;241m.\u001b[39mname)\n\u001b[0;32m---> 97\u001b[0m \u001b[38;5;28;01mreturn\u001b[39;00m \u001b[38;5;28;43mself\u001b[39;49m\u001b[38;5;241;43m.\u001b[39;49m\u001b[43mcon\u001b[49m\u001b[38;5;241;43m.\u001b[39;49m\u001b[43mexecute\u001b[49m\u001b[43m(\u001b[49m\u001b[43mquery\u001b[49m\u001b[43m,\u001b[49m\u001b[43m \u001b[49m\u001b[38;5;241;43m*\u001b[39;49m\u001b[38;5;241;43m*\u001b[39;49m\u001b[43mkwargs\u001b[49m\u001b[43m)\u001b[49m\n",
      "\u001b[0;31mCatalogException\u001b[0m: Catalog Error: Table with name revenue0 does not exist!\nDid you mean \"pg_sequence\"?\nLINE 1: ... s_phone, total_revenue FROM supplier, revenue0 WHERE s_suppkey = supplier_no ...\n                                                  ^"
     ]
    }
   ],
   "source": [
    "final = revenue.sql(\"\"\"select\n",
    "    s_suppkey,\n",
    "    s_name,\n",
    "    s_address,\n",
    "    s_phone,\n",
    "    total_revenue\n",
    "from\n",
    "    supplier,\n",
    "    revenue0\n",
    "where\n",
    "    s_suppkey = supplier_no\n",
    "    and total_revenue = (\n",
    "        select\n",
    "            max(total_revenue)\n",
    "        from\n",
    "            revenue0\n",
    "    )\n",
    "order by\n",
    "    s_suppkey\"\"\")"
   ]
  },
  {
   "cell_type": "code",
   "execution_count": 50,
   "metadata": {},
   "outputs": [
    {
     "data": {
      "text/html": [
       "<div>\n",
       "<style scoped>\n",
       "    .dataframe tbody tr th:only-of-type {\n",
       "        vertical-align: middle;\n",
       "    }\n",
       "\n",
       "    .dataframe tbody tr th {\n",
       "        vertical-align: top;\n",
       "    }\n",
       "\n",
       "    .dataframe thead th {\n",
       "        text-align: right;\n",
       "    }\n",
       "</style>\n",
       "<table border=\"1\" class=\"dataframe\">\n",
       "  <thead>\n",
       "    <tr style=\"text-align: right;\">\n",
       "      <th></th>\n",
       "      <th>s_suppkey</th>\n",
       "      <th>s_name</th>\n",
       "      <th>s_address</th>\n",
       "      <th>s_phone</th>\n",
       "      <th>total_revenue</th>\n",
       "    </tr>\n",
       "  </thead>\n",
       "  <tbody>\n",
       "    <tr>\n",
       "      <th>0</th>\n",
       "      <td>8449</td>\n",
       "      <td>Supplier#000008449</td>\n",
       "      <td>5BXWsJERA2mP5OyO4</td>\n",
       "      <td>20-469-856-8873</td>\n",
       "      <td>3545254.4174</td>\n",
       "    </tr>\n",
       "    <tr>\n",
       "      <th>1</th>\n",
       "      <td>8449</td>\n",
       "      <td>Supplier#000008449</td>\n",
       "      <td>5BXWsJERA2mP5OyO4</td>\n",
       "      <td>20-469-856-8873</td>\n",
       "      <td>3545254.4174</td>\n",
       "    </tr>\n",
       "  </tbody>\n",
       "</table>\n",
       "</div>"
      ],
      "text/plain": [
       "   s_suppkey              s_name          s_address          s_phone  \\\n",
       "0       8449  Supplier#000008449  5BXWsJERA2mP5OyO4  20-469-856-8873   \n",
       "1       8449  Supplier#000008449  5BXWsJERA2mP5OyO4  20-469-856-8873   \n",
       "\n",
       "  total_revenue  \n",
       "0  3545254.4174  \n",
       "1  3545254.4174  "
      ]
     },
     "execution_count": 50,
     "metadata": {},
     "output_type": "execute_result"
    }
   ],
   "source": [
    "final.to_pandas().head()"
   ]
  },
  {
   "cell_type": "code",
   "execution_count": 51,
   "metadata": {},
   "outputs": [
    {
     "data": {
      "text/markdown": [
       "```sql\n",
       "WITH \"revenue0\" AS (\n",
       "  SELECT\n",
       "    l_suppkey AS supplier_no,\n",
       "    SUM(l_extendedprice * (\n",
       "      1 - l_discount\n",
       "    )) AS total_revenue\n",
       "  FROM lineitem\n",
       "  WHERE\n",
       "    l_shipdate >= CAST('1996-01-01' AS DATE)\n",
       "    AND l_shipdate < CAST('1996-01-01' AS DATE) + INTERVAL '3' MONTH\n",
       "  GROUP BY\n",
       "    l_suppkey\n",
       ")\n",
       "SELECT\n",
       "  s_suppkey,\n",
       "  s_name,\n",
       "  s_address,\n",
       "  s_phone,\n",
       "  total_revenue\n",
       "FROM supplier, revenue0\n",
       "WHERE\n",
       "  s_suppkey = supplier_no\n",
       "  AND total_revenue = (\n",
       "    SELECT\n",
       "      MAX(total_revenue)\n",
       "    FROM revenue0\n",
       "  )\n",
       "ORDER BY\n",
       "  s_suppkey\n",
       "```"
      ],
      "text/plain": [
       "\u001b[34mWITH\u001b[39;49;00m\u001b[37m \u001b[39;49;00m\u001b[33m\"revenue0\"\u001b[39;49;00m\u001b[37m \u001b[39;49;00m\u001b[34mAS\u001b[39;49;00m\u001b[37m \u001b[39;49;00m(\u001b[37m\u001b[39;49;00m\n",
       "\u001b[37m  \u001b[39;49;00m\u001b[34mSELECT\u001b[39;49;00m\u001b[37m\u001b[39;49;00m\n",
       "\u001b[37m    \u001b[39;49;00ml_suppkey\u001b[37m \u001b[39;49;00m\u001b[34mAS\u001b[39;49;00m\u001b[37m \u001b[39;49;00msupplier_no,\u001b[37m\u001b[39;49;00m\n",
       "\u001b[37m    \u001b[39;49;00m\u001b[34mSUM\u001b[39;49;00m(l_extendedprice\u001b[37m \u001b[39;49;00m*\u001b[37m \u001b[39;49;00m(\u001b[37m\u001b[39;49;00m\n",
       "\u001b[37m      \u001b[39;49;00m\u001b[34m1\u001b[39;49;00m\u001b[37m \u001b[39;49;00m-\u001b[37m \u001b[39;49;00ml_discount\u001b[37m\u001b[39;49;00m\n",
       "\u001b[37m    \u001b[39;49;00m))\u001b[37m \u001b[39;49;00m\u001b[34mAS\u001b[39;49;00m\u001b[37m \u001b[39;49;00mtotal_revenue\u001b[37m\u001b[39;49;00m\n",
       "\u001b[37m  \u001b[39;49;00m\u001b[34mFROM\u001b[39;49;00m\u001b[37m \u001b[39;49;00mlineitem\u001b[37m\u001b[39;49;00m\n",
       "\u001b[37m  \u001b[39;49;00m\u001b[34mWHERE\u001b[39;49;00m\u001b[37m\u001b[39;49;00m\n",
       "\u001b[37m    \u001b[39;49;00ml_shipdate\u001b[37m \u001b[39;49;00m>=\u001b[37m \u001b[39;49;00m\u001b[34mCAST\u001b[39;49;00m(\u001b[33m'1996-01-01'\u001b[39;49;00m\u001b[37m \u001b[39;49;00m\u001b[34mAS\u001b[39;49;00m\u001b[37m \u001b[39;49;00m\u001b[36mDATE\u001b[39;49;00m)\u001b[37m\u001b[39;49;00m\n",
       "\u001b[37m    \u001b[39;49;00m\u001b[34mAND\u001b[39;49;00m\u001b[37m \u001b[39;49;00ml_shipdate\u001b[37m \u001b[39;49;00m<\u001b[37m \u001b[39;49;00m\u001b[34mCAST\u001b[39;49;00m(\u001b[33m'1996-01-01'\u001b[39;49;00m\u001b[37m \u001b[39;49;00m\u001b[34mAS\u001b[39;49;00m\u001b[37m \u001b[39;49;00m\u001b[36mDATE\u001b[39;49;00m)\u001b[37m \u001b[39;49;00m+\u001b[37m \u001b[39;49;00m\u001b[36mINTERVAL\u001b[39;49;00m\u001b[37m \u001b[39;49;00m\u001b[33m'3'\u001b[39;49;00m\u001b[37m \u001b[39;49;00m\u001b[34mMONTH\u001b[39;49;00m\u001b[37m\u001b[39;49;00m\n",
       "\u001b[37m  \u001b[39;49;00m\u001b[34mGROUP\u001b[39;49;00m\u001b[37m \u001b[39;49;00m\u001b[34mBY\u001b[39;49;00m\u001b[37m\u001b[39;49;00m\n",
       "\u001b[37m    \u001b[39;49;00ml_suppkey\u001b[37m\u001b[39;49;00m\n",
       ")\u001b[37m\u001b[39;49;00m\n",
       "\u001b[34mSELECT\u001b[39;49;00m\u001b[37m\u001b[39;49;00m\n",
       "\u001b[37m  \u001b[39;49;00ms_suppkey,\u001b[37m\u001b[39;49;00m\n",
       "\u001b[37m  \u001b[39;49;00ms_name,\u001b[37m\u001b[39;49;00m\n",
       "\u001b[37m  \u001b[39;49;00ms_address,\u001b[37m\u001b[39;49;00m\n",
       "\u001b[37m  \u001b[39;49;00ms_phone,\u001b[37m\u001b[39;49;00m\n",
       "\u001b[37m  \u001b[39;49;00mtotal_revenue\u001b[37m\u001b[39;49;00m\n",
       "\u001b[34mFROM\u001b[39;49;00m\u001b[37m \u001b[39;49;00msupplier,\u001b[37m \u001b[39;49;00mrevenue0\u001b[37m\u001b[39;49;00m\n",
       "\u001b[34mWHERE\u001b[39;49;00m\u001b[37m\u001b[39;49;00m\n",
       "\u001b[37m  \u001b[39;49;00ms_suppkey\u001b[37m \u001b[39;49;00m=\u001b[37m \u001b[39;49;00msupplier_no\u001b[37m\u001b[39;49;00m\n",
       "\u001b[37m  \u001b[39;49;00m\u001b[34mAND\u001b[39;49;00m\u001b[37m \u001b[39;49;00mtotal_revenue\u001b[37m \u001b[39;49;00m=\u001b[37m \u001b[39;49;00m(\u001b[37m\u001b[39;49;00m\n",
       "\u001b[37m    \u001b[39;49;00m\u001b[34mSELECT\u001b[39;49;00m\u001b[37m\u001b[39;49;00m\n",
       "\u001b[37m      \u001b[39;49;00m\u001b[34mMAX\u001b[39;49;00m(total_revenue)\u001b[37m\u001b[39;49;00m\n",
       "\u001b[37m    \u001b[39;49;00m\u001b[34mFROM\u001b[39;49;00m\u001b[37m \u001b[39;49;00mrevenue0\u001b[37m\u001b[39;49;00m\n",
       "\u001b[37m  \u001b[39;49;00m)\u001b[37m\u001b[39;49;00m\n",
       "\u001b[34mORDER\u001b[39;49;00m\u001b[37m \u001b[39;49;00m\u001b[34mBY\u001b[39;49;00m\u001b[37m\u001b[39;49;00m\n",
       "\u001b[37m  \u001b[39;49;00ms_suppkey\u001b[37m\u001b[39;49;00m"
      ]
     },
     "execution_count": 51,
     "metadata": {},
     "output_type": "execute_result"
    }
   ],
   "source": [
    "ibis.to_sql(final)"
   ]
  },
  {
   "cell_type": "code",
   "execution_count": null,
   "metadata": {},
   "outputs": [],
   "source": []
  },
  {
   "cell_type": "code",
   "execution_count": 40,
   "metadata": {},
   "outputs": [
    {
     "data": {
      "text/markdown": [
       "```sql\n",
       "WITH \"revenue0\" AS (\n",
       "  SELECT\n",
       "    l_suppkey AS supplier_no,\n",
       "    SUM(l_extendedprice * (\n",
       "      1 - l_discount\n",
       "    )) AS total_revenue\n",
       "  FROM lineitem\n",
       "  WHERE\n",
       "    l_shipdate >= CAST('1996-01-01' AS DATE)\n",
       "    AND l_shipdate < CAST('1996-01-01' AS DATE) + INTERVAL '3' MONTH\n",
       "  GROUP BY\n",
       "    l_suppkey\n",
       ")\n",
       "SELECT\n",
       "  *\n",
       "FROM \"revenue0\" AS \"t1\"\n",
       "WHERE\n",
       "  \"t1\".\"supplier_no\" > 1\n",
       "```"
      ],
      "text/plain": [
       "\u001b[34mWITH\u001b[39;49;00m\u001b[37m \u001b[39;49;00m\u001b[33m\"revenue0\"\u001b[39;49;00m\u001b[37m \u001b[39;49;00m\u001b[34mAS\u001b[39;49;00m\u001b[37m \u001b[39;49;00m(\u001b[37m\u001b[39;49;00m\n",
       "\u001b[37m  \u001b[39;49;00m\u001b[34mSELECT\u001b[39;49;00m\u001b[37m\u001b[39;49;00m\n",
       "\u001b[37m    \u001b[39;49;00ml_suppkey\u001b[37m \u001b[39;49;00m\u001b[34mAS\u001b[39;49;00m\u001b[37m \u001b[39;49;00msupplier_no,\u001b[37m\u001b[39;49;00m\n",
       "\u001b[37m    \u001b[39;49;00m\u001b[34mSUM\u001b[39;49;00m(l_extendedprice\u001b[37m \u001b[39;49;00m*\u001b[37m \u001b[39;49;00m(\u001b[37m\u001b[39;49;00m\n",
       "\u001b[37m      \u001b[39;49;00m\u001b[34m1\u001b[39;49;00m\u001b[37m \u001b[39;49;00m-\u001b[37m \u001b[39;49;00ml_discount\u001b[37m\u001b[39;49;00m\n",
       "\u001b[37m    \u001b[39;49;00m))\u001b[37m \u001b[39;49;00m\u001b[34mAS\u001b[39;49;00m\u001b[37m \u001b[39;49;00mtotal_revenue\u001b[37m\u001b[39;49;00m\n",
       "\u001b[37m  \u001b[39;49;00m\u001b[34mFROM\u001b[39;49;00m\u001b[37m \u001b[39;49;00mlineitem\u001b[37m\u001b[39;49;00m\n",
       "\u001b[37m  \u001b[39;49;00m\u001b[34mWHERE\u001b[39;49;00m\u001b[37m\u001b[39;49;00m\n",
       "\u001b[37m    \u001b[39;49;00ml_shipdate\u001b[37m \u001b[39;49;00m>=\u001b[37m \u001b[39;49;00m\u001b[34mCAST\u001b[39;49;00m(\u001b[33m'1996-01-01'\u001b[39;49;00m\u001b[37m \u001b[39;49;00m\u001b[34mAS\u001b[39;49;00m\u001b[37m \u001b[39;49;00m\u001b[36mDATE\u001b[39;49;00m)\u001b[37m\u001b[39;49;00m\n",
       "\u001b[37m    \u001b[39;49;00m\u001b[34mAND\u001b[39;49;00m\u001b[37m \u001b[39;49;00ml_shipdate\u001b[37m \u001b[39;49;00m<\u001b[37m \u001b[39;49;00m\u001b[34mCAST\u001b[39;49;00m(\u001b[33m'1996-01-01'\u001b[39;49;00m\u001b[37m \u001b[39;49;00m\u001b[34mAS\u001b[39;49;00m\u001b[37m \u001b[39;49;00m\u001b[36mDATE\u001b[39;49;00m)\u001b[37m \u001b[39;49;00m+\u001b[37m \u001b[39;49;00m\u001b[36mINTERVAL\u001b[39;49;00m\u001b[37m \u001b[39;49;00m\u001b[33m'3'\u001b[39;49;00m\u001b[37m \u001b[39;49;00m\u001b[34mMONTH\u001b[39;49;00m\u001b[37m\u001b[39;49;00m\n",
       "\u001b[37m  \u001b[39;49;00m\u001b[34mGROUP\u001b[39;49;00m\u001b[37m \u001b[39;49;00m\u001b[34mBY\u001b[39;49;00m\u001b[37m\u001b[39;49;00m\n",
       "\u001b[37m    \u001b[39;49;00ml_suppkey\u001b[37m\u001b[39;49;00m\n",
       ")\u001b[37m\u001b[39;49;00m\n",
       "\u001b[34mSELECT\u001b[39;49;00m\u001b[37m\u001b[39;49;00m\n",
       "\u001b[37m  \u001b[39;49;00m*\u001b[37m\u001b[39;49;00m\n",
       "\u001b[34mFROM\u001b[39;49;00m\u001b[37m \u001b[39;49;00m\u001b[33m\"revenue0\"\u001b[39;49;00m\u001b[37m \u001b[39;49;00m\u001b[34mAS\u001b[39;49;00m\u001b[37m \u001b[39;49;00m\u001b[33m\"t1\"\u001b[39;49;00m\u001b[37m\u001b[39;49;00m\n",
       "\u001b[34mWHERE\u001b[39;49;00m\u001b[37m\u001b[39;49;00m\n",
       "\u001b[37m  \u001b[39;49;00m\u001b[33m\"t1\"\u001b[39;49;00m.\u001b[33m\"supplier_no\"\u001b[39;49;00m\u001b[37m \u001b[39;49;00m>\u001b[37m \u001b[39;49;00m\u001b[34m1\u001b[39;49;00m\u001b[37m\u001b[39;49;00m"
      ]
     },
     "execution_count": 40,
     "metadata": {},
     "output_type": "execute_result"
    }
   ],
   "source": [
    "from ibis import _\n",
    "ibis.to_sql(revenue.filter(_.supplier_no>1))"
   ]
  },
  {
   "cell_type": "code",
   "execution_count": null,
   "metadata": {},
   "outputs": [],
   "source": []
  },
  {
   "cell_type": "code",
   "execution_count": null,
   "metadata": {},
   "outputs": [],
   "source": []
  },
  {
   "cell_type": "code",
   "execution_count": null,
   "metadata": {},
   "outputs": [],
   "source": []
  },
  {
   "cell_type": "code",
   "execution_count": null,
   "metadata": {},
   "outputs": [],
   "source": []
  },
  {
   "cell_type": "code",
   "execution_count": null,
   "metadata": {},
   "outputs": [],
   "source": []
  },
  {
   "cell_type": "code",
   "execution_count": null,
   "metadata": {},
   "outputs": [],
   "source": []
  }
 ],
 "metadata": {
  "kernelspec": {
   "display_name": ".venv",
   "language": "python",
   "name": "python3"
  },
  "language_info": {
   "codemirror_mode": {
    "name": "ipython",
    "version": 3
   },
   "file_extension": ".py",
   "mimetype": "text/x-python",
   "name": "python",
   "nbconvert_exporter": "python",
   "pygments_lexer": "ipython3",
   "version": "3.10.15"
  }
 },
 "nbformat": 4,
 "nbformat_minor": 2
}
