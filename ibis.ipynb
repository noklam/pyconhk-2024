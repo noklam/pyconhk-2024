{
 "cells": [
  {
   "cell_type": "code",
   "execution_count": 3,
   "metadata": {},
   "outputs": [],
   "source": [
    "import ibis\n",
    "import duckdb\n",
    "\n",
    "SCALE_FACTOR = 1\n",
    "\n",
    "# Connect to DuckDB\n",
    "duckdb_con = duckdb.connect(\"tpch.duckdb\")\n",
    "con = ibis.connect(\"duckdb:///Users/Nok_Lam_Chan/conference/pycon2024/tpch.duckdb\")"
   ]
  },
  {
   "cell_type": "markdown",
   "metadata": {},
   "source": [
    "# Generate Data"
   ]
  },
  {
   "cell_type": "code",
   "execution_count": 4,
   "metadata": {},
   "outputs": [
    {
     "data": {
      "application/vnd.jupyter.widget-view+json": {
       "model_id": "d0677dc0a0c441959e1f565da2ab1aa1",
       "version_major": 2,
       "version_minor": 0
      },
      "text/plain": [
       "FloatProgress(value=0.0, layout=Layout(width='auto'), style=ProgressStyle(bar_color='black'))"
      ]
     },
     "metadata": {},
     "output_type": "display_data"
    }
   ],
   "source": [
    "# Generate TPC-H data at scale factor 1 (1 GB)\n",
    "duckdb_con.sql(f\"CALL dbgen(sf={SCALE_FACTOR})\")\n",
    "\n",
    "# Export each table to Parquet format\n",
    "tables = [\"lineitem\", \"orders\", \"customer\", \"supplier\", \"nation\", \"region\", \"part\", \"partsupp\"]\n",
    "for table in tables:\n",
    "    duckdb_con.sql(f\"COPY {table} TO 'data/{table}.parquet' (FORMAT PARQUET)\")\n"
   ]
  },
  {
   "cell_type": "code",
   "execution_count": 6,
   "metadata": {},
   "outputs": [],
   "source": [
    "part = con.table(\"part\")\n",
    "partsupp = con.table(\"partsupp\")\n"
   ]
  },
  {
   "cell_type": "code",
   "execution_count": 7,
   "metadata": {},
   "outputs": [],
   "source": [
    "part = part.sql(\"SELECT * from part\")\n",
    "partsupp = partsupp.sql(\"SELECT * from partsupp\")"
   ]
  },
  {
   "cell_type": "code",
   "execution_count": 8,
   "metadata": {},
   "outputs": [],
   "source": [
    "r = part.join(partsupp, part.p_partkey == partsupp.ps_partkey)"
   ]
  },
  {
   "cell_type": "code",
   "execution_count": 9,
   "metadata": {},
   "outputs": [
    {
     "data": {
      "text/html": [
       "<div>\n",
       "<style scoped>\n",
       "    .dataframe tbody tr th:only-of-type {\n",
       "        vertical-align: middle;\n",
       "    }\n",
       "\n",
       "    .dataframe tbody tr th {\n",
       "        vertical-align: top;\n",
       "    }\n",
       "\n",
       "    .dataframe thead th {\n",
       "        text-align: right;\n",
       "    }\n",
       "</style>\n",
       "<table border=\"1\" class=\"dataframe\">\n",
       "  <thead>\n",
       "    <tr style=\"text-align: right;\">\n",
       "      <th></th>\n",
       "      <th>p_partkey</th>\n",
       "      <th>p_name</th>\n",
       "      <th>p_mfgr</th>\n",
       "      <th>p_brand</th>\n",
       "      <th>p_type</th>\n",
       "      <th>p_size</th>\n",
       "      <th>p_container</th>\n",
       "      <th>p_retailprice</th>\n",
       "      <th>p_comment</th>\n",
       "      <th>ps_partkey</th>\n",
       "      <th>ps_suppkey</th>\n",
       "      <th>ps_availqty</th>\n",
       "      <th>ps_supplycost</th>\n",
       "      <th>ps_comment</th>\n",
       "    </tr>\n",
       "  </thead>\n",
       "  <tbody>\n",
       "    <tr>\n",
       "      <th>0</th>\n",
       "      <td>92161</td>\n",
       "      <td>coral misty blush black blanched</td>\n",
       "      <td>Manufacturer#2</td>\n",
       "      <td>Brand#25</td>\n",
       "      <td>ECONOMY BRUSHED STEEL</td>\n",
       "      <td>31</td>\n",
       "      <td>LG PACK</td>\n",
       "      <td>1153.16</td>\n",
       "      <td>subla</td>\n",
       "      <td>92161</td>\n",
       "      <td>2162</td>\n",
       "      <td>5815</td>\n",
       "      <td>284.89</td>\n",
       "      <td>ts sleep carefully according to the theodolite...</td>\n",
       "    </tr>\n",
       "    <tr>\n",
       "      <th>1</th>\n",
       "      <td>92161</td>\n",
       "      <td>coral misty blush black blanched</td>\n",
       "      <td>Manufacturer#2</td>\n",
       "      <td>Brand#25</td>\n",
       "      <td>ECONOMY BRUSHED STEEL</td>\n",
       "      <td>31</td>\n",
       "      <td>LG PACK</td>\n",
       "      <td>1153.16</td>\n",
       "      <td>subla</td>\n",
       "      <td>92161</td>\n",
       "      <td>4671</td>\n",
       "      <td>4415</td>\n",
       "      <td>141.93</td>\n",
       "      <td>final requests thrash after the bold pearls. ...</td>\n",
       "    </tr>\n",
       "    <tr>\n",
       "      <th>2</th>\n",
       "      <td>92161</td>\n",
       "      <td>coral misty blush black blanched</td>\n",
       "      <td>Manufacturer#2</td>\n",
       "      <td>Brand#25</td>\n",
       "      <td>ECONOMY BRUSHED STEEL</td>\n",
       "      <td>31</td>\n",
       "      <td>LG PACK</td>\n",
       "      <td>1153.16</td>\n",
       "      <td>subla</td>\n",
       "      <td>92161</td>\n",
       "      <td>7180</td>\n",
       "      <td>9557</td>\n",
       "      <td>982.01</td>\n",
       "      <td>. silent deposits cajole. special, bold excuse...</td>\n",
       "    </tr>\n",
       "    <tr>\n",
       "      <th>3</th>\n",
       "      <td>92161</td>\n",
       "      <td>coral misty blush black blanched</td>\n",
       "      <td>Manufacturer#2</td>\n",
       "      <td>Brand#25</td>\n",
       "      <td>ECONOMY BRUSHED STEEL</td>\n",
       "      <td>31</td>\n",
       "      <td>LG PACK</td>\n",
       "      <td>1153.16</td>\n",
       "      <td>subla</td>\n",
       "      <td>92161</td>\n",
       "      <td>9689</td>\n",
       "      <td>6518</td>\n",
       "      <td>190.21</td>\n",
       "      <td>about the furiously unusual escapades should ...</td>\n",
       "    </tr>\n",
       "    <tr>\n",
       "      <th>4</th>\n",
       "      <td>92162</td>\n",
       "      <td>coral steel tomato red puff</td>\n",
       "      <td>Manufacturer#3</td>\n",
       "      <td>Brand#33</td>\n",
       "      <td>MEDIUM ANODIZED TIN</td>\n",
       "      <td>4</td>\n",
       "      <td>LG DRUM</td>\n",
       "      <td>1154.16</td>\n",
       "      <td>e stealthily among th</td>\n",
       "      <td>92162</td>\n",
       "      <td>2163</td>\n",
       "      <td>5906</td>\n",
       "      <td>232.07</td>\n",
       "      <td>ecial excuses. blithely silent accounts integr...</td>\n",
       "    </tr>\n",
       "  </tbody>\n",
       "</table>\n",
       "</div>"
      ],
      "text/plain": [
       "   p_partkey                            p_name          p_mfgr   p_brand  \\\n",
       "0      92161  coral misty blush black blanched  Manufacturer#2  Brand#25   \n",
       "1      92161  coral misty blush black blanched  Manufacturer#2  Brand#25   \n",
       "2      92161  coral misty blush black blanched  Manufacturer#2  Brand#25   \n",
       "3      92161  coral misty blush black blanched  Manufacturer#2  Brand#25   \n",
       "4      92162       coral steel tomato red puff  Manufacturer#3  Brand#33   \n",
       "\n",
       "                  p_type  p_size p_container p_retailprice  \\\n",
       "0  ECONOMY BRUSHED STEEL      31     LG PACK       1153.16   \n",
       "1  ECONOMY BRUSHED STEEL      31     LG PACK       1153.16   \n",
       "2  ECONOMY BRUSHED STEEL      31     LG PACK       1153.16   \n",
       "3  ECONOMY BRUSHED STEEL      31     LG PACK       1153.16   \n",
       "4    MEDIUM ANODIZED TIN       4     LG DRUM       1154.16   \n",
       "\n",
       "               p_comment  ps_partkey  ps_suppkey  ps_availqty ps_supplycost  \\\n",
       "0                  subla       92161        2162         5815        284.89   \n",
       "1                  subla       92161        4671         4415        141.93   \n",
       "2                  subla       92161        7180         9557        982.01   \n",
       "3                  subla       92161        9689         6518        190.21   \n",
       "4  e stealthily among th       92162        2163         5906        232.07   \n",
       "\n",
       "                                          ps_comment  \n",
       "0  ts sleep carefully according to the theodolite...  \n",
       "1   final requests thrash after the bold pearls. ...  \n",
       "2  . silent deposits cajole. special, bold excuse...  \n",
       "3   about the furiously unusual escapades should ...  \n",
       "4  ecial excuses. blithely silent accounts integr...  "
      ]
     },
     "execution_count": 9,
     "metadata": {},
     "output_type": "execute_result"
    }
   ],
   "source": [
    "r.head().to_pandas()"
   ]
  },
  {
   "cell_type": "code",
   "execution_count": 10,
   "metadata": {},
   "outputs": [],
   "source": [
    "from pathlib import Path\n",
    "cwd = str(Path.cwd())"
   ]
  },
  {
   "cell_type": "code",
   "execution_count": 11,
   "metadata": {},
   "outputs": [
    {
     "data": {
      "text/plain": [
       "'/Users/Nok_Lam_Chan/conference/pycon2024'"
      ]
     },
     "execution_count": 11,
     "metadata": {},
     "output_type": "execute_result"
    }
   ],
   "source": [
    "cwd"
   ]
  },
  {
   "cell_type": "code",
   "execution_count": 12,
   "metadata": {},
   "outputs": [],
   "source": [
    "from __future__ import annotations\n",
    "\n",
    "\n",
    "import ibis\n",
    "import datetime\n",
    "from dateutil.relativedelta import relativedelta\n",
    "\n",
    "def add_date(datestr: str, dy: int = 0, dm: int = 0, dd: int = 0) -> ir.DateScalar:\n",
    "    dt = datetime.date.fromisoformat(datestr)\n",
    "    dt += relativedelta(years=dy, months=dm, days=dd)\n",
    "    return ibis.date(dt.isoformat())"
   ]
  },
  {
   "cell_type": "markdown",
   "metadata": {},
   "source": [
    "## Ibis Dataframe"
   ]
  },
  {
   "cell_type": "code",
   "execution_count": 13,
   "metadata": {},
   "outputs": [
    {
     "name": "stdout",
     "output_type": "stream",
     "text": [
      "r0 := DatabaseTable: tpch.lineitem\n",
      "  l_orderkey      !int64\n",
      "  l_partkey       !int64\n",
      "  l_suppkey       !int64\n",
      "  l_linenumber    !int64\n",
      "  l_quantity      !decimal(15, 2)\n",
      "  l_extendedprice !decimal(15, 2)\n",
      "  l_discount      !decimal(15, 2)\n",
      "  l_tax           !decimal(15, 2)\n",
      "  l_returnflag    !string\n",
      "  l_linestatus    !string\n",
      "  l_shipdate      !date\n",
      "  l_commitdate    !date\n",
      "  l_receiptdate   !date\n",
      "  l_shipinstruct  !string\n",
      "  l_shipmode      !string\n",
      "  l_comment       !string\n",
      "\n",
      "r1 := Filter[r0]\n",
      "  r0.l_shipdate <= datetime.date(1998, 9, 2)\n",
      "\n",
      "r2 := Aggregate[r1]\n",
      "  groups:\n",
      "    l_returnflag: r1.l_returnflag\n",
      "    l_linestatus: r1.l_linestatus\n",
      "  metrics:\n",
      "    sum_qty:        Sum(r1.l_quantity)\n",
      "    sum_base_price: Sum(r1.l_extendedprice)\n",
      "    sum_disc_price: Sum(r1.l_extendedprice * 1 - r1.l_discount)\n",
      "    sum_charge:     Sum(r1.l_extendedprice * 1 - r1.l_discount * r1.l_tax + 1)\n",
      "    avg_qty:        Mean(r1.l_quantity)\n",
      "    avg_price:      Mean(r1.l_extendedprice)\n",
      "    avg_disc:       Mean(r1.l_discount)\n",
      "    count_order:    CountStar(r1)\n",
      "\n",
      "Sort[r2]\n",
      "  asc r2.l_returnflag\n",
      "  asc r2.l_linestatus\n",
      "SELECT\n",
      "  *\n",
      "FROM (\n",
      "  SELECT\n",
      "    \"t1\".\"l_returnflag\",\n",
      "    \"t1\".\"l_linestatus\",\n",
      "    SUM(\"t1\".\"l_quantity\") AS \"sum_qty\",\n",
      "    SUM(\"t1\".\"l_extendedprice\") AS \"sum_base_price\",\n",
      "    SUM(\"t1\".\"l_extendedprice\" * (\n",
      "      1 - \"t1\".\"l_discount\"\n",
      "    )) AS \"sum_disc_price\",\n",
      "    SUM(\"t1\".\"l_extendedprice\" * (\n",
      "      1 - \"t1\".\"l_discount\"\n",
      "    ) * (\n",
      "      \"t1\".\"l_tax\" + 1\n",
      "    )) AS \"sum_charge\",\n",
      "    AVG(\"t1\".\"l_quantity\") AS \"avg_qty\",\n",
      "    AVG(\"t1\".\"l_extendedprice\") AS \"avg_price\",\n",
      "    AVG(\"t1\".\"l_discount\") AS \"avg_disc\",\n",
      "    COUNT(*) AS \"count_order\"\n",
      "  FROM (\n",
      "    SELECT\n",
      "      *\n",
      "    FROM \"tpch\".\"lineitem\" AS \"t0\"\n",
      "    WHERE\n",
      "      \"t0\".\"l_shipdate\" <= MAKE_DATE(1998, 9, 2)\n",
      "  ) AS \"t1\"\n",
      "  GROUP BY\n",
      "    1,\n",
      "    2\n",
      ") AS \"t2\"\n",
      "ORDER BY\n",
      "  \"t2\".\"l_returnflag\" ASC,\n",
      "  \"t2\".\"l_linestatus\" ASC\n"
     ]
    }
   ],
   "source": [
    "\n",
    "lineitem = con.table(\"lineitem\", database=f\"tpch\")\n",
    "\n",
    "t = lineitem\n",
    "q = t.filter(t.l_shipdate <= add_date(\"1998-12-01\", dd=-90))\n",
    "discount_price = t.l_extendedprice * (1 - t.l_discount)\n",
    "charge = discount_price * (1 + t.l_tax)\n",
    "q = q.group_by([\"l_returnflag\", \"l_linestatus\"])\n",
    "q = q.aggregate(\n",
    "    sum_qty=t.l_quantity.sum(),\n",
    "    sum_base_price=t.l_extendedprice.sum(),\n",
    "    sum_disc_price=discount_price.sum(),\n",
    "    sum_charge=charge.sum(),\n",
    "    avg_qty=t.l_quantity.mean(),\n",
    "    avg_price=t.l_extendedprice.mean(),\n",
    "    avg_disc=t.l_discount.mean(),\n",
    "    count_order=lambda t: t.count(),\n",
    ")\n",
    "q = q.order_by([\"l_returnflag\", \"l_linestatus\"])\n",
    "print(q)\n",
    "print(ibis.to_sql(q))"
   ]
  },
  {
   "cell_type": "markdown",
   "metadata": {},
   "source": []
  },
  {
   "cell_type": "code",
   "execution_count": 14,
   "metadata": {},
   "outputs": [
    {
     "data": {
      "text/html": [
       "<div>\n",
       "<style scoped>\n",
       "    .dataframe tbody tr th:only-of-type {\n",
       "        vertical-align: middle;\n",
       "    }\n",
       "\n",
       "    .dataframe tbody tr th {\n",
       "        vertical-align: top;\n",
       "    }\n",
       "\n",
       "    .dataframe thead th {\n",
       "        text-align: right;\n",
       "    }\n",
       "</style>\n",
       "<table border=\"1\" class=\"dataframe\">\n",
       "  <thead>\n",
       "    <tr style=\"text-align: right;\">\n",
       "      <th></th>\n",
       "      <th>l_returnflag</th>\n",
       "      <th>l_linestatus</th>\n",
       "      <th>sum_qty</th>\n",
       "      <th>sum_base_price</th>\n",
       "      <th>sum_disc_price</th>\n",
       "      <th>sum_charge</th>\n",
       "      <th>avg_qty</th>\n",
       "      <th>avg_price</th>\n",
       "      <th>avg_disc</th>\n",
       "      <th>count_order</th>\n",
       "    </tr>\n",
       "  </thead>\n",
       "  <tbody>\n",
       "    <tr>\n",
       "      <th>0</th>\n",
       "      <td>A</td>\n",
       "      <td>F</td>\n",
       "      <td>37734107.00</td>\n",
       "      <td>56586554400.73</td>\n",
       "      <td>53758257134.87</td>\n",
       "      <td>55909065222.83</td>\n",
       "      <td>25.52</td>\n",
       "      <td>38273.13</td>\n",
       "      <td>0.05</td>\n",
       "      <td>1478493</td>\n",
       "    </tr>\n",
       "    <tr>\n",
       "      <th>1</th>\n",
       "      <td>N</td>\n",
       "      <td>F</td>\n",
       "      <td>991417.00</td>\n",
       "      <td>1487504710.38</td>\n",
       "      <td>1413082168.05</td>\n",
       "      <td>1469649223.19</td>\n",
       "      <td>25.52</td>\n",
       "      <td>38284.47</td>\n",
       "      <td>0.05</td>\n",
       "      <td>38854</td>\n",
       "    </tr>\n",
       "    <tr>\n",
       "      <th>2</th>\n",
       "      <td>N</td>\n",
       "      <td>O</td>\n",
       "      <td>74476040.00</td>\n",
       "      <td>111701729697.74</td>\n",
       "      <td>106118230307.61</td>\n",
       "      <td>110367043872.50</td>\n",
       "      <td>25.50</td>\n",
       "      <td>38249.12</td>\n",
       "      <td>0.05</td>\n",
       "      <td>2920374</td>\n",
       "    </tr>\n",
       "    <tr>\n",
       "      <th>3</th>\n",
       "      <td>R</td>\n",
       "      <td>F</td>\n",
       "      <td>37719753.00</td>\n",
       "      <td>56568041380.90</td>\n",
       "      <td>53741292684.60</td>\n",
       "      <td>55889619119.83</td>\n",
       "      <td>25.51</td>\n",
       "      <td>38250.85</td>\n",
       "      <td>0.05</td>\n",
       "      <td>1478870</td>\n",
       "    </tr>\n",
       "  </tbody>\n",
       "</table>\n",
       "</div>"
      ],
      "text/plain": [
       "  l_returnflag l_linestatus      sum_qty   sum_base_price   sum_disc_price  \\\n",
       "0            A            F  37734107.00   56586554400.73   53758257134.87   \n",
       "1            N            F    991417.00    1487504710.38    1413082168.05   \n",
       "2            N            O  74476040.00  111701729697.74  106118230307.61   \n",
       "3            R            F  37719753.00   56568041380.90   53741292684.60   \n",
       "\n",
       "        sum_charge avg_qty avg_price avg_disc  count_order  \n",
       "0   55909065222.83   25.52  38273.13     0.05      1478493  \n",
       "1    1469649223.19   25.52  38284.47     0.05        38854  \n",
       "2  110367043872.50   25.50  38249.12     0.05      2920374  \n",
       "3   55889619119.83   25.51  38250.85     0.05      1478870  "
      ]
     },
     "execution_count": 14,
     "metadata": {},
     "output_type": "execute_result"
    }
   ],
   "source": [
    "q.to_pandas().head()\n"
   ]
  },
  {
   "cell_type": "markdown",
   "metadata": {},
   "source": [
    "## Using the `Table.sql` method"
   ]
  },
  {
   "cell_type": "code",
   "execution_count": 15,
   "metadata": {},
   "outputs": [],
   "source": [
    "sql = \"\"\"\n",
    "SELECT\n",
    "    l_returnflag,\n",
    "    l_linestatus,\n",
    "    SUM(l_quantity) AS sum_qty,\n",
    "    SUM(l_extendedprice) AS sum_base_price,\n",
    "    SUM(l_extendedprice * (1 - l_discount)) AS sum_disc_price,\n",
    "    SUM(l_extendedprice * (1 - l_discount) * (1 + l_tax)) AS sum_charge,\n",
    "    AVG(l_quantity) AS avg_qty,\n",
    "    AVG(l_extendedprice) AS avg_price,\n",
    "    AVG(l_discount) AS avg_disc,\n",
    "    COUNT(*) AS count_order\n",
    "FROM\n",
    "    lineitem\n",
    "WHERE\n",
    "    l_shipdate <= DATE '1998-12-01' - INTERVAL '90' DAY\n",
    "GROUP BY\n",
    "    l_returnflag,\n",
    "    l_linestatus\n",
    "ORDER BY\n",
    "    l_returnflag,\n",
    "    l_linestatus;\n",
    "\"\"\""
   ]
  },
  {
   "cell_type": "code",
   "execution_count": 16,
   "metadata": {},
   "outputs": [
    {
     "data": {
      "text/html": [
       "<div>\n",
       "<style scoped>\n",
       "    .dataframe tbody tr th:only-of-type {\n",
       "        vertical-align: middle;\n",
       "    }\n",
       "\n",
       "    .dataframe tbody tr th {\n",
       "        vertical-align: top;\n",
       "    }\n",
       "\n",
       "    .dataframe thead th {\n",
       "        text-align: right;\n",
       "    }\n",
       "</style>\n",
       "<table border=\"1\" class=\"dataframe\">\n",
       "  <thead>\n",
       "    <tr style=\"text-align: right;\">\n",
       "      <th></th>\n",
       "      <th>l_returnflag</th>\n",
       "      <th>l_linestatus</th>\n",
       "      <th>sum_qty</th>\n",
       "      <th>sum_base_price</th>\n",
       "      <th>sum_disc_price</th>\n",
       "      <th>sum_charge</th>\n",
       "      <th>avg_qty</th>\n",
       "      <th>avg_price</th>\n",
       "      <th>avg_disc</th>\n",
       "      <th>count_order</th>\n",
       "    </tr>\n",
       "  </thead>\n",
       "  <tbody>\n",
       "    <tr>\n",
       "      <th>0</th>\n",
       "      <td>A</td>\n",
       "      <td>F</td>\n",
       "      <td>37734107.00</td>\n",
       "      <td>56586554400.73</td>\n",
       "      <td>53758257134.8700</td>\n",
       "      <td>55909065222.827692</td>\n",
       "      <td>25.522006</td>\n",
       "      <td>38273.129735</td>\n",
       "      <td>0.049985</td>\n",
       "      <td>1478493</td>\n",
       "    </tr>\n",
       "    <tr>\n",
       "      <th>1</th>\n",
       "      <td>N</td>\n",
       "      <td>F</td>\n",
       "      <td>991417.00</td>\n",
       "      <td>1487504710.38</td>\n",
       "      <td>1413082168.0541</td>\n",
       "      <td>1469649223.194375</td>\n",
       "      <td>25.516472</td>\n",
       "      <td>38284.467761</td>\n",
       "      <td>0.050093</td>\n",
       "      <td>38854</td>\n",
       "    </tr>\n",
       "    <tr>\n",
       "      <th>2</th>\n",
       "      <td>N</td>\n",
       "      <td>O</td>\n",
       "      <td>74476040.00</td>\n",
       "      <td>111701729697.74</td>\n",
       "      <td>106118230307.6056</td>\n",
       "      <td>110367043872.497010</td>\n",
       "      <td>25.502227</td>\n",
       "      <td>38249.117989</td>\n",
       "      <td>0.049997</td>\n",
       "      <td>2920374</td>\n",
       "    </tr>\n",
       "    <tr>\n",
       "      <th>3</th>\n",
       "      <td>R</td>\n",
       "      <td>F</td>\n",
       "      <td>37719753.00</td>\n",
       "      <td>56568041380.90</td>\n",
       "      <td>53741292684.6040</td>\n",
       "      <td>55889619119.831932</td>\n",
       "      <td>25.505794</td>\n",
       "      <td>38250.854626</td>\n",
       "      <td>0.050009</td>\n",
       "      <td>1478870</td>\n",
       "    </tr>\n",
       "  </tbody>\n",
       "</table>\n",
       "</div>"
      ],
      "text/plain": [
       "  l_returnflag l_linestatus      sum_qty   sum_base_price     sum_disc_price  \\\n",
       "0            A            F  37734107.00   56586554400.73   53758257134.8700   \n",
       "1            N            F    991417.00    1487504710.38    1413082168.0541   \n",
       "2            N            O  74476040.00  111701729697.74  106118230307.6056   \n",
       "3            R            F  37719753.00   56568041380.90   53741292684.6040   \n",
       "\n",
       "            sum_charge    avg_qty     avg_price  avg_disc  count_order  \n",
       "0   55909065222.827692  25.522006  38273.129735  0.049985      1478493  \n",
       "1    1469649223.194375  25.516472  38284.467761  0.050093        38854  \n",
       "2  110367043872.497010  25.502227  38249.117989  0.049997      2920374  \n",
       "3   55889619119.831932  25.505794  38250.854626  0.050009      1478870  "
      ]
     },
     "execution_count": 16,
     "metadata": {},
     "output_type": "execute_result"
    }
   ],
   "source": [
    "t.sql(sql).to_pandas().head()"
   ]
  },
  {
   "cell_type": "markdown",
   "metadata": {},
   "source": [
    "# Now do this with Spark"
   ]
  },
  {
   "cell_type": "code",
   "execution_count": 3,
   "metadata": {},
   "outputs": [
    {
     "name": "stdout",
     "output_type": "stream",
     "text": [
      "env: JAVA_HOME\"/Library/Internet=Plug-Ins/JavaAppletPlugin.plugin/Contents/Home\"\n"
     ]
    }
   ],
   "source": [
    "%env JAVA_HOME\"/Library/Internet Plug-Ins/JavaAppletPlugin.plugin/Contents/Home\""
   ]
  },
  {
   "cell_type": "code",
   "execution_count": null,
   "metadata": {},
   "outputs": [],
   "source": []
  },
  {
   "cell_type": "code",
   "execution_count": 4,
   "metadata": {},
   "outputs": [
    {
     "name": "stderr",
     "output_type": "stream",
     "text": [
      "24/11/04 13:44:51 WARN SparkContext: Another SparkContext is being constructed (or threw an exception in its constructor). This may indicate an error, since only one SparkContext should be running in this JVM (see SPARK-2243). The other SparkContext was created at:\n",
      "org.apache.spark.api.java.JavaSparkContext.<init>(JavaSparkContext.scala:58)\n",
      "java.base/jdk.internal.reflect.DirectConstructorHandleAccessor.newInstance(DirectConstructorHandleAccessor.java:62)\n",
      "java.base/java.lang.reflect.Constructor.newInstanceWithCaller(Constructor.java:501)\n",
      "java.base/java.lang.reflect.Constructor.newInstance(Constructor.java:485)\n",
      "py4j.reflection.MethodInvoker.invoke(MethodInvoker.java:247)\n",
      "py4j.reflection.ReflectionEngine.invoke(ReflectionEngine.java:374)\n",
      "py4j.Gateway.invoke(Gateway.java:238)\n",
      "py4j.commands.ConstructorCommand.invokeConstructor(ConstructorCommand.java:80)\n",
      "py4j.commands.ConstructorCommand.execute(ConstructorCommand.java:69)\n",
      "py4j.ClientServerConnection.waitForCommands(ClientServerConnection.java:182)\n",
      "py4j.ClientServerConnection.run(ClientServerConnection.java:106)\n",
      "java.base/java.lang.Thread.run(Thread.java:1575)\n"
     ]
    },
    {
     "ename": "Py4JJavaError",
     "evalue": "An error occurred while calling None.org.apache.spark.api.java.JavaSparkContext.\n: java.lang.UnsupportedOperationException: getSubject is supported only if a security manager is allowed\n\tat java.base/javax.security.auth.Subject.getSubject(Subject.java:347)\n\tat org.apache.hadoop.security.UserGroupInformation.getCurrentUser(UserGroupInformation.java:577)\n\tat org.apache.spark.util.Utils$.$anonfun$getCurrentUserName$1(Utils.scala:2416)\n\tat scala.Option.getOrElse(Option.scala:189)\n\tat org.apache.spark.util.Utils$.getCurrentUserName(Utils.scala:2416)\n\tat org.apache.spark.SparkContext.<init>(SparkContext.scala:329)\n\tat org.apache.spark.api.java.JavaSparkContext.<init>(JavaSparkContext.scala:58)\n\tat java.base/jdk.internal.reflect.DirectConstructorHandleAccessor.newInstance(DirectConstructorHandleAccessor.java:62)\n\tat java.base/java.lang.reflect.Constructor.newInstanceWithCaller(Constructor.java:501)\n\tat java.base/java.lang.reflect.Constructor.newInstance(Constructor.java:485)\n\tat py4j.reflection.MethodInvoker.invoke(MethodInvoker.java:247)\n\tat py4j.reflection.ReflectionEngine.invoke(ReflectionEngine.java:374)\n\tat py4j.Gateway.invoke(Gateway.java:238)\n\tat py4j.commands.ConstructorCommand.invokeConstructor(ConstructorCommand.java:80)\n\tat py4j.commands.ConstructorCommand.execute(ConstructorCommand.java:69)\n\tat py4j.ClientServerConnection.waitForCommands(ClientServerConnection.java:182)\n\tat py4j.ClientServerConnection.run(ClientServerConnection.java:106)\n\tat java.base/java.lang.Thread.run(Thread.java:1575)\n",
     "output_type": "error",
     "traceback": [
      "\u001b[0;31m---------------------------------------------------------------------------\u001b[0m",
      "\u001b[0;31mPy4JJavaError\u001b[0m                             Traceback (most recent call last)",
      "Cell \u001b[0;32mIn[4], line 4\u001b[0m\n\u001b[1;32m      1\u001b[0m \u001b[38;5;28;01mfrom\u001b[39;00m \u001b[38;5;21;01mpyspark\u001b[39;00m\u001b[38;5;21;01m.\u001b[39;00m\u001b[38;5;21;01msql\u001b[39;00m \u001b[38;5;28;01mimport\u001b[39;00m SparkSession\n\u001b[0;32m----> 4\u001b[0m spark \u001b[38;5;241m=\u001b[39m \u001b[43mSparkSession\u001b[49m\u001b[38;5;241;43m.\u001b[39;49m\u001b[43mbuilder\u001b[49m\u001b[38;5;241;43m.\u001b[39;49m\u001b[43mappName\u001b[49m\u001b[43m(\u001b[49m\u001b[38;5;124;43m'\u001b[39;49m\u001b[38;5;124;43mTPCH Benchmark for Python\u001b[39;49m\u001b[38;5;124;43m'\u001b[39;49m\u001b[43m)\u001b[49m\u001b[38;5;241;43m.\u001b[39;49m\u001b[43mgetOrCreate\u001b[49m\u001b[43m(\u001b[49m\u001b[43m)\u001b[49m\n\u001b[1;32m      7\u001b[0m decrease \u001b[38;5;241m=\u001b[39m udf(\u001b[38;5;28;01mlambda\u001b[39;00m x, y: x \u001b[38;5;241m*\u001b[39m (\u001b[38;5;241m1\u001b[39m \u001b[38;5;241m-\u001b[39m y), FloatType())\n\u001b[1;32m      8\u001b[0m increase \u001b[38;5;241m=\u001b[39m udf(\u001b[38;5;28;01mlambda\u001b[39;00m x, y: x \u001b[38;5;241m*\u001b[39m (\u001b[38;5;241m1\u001b[39m \u001b[38;5;241m+\u001b[39m y), FloatType())\n",
      "File \u001b[0;32m~/conference/pycon2024/.venv/lib/python3.11/site-packages/pyspark/sql/session.py:497\u001b[0m, in \u001b[0;36mSparkSession.Builder.getOrCreate\u001b[0;34m(self)\u001b[0m\n\u001b[1;32m    495\u001b[0m     sparkConf\u001b[38;5;241m.\u001b[39mset(key, value)\n\u001b[1;32m    496\u001b[0m \u001b[38;5;66;03m# This SparkContext may be an existing one.\u001b[39;00m\n\u001b[0;32m--> 497\u001b[0m sc \u001b[38;5;241m=\u001b[39m \u001b[43mSparkContext\u001b[49m\u001b[38;5;241;43m.\u001b[39;49m\u001b[43mgetOrCreate\u001b[49m\u001b[43m(\u001b[49m\u001b[43msparkConf\u001b[49m\u001b[43m)\u001b[49m\n\u001b[1;32m    498\u001b[0m \u001b[38;5;66;03m# Do not update `SparkConf` for existing `SparkContext`, as it's shared\u001b[39;00m\n\u001b[1;32m    499\u001b[0m \u001b[38;5;66;03m# by all sessions.\u001b[39;00m\n\u001b[1;32m    500\u001b[0m session \u001b[38;5;241m=\u001b[39m SparkSession(sc, options\u001b[38;5;241m=\u001b[39m\u001b[38;5;28mself\u001b[39m\u001b[38;5;241m.\u001b[39m_options)\n",
      "File \u001b[0;32m~/conference/pycon2024/.venv/lib/python3.11/site-packages/pyspark/context.py:515\u001b[0m, in \u001b[0;36mSparkContext.getOrCreate\u001b[0;34m(cls, conf)\u001b[0m\n\u001b[1;32m    513\u001b[0m \u001b[38;5;28;01mwith\u001b[39;00m SparkContext\u001b[38;5;241m.\u001b[39m_lock:\n\u001b[1;32m    514\u001b[0m     \u001b[38;5;28;01mif\u001b[39;00m SparkContext\u001b[38;5;241m.\u001b[39m_active_spark_context \u001b[38;5;129;01mis\u001b[39;00m \u001b[38;5;28;01mNone\u001b[39;00m:\n\u001b[0;32m--> 515\u001b[0m         \u001b[43mSparkContext\u001b[49m\u001b[43m(\u001b[49m\u001b[43mconf\u001b[49m\u001b[38;5;241;43m=\u001b[39;49m\u001b[43mconf\u001b[49m\u001b[43m \u001b[49m\u001b[38;5;129;43;01mor\u001b[39;49;00m\u001b[43m \u001b[49m\u001b[43mSparkConf\u001b[49m\u001b[43m(\u001b[49m\u001b[43m)\u001b[49m\u001b[43m)\u001b[49m\n\u001b[1;32m    516\u001b[0m     \u001b[38;5;28;01massert\u001b[39;00m SparkContext\u001b[38;5;241m.\u001b[39m_active_spark_context \u001b[38;5;129;01mis\u001b[39;00m \u001b[38;5;129;01mnot\u001b[39;00m \u001b[38;5;28;01mNone\u001b[39;00m\n\u001b[1;32m    517\u001b[0m     \u001b[38;5;28;01mreturn\u001b[39;00m SparkContext\u001b[38;5;241m.\u001b[39m_active_spark_context\n",
      "File \u001b[0;32m~/conference/pycon2024/.venv/lib/python3.11/site-packages/pyspark/context.py:203\u001b[0m, in \u001b[0;36mSparkContext.__init__\u001b[0;34m(self, master, appName, sparkHome, pyFiles, environment, batchSize, serializer, conf, gateway, jsc, profiler_cls, udf_profiler_cls, memory_profiler_cls)\u001b[0m\n\u001b[1;32m    201\u001b[0m SparkContext\u001b[38;5;241m.\u001b[39m_ensure_initialized(\u001b[38;5;28mself\u001b[39m, gateway\u001b[38;5;241m=\u001b[39mgateway, conf\u001b[38;5;241m=\u001b[39mconf)\n\u001b[1;32m    202\u001b[0m \u001b[38;5;28;01mtry\u001b[39;00m:\n\u001b[0;32m--> 203\u001b[0m     \u001b[38;5;28;43mself\u001b[39;49m\u001b[38;5;241;43m.\u001b[39;49m\u001b[43m_do_init\u001b[49m\u001b[43m(\u001b[49m\n\u001b[1;32m    204\u001b[0m \u001b[43m        \u001b[49m\u001b[43mmaster\u001b[49m\u001b[43m,\u001b[49m\n\u001b[1;32m    205\u001b[0m \u001b[43m        \u001b[49m\u001b[43mappName\u001b[49m\u001b[43m,\u001b[49m\n\u001b[1;32m    206\u001b[0m \u001b[43m        \u001b[49m\u001b[43msparkHome\u001b[49m\u001b[43m,\u001b[49m\n\u001b[1;32m    207\u001b[0m \u001b[43m        \u001b[49m\u001b[43mpyFiles\u001b[49m\u001b[43m,\u001b[49m\n\u001b[1;32m    208\u001b[0m \u001b[43m        \u001b[49m\u001b[43menvironment\u001b[49m\u001b[43m,\u001b[49m\n\u001b[1;32m    209\u001b[0m \u001b[43m        \u001b[49m\u001b[43mbatchSize\u001b[49m\u001b[43m,\u001b[49m\n\u001b[1;32m    210\u001b[0m \u001b[43m        \u001b[49m\u001b[43mserializer\u001b[49m\u001b[43m,\u001b[49m\n\u001b[1;32m    211\u001b[0m \u001b[43m        \u001b[49m\u001b[43mconf\u001b[49m\u001b[43m,\u001b[49m\n\u001b[1;32m    212\u001b[0m \u001b[43m        \u001b[49m\u001b[43mjsc\u001b[49m\u001b[43m,\u001b[49m\n\u001b[1;32m    213\u001b[0m \u001b[43m        \u001b[49m\u001b[43mprofiler_cls\u001b[49m\u001b[43m,\u001b[49m\n\u001b[1;32m    214\u001b[0m \u001b[43m        \u001b[49m\u001b[43mudf_profiler_cls\u001b[49m\u001b[43m,\u001b[49m\n\u001b[1;32m    215\u001b[0m \u001b[43m        \u001b[49m\u001b[43mmemory_profiler_cls\u001b[49m\u001b[43m,\u001b[49m\n\u001b[1;32m    216\u001b[0m \u001b[43m    \u001b[49m\u001b[43m)\u001b[49m\n\u001b[1;32m    217\u001b[0m \u001b[38;5;28;01mexcept\u001b[39;00m \u001b[38;5;167;01mBaseException\u001b[39;00m:\n\u001b[1;32m    218\u001b[0m     \u001b[38;5;66;03m# If an error occurs, clean up in order to allow future SparkContext creation:\u001b[39;00m\n\u001b[1;32m    219\u001b[0m     \u001b[38;5;28mself\u001b[39m\u001b[38;5;241m.\u001b[39mstop()\n",
      "File \u001b[0;32m~/conference/pycon2024/.venv/lib/python3.11/site-packages/pyspark/context.py:296\u001b[0m, in \u001b[0;36mSparkContext._do_init\u001b[0;34m(self, master, appName, sparkHome, pyFiles, environment, batchSize, serializer, conf, jsc, profiler_cls, udf_profiler_cls, memory_profiler_cls)\u001b[0m\n\u001b[1;32m    293\u001b[0m \u001b[38;5;28mself\u001b[39m\u001b[38;5;241m.\u001b[39menvironment[\u001b[38;5;124m\"\u001b[39m\u001b[38;5;124mPYTHONHASHSEED\u001b[39m\u001b[38;5;124m\"\u001b[39m] \u001b[38;5;241m=\u001b[39m os\u001b[38;5;241m.\u001b[39menviron\u001b[38;5;241m.\u001b[39mget(\u001b[38;5;124m\"\u001b[39m\u001b[38;5;124mPYTHONHASHSEED\u001b[39m\u001b[38;5;124m\"\u001b[39m, \u001b[38;5;124m\"\u001b[39m\u001b[38;5;124m0\u001b[39m\u001b[38;5;124m\"\u001b[39m)\n\u001b[1;32m    295\u001b[0m \u001b[38;5;66;03m# Create the Java SparkContext through Py4J\u001b[39;00m\n\u001b[0;32m--> 296\u001b[0m \u001b[38;5;28mself\u001b[39m\u001b[38;5;241m.\u001b[39m_jsc \u001b[38;5;241m=\u001b[39m jsc \u001b[38;5;129;01mor\u001b[39;00m \u001b[38;5;28;43mself\u001b[39;49m\u001b[38;5;241;43m.\u001b[39;49m\u001b[43m_initialize_context\u001b[49m\u001b[43m(\u001b[49m\u001b[38;5;28;43mself\u001b[39;49m\u001b[38;5;241;43m.\u001b[39;49m\u001b[43m_conf\u001b[49m\u001b[38;5;241;43m.\u001b[39;49m\u001b[43m_jconf\u001b[49m\u001b[43m)\u001b[49m\n\u001b[1;32m    297\u001b[0m \u001b[38;5;66;03m# Reset the SparkConf to the one actually used by the SparkContext in JVM.\u001b[39;00m\n\u001b[1;32m    298\u001b[0m \u001b[38;5;28mself\u001b[39m\u001b[38;5;241m.\u001b[39m_conf \u001b[38;5;241m=\u001b[39m SparkConf(_jconf\u001b[38;5;241m=\u001b[39m\u001b[38;5;28mself\u001b[39m\u001b[38;5;241m.\u001b[39m_jsc\u001b[38;5;241m.\u001b[39msc()\u001b[38;5;241m.\u001b[39mconf())\n",
      "File \u001b[0;32m~/conference/pycon2024/.venv/lib/python3.11/site-packages/pyspark/context.py:421\u001b[0m, in \u001b[0;36mSparkContext._initialize_context\u001b[0;34m(self, jconf)\u001b[0m\n\u001b[1;32m    417\u001b[0m \u001b[38;5;250m\u001b[39m\u001b[38;5;124;03m\"\"\"\u001b[39;00m\n\u001b[1;32m    418\u001b[0m \u001b[38;5;124;03mInitialize SparkContext in function to allow subclass specific initialization\u001b[39;00m\n\u001b[1;32m    419\u001b[0m \u001b[38;5;124;03m\"\"\"\u001b[39;00m\n\u001b[1;32m    420\u001b[0m \u001b[38;5;28;01massert\u001b[39;00m \u001b[38;5;28mself\u001b[39m\u001b[38;5;241m.\u001b[39m_jvm \u001b[38;5;129;01mis\u001b[39;00m \u001b[38;5;129;01mnot\u001b[39;00m \u001b[38;5;28;01mNone\u001b[39;00m\n\u001b[0;32m--> 421\u001b[0m \u001b[38;5;28;01mreturn\u001b[39;00m \u001b[38;5;28;43mself\u001b[39;49m\u001b[38;5;241;43m.\u001b[39;49m\u001b[43m_jvm\u001b[49m\u001b[38;5;241;43m.\u001b[39;49m\u001b[43mJavaSparkContext\u001b[49m\u001b[43m(\u001b[49m\u001b[43mjconf\u001b[49m\u001b[43m)\u001b[49m\n",
      "File \u001b[0;32m~/conference/pycon2024/.venv/lib/python3.11/site-packages/py4j/java_gateway.py:1587\u001b[0m, in \u001b[0;36mJavaClass.__call__\u001b[0;34m(self, *args)\u001b[0m\n\u001b[1;32m   1581\u001b[0m command \u001b[38;5;241m=\u001b[39m proto\u001b[38;5;241m.\u001b[39mCONSTRUCTOR_COMMAND_NAME \u001b[38;5;241m+\u001b[39m\\\n\u001b[1;32m   1582\u001b[0m     \u001b[38;5;28mself\u001b[39m\u001b[38;5;241m.\u001b[39m_command_header \u001b[38;5;241m+\u001b[39m\\\n\u001b[1;32m   1583\u001b[0m     args_command \u001b[38;5;241m+\u001b[39m\\\n\u001b[1;32m   1584\u001b[0m     proto\u001b[38;5;241m.\u001b[39mEND_COMMAND_PART\n\u001b[1;32m   1586\u001b[0m answer \u001b[38;5;241m=\u001b[39m \u001b[38;5;28mself\u001b[39m\u001b[38;5;241m.\u001b[39m_gateway_client\u001b[38;5;241m.\u001b[39msend_command(command)\n\u001b[0;32m-> 1587\u001b[0m return_value \u001b[38;5;241m=\u001b[39m \u001b[43mget_return_value\u001b[49m\u001b[43m(\u001b[49m\n\u001b[1;32m   1588\u001b[0m \u001b[43m    \u001b[49m\u001b[43manswer\u001b[49m\u001b[43m,\u001b[49m\u001b[43m \u001b[49m\u001b[38;5;28;43mself\u001b[39;49m\u001b[38;5;241;43m.\u001b[39;49m\u001b[43m_gateway_client\u001b[49m\u001b[43m,\u001b[49m\u001b[43m \u001b[49m\u001b[38;5;28;43;01mNone\u001b[39;49;00m\u001b[43m,\u001b[49m\u001b[43m \u001b[49m\u001b[38;5;28;43mself\u001b[39;49m\u001b[38;5;241;43m.\u001b[39;49m\u001b[43m_fqn\u001b[49m\u001b[43m)\u001b[49m\n\u001b[1;32m   1590\u001b[0m \u001b[38;5;28;01mfor\u001b[39;00m temp_arg \u001b[38;5;129;01min\u001b[39;00m temp_args:\n\u001b[1;32m   1591\u001b[0m     \u001b[38;5;28;01mif\u001b[39;00m \u001b[38;5;28mhasattr\u001b[39m(temp_arg, \u001b[38;5;124m\"\u001b[39m\u001b[38;5;124m_detach\u001b[39m\u001b[38;5;124m\"\u001b[39m):\n",
      "File \u001b[0;32m~/conference/pycon2024/.venv/lib/python3.11/site-packages/py4j/protocol.py:326\u001b[0m, in \u001b[0;36mget_return_value\u001b[0;34m(answer, gateway_client, target_id, name)\u001b[0m\n\u001b[1;32m    324\u001b[0m value \u001b[38;5;241m=\u001b[39m OUTPUT_CONVERTER[\u001b[38;5;28mtype\u001b[39m](answer[\u001b[38;5;241m2\u001b[39m:], gateway_client)\n\u001b[1;32m    325\u001b[0m \u001b[38;5;28;01mif\u001b[39;00m answer[\u001b[38;5;241m1\u001b[39m] \u001b[38;5;241m==\u001b[39m REFERENCE_TYPE:\n\u001b[0;32m--> 326\u001b[0m     \u001b[38;5;28;01mraise\u001b[39;00m Py4JJavaError(\n\u001b[1;32m    327\u001b[0m         \u001b[38;5;124m\"\u001b[39m\u001b[38;5;124mAn error occurred while calling \u001b[39m\u001b[38;5;132;01m{0}\u001b[39;00m\u001b[38;5;132;01m{1}\u001b[39;00m\u001b[38;5;132;01m{2}\u001b[39;00m\u001b[38;5;124m.\u001b[39m\u001b[38;5;130;01m\\n\u001b[39;00m\u001b[38;5;124m\"\u001b[39m\u001b[38;5;241m.\u001b[39m\n\u001b[1;32m    328\u001b[0m         \u001b[38;5;28mformat\u001b[39m(target_id, \u001b[38;5;124m\"\u001b[39m\u001b[38;5;124m.\u001b[39m\u001b[38;5;124m\"\u001b[39m, name), value)\n\u001b[1;32m    329\u001b[0m \u001b[38;5;28;01melse\u001b[39;00m:\n\u001b[1;32m    330\u001b[0m     \u001b[38;5;28;01mraise\u001b[39;00m Py4JError(\n\u001b[1;32m    331\u001b[0m         \u001b[38;5;124m\"\u001b[39m\u001b[38;5;124mAn error occurred while calling \u001b[39m\u001b[38;5;132;01m{0}\u001b[39;00m\u001b[38;5;132;01m{1}\u001b[39;00m\u001b[38;5;132;01m{2}\u001b[39;00m\u001b[38;5;124m. Trace:\u001b[39m\u001b[38;5;130;01m\\n\u001b[39;00m\u001b[38;5;132;01m{3}\u001b[39;00m\u001b[38;5;130;01m\\n\u001b[39;00m\u001b[38;5;124m\"\u001b[39m\u001b[38;5;241m.\u001b[39m\n\u001b[1;32m    332\u001b[0m         \u001b[38;5;28mformat\u001b[39m(target_id, \u001b[38;5;124m\"\u001b[39m\u001b[38;5;124m.\u001b[39m\u001b[38;5;124m\"\u001b[39m, name, value))\n",
      "\u001b[0;31mPy4JJavaError\u001b[0m: An error occurred while calling None.org.apache.spark.api.java.JavaSparkContext.\n: java.lang.UnsupportedOperationException: getSubject is supported only if a security manager is allowed\n\tat java.base/javax.security.auth.Subject.getSubject(Subject.java:347)\n\tat org.apache.hadoop.security.UserGroupInformation.getCurrentUser(UserGroupInformation.java:577)\n\tat org.apache.spark.util.Utils$.$anonfun$getCurrentUserName$1(Utils.scala:2416)\n\tat scala.Option.getOrElse(Option.scala:189)\n\tat org.apache.spark.util.Utils$.getCurrentUserName(Utils.scala:2416)\n\tat org.apache.spark.SparkContext.<init>(SparkContext.scala:329)\n\tat org.apache.spark.api.java.JavaSparkContext.<init>(JavaSparkContext.scala:58)\n\tat java.base/jdk.internal.reflect.DirectConstructorHandleAccessor.newInstance(DirectConstructorHandleAccessor.java:62)\n\tat java.base/java.lang.reflect.Constructor.newInstanceWithCaller(Constructor.java:501)\n\tat java.base/java.lang.reflect.Constructor.newInstance(Constructor.java:485)\n\tat py4j.reflection.MethodInvoker.invoke(MethodInvoker.java:247)\n\tat py4j.reflection.ReflectionEngine.invoke(ReflectionEngine.java:374)\n\tat py4j.Gateway.invoke(Gateway.java:238)\n\tat py4j.commands.ConstructorCommand.invokeConstructor(ConstructorCommand.java:80)\n\tat py4j.commands.ConstructorCommand.execute(ConstructorCommand.java:69)\n\tat py4j.ClientServerConnection.waitForCommands(ClientServerConnection.java:182)\n\tat py4j.ClientServerConnection.run(ClientServerConnection.java:106)\n\tat java.base/java.lang.Thread.run(Thread.java:1575)\n"
     ]
    }
   ],
   "source": [
    "from pyspark.sql import SparkSession\n",
    "\n",
    "\n",
    "spark = SparkSession.builder.appName('TPCH Benchmark for Python').getOrCreate()\n",
    "\n",
    "\n",
    "decrease = udf(lambda x, y: x * (1 - y), FloatType())\n",
    "increase = udf(lambda x, y: x * (1 + y), FloatType())\n",
    "\n",
    "\n",
    "lineitem = spark.read.parquet(\"data/lineitem.parquet\")\n"
   ]
  },
  {
   "cell_type": "code",
   "execution_count": null,
   "metadata": {},
   "outputs": [],
   "source": []
  },
  {
   "cell_type": "code",
   "execution_count": null,
   "metadata": {},
   "outputs": [],
   "source": [
    "lineitem.filter(col(\"l_shipdate\") <= \"1998-09-02\") \\\n",
    ".groupBy(col(\"l_returnflag\"), col(\"l_linestatus\")) \\\n",
    ".agg(F.sum(col(\"l_quantity\")).alias(\"sum_qty\"),\n",
    "        F.sum(col(\"l_extendedprice\")).alias(\"sum_base_price\"),\n",
    "        F.sum(decrease(col(\"l_extendedprice\"), col(\"l_discount\"))).alias(\"sum_disc_price\"),\n",
    "        F.sum(increase(decrease(col(\"l_extendedprice\"), col(\"l_discount\")), col(\"l_tax\"))).alias(\"sum_charge\"),\n",
    "        F.avg(col(\"l_quantity\")).alias(\"avg_qty\"),\n",
    "        F.avg(col(\"l_extendedprice\")).alias(\"avg_price\"),\n",
    "        F.avg(col(\"l_discount\")).alias(\"avg_disc\"),\n",
    "        F.count(col(\"l_quantity\")).alias(\"count_order\")) \\\n",
    ".sort(col(\"l_returnflag\"), col(\"l_linestatus\")) \\\n",
    ".show()"
   ]
  },
  {
   "cell_type": "markdown",
   "metadata": {},
   "source": []
  },
  {
   "cell_type": "markdown",
   "metadata": {},
   "source": []
  }
 ],
 "metadata": {
  "kernelspec": {
   "display_name": ".venv",
   "language": "python",
   "name": "python3"
  },
  "language_info": {
   "codemirror_mode": {
    "name": "ipython",
    "version": 3
   },
   "file_extension": ".py",
   "mimetype": "text/x-python",
   "name": "python",
   "nbconvert_exporter": "python",
   "pygments_lexer": "ipython3",
   "version": "3.11.0"
  }
 },
 "nbformat": 4,
 "nbformat_minor": 2
}
