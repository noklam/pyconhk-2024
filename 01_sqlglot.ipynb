{
 "cells": [
  {
   "cell_type": "markdown",
   "metadata": {},
   "source": [
    "# sqlglot SQL translation"
   ]
  },
  {
   "cell_type": "code",
   "execution_count": null,
   "metadata": {},
   "outputs": [],
   "source": [
    "from sqlglot import parse_one, transpile, diff"
   ]
  },
  {
   "cell_type": "code",
   "execution_count": 58,
   "metadata": {},
   "outputs": [],
   "source": [
    "sql = \"SELECT CAST(a AS INTEGER), CAST(b as REAL(53)) from c where d>1 limit 5\""
   ]
  },
  {
   "cell_type": "code",
   "execution_count": 60,
   "metadata": {},
   "outputs": [
    {
     "data": {
      "text/plain": [
       "'SELECT CAST(a AS NUMBER), CAST(b AS FLOAT(53)) FROM c WHERE d > 1 FETCH FIRST 5 ROWS ONLY'"
      ]
     },
     "execution_count": 60,
     "metadata": {},
     "output_type": "execute_result"
    }
   ],
   "source": [
    "parse_one(sql,dialect=\"sqlite\").sql(\"oracle\")"
   ]
  },
  {
   "cell_type": "code",
   "execution_count": 61,
   "metadata": {},
   "outputs": [
    {
     "data": {
      "text/plain": [
       "['SELECT CAST(a AS NUMBER), CAST(b AS FLOAT(53)) FROM c WHERE d > 1 FETCH FIRST 5 ROWS ONLY']"
      ]
     },
     "execution_count": 61,
     "metadata": {},
     "output_type": "execute_result"
    }
   ],
   "source": [
    "transpile(sql, write=\"oracle\")"
   ]
  },
  {
   "cell_type": "code",
   "execution_count": 68,
   "metadata": {},
   "outputs": [
    {
     "data": {
      "text/plain": [
       "\"SELECT DATE_FORMAT(x, 'yy-M-ss')\""
      ]
     },
     "execution_count": 68,
     "metadata": {},
     "output_type": "execute_result"
    }
   ],
   "source": [
    "sqlglot.transpile(\"SELECT STRFTIME(x, '%y-%-m-%S')\", read=\"duckdb\", write=\"hive\")[0]"
   ]
  },
  {
   "cell_type": "markdown",
   "metadata": {},
   "source": [
    "# Bonus: AST Diff"
   ]
  },
  {
   "cell_type": "code",
   "execution_count": 63,
   "metadata": {},
   "outputs": [
    {
     "data": {
      "text/plain": [
       "Select(\n",
       "  expressions=[\n",
       "    Cast(\n",
       "      this=Column(\n",
       "        this=Identifier(this=a, quoted=False)),\n",
       "      to=DataType(this=Type.INT, nested=False)),\n",
       "    Cast(\n",
       "      this=Column(\n",
       "        this=Identifier(this=b, quoted=False)),\n",
       "      to=DataType(\n",
       "        this=Type.FLOAT,\n",
       "        expressions=[\n",
       "          DataTypeParam(\n",
       "            this=Literal(this=53, is_string=False))],\n",
       "        nested=False))],\n",
       "  limit=Limit(\n",
       "    expression=Literal(this=5, is_string=False)),\n",
       "  from=From(\n",
       "    this=Table(\n",
       "      this=Identifier(this=c, quoted=False))),\n",
       "  where=Where(\n",
       "    this=GT(\n",
       "      this=Column(\n",
       "        this=Identifier(this=d, quoted=False)),\n",
       "      expression=Literal(this=1, is_string=False))))"
      ]
     },
     "execution_count": 63,
     "metadata": {},
     "output_type": "execute_result"
    }
   ],
   "source": [
    "parse_one(sql)"
   ]
  },
  {
   "cell_type": "code",
   "execution_count": 67,
   "metadata": {},
   "outputs": [
    {
     "data": {
      "text/plain": [
       "[Remove(expression=Add(\n",
       "   this=Column(\n",
       "     this=Identifier(this=a, quoted=False)),\n",
       "   expression=Column(\n",
       "     this=Identifier(this=b, quoted=False)))),\n",
       " Insert(expression=Sub(\n",
       "   this=Column(\n",
       "     this=Identifier(this=a, quoted=False)),\n",
       "   expression=Column(\n",
       "     this=Identifier(this=b, quoted=False)))),\n",
       " Keep(source=Column(\n",
       "   this=Identifier(this=b, quoted=False)), target=Column(\n",
       "   this=Identifier(this=b, quoted=False))),\n",
       " Keep(source=Column(\n",
       "   this=Identifier(this=a, quoted=False)), target=Column(\n",
       "   this=Identifier(this=a, quoted=False))),\n",
       " Keep(source=Select(\n",
       "   expressions=[\n",
       "     Add(\n",
       "       this=Column(\n",
       "         this=Identifier(this=a, quoted=False)),\n",
       "       expression=Column(\n",
       "         this=Identifier(this=b, quoted=False)))]), target=Select(\n",
       "   expressions=[\n",
       "     Sub(\n",
       "       this=Column(\n",
       "         this=Identifier(this=a, quoted=False)),\n",
       "       expression=Column(\n",
       "         this=Identifier(this=b, quoted=False)))]))]"
      ]
     },
     "execution_count": 67,
     "metadata": {},
     "output_type": "execute_result"
    }
   ],
   "source": [
    "# https://github.com/tobymao/sqlglot/blob/main/posts/sql_diff.md\n",
    "diff(parse_one(\"SELECT a + b\"), parse_one(\"SELECT a - b\"))"
   ]
  },
  {
   "cell_type": "code",
   "execution_count": null,
   "metadata": {},
   "outputs": [],
   "source": []
  },
  {
   "cell_type": "code",
   "execution_count": 10,
   "metadata": {},
   "outputs": [],
   "source": [
    "duckdb_sql  = \"\"\"\n",
    "SELECT\n",
    "    l_returnflag,\n",
    "    l_linestatus,\n",
    "FROM\n",
    "    lineitem\n",
    "WHERE\n",
    "    l_shipdate <= DATE '1998-12-01' - INTERVAL '90' DAY\n",
    "ORDER BY\n",
    "    l_returnflag,\n",
    "    l_linestatus;\n",
    "\"\"\""
   ]
  },
  {
   "cell_type": "code",
   "execution_count": 11,
   "metadata": {},
   "outputs": [],
   "source": [
    "import sqlglot"
   ]
  },
  {
   "cell_type": "code",
   "execution_count": 12,
   "metadata": {},
   "outputs": [
    {
     "data": {
      "text/plain": [
       "[Select(\n",
       "   expressions=[\n",
       "     Column(\n",
       "       this=Identifier(this=l_returnflag, quoted=False)),\n",
       "     Column(\n",
       "       this=Identifier(this=l_linestatus, quoted=False))],\n",
       "   from=From(\n",
       "     this=Table(\n",
       "       this=Identifier(this=lineitem, quoted=False))),\n",
       "   where=Where(\n",
       "     this=LTE(\n",
       "       this=Column(\n",
       "         this=Identifier(this=l_shipdate, quoted=False)),\n",
       "       expression=Sub(\n",
       "         this=Cast(\n",
       "           this=Literal(this=1998-12-01, is_string=True),\n",
       "           to=DataType(this=Type.DATE, nested=False)),\n",
       "         expression=Interval(\n",
       "           this=Literal(this=90, is_string=True),\n",
       "           unit=Var(this=DAY))))),\n",
       "   order=Order(\n",
       "     expressions=[\n",
       "       Ordered(\n",
       "         this=Column(\n",
       "           this=Identifier(this=l_returnflag, quoted=False)),\n",
       "         nulls_first=True),\n",
       "       Ordered(\n",
       "         this=Column(\n",
       "           this=Identifier(this=l_linestatus, quoted=False)),\n",
       "         nulls_first=True)]))]"
      ]
     },
     "execution_count": 12,
     "metadata": {},
     "output_type": "execute_result"
    }
   ],
   "source": [
    "sqlglot.parse(duckdb_sql)"
   ]
  },
  {
   "cell_type": "code",
   "execution_count": 13,
   "metadata": {},
   "outputs": [
    {
     "data": {
      "text/plain": [
       "[Select(\n",
       "   expressions=[\n",
       "     Column(\n",
       "       this=Identifier(this=l_returnflag, quoted=False)),\n",
       "     Column(\n",
       "       this=Identifier(this=l_linestatus, quoted=False))],\n",
       "   from=From(\n",
       "     this=Table(\n",
       "       this=Identifier(this=lineitem, quoted=False))),\n",
       "   where=Where(\n",
       "     this=LTE(\n",
       "       this=Column(\n",
       "         this=Identifier(this=l_shipdate, quoted=False)),\n",
       "       expression=Sub(\n",
       "         this=Cast(\n",
       "           this=Literal(this=1998-12-01, is_string=True),\n",
       "           to=DataType(this=Type.DATE, nested=False)),\n",
       "         expression=Interval(\n",
       "           this=Literal(this=90, is_string=True),\n",
       "           unit=Var(this=DAY))))),\n",
       "   order=Order(\n",
       "     expressions=[\n",
       "       Ordered(\n",
       "         this=Column(\n",
       "           this=Identifier(this=l_returnflag, quoted=False)),\n",
       "         nulls_first=True),\n",
       "       Ordered(\n",
       "         this=Column(\n",
       "           this=Identifier(this=l_linestatus, quoted=False)),\n",
       "         nulls_first=True)]))]"
      ]
     },
     "execution_count": 13,
     "metadata": {},
     "output_type": "execute_result"
    }
   ],
   "source": [
    "sqlglot.parse(duckdb_sql, dialect=\"spark\")"
   ]
  },
  {
   "cell_type": "code",
   "execution_count": null,
   "metadata": {},
   "outputs": [],
   "source": []
  },
  {
   "cell_type": "code",
   "execution_count": null,
   "metadata": {},
   "outputs": [],
   "source": []
  }
 ],
 "metadata": {
  "kernelspec": {
   "display_name": ".venv",
   "language": "python",
   "name": "python3"
  },
  "language_info": {
   "codemirror_mode": {
    "name": "ipython",
    "version": 3
   },
   "file_extension": ".py",
   "mimetype": "text/x-python",
   "name": "python",
   "nbconvert_exporter": "python",
   "pygments_lexer": "ipython3",
   "version": "3.10.15"
  }
 },
 "nbformat": 4,
 "nbformat_minor": 2
}
