{
 "cells": [
  {
   "cell_type": "code",
   "execution_count": 4,
   "metadata": {},
   "outputs": [],
   "source": [
    "# Source: https://ibis-project.org/posts/pydata-performance/\n",
    "DATA = \"pypi-data\""
   ]
  },
  {
   "cell_type": "code",
   "execution_count": 5,
   "metadata": {},
   "outputs": [
    {
     "name": "stdout",
     "output_type": "stream",
     "text": [
      "\n",
      "CPU Information:\n",
      "Processor: \n",
      "Physical Cores: 14\n",
      "Logical Cores: 14\n",
      "\n",
      "Memory Information:\n",
      "Total Memory: 100.01587677001953 GB\n",
      "Available Memory: 55.996585845947266 GB\n",
      "Used Memory: 43.21443557739258 bytes\n",
      "Memory Utilization: 44.0%\n"
     ]
    }
   ],
   "source": [
    "import psutil\n",
    "import platform\n",
    "\n",
    "cpu_info = platform.processor()\n",
    "cpu_count = psutil.cpu_count(logical=False)\n",
    "logical_cpu_count = psutil.cpu_count(logical=True)\n",
    "\n",
    "print(\"\\nCPU Information:\")\n",
    "print(f\"Processor: {cpu_info}\")\n",
    "print(f\"Physical Cores: {cpu_count}\")\n",
    "print(f\"Logical Cores: {logical_cpu_count}\")\n",
    "\n",
    "memory_info = psutil.virtual_memory()\n",
    "\n",
    "print(\"\\nMemory Information:\")\n",
    "print(f\"Total Memory: {memory_info.total / 1024 / 1024 / 1024} GB\")\n",
    "print(f\"Available Memory: {memory_info.available / 1024 / 1024 / 1024} GB\")\n",
    "print(f\"Used Memory: {memory_info.used / 1024 /1024 /1024} bytes\")\n",
    "print(f\"Memory Utilization: {memory_info.percent}%\")"
   ]
  },
  {
   "cell_type": "code",
   "execution_count": 3,
   "metadata": {},
   "outputs": [],
   "source": [
    "# Pandas\n",
    "import pandas as pd\n",
    "\n",
    "df = pd.read_parquet(f\"{DATA}/dataset-44ce2ca1.parquet\")"
   ]
  },
  {
   "cell_type": "code",
   "execution_count": 7,
   "metadata": {},
   "outputs": [
    {
     "data": {
      "text/plain": [
       "np.float64(10.202267900109291)"
      ]
     },
     "execution_count": 7,
     "metadata": {},
     "output_type": "execute_result"
    }
   ],
   "source": [
    "df.memory_usage().sum() / 1024 / 1024 / 1024"
   ]
  },
  {
   "cell_type": "code",
   "execution_count": 8,
   "metadata": {},
   "outputs": [],
   "source": [
    "df = df[\n",
    "    (\n",
    "        df.path.str.contains(\n",
    "            r\"\\.(?:asm|c|cc|cpp|cxx|h|hpp|rs|[Ff][0-9]{0,2}(?:or)?|go)$\"\n",
    "        )\n",
    "        & ~df.path.str.contains(r\"(?:^|/)test(?:|s|ing)|/site-packages/\")\n",
    "    )\n",
    "]\n",
    "\n",
    "df = (\n",
    "    df.groupby(\n",
    "        [\n",
    "            df.uploaded_on.dt.to_period(\"M\").dt.to_timestamp().rename(\"month\"),\n",
    "            df.path.str.extract(r\"\\.([a-z0-9]+)$\", 0, expand=False).rename(\"ext\"),\n",
    "        ]\n",
    "    )\n",
    "    .agg({\"project_name\": lambda s: list(set(s))})\n",
    "    .rename(columns={\"project_name\": \"projects\"})\n",
    "    .sort_index(level=\"month\", ascending=False)\n",
    ")\n",
    "df = (\n",
    "    df.reset_index()\n",
    "    .assign(\n",
    "        ext=lambda t: t.ext.str.replace(r\"cxx|cpp|cc|c|hpp|h\", \"C/C++\", regex=True)\n",
    "        .str.replace(\"^f.*$\", \"Fortran\", regex=True)\n",
    "        .str.replace(\"rs\", \"Rust\")\n",
    "        .str.replace(\"go\", \"Go\")\n",
    "        .str.replace(\"asm\", \"Assembly\")\n",
    "        .replace(\"\", None)\n",
    "    )\n",
    "    .groupby([\"month\", \"ext\"])\n",
    "    .agg({\"projects\": lambda s: len(set(sum(s, [])))})\n",
    ")"
   ]
  },
  {
   "cell_type": "code",
   "execution_count": null,
   "metadata": {},
   "outputs": [],
   "source": [
    "df.memory_usage().sum() / 1024 / 1024 / 1024"
   ]
  },
  {
   "cell_type": "code",
   "execution_count": 73,
   "metadata": {},
   "outputs": [
    {
     "name": "stdout",
     "output_type": "stream",
     "text": [
      "total 6813M\n",
      "-rw-r--r-- 1 root root  121M Nov  5 23:49 customer.parquet\n",
      "-rw-r--r-- 1 root root 2679M Nov  5 23:49 lineitem.parquet\n",
      "-rw-r--r-- 1 root root    1M Nov  5 23:49 nation.parquet\n",
      "-rw-r--r-- 1 root root  606M Nov  5 23:49 orders.parquet\n",
      "-rw-r--r-- 1 root root   67M Nov  5 23:49 part.parquet\n",
      "-rw-r--r-- 1 root root  431M Nov  5 23:49 partsupp.parquet\n",
      "-rw-r--r-- 1 root root    1M Nov  5 23:49 region.parquet\n",
      "-rw-r--r-- 1 root root    8M Nov  5 23:49 supplier.parquet\n",
      "-rw-r--r-- 1 root root 2904M Nov  5 23:52 tmp_lineitem.parquet\n"
     ]
    }
   ],
   "source": [
    "!ls -l --block-size=M data"
   ]
  },
  {
   "cell_type": "code",
   "execution_count": 75,
   "metadata": {},
   "outputs": [
    {
     "name": "stderr",
     "output_type": "stream",
     "text": [
      "UsageError: Line magic function `%%time` not found.\n"
     ]
    }
   ],
   "source": [
    "# Top Supplier query\n",
    "%%time\n",
    "from sqlframe.duckdb import DuckDBSession\n",
    "from sqlframe.duckdb import functions as F\n",
    "\n",
    "session = DuckDBSession()\n"
   ]
  },
  {
   "cell_type": "code",
   "execution_count": 76,
   "metadata": {},
   "outputs": [
    {
     "name": "stdout",
     "output_type": "stream",
     "text": [
      "+-----------+---------------+\n",
      "| l_suppkey | total_revenue |\n",
      "+-----------+---------------+\n",
      "|   19636   |   904636.854  |\n",
      "|   31982   |  1280955.943  |\n",
      "|   30062   |  532740.5822  |\n",
      "|   99027   |  1088981.9935 |\n",
      "|   59626   |  546398.3081  |\n",
      "|   83742   |  955721.6044  |\n",
      "|   74983   |  1080551.4908 |\n",
      "|   71151   |  830950.5638  |\n",
      "|   77668   |  1100900.0705 |\n",
      "|   98833   |  1363390.9186 |\n",
      "|    1378   |  585642.9369  |\n",
      "|   18046   |  670246.1742  |\n",
      "|   53357   |  781010.2984  |\n",
      "|   24719   |  596890.9937  |\n",
      "|    823    |  1137543.7678 |\n",
      "|   39201   |  684858.0793  |\n",
      "|   25482   |  871666.0449  |\n",
      "|   63616   |  988547.5536  |\n",
      "|   59045   |  582534.5339  |\n",
      "|   37840   |  932711.3246  |\n",
      "+-----------+---------------+\n",
      "+-----------+--------------------+------------------------------------------+-----------------+---------------+\n",
      "| s_suppkey |       s_name       |                s_address                 |     s_phone     | total_revenue |\n",
      "+-----------+--------------------+------------------------------------------+-----------------+---------------+\n",
      "|   69998   | Supplier#000069998 | 117W54YtKASNfzkZRS8P32856BMj0HKf895vdukw | 16-386-278-9829 |  2194132.8166 |\n",
      "+-----------+--------------------+------------------------------------------+-----------------+---------------+\n",
      "CPU times: user 4.93 s, sys: 614 ms, total: 5.54 s\n",
      "Wall time: 548 ms\n"
     ]
    }
   ],
   "source": [
    "%%time\n",
    "lineitem = session.read.parquet(\"data/lineitem.parquet\")\n",
    "supplier = session.read.parquet(\"data/supplier.parquet\")\n",
    "\n",
    "# Step 1: Create revenue equivalent in PySpark\n",
    "revenue = (\n",
    "    lineitem\n",
    "    .filter((col(\"l_shipdate\") >= '1996-01-01') & (col(\"l_shipdate\") < '1996-04-01'))\n",
    "    .groupBy(\"l_suppkey\")\n",
    "    .agg(F.sum(col(\"l_extendedprice\") * (1 - col(\"l_discount\"))).alias(\"total_revenue\"))\n",
    ")\n",
    "revenue.show()\n",
    "result = (\n",
    "    supplier.join(revenue, supplier.s_suppkey == revenue.l_suppkey)\n",
    "    .filter(revenue.total_revenue == max_revenue)\n",
    "    .select(supplier.s_suppkey, supplier.s_name, supplier.s_address, supplier.s_phone, revenue.total_revenue)\n",
    "    .orderBy(supplier.s_suppkey)\n",
    ")\n",
    "\n",
    "# Show the final result\n",
    "result.show()"
   ]
  },
  {
   "cell_type": "code",
   "execution_count": null,
   "metadata": {},
   "outputs": [],
   "source": []
  },
  {
   "cell_type": "code",
   "execution_count": null,
   "metadata": {},
   "outputs": [],
   "source": []
  },
  {
   "cell_type": "code",
   "execution_count": null,
   "metadata": {},
   "outputs": [],
   "source": []
  }
 ],
 "metadata": {
  "kernelspec": {
   "display_name": ".venv",
   "language": "python",
   "name": "python3"
  },
  "language_info": {
   "codemirror_mode": {
    "name": "ipython",
    "version": 3
   },
   "file_extension": ".py",
   "mimetype": "text/x-python",
   "name": "python",
   "nbconvert_exporter": "python",
   "pygments_lexer": "ipython3",
   "version": "3.10.15"
  }
 },
 "nbformat": 4,
 "nbformat_minor": 2
}
