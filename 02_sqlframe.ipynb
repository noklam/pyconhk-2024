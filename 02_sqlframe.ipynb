{
 "cells": [
  {
   "cell_type": "code",
   "execution_count": 2,
   "metadata": {},
   "outputs": [],
   "source": [
    "# Source: https://ibis-project.org/posts/pydata-performance/\n",
    "DATA = \"pypi-data\""
   ]
  },
  {
   "cell_type": "code",
   "execution_count": 42,
   "metadata": {},
   "outputs": [
    {
     "name": "stdout",
     "output_type": "stream",
     "text": [
      "\n",
      "CPU Information:\n",
      "Processor: aarch64\n",
      "Physical Cores: 14\n",
      "Logical Cores: 14\n",
      "\n",
      "Memory Information:\n",
      "Total Memory: 100.01587295532227 GB\n",
      "Available Memory: 30.458988189697266 GB\n",
      "Used Memory: 68.74537658691406 bytes\n",
      "Memory Utilization: 69.5%\n"
     ]
    }
   ],
   "source": [
    "import psutil\n",
    "import platform\n",
    "\n",
    "cpu_info = platform.processor()\n",
    "cpu_count = psutil.cpu_count(logical=False)\n",
    "logical_cpu_count = psutil.cpu_count(logical=True)\n",
    "\n",
    "print(\"\\nCPU Information:\")\n",
    "print(f\"Processor: {cpu_info}\")\n",
    "print(f\"Physical Cores: {cpu_count}\")\n",
    "print(f\"Logical Cores: {logical_cpu_count}\")\n",
    "\n",
    "memory_info = psutil.virtual_memory()\n",
    "\n",
    "print(\"\\nMemory Information:\")\n",
    "print(f\"Total Memory: {memory_info.total / 1024 / 1024 / 1024} GB\")\n",
    "print(f\"Available Memory: {memory_info.available / 1024 / 1024 / 1024} GB\")\n",
    "print(f\"Used Memory: {memory_info.used / 1024 /1024 /1024} bytes\")\n",
    "print(f\"Memory Utilization: {memory_info.percent}%\")"
   ]
  },
  {
   "cell_type": "code",
   "execution_count": null,
   "metadata": {},
   "outputs": [],
   "source": [
    "import pandas as pd\n",
    "\n",
    "# Load the data from parquet files\n",
    "lineitem = pd.read_parquet(\"data/lineitem.parquet\")\n",
    "supplier = pd.read_parquet(\"data/supplier.parquet\")\n",
    "\n"
   ]
  },
  {
   "cell_type": "code",
   "execution_count": 44,
   "metadata": {},
   "outputs": [
    {
     "data": {
      "text/plain": [
       "(np.float64(7.1508947648108006), np.float64(0.0048430003225803375))"
      ]
     },
     "execution_count": 44,
     "metadata": {},
     "output_type": "execute_result"
    }
   ],
   "source": [
    "lineitem.memory_usage().sum() / 1024 / 1024 / 1024, supplier.memory_usage().sum() / 1024 / 1024 / 1024"
   ]
  },
  {
   "cell_type": "code",
   "execution_count": 41,
   "metadata": {},
   "outputs": [
    {
     "name": "stdout",
     "output_type": "stream",
     "text": [
      "       l_suppkey total_revenue\n",
      "0              1   868343.4422\n",
      "1              2   673741.8693\n",
      "2              3  1073019.5287\n",
      "3              4   906208.2675\n",
      "4              5   524485.6030\n",
      "...          ...           ...\n",
      "99995      99996   916657.6366\n",
      "99996      99997  1090466.5479\n",
      "99997      99998   892919.3656\n",
      "99998      99999  1124121.2915\n",
      "99999     100000  1260249.9725\n",
      "\n",
      "[100000 rows x 2 columns]\n",
      "       s_suppkey              s_name  \\\n",
      "69997      69998  Supplier#000069998   \n",
      "\n",
      "                                      s_address          s_phone total_revenue  \n",
      "69997  117W54YtKASNfzkZRS8P32856BMj0HKf895vdukw  16-386-278-9829  2194132.8166  \n"
     ]
    }
   ],
   "source": [
    "import pandas as pd\n",
    "\n",
    "# Load the data from parquet files\n",
    "lineitem = pd.read_parquet(\"data/lineitem.parquet\")\n",
    "supplier = pd.read_parquet(\"data/supplier.parquet\")\n",
    "\n",
    "# Convert 'l_shipdate' to datetime if it's not already\n",
    "lineitem['l_shipdate'] = pd.to_datetime(lineitem['l_shipdate'])\n",
    "\n",
    "# Step 1: Create revenue equivalent in Pandas\n",
    "# Filter lineitem DataFrame for the specified date range\n",
    "start_date = pd.to_datetime(\"1996-01-01\")\n",
    "end_date = pd.to_datetime(\"1996-04-01\")\n",
    "\n",
    "filtered_lineitem = lineitem[\n",
    "    (lineitem['l_shipdate'] >= start_date) & (lineitem['l_shipdate'] < end_date)\n",
    "]\n",
    "\n",
    "# Group by 'l_suppkey' and calculate total revenue\n",
    "revenue = (\n",
    "    filtered_lineitem\n",
    "    .groupby('l_suppkey')\n",
    "    .agg(total_revenue=('l_extendedprice', lambda x: (x * (1 - filtered_lineitem.loc[x.index, 'l_discount'])).sum()))\n",
    "    .reset_index()\n",
    ")\n",
    "\n",
    "# Display the revenue DataFrame\n",
    "print(revenue)\n",
    "\n",
    "# Step 2: Find maximum total revenue\n",
    "max_revenue = revenue['total_revenue'].max()\n",
    "\n",
    "# Step 3: Merge supplier with revenue where total_revenue matches maximum revenue\n",
    "result = (\n",
    "    supplier.merge(revenue, left_on='s_suppkey', right_on='l_suppkey')\n",
    "    .loc[lambda df: df['total_revenue'] == max_revenue]\n",
    "    .loc[:, ['s_suppkey', 's_name', 's_address', 's_phone', 'total_revenue']]\n",
    "    .sort_values(by='s_suppkey')\n",
    ")\n",
    "\n",
    "# Show the final result\n",
    "print(result)"
   ]
  },
  {
   "cell_type": "code",
   "execution_count": null,
   "metadata": {},
   "outputs": [
    {
     "data": {
      "text/plain": [
       "np.float64(6.612390279769897e-07)"
      ]
     },
     "execution_count": 10,
     "metadata": {},
     "output_type": "execute_result"
    }
   ],
   "source": [
    "df.memory_usage().sum() / 1024 / 1024 / 1024"
   ]
  },
  {
   "cell_type": "code",
   "execution_count": 8,
   "metadata": {},
   "outputs": [
    {
     "name": "stdout",
     "output_type": "stream",
     "text": [
      "total 6813M\n",
      "-rw-r--r-- 1 root root  121M Nov  5 23:49 customer.parquet\n",
      "-rw-r--r-- 1 root root 2679M Nov  5 23:49 lineitem.parquet\n",
      "-rw-r--r-- 1 root root    1M Nov  5 23:49 nation.parquet\n",
      "-rw-r--r-- 1 root root  606M Nov  5 23:49 orders.parquet\n",
      "-rw-r--r-- 1 root root   67M Nov  5 23:49 part.parquet\n",
      "-rw-r--r-- 1 root root  431M Nov  5 23:49 partsupp.parquet\n",
      "-rw-r--r-- 1 root root    1M Nov  5 23:49 region.parquet\n",
      "-rw-r--r-- 1 root root    8M Nov  5 23:49 supplier.parquet\n",
      "-rw-r--r-- 1 root root 2904M Nov  5 23:52 tmp_lineitem.parquet\n"
     ]
    }
   ],
   "source": [
    "!ls -l --block-size=M data"
   ]
  },
  {
   "cell_type": "code",
   "execution_count": null,
   "metadata": {},
   "outputs": [
    {
     "data": {
      "text/plain": [
       "<sqlframe.duckdb.session.DuckDBSession at 0xffff7c2e6540>"
      ]
     },
     "execution_count": 25,
     "metadata": {},
     "output_type": "execute_result"
    }
   ],
   "source": [
    "# Top Supplier query\n",
    "from sqlframe import activate\n",
    "from pyspark.sql.functions import col\n",
    "from pyspark.sql import functions as F\n",
    "\n",
    "from pyspark.sql import SparkSession\n",
    "\n",
    "activate(engine=\"duckdb\")\n",
    "# Create a SparkSession object\n",
    "session = SparkSession.builder.master(\"local\").getOrCreate()\n",
    "session\n"
   ]
  },
  {
   "cell_type": "code",
   "execution_count": null,
   "metadata": {},
   "outputs": [],
   "source": []
  },
  {
   "cell_type": "code",
   "execution_count": null,
   "metadata": {},
   "outputs": [
    {
     "name": "stdout",
     "output_type": "stream",
     "text": [
      "+-----------+---------------+\n",
      "| l_suppkey | total_revenue |\n",
      "+-----------+---------------+\n",
      "|   68202   |  634940.4735  |\n",
      "|   27439   |  556925.5293  |\n",
      "|   55808   |  959961.5108  |\n",
      "|   98477   |  934817.8029  |\n",
      "|   10380   |  781137.0141  |\n",
      "|   31287   |   463818.166  |\n",
      "|   98036   |  896149.1473  |\n",
      "|   81698   |  748562.8137  |\n",
      "|   98815   |  1161245.9785 |\n",
      "|   36030   |  498307.5766  |\n",
      "|   95993   |  890734.4854  |\n",
      "|   28151   |  847368.1963  |\n",
      "|   13656   |  1181352.0785 |\n",
      "|   33508   |   651779.105  |\n",
      "|   41089   |   618858.75   |\n",
      "|   79610   |  1277050.4168 |\n",
      "|   49508   |  1070704.7353 |\n",
      "|   90484   |  895834.1947  |\n",
      "|    7119   |  911817.1375  |\n",
      "|   38689   |  832264.8655  |\n",
      "+-----------+---------------+\n",
      "+-----------+--------------------+------------------------------------------+-----------------+---------------+\n",
      "| s_suppkey |       s_name       |                s_address                 |     s_phone     | total_revenue |\n",
      "+-----------+--------------------+------------------------------------------+-----------------+---------------+\n",
      "|   69998   | Supplier#000069998 | 117W54YtKASNfzkZRS8P32856BMj0HKf895vdukw | 16-386-278-9829 |  2194132.8166 |\n",
      "+-----------+--------------------+------------------------------------------+-----------------+---------------+\n",
      "CPU times: user 7.28 s, sys: 985 ms, total: 8.27 s\n",
      "Wall time: 761 ms\n"
     ]
    }
   ],
   "source": [
    "%%time\n",
    "lineitem = session.read.parquet(\"data/lineitem.parquet\")\n",
    "supplier = session.read.parquet(\"data/supplier.parquet\")\n",
    "\n",
    "# Step 1: Create revenue equivalent in PySpark\n",
    "revenue = (\n",
    "    lineitem.filter(\n",
    "        (col(\"l_shipdate\") >= \"1996-01-01\") & (col(\"l_shipdate\") < \"1996-04-01\")\n",
    "    )\n",
    "    .groupBy(\"l_suppkey\")\n",
    "    .agg(F.sum(col(\"l_extendedprice\") * (1 - col(\"l_discount\"))).alias(\"total_revenue\"))\n",
    ")\n",
    "revenue.show()\n",
    "\n",
    "max_revenue = revenue.agg(F.max(\"total_revenue\")).first()[0]\n",
    "\n",
    "result = (\n",
    "    supplier.join(revenue, supplier.s_suppkey == revenue.l_suppkey)\n",
    "    .filter(revenue.total_revenue == max_revenue)\n",
    "    .select(\n",
    "        supplier.s_suppkey,\n",
    "        supplier.s_name,\n",
    "        supplier.s_address,\n",
    "        supplier.s_phone,\n",
    "        revenue.total_revenue,\n",
    "    )\n",
    "    .orderBy(supplier.s_suppkey)\n",
    ")\n",
    "\n",
    "# Show the final result\n",
    "result.show()"
   ]
  },
  {
   "cell_type": "code",
   "execution_count": null,
   "metadata": {},
   "outputs": [],
   "source": []
  },
  {
   "cell_type": "code",
   "execution_count": null,
   "metadata": {},
   "outputs": [],
   "source": []
  }
 ],
 "metadata": {
  "kernelspec": {
   "display_name": ".venv",
   "language": "python",
   "name": "python3"
  },
  "language_info": {
   "codemirror_mode": {
    "name": "ipython",
    "version": 3
   },
   "file_extension": ".py",
   "mimetype": "text/x-python",
   "name": "python",
   "nbconvert_exporter": "python",
   "pygments_lexer": "ipython3",
   "version": "3.12.3"
  }
 },
 "nbformat": 4,
 "nbformat_minor": 2
}
