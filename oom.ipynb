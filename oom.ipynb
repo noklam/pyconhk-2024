{
 "cells": [
  {
   "cell_type": "code",
   "execution_count": 16,
   "metadata": {},
   "outputs": [],
   "source": [
    "import duckdb\n",
    "import httpx\n",
    "import asyncio\n",
    "import os\n",
    "\n",
    "\n",
    "async def download_file(url):\n",
    "    try:\n",
    "        async with httpx.AsyncClient() as client:\n",
    "            response = await client.get(url, follow_redirects=True)\n",
    "            print(\"something\")\n",
    "            if response.status_code == 200:\n",
    "                # Extract filename from URL\n",
    "                filename = os.path.basename(url)\n",
    "                # Write content to a local file\n",
    "                print(\"before\")\n",
    "                with open(f\"pypi-data/{filename}\", 'wb') as file:\n",
    "                    file.write(response.content)\n",
    "                print(f\"Downloaded: {filename}\")\n",
    "            else:\n",
    "                print(f\"Failed to download {url}: Status code {response.status_code}\")\n",
    "    except Exception as e:\n",
    "        print(f\"An error occurred while downloading {url}: {e}\")\n"
   ]
  },
  {
   "cell_type": "code",
   "execution_count": 18,
   "metadata": {},
   "outputs": [
    {
     "name": "stdout",
     "output_type": "stream",
     "text": [
      "something\n",
      "before\n",
      "Downloaded: dataset-83504e31.parquet\n",
      "something\n",
      "before\n",
      "Downloaded: dataset-03269778.parquet\n",
      "something\n",
      "before\n",
      "Downloaded: dataset-17d8be30.parquet\n",
      "something\n",
      "before\n",
      "Downloaded: dataset-a24b456d.parquet\n",
      "something\n",
      "before\n",
      "Downloaded: dataset-e6ebf1fd.parquet\n",
      "something\n",
      "before\n",
      "Downloaded: dataset-f75219d2.parquet\n",
      "something\n",
      "before\n",
      "Downloaded: dataset-a1368ea1.parquet\n",
      "something\n",
      "before\n",
      "Downloaded: dataset-2d0ae87e.parquet\n",
      "something\n",
      "before\n",
      "Downloaded: dataset-47c23325.parquet\n",
      "something\n",
      "before\n",
      "Downloaded: dataset-44ce2ca1.parquet\n",
      "something\n",
      "before\n",
      "Downloaded: dataset-653fcaa4.parquet\n",
      "something\n",
      "before\n",
      "Downloaded: dataset-47e8e969.parquet\n"
     ]
    },
    {
     "data": {
      "text/plain": [
       "[None, None, None, None, None, None, None, None, None, None, None, None]"
      ]
     },
     "execution_count": 18,
     "metadata": {},
     "output_type": "execute_result"
    }
   ],
   "source": [
    "# download data from https://github.com/pypi-data/data/releases\n",
    "urls = [\n",
    "    \"https://github.com/pypi-data/data/releases/download/2024-11-05-10-05/dataset-03269778.parquet\",\n",
    "    \"https://github.com/pypi-data/data/releases/download/2024-11-05-10-05/dataset-17d8be30.parquet\",\n",
    "    \"https://github.com/pypi-data/data/releases/download/2024-11-05-10-05/dataset-2d0ae87e.parquet\",\n",
    "    \"https://github.com/pypi-data/data/releases/download/2024-11-05-10-05/dataset-44ce2ca1.parquet\",\n",
    "    \"https://github.com/pypi-data/data/releases/download/2024-11-05-10-05/dataset-47c23325.parquet\",\n",
    "    \"https://github.com/pypi-data/data/releases/download/2024-11-05-10-05/dataset-47e8e969.parquet\",\n",
    "    \"https://github.com/pypi-data/data/releases/download/2024-11-05-10-05/dataset-653fcaa4.parquet\",\n",
    "    \"https://github.com/pypi-data/data/releases/download/2024-11-05-10-05/dataset-83504e31.parquet\",\n",
    "    \"https://github.com/pypi-data/data/releases/download/2024-11-05-10-05/dataset-a1368ea1.parquet\",\n",
    "    \"https://github.com/pypi-data/data/releases/download/2024-11-05-10-05/dataset-a24b456d.parquet\",\n",
    "    \"https://github.com/pypi-data/data/releases/download/2024-11-05-10-05/dataset-e6ebf1fd.parquet\",\n",
    "    \"https://github.com/pypi-data/data/releases/download/2024-11-05-10-05/dataset-f75219d2.parquet\",\n",
    "]\n",
    "\n",
    "# Download each file in the list async\n",
    "tasks = [download_file(url) for url in urls]\n",
    "await asyncio.gather(*tasks)"
   ]
  },
  {
   "cell_type": "code",
   "execution_count": null,
   "metadata": {},
   "outputs": [],
   "source": []
  },
  {
   "cell_type": "code",
   "execution_count": null,
   "metadata": {},
   "outputs": [],
   "source": []
  }
 ],
 "metadata": {
  "kernelspec": {
   "display_name": ".venv",
   "language": "python",
   "name": "python3"
  },
  "language_info": {
   "codemirror_mode": {
    "name": "ipython",
    "version": 3
   },
   "file_extension": ".py",
   "mimetype": "text/x-python",
   "name": "python",
   "nbconvert_exporter": "python",
   "pygments_lexer": "ipython3",
   "version": "3.10.15"
  }
 },
 "nbformat": 4,
 "nbformat_minor": 2
}
