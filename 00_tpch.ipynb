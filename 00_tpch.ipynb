{
 "cells": [
  {
   "cell_type": "code",
   "execution_count": null,
   "metadata": {
    "vscode": {
     "languageId": "plaintext"
    }
   },
   "outputs": [],
   "source": [
    "import duckdb\n",
    "\n",
    "SCALE_FACTOR = 1\n",
    "\n",
    "# Connect to DuckDB\n",
    "duckdb_con = duckdb.connect(\"tpch.duckdb\")\n",
    "con = ibis.connect(\"duckdb://tpch.duckdb\")\n"
   ]
  },
  {
   "cell_type": "code",
   "execution_count": null,
   "metadata": {
    "vscode": {
     "languageId": "plaintext"
    }
   },
   "outputs": [],
   "source": [
    "# Generate TPC-H data at scale factor 1 (1 GB)\n",
    "duckdb_con.sql(f\"CALL dbgen(sf={SCALE_FACTOR})\")\n",
    "\n",
    "# Export each table to Parquet format\n",
    "tables = [\"lineitem\", \"orders\", \"customer\", \"supplier\", \"nation\", \"region\", \"part\", \"partsupp\"]\n",
    "for table in tables:\n",
    "    duckdb_con.sql(f\"COPY {table} TO 'data/{table}.parquet' (FORMAT PARQUET)\")\n"
   ]
  }
 ],
 "metadata": {
  "language_info": {
   "name": "python"
  }
 },
 "nbformat": 4,
 "nbformat_minor": 2
}
