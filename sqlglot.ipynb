{
 "cells": [
  {
   "cell_type": "code",
   "execution_count": 3,
   "metadata": {},
   "outputs": [],
   "source": [
    "import ibis\n",
    "import duckdb\n",
    "\n",
    "SCALE_FACTOR = 1\n",
    "\n",
    "# Connect to DuckDB\n",
    "duckdb_con = duckdb.connect(\"tpch.duckdb\")\n",
    "con = ibis.connect(\"duckdb://tpch.duckdb\")"
   ]
  },
  {
   "cell_type": "code",
   "execution_count": 5,
   "metadata": {},
   "outputs": [
    {
     "data": {
      "application/vnd.jupyter.widget-view+json": {
       "model_id": "18b392e7d7604162bd9965a9d7e966e8",
       "version_major": 2,
       "version_minor": 0
      },
      "text/plain": [
       "FloatProgress(value=0.0, layout=Layout(width='auto'), style=ProgressStyle(bar_color='black'))"
      ]
     },
     "metadata": {},
     "output_type": "display_data"
    }
   ],
   "source": [
    "# Generate TPC-H data at scale factor 1 (1 GB)\n",
    "duckdb_con.sql(f\"CALL dbgen(sf={SCALE_FACTOR})\")\n",
    "\n",
    "# Export each table to Parquet format\n",
    "tables = [\"lineitem\", \"orders\", \"customer\", \"supplier\", \"nation\", \"region\", \"part\", \"partsupp\"]\n",
    "for table in tables:\n",
    "    duckdb_con.sql(f\"COPY {table} TO 'data/{table}.parquet' (FORMAT PARQUET)\")\n"
   ]
  },
  {
   "cell_type": "code",
   "execution_count": 14,
   "metadata": {},
   "outputs": [],
   "source": [
    "from sqlframe import activate\n",
    "\n",
    "# Activate SQLFrame to run directly on DuckDB\n",
    "activate(engine=\"duckdb\")\n",
    "\n",
    "from pyspark.sql import SparkSession\n",
    "from pyspark.sql.functions import col\n",
    "from pyspark.sql import functions as F\n",
    "from pyspark.sql import Window\n",
    "session = SparkSession.builder.getOrCreate()"
   ]
  },
  {
   "cell_type": "code",
   "execution_count": null,
   "metadata": {},
   "outputs": [],
   "source": []
  },
  {
   "cell_type": "code",
   "execution_count": 9,
   "metadata": {},
   "outputs": [
    {
     "data": {
      "text/plain": [
       "<sqlframe.duckdb.session.DuckDBSession at 0xffff58399900>"
      ]
     },
     "execution_count": 9,
     "metadata": {},
     "output_type": "execute_result"
    }
   ],
   "source": [
    "session"
   ]
  },
  {
   "cell_type": "markdown",
   "metadata": {},
   "source": [
    "# Q18 - Large Volume Customer Query"
   ]
  },
  {
   "cell_type": "code",
   "execution_count": 25,
   "metadata": {},
   "outputs": [],
   "source": [
    "\n",
    "spark = SparkSession.builder.appName('TPCH Benchmark for Python').getOrCreate()\n",
    "lineitem = spark.read.parquet(\"data/lineitem.parquet\")\n",
    "orders = spark.read.parquet(\"data/orders.parquet\")\n",
    "customers = spark.read.parquet(\"data/customer.parquet\")\n",
    "\n",
    "result = lineitem.groupBy(col(\"l_orderkey\")) \\\n",
    "            .agg(F.sum(col(\"l_quantity\")).alias(\"sum_quantity\")) \\\n",
    "            .filter(col(\"sum_quantity\") > 300) \\\n",
    "            .select(col(\"l_orderkey\").alias(\"key\"), col(\"sum_quantity\")) \\\n",
    "            .join(orders, col(\"o_orderkey\") == col(\"key\")) \\\n",
    "            .join(lineitem, col(\"o_orderkey\") == col(\"l_orderkey\")) \\\n",
    "            .join(customers, col(\"c_custkey\") == col(\"o_custkey\")) \\\n",
    "            .select(col(\"l_quantity\"), col(\"c_name\"), col(\"c_custkey\"), col(\"o_orderkey\"), col(\"o_orderdate\"),\n",
    "                    col(\"o_totalprice\")) \\\n",
    "            .groupBy(col(\"c_name\"), col(\"c_custkey\"), col(\"o_orderkey\"), col(\"o_orderdate\"), col(\"o_totalprice\")) \\\n",
    "            .agg(F.sum(col(\"l_quantity\"))) \\\n",
    "            .sort(col(\"o_totalprice\").desc(), col(\"o_orderdate\"))"
   ]
  },
  {
   "cell_type": "code",
   "execution_count": 29,
   "metadata": {},
   "outputs": [
    {
     "name": "stdout",
     "output_type": "stream",
     "text": [
      "WITH `t38591281` AS (\n",
      "  SELECT\n",
      "    CAST(`_q_0`.`l_orderkey` AS BIGINT) AS `l_orderkey`,\n",
      "    SUM(CAST(`_q_0`.`l_quantity` AS DECIMAL(15, 2))) AS `sum_quantity`\n",
      "  FROM READ_PARQUET(ARRAY('data/lineitem.parquet')) AS `_q_0`\n",
      "  GROUP BY\n",
      "    CAST(`_q_0`.`l_orderkey` AS BIGINT)\n",
      ")\n",
      "SELECT\n",
      "  CAST(`_q_3`.`c_name` AS STRING) AS `c_name`,\n",
      "  CAST(`_q_3`.`c_custkey` AS BIGINT) AS `c_custkey`,\n",
      "  CAST(`_q_1`.`o_orderkey` AS BIGINT) AS `o_orderkey`,\n",
      "  CAST(`_q_1`.`o_orderdate` AS DATE) AS `o_orderdate`,\n",
      "  CAST(`_q_1`.`o_totalprice` AS DECIMAL(15, 2)) AS `o_totalprice`,\n",
      "  SUM(CAST(`_q_2`.`l_quantity` AS DECIMAL(15, 2))) AS `_col_5`\n",
      "FROM `t38591281` AS `t38591281`\n",
      "JOIN READ_PARQUET(ARRAY('data/orders.parquet')) AS `_q_1`\n",
      "  ON `t38591281`.`l_orderkey` = CAST(`_q_1`.`o_orderkey` AS BIGINT)\n",
      "JOIN READ_PARQUET(ARRAY('data/customer.parquet')) AS `_q_3`\n",
      "  ON CAST(`_q_1`.`o_custkey` AS BIGINT) = CAST(`_q_3`.`c_custkey` AS BIGINT)\n",
      "JOIN READ_PARQUET(ARRAY('data/lineitem.parquet')) AS `_q_2`\n",
      "  ON CAST(`_q_1`.`o_orderkey` AS BIGINT) = CAST(`_q_2`.`l_orderkey` AS BIGINT)\n",
      "WHERE\n",
      "  `t38591281`.`sum_quantity` > 300\n",
      "GROUP BY\n",
      "  CAST(`_q_3`.`c_name` AS STRING),\n",
      "  CAST(`_q_3`.`c_custkey` AS BIGINT),\n",
      "  CAST(`_q_1`.`o_orderkey` AS BIGINT),\n",
      "  CAST(`_q_1`.`o_orderdate` AS DATE),\n",
      "  CAST(`_q_1`.`o_totalprice` AS DECIMAL(15, 2))\n",
      "ORDER BY\n",
      "  `o_totalprice` DESC,\n",
      "  `o_orderdate`\n"
     ]
    }
   ],
   "source": [
    "print(result.sql())"
   ]
  },
  {
   "cell_type": "code",
   "execution_count": 32,
   "metadata": {},
   "outputs": [
    {
     "name": "stderr",
     "output_type": "stream",
     "text": [
      "/workspaces/pyconhk-2024/.venv/lib/python3.10/site-packages/sqlframe/base/session.py:519: UserWarning: pandas only supports SQLAlchemy connectable (engine/connection) or database string URI or sqlite3 DBAPI2 connection. Other DBAPI2 objects are not tested. Please consider using SQLAlchemy.\n",
      "  return read_sql_query(\n"
     ]
    },
    {
     "data": {
      "text/html": [
       "<div>\n",
       "<style scoped>\n",
       "    .dataframe tbody tr th:only-of-type {\n",
       "        vertical-align: middle;\n",
       "    }\n",
       "\n",
       "    .dataframe tbody tr th {\n",
       "        vertical-align: top;\n",
       "    }\n",
       "\n",
       "    .dataframe thead th {\n",
       "        text-align: right;\n",
       "    }\n",
       "</style>\n",
       "<table border=\"1\" class=\"dataframe\">\n",
       "  <thead>\n",
       "    <tr style=\"text-align: right;\">\n",
       "      <th></th>\n",
       "      <th>c_name</th>\n",
       "      <th>c_custkey</th>\n",
       "      <th>o_orderkey</th>\n",
       "      <th>o_orderdate</th>\n",
       "      <th>o_totalprice</th>\n",
       "      <th>sum(l_quantity)</th>\n",
       "    </tr>\n",
       "  </thead>\n",
       "  <tbody>\n",
       "    <tr>\n",
       "      <th>0</th>\n",
       "      <td>Customer#000021433</td>\n",
       "      <td>21433</td>\n",
       "      <td>1750466</td>\n",
       "      <td>1992-11-30</td>\n",
       "      <td>555285.16</td>\n",
       "      <td>2400.0</td>\n",
       "    </tr>\n",
       "    <tr>\n",
       "      <th>1</th>\n",
       "      <td>Customer#000128120</td>\n",
       "      <td>128120</td>\n",
       "      <td>4722021</td>\n",
       "      <td>1994-04-07</td>\n",
       "      <td>544089.09</td>\n",
       "      <td>2584.0</td>\n",
       "    </tr>\n",
       "    <tr>\n",
       "      <th>2</th>\n",
       "      <td>Customer#000144617</td>\n",
       "      <td>144617</td>\n",
       "      <td>3043270</td>\n",
       "      <td>1997-02-12</td>\n",
       "      <td>530604.44</td>\n",
       "      <td>2536.0</td>\n",
       "    </tr>\n",
       "    <tr>\n",
       "      <th>3</th>\n",
       "      <td>Customer#000108931</td>\n",
       "      <td>108931</td>\n",
       "      <td>4576548</td>\n",
       "      <td>1997-12-26</td>\n",
       "      <td>525590.57</td>\n",
       "      <td>2360.0</td>\n",
       "    </tr>\n",
       "    <tr>\n",
       "      <th>4</th>\n",
       "      <td>Customer#000013940</td>\n",
       "      <td>13940</td>\n",
       "      <td>2232932</td>\n",
       "      <td>1997-04-13</td>\n",
       "      <td>522720.61</td>\n",
       "      <td>2432.0</td>\n",
       "    </tr>\n",
       "  </tbody>\n",
       "</table>\n",
       "</div>"
      ],
      "text/plain": [
       "               c_name  c_custkey  o_orderkey o_orderdate  o_totalprice  \\\n",
       "0  Customer#000021433      21433     1750466  1992-11-30     555285.16   \n",
       "1  Customer#000128120     128120     4722021  1994-04-07     544089.09   \n",
       "2  Customer#000144617     144617     3043270  1997-02-12     530604.44   \n",
       "3  Customer#000108931     108931     4576548  1997-12-26     525590.57   \n",
       "4  Customer#000013940      13940     2232932  1997-04-13     522720.61   \n",
       "\n",
       "   sum(l_quantity)  \n",
       "0           2400.0  \n",
       "1           2584.0  \n",
       "2           2536.0  \n",
       "3           2360.0  \n",
       "4           2432.0  "
      ]
     },
     "execution_count": 32,
     "metadata": {},
     "output_type": "execute_result"
    }
   ],
   "source": [
    "result.toPandas().head()"
   ]
  },
  {
   "cell_type": "code",
   "execution_count": null,
   "metadata": {},
   "outputs": [],
   "source": []
  },
  {
   "cell_type": "code",
   "execution_count": null,
   "metadata": {},
   "outputs": [],
   "source": []
  },
  {
   "cell_type": "code",
   "execution_count": null,
   "metadata": {},
   "outputs": [],
   "source": []
  }
 ],
 "metadata": {
  "kernelspec": {
   "display_name": ".venv",
   "language": "python",
   "name": "python3"
  },
  "language_info": {
   "codemirror_mode": {
    "name": "ipython",
    "version": 3
   },
   "file_extension": ".py",
   "mimetype": "text/x-python",
   "name": "python",
   "nbconvert_exporter": "python",
   "pygments_lexer": "ipython3",
   "version": "3.10.15"
  }
 },
 "nbformat": 4,
 "nbformat_minor": 2
}
