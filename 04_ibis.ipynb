{
 "cells": [
  {
   "cell_type": "markdown",
   "metadata": {},
   "source": [
    "# ibis 101"
   ]
  },
  {
   "cell_type": "markdown",
   "metadata": {},
   "source": [
    "## ibis is a dataframe first library\n",
    "> the portable Python dataframe library"
   ]
  },
  {
   "cell_type": "code",
   "execution_count": 1,
   "metadata": {},
   "outputs": [],
   "source": [
    "import ibis\n",
    "\n",
    "ibis.options.interactive = True  # this make it prints\n",
    "# Connect to DuckDB\n",
    "con = ibis.connect(\"duckdb://tpch.duckdb\")"
   ]
  },
  {
   "cell_type": "markdown",
   "metadata": {},
   "source": [
    "## basic ibis"
   ]
  },
  {
   "cell_type": "code",
   "execution_count": 2,
   "metadata": {},
   "outputs": [],
   "source": [
    "part = con.table(\"part\")\n",
    "partsupp = con.table(\"partsupp\")\n"
   ]
  },
  {
   "cell_type": "code",
   "execution_count": 3,
   "metadata": {},
   "outputs": [
    {
     "data": {
      "text/html": [
       "<pre style=\"white-space:pre;overflow-x:auto;line-height:normal;font-family:Menlo,'DejaVu Sans Mono',consolas,'Courier New',monospace\">┏━━━━━━━━━━━┳━━━━━━━━━━━━━━━━━━━━━━━━━━━━━━━━━━━━━━━━━━┳━━━━━━━━━━━━━━━━┳━━━━━━━━━━┳━━━━━━━━━━━━━━━━━━━━━━━━━┳━━━━━━━━┳━━━━━━━━━━━━━┳━━━━━━━━━━━━━━━━━┳━━━━━━━━━━━━━━━━━━━━━━┓\n",
       "┃<span style=\"font-weight: bold\"> p_partkey </span>┃<span style=\"font-weight: bold\"> p_name                                   </span>┃<span style=\"font-weight: bold\"> p_mfgr         </span>┃<span style=\"font-weight: bold\"> p_brand  </span>┃<span style=\"font-weight: bold\"> p_type                  </span>┃<span style=\"font-weight: bold\"> p_size </span>┃<span style=\"font-weight: bold\"> p_container </span>┃<span style=\"font-weight: bold\"> p_retailprice   </span>┃<span style=\"font-weight: bold\"> p_comment            </span>┃\n",
       "┡━━━━━━━━━━━╇━━━━━━━━━━━━━━━━━━━━━━━━━━━━━━━━━━━━━━━━━━╇━━━━━━━━━━━━━━━━╇━━━━━━━━━━╇━━━━━━━━━━━━━━━━━━━━━━━━━╇━━━━━━━━╇━━━━━━━━━━━━━╇━━━━━━━━━━━━━━━━━╇━━━━━━━━━━━━━━━━━━━━━━┩\n",
       "│ <span style=\"color: #7f7f7f; text-decoration-color: #7f7f7f\">!int64</span>    │ <span style=\"color: #7f7f7f; text-decoration-color: #7f7f7f\">!string</span>                                  │ <span style=\"color: #7f7f7f; text-decoration-color: #7f7f7f\">!string</span>        │ <span style=\"color: #7f7f7f; text-decoration-color: #7f7f7f\">!string</span>  │ <span style=\"color: #7f7f7f; text-decoration-color: #7f7f7f\">!string</span>                 │ <span style=\"color: #7f7f7f; text-decoration-color: #7f7f7f\">!int32</span> │ <span style=\"color: #7f7f7f; text-decoration-color: #7f7f7f\">!string</span>     │ <span style=\"color: #7f7f7f; text-decoration-color: #7f7f7f\">!decimal(15, 2)</span> │ <span style=\"color: #7f7f7f; text-decoration-color: #7f7f7f\">!string</span>              │\n",
       "├───────────┼──────────────────────────────────────────┼────────────────┼──────────┼─────────────────────────┼────────┼─────────────┼─────────────────┼──────────────────────┤\n",
       "│         <span style=\"color: #008080; text-decoration-color: #008080; font-weight: bold\">1</span> │ <span style=\"color: #008000; text-decoration-color: #008000\">goldenrod lavender spring chocolate lace</span> │ <span style=\"color: #008000; text-decoration-color: #008000\">Manufacturer#1</span> │ <span style=\"color: #008000; text-decoration-color: #008000\">Brand#13</span> │ <span style=\"color: #008000; text-decoration-color: #008000\">PROMO BURNISHED COPPER </span> │      <span style=\"color: #008080; text-decoration-color: #008080; font-weight: bold\">7</span> │ <span style=\"color: #008000; text-decoration-color: #008000\">JUMBO PKG  </span> │          <span style=\"color: #008080; text-decoration-color: #008080; font-weight: bold\">901.00</span> │ <span style=\"color: #008000; text-decoration-color: #008000\">ironic pinto be     </span> │\n",
       "│         <span style=\"color: #008080; text-decoration-color: #008080; font-weight: bold\">2</span> │ <span style=\"color: #008000; text-decoration-color: #008000\">blush thistle blue yellow saddle        </span> │ <span style=\"color: #008000; text-decoration-color: #008000\">Manufacturer#1</span> │ <span style=\"color: #008000; text-decoration-color: #008000\">Brand#13</span> │ <span style=\"color: #008000; text-decoration-color: #008000\">LARGE BRUSHED BRASS    </span> │      <span style=\"color: #008080; text-decoration-color: #008080; font-weight: bold\">1</span> │ <span style=\"color: #008000; text-decoration-color: #008000\">LG CASE    </span> │          <span style=\"color: #008080; text-decoration-color: #008080; font-weight: bold\">902.00</span> │ <span style=\"color: #008000; text-decoration-color: #008000\">nding, even pack    </span> │\n",
       "│         <span style=\"color: #008080; text-decoration-color: #008080; font-weight: bold\">3</span> │ <span style=\"color: #008000; text-decoration-color: #008000\">spring green yellow purple cornsilk     </span> │ <span style=\"color: #008000; text-decoration-color: #008000\">Manufacturer#4</span> │ <span style=\"color: #008000; text-decoration-color: #008000\">Brand#42</span> │ <span style=\"color: #008000; text-decoration-color: #008000\">STANDARD POLISHED BRASS</span> │     <span style=\"color: #008080; text-decoration-color: #008080; font-weight: bold\">21</span> │ <span style=\"color: #008000; text-decoration-color: #008000\">WRAP CASE  </span> │          <span style=\"color: #008080; text-decoration-color: #008080; font-weight: bold\">903.00</span> │ <span style=\"color: #008000; text-decoration-color: #008000\">ages. blithely fina </span> │\n",
       "│         <span style=\"color: #008080; text-decoration-color: #008080; font-weight: bold\">4</span> │ <span style=\"color: #008000; text-decoration-color: #008000\">cornflower chocolate smoke green pink   </span> │ <span style=\"color: #008000; text-decoration-color: #008000\">Manufacturer#3</span> │ <span style=\"color: #008000; text-decoration-color: #008000\">Brand#34</span> │ <span style=\"color: #008000; text-decoration-color: #008000\">SMALL PLATED BRASS     </span> │     <span style=\"color: #008080; text-decoration-color: #008080; font-weight: bold\">14</span> │ <span style=\"color: #008000; text-decoration-color: #008000\">MED DRUM   </span> │          <span style=\"color: #008080; text-decoration-color: #008080; font-weight: bold\">904.00</span> │ <span style=\"color: #008000; text-decoration-color: #008000\">ckages. regul       </span> │\n",
       "│         <span style=\"color: #008080; text-decoration-color: #008080; font-weight: bold\">5</span> │ <span style=\"color: #008000; text-decoration-color: #008000\">forest brown coral puff cream           </span> │ <span style=\"color: #008000; text-decoration-color: #008000\">Manufacturer#3</span> │ <span style=\"color: #008000; text-decoration-color: #008000\">Brand#32</span> │ <span style=\"color: #008000; text-decoration-color: #008000\">STANDARD POLISHED TIN  </span> │     <span style=\"color: #008080; text-decoration-color: #008080; font-weight: bold\">15</span> │ <span style=\"color: #008000; text-decoration-color: #008000\">SM PKG     </span> │          <span style=\"color: #008080; text-decoration-color: #008080; font-weight: bold\">905.00</span> │ <span style=\"color: #008000; text-decoration-color: #008000\">pinto beans are     </span> │\n",
       "│         <span style=\"color: #008080; text-decoration-color: #008080; font-weight: bold\">6</span> │ <span style=\"color: #008000; text-decoration-color: #008000\">bisque cornflower lawn forest magenta   </span> │ <span style=\"color: #008000; text-decoration-color: #008000\">Manufacturer#2</span> │ <span style=\"color: #008000; text-decoration-color: #008000\">Brand#24</span> │ <span style=\"color: #008000; text-decoration-color: #008000\">PROMO PLATED STEEL     </span> │      <span style=\"color: #008080; text-decoration-color: #008080; font-weight: bold\">4</span> │ <span style=\"color: #008000; text-decoration-color: #008000\">MED BAG    </span> │          <span style=\"color: #008080; text-decoration-color: #008080; font-weight: bold\">906.00</span> │ <span style=\"color: #008000; text-decoration-color: #008000\">kages               </span> │\n",
       "│         <span style=\"color: #008080; text-decoration-color: #008080; font-weight: bold\">7</span> │ <span style=\"color: #008000; text-decoration-color: #008000\">moccasin green thistle khaki floral     </span> │ <span style=\"color: #008000; text-decoration-color: #008000\">Manufacturer#1</span> │ <span style=\"color: #008000; text-decoration-color: #008000\">Brand#11</span> │ <span style=\"color: #008000; text-decoration-color: #008000\">SMALL PLATED COPPER    </span> │     <span style=\"color: #008080; text-decoration-color: #008080; font-weight: bold\">45</span> │ <span style=\"color: #008000; text-decoration-color: #008000\">SM BAG     </span> │          <span style=\"color: #008080; text-decoration-color: #008080; font-weight: bold\">907.00</span> │ <span style=\"color: #008000; text-decoration-color: #008000\">gular pi            </span> │\n",
       "│         <span style=\"color: #008080; text-decoration-color: #008080; font-weight: bold\">8</span> │ <span style=\"color: #008000; text-decoration-color: #008000\">misty lace thistle snow royal           </span> │ <span style=\"color: #008000; text-decoration-color: #008000\">Manufacturer#4</span> │ <span style=\"color: #008000; text-decoration-color: #008000\">Brand#44</span> │ <span style=\"color: #008000; text-decoration-color: #008000\">PROMO BURNISHED TIN    </span> │     <span style=\"color: #008080; text-decoration-color: #008080; font-weight: bold\">41</span> │ <span style=\"color: #008000; text-decoration-color: #008000\">LG DRUM    </span> │          <span style=\"color: #008080; text-decoration-color: #008080; font-weight: bold\">908.00</span> │ <span style=\"color: #008000; text-decoration-color: #008000\">beans               </span> │\n",
       "│         <span style=\"color: #008080; text-decoration-color: #008080; font-weight: bold\">9</span> │ <span style=\"color: #008000; text-decoration-color: #008000\">thistle dim navajo dark gainsboro       </span> │ <span style=\"color: #008000; text-decoration-color: #008000\">Manufacturer#4</span> │ <span style=\"color: #008000; text-decoration-color: #008000\">Brand#43</span> │ <span style=\"color: #008000; text-decoration-color: #008000\">SMALL BURNISHED STEEL  </span> │     <span style=\"color: #008080; text-decoration-color: #008080; font-weight: bold\">12</span> │ <span style=\"color: #008000; text-decoration-color: #008000\">WRAP CASE  </span> │          <span style=\"color: #008080; text-decoration-color: #008080; font-weight: bold\">909.00</span> │ <span style=\"color: #008000; text-decoration-color: #008000\">ole furious         </span> │\n",
       "│        <span style=\"color: #008080; text-decoration-color: #008080; font-weight: bold\">10</span> │ <span style=\"color: #008000; text-decoration-color: #008000\">linen pink saddle puff powder           </span> │ <span style=\"color: #008000; text-decoration-color: #008000\">Manufacturer#5</span> │ <span style=\"color: #008000; text-decoration-color: #008000\">Brand#54</span> │ <span style=\"color: #008000; text-decoration-color: #008000\">LARGE BURNISHED STEEL  </span> │     <span style=\"color: #008080; text-decoration-color: #008080; font-weight: bold\">44</span> │ <span style=\"color: #008000; text-decoration-color: #008000\">LG CAN     </span> │          <span style=\"color: #008080; text-decoration-color: #008080; font-weight: bold\">910.01</span> │ <span style=\"color: #008000; text-decoration-color: #008000\">into beans about the</span> │\n",
       "│         <span style=\"color: #7f7f7f; text-decoration-color: #7f7f7f\">…</span> │ <span style=\"color: #7f7f7f; text-decoration-color: #7f7f7f\">…</span>                                        │ <span style=\"color: #7f7f7f; text-decoration-color: #7f7f7f\">…</span>              │ <span style=\"color: #7f7f7f; text-decoration-color: #7f7f7f\">…</span>        │ <span style=\"color: #7f7f7f; text-decoration-color: #7f7f7f\">…</span>                       │      <span style=\"color: #7f7f7f; text-decoration-color: #7f7f7f\">…</span> │ <span style=\"color: #7f7f7f; text-decoration-color: #7f7f7f\">…</span>           │               <span style=\"color: #7f7f7f; text-decoration-color: #7f7f7f\">…</span> │ <span style=\"color: #7f7f7f; text-decoration-color: #7f7f7f\">…</span>                    │\n",
       "└───────────┴──────────────────────────────────────────┴────────────────┴──────────┴─────────────────────────┴────────┴─────────────┴─────────────────┴──────────────────────┘\n",
       "</pre>\n"
      ],
      "text/plain": [
       "┏━━━━━━━━━━━┳━━━━━━━━━━━━━━━━━━━━━━━━━━━━━━━━━━━━━━━━━━┳━━━━━━━━━━━━━━━━┳━━━━━━━━━━┳━━━━━━━━━━━━━━━━━━━━━━━━━┳━━━━━━━━┳━━━━━━━━━━━━━┳━━━━━━━━━━━━━━━━━┳━━━━━━━━━━━━━━━━━━━━━━┓\n",
       "┃\u001b[1m \u001b[0m\u001b[1mp_partkey\u001b[0m\u001b[1m \u001b[0m┃\u001b[1m \u001b[0m\u001b[1mp_name\u001b[0m\u001b[1m                                  \u001b[0m\u001b[1m \u001b[0m┃\u001b[1m \u001b[0m\u001b[1mp_mfgr\u001b[0m\u001b[1m        \u001b[0m\u001b[1m \u001b[0m┃\u001b[1m \u001b[0m\u001b[1mp_brand\u001b[0m\u001b[1m \u001b[0m\u001b[1m \u001b[0m┃\u001b[1m \u001b[0m\u001b[1mp_type\u001b[0m\u001b[1m                 \u001b[0m\u001b[1m \u001b[0m┃\u001b[1m \u001b[0m\u001b[1mp_size\u001b[0m\u001b[1m \u001b[0m┃\u001b[1m \u001b[0m\u001b[1mp_container\u001b[0m\u001b[1m \u001b[0m┃\u001b[1m \u001b[0m\u001b[1mp_retailprice\u001b[0m\u001b[1m  \u001b[0m\u001b[1m \u001b[0m┃\u001b[1m \u001b[0m\u001b[1mp_comment\u001b[0m\u001b[1m           \u001b[0m\u001b[1m \u001b[0m┃\n",
       "┡━━━━━━━━━━━╇━━━━━━━━━━━━━━━━━━━━━━━━━━━━━━━━━━━━━━━━━━╇━━━━━━━━━━━━━━━━╇━━━━━━━━━━╇━━━━━━━━━━━━━━━━━━━━━━━━━╇━━━━━━━━╇━━━━━━━━━━━━━╇━━━━━━━━━━━━━━━━━╇━━━━━━━━━━━━━━━━━━━━━━┩\n",
       "│ \u001b[2m!int64\u001b[0m    │ \u001b[2m!string\u001b[0m                                  │ \u001b[2m!string\u001b[0m        │ \u001b[2m!string\u001b[0m  │ \u001b[2m!string\u001b[0m                 │ \u001b[2m!int32\u001b[0m │ \u001b[2m!string\u001b[0m     │ \u001b[2m!decimal(15, 2)\u001b[0m │ \u001b[2m!string\u001b[0m              │\n",
       "├───────────┼──────────────────────────────────────────┼────────────────┼──────────┼─────────────────────────┼────────┼─────────────┼─────────────────┼──────────────────────┤\n",
       "│         \u001b[1;36m1\u001b[0m │ \u001b[32mgoldenrod lavender spring chocolate lace\u001b[0m │ \u001b[32mManufacturer#1\u001b[0m │ \u001b[32mBrand#13\u001b[0m │ \u001b[32mPROMO BURNISHED COPPER \u001b[0m │      \u001b[1;36m7\u001b[0m │ \u001b[32mJUMBO PKG  \u001b[0m │          \u001b[1;36m901.00\u001b[0m │ \u001b[32mironic pinto be     \u001b[0m │\n",
       "│         \u001b[1;36m2\u001b[0m │ \u001b[32mblush thistle blue yellow saddle        \u001b[0m │ \u001b[32mManufacturer#1\u001b[0m │ \u001b[32mBrand#13\u001b[0m │ \u001b[32mLARGE BRUSHED BRASS    \u001b[0m │      \u001b[1;36m1\u001b[0m │ \u001b[32mLG CASE    \u001b[0m │          \u001b[1;36m902.00\u001b[0m │ \u001b[32mnding, even pack    \u001b[0m │\n",
       "│         \u001b[1;36m3\u001b[0m │ \u001b[32mspring green yellow purple cornsilk     \u001b[0m │ \u001b[32mManufacturer#4\u001b[0m │ \u001b[32mBrand#42\u001b[0m │ \u001b[32mSTANDARD POLISHED BRASS\u001b[0m │     \u001b[1;36m21\u001b[0m │ \u001b[32mWRAP CASE  \u001b[0m │          \u001b[1;36m903.00\u001b[0m │ \u001b[32mages. blithely fina \u001b[0m │\n",
       "│         \u001b[1;36m4\u001b[0m │ \u001b[32mcornflower chocolate smoke green pink   \u001b[0m │ \u001b[32mManufacturer#3\u001b[0m │ \u001b[32mBrand#34\u001b[0m │ \u001b[32mSMALL PLATED BRASS     \u001b[0m │     \u001b[1;36m14\u001b[0m │ \u001b[32mMED DRUM   \u001b[0m │          \u001b[1;36m904.00\u001b[0m │ \u001b[32mckages. regul       \u001b[0m │\n",
       "│         \u001b[1;36m5\u001b[0m │ \u001b[32mforest brown coral puff cream           \u001b[0m │ \u001b[32mManufacturer#3\u001b[0m │ \u001b[32mBrand#32\u001b[0m │ \u001b[32mSTANDARD POLISHED TIN  \u001b[0m │     \u001b[1;36m15\u001b[0m │ \u001b[32mSM PKG     \u001b[0m │          \u001b[1;36m905.00\u001b[0m │ \u001b[32mpinto beans are     \u001b[0m │\n",
       "│         \u001b[1;36m6\u001b[0m │ \u001b[32mbisque cornflower lawn forest magenta   \u001b[0m │ \u001b[32mManufacturer#2\u001b[0m │ \u001b[32mBrand#24\u001b[0m │ \u001b[32mPROMO PLATED STEEL     \u001b[0m │      \u001b[1;36m4\u001b[0m │ \u001b[32mMED BAG    \u001b[0m │          \u001b[1;36m906.00\u001b[0m │ \u001b[32mkages               \u001b[0m │\n",
       "│         \u001b[1;36m7\u001b[0m │ \u001b[32mmoccasin green thistle khaki floral     \u001b[0m │ \u001b[32mManufacturer#1\u001b[0m │ \u001b[32mBrand#11\u001b[0m │ \u001b[32mSMALL PLATED COPPER    \u001b[0m │     \u001b[1;36m45\u001b[0m │ \u001b[32mSM BAG     \u001b[0m │          \u001b[1;36m907.00\u001b[0m │ \u001b[32mgular pi            \u001b[0m │\n",
       "│         \u001b[1;36m8\u001b[0m │ \u001b[32mmisty lace thistle snow royal           \u001b[0m │ \u001b[32mManufacturer#4\u001b[0m │ \u001b[32mBrand#44\u001b[0m │ \u001b[32mPROMO BURNISHED TIN    \u001b[0m │     \u001b[1;36m41\u001b[0m │ \u001b[32mLG DRUM    \u001b[0m │          \u001b[1;36m908.00\u001b[0m │ \u001b[32mbeans               \u001b[0m │\n",
       "│         \u001b[1;36m9\u001b[0m │ \u001b[32mthistle dim navajo dark gainsboro       \u001b[0m │ \u001b[32mManufacturer#4\u001b[0m │ \u001b[32mBrand#43\u001b[0m │ \u001b[32mSMALL BURNISHED STEEL  \u001b[0m │     \u001b[1;36m12\u001b[0m │ \u001b[32mWRAP CASE  \u001b[0m │          \u001b[1;36m909.00\u001b[0m │ \u001b[32mole furious         \u001b[0m │\n",
       "│        \u001b[1;36m10\u001b[0m │ \u001b[32mlinen pink saddle puff powder           \u001b[0m │ \u001b[32mManufacturer#5\u001b[0m │ \u001b[32mBrand#54\u001b[0m │ \u001b[32mLARGE BURNISHED STEEL  \u001b[0m │     \u001b[1;36m44\u001b[0m │ \u001b[32mLG CAN     \u001b[0m │          \u001b[1;36m910.01\u001b[0m │ \u001b[32minto beans about the\u001b[0m │\n",
       "│         \u001b[2m…\u001b[0m │ \u001b[2m…\u001b[0m                                        │ \u001b[2m…\u001b[0m              │ \u001b[2m…\u001b[0m        │ \u001b[2m…\u001b[0m                       │      \u001b[2m…\u001b[0m │ \u001b[2m…\u001b[0m           │               \u001b[2m…\u001b[0m │ \u001b[2m…\u001b[0m                    │\n",
       "└───────────┴──────────────────────────────────────────┴────────────────┴──────────┴─────────────────────────┴────────┴─────────────┴─────────────────┴──────────────────────┘"
      ]
     },
     "execution_count": 3,
     "metadata": {},
     "output_type": "execute_result"
    }
   ],
   "source": [
    "ibis.options.interactive = True\n",
    "part"
   ]
  },
  {
   "cell_type": "markdown",
   "metadata": {},
   "source": [
    "### join"
   ]
  },
  {
   "cell_type": "code",
   "execution_count": 29,
   "metadata": {},
   "outputs": [
    {
     "data": {
      "text/html": [
       "<pre style=\"white-space:pre;overflow-x:auto;line-height:normal;font-family:Menlo,'DejaVu Sans Mono',consolas,'Courier New',monospace\">┏━━━━━━━━━━━┳━━━━━━━━━━━━━━━━━━━━━━━━━━━━━━━━━━━━━━━━━━┳━━━━━━━━━━━━━━━━┳━━━━━━━━━━┳━━━━━━━━━━━━━━━━━━━━━━━━━┳━━━━━━━━┳━━━━━━━━━━━━━┳━━━━━━━━━━━━━━━━┳━━━━━━━━━━━━━━━━━━━━━┳━━━━━━━━━━━━┳━━━━━━━━━━━━┳━━━━━━━━━━━━━┳━━━━━━━━━━━━━━━━┳━━━━━━━━━━━━━━━━━━━━━━━━━━━━━━━━━━━━━━━━━━━━━━━━━━━━━━━━━━━━━━━━━━━━━━━━━━━━━━━━━━┓\n",
       "┃<span style=\"font-weight: bold\"> p_partkey </span>┃<span style=\"font-weight: bold\"> p_name                                   </span>┃<span style=\"font-weight: bold\"> p_mfgr         </span>┃<span style=\"font-weight: bold\"> p_brand  </span>┃<span style=\"font-weight: bold\"> p_type                  </span>┃<span style=\"font-weight: bold\"> p_size </span>┃<span style=\"font-weight: bold\"> p_container </span>┃<span style=\"font-weight: bold\"> p_retailprice  </span>┃<span style=\"font-weight: bold\"> p_comment           </span>┃<span style=\"font-weight: bold\"> ps_partkey </span>┃<span style=\"font-weight: bold\"> ps_suppkey </span>┃<span style=\"font-weight: bold\"> ps_availqty </span>┃<span style=\"font-weight: bold\"> ps_supplycost  </span>┃<span style=\"font-weight: bold\"> ps_comment                                                                       </span>┃\n",
       "┡━━━━━━━━━━━╇━━━━━━━━━━━━━━━━━━━━━━━━━━━━━━━━━━━━━━━━━━╇━━━━━━━━━━━━━━━━╇━━━━━━━━━━╇━━━━━━━━━━━━━━━━━━━━━━━━━╇━━━━━━━━╇━━━━━━━━━━━━━╇━━━━━━━━━━━━━━━━╇━━━━━━━━━━━━━━━━━━━━━╇━━━━━━━━━━━━╇━━━━━━━━━━━━╇━━━━━━━━━━━━━╇━━━━━━━━━━━━━━━━╇━━━━━━━━━━━━━━━━━━━━━━━━━━━━━━━━━━━━━━━━━━━━━━━━━━━━━━━━━━━━━━━━━━━━━━━━━━━━━━━━━━┩\n",
       "│ <span style=\"color: #7f7f7f; text-decoration-color: #7f7f7f\">int64</span>     │ <span style=\"color: #7f7f7f; text-decoration-color: #7f7f7f\">string</span>                                   │ <span style=\"color: #7f7f7f; text-decoration-color: #7f7f7f\">string</span>         │ <span style=\"color: #7f7f7f; text-decoration-color: #7f7f7f\">string</span>   │ <span style=\"color: #7f7f7f; text-decoration-color: #7f7f7f\">string</span>                  │ <span style=\"color: #7f7f7f; text-decoration-color: #7f7f7f\">int32</span>  │ <span style=\"color: #7f7f7f; text-decoration-color: #7f7f7f\">string</span>      │ <span style=\"color: #7f7f7f; text-decoration-color: #7f7f7f\">decimal(15, 2)</span> │ <span style=\"color: #7f7f7f; text-decoration-color: #7f7f7f\">string</span>              │ <span style=\"color: #7f7f7f; text-decoration-color: #7f7f7f\">int64</span>      │ <span style=\"color: #7f7f7f; text-decoration-color: #7f7f7f\">int64</span>      │ <span style=\"color: #7f7f7f; text-decoration-color: #7f7f7f\">int64</span>       │ <span style=\"color: #7f7f7f; text-decoration-color: #7f7f7f\">decimal(15, 2)</span> │ <span style=\"color: #7f7f7f; text-decoration-color: #7f7f7f\">string</span>                                                                           │\n",
       "├───────────┼──────────────────────────────────────────┼────────────────┼──────────┼─────────────────────────┼────────┼─────────────┼────────────────┼─────────────────────┼────────────┼────────────┼─────────────┼────────────────┼──────────────────────────────────────────────────────────────────────────────────┤\n",
       "│         <span style=\"color: #008080; text-decoration-color: #008080; font-weight: bold\">1</span> │ <span style=\"color: #008000; text-decoration-color: #008000\">goldenrod lavender spring chocolate lace</span> │ <span style=\"color: #008000; text-decoration-color: #008000\">Manufacturer#1</span> │ <span style=\"color: #008000; text-decoration-color: #008000\">Brand#13</span> │ <span style=\"color: #008000; text-decoration-color: #008000\">PROMO BURNISHED COPPER </span> │      <span style=\"color: #008080; text-decoration-color: #008080; font-weight: bold\">7</span> │ <span style=\"color: #008000; text-decoration-color: #008000\">JUMBO PKG  </span> │         <span style=\"color: #008080; text-decoration-color: #008080; font-weight: bold\">901.00</span> │ <span style=\"color: #008000; text-decoration-color: #008000\">ironic pinto be    </span> │          <span style=\"color: #008080; text-decoration-color: #008080; font-weight: bold\">1</span> │          <span style=\"color: #008080; text-decoration-color: #008080; font-weight: bold\">2</span> │        <span style=\"color: #008080; text-decoration-color: #008080; font-weight: bold\">3325</span> │         <span style=\"color: #008080; text-decoration-color: #008080; font-weight: bold\">771.64</span> │ <span style=\"color: #008000; text-decoration-color: #008000\">blithely regular theodolites sleep slyly across the sometimes bold dependencies…</span> │\n",
       "│         <span style=\"color: #008080; text-decoration-color: #008080; font-weight: bold\">1</span> │ <span style=\"color: #008000; text-decoration-color: #008000\">goldenrod lavender spring chocolate lace</span> │ <span style=\"color: #008000; text-decoration-color: #008000\">Manufacturer#1</span> │ <span style=\"color: #008000; text-decoration-color: #008000\">Brand#13</span> │ <span style=\"color: #008000; text-decoration-color: #008000\">PROMO BURNISHED COPPER </span> │      <span style=\"color: #008080; text-decoration-color: #008080; font-weight: bold\">7</span> │ <span style=\"color: #008000; text-decoration-color: #008000\">JUMBO PKG  </span> │         <span style=\"color: #008080; text-decoration-color: #008080; font-weight: bold\">901.00</span> │ <span style=\"color: #008000; text-decoration-color: #008000\">ironic pinto be    </span> │          <span style=\"color: #008080; text-decoration-color: #008080; font-weight: bold\">1</span> │       <span style=\"color: #008080; text-decoration-color: #008080; font-weight: bold\">2502</span> │        <span style=\"color: #008080; text-decoration-color: #008080; font-weight: bold\">8076</span> │         <span style=\"color: #008080; text-decoration-color: #008080; font-weight: bold\">993.49</span> │ <span style=\"color: #008000; text-decoration-color: #008000\">ts boost carefully ironic, regular accounts. final theodolites cajole slyly. fi…</span> │\n",
       "│         <span style=\"color: #008080; text-decoration-color: #008080; font-weight: bold\">1</span> │ <span style=\"color: #008000; text-decoration-color: #008000\">goldenrod lavender spring chocolate lace</span> │ <span style=\"color: #008000; text-decoration-color: #008000\">Manufacturer#1</span> │ <span style=\"color: #008000; text-decoration-color: #008000\">Brand#13</span> │ <span style=\"color: #008000; text-decoration-color: #008000\">PROMO BURNISHED COPPER </span> │      <span style=\"color: #008080; text-decoration-color: #008080; font-weight: bold\">7</span> │ <span style=\"color: #008000; text-decoration-color: #008000\">JUMBO PKG  </span> │         <span style=\"color: #008080; text-decoration-color: #008080; font-weight: bold\">901.00</span> │ <span style=\"color: #008000; text-decoration-color: #008000\">ironic pinto be    </span> │          <span style=\"color: #008080; text-decoration-color: #008080; font-weight: bold\">1</span> │       <span style=\"color: #008080; text-decoration-color: #008080; font-weight: bold\">5002</span> │        <span style=\"color: #008080; text-decoration-color: #008080; font-weight: bold\">3956</span> │         <span style=\"color: #008080; text-decoration-color: #008080; font-weight: bold\">337.09</span> │ <span style=\"color: #008000; text-decoration-color: #008000\"> fluffily regular multipliers? sheaves integrate slyly ideas. furiously special…</span> │\n",
       "│         <span style=\"color: #008080; text-decoration-color: #008080; font-weight: bold\">1</span> │ <span style=\"color: #008000; text-decoration-color: #008000\">goldenrod lavender spring chocolate lace</span> │ <span style=\"color: #008000; text-decoration-color: #008000\">Manufacturer#1</span> │ <span style=\"color: #008000; text-decoration-color: #008000\">Brand#13</span> │ <span style=\"color: #008000; text-decoration-color: #008000\">PROMO BURNISHED COPPER </span> │      <span style=\"color: #008080; text-decoration-color: #008080; font-weight: bold\">7</span> │ <span style=\"color: #008000; text-decoration-color: #008000\">JUMBO PKG  </span> │         <span style=\"color: #008080; text-decoration-color: #008080; font-weight: bold\">901.00</span> │ <span style=\"color: #008000; text-decoration-color: #008000\">ironic pinto be    </span> │          <span style=\"color: #008080; text-decoration-color: #008080; font-weight: bold\">1</span> │       <span style=\"color: #008080; text-decoration-color: #008080; font-weight: bold\">7502</span> │        <span style=\"color: #008080; text-decoration-color: #008080; font-weight: bold\">4069</span> │         <span style=\"color: #008080; text-decoration-color: #008080; font-weight: bold\">357.84</span> │ <span style=\"color: #008000; text-decoration-color: #008000\">press deposits. special courts about the slyly final accounts haggle blithely f…</span> │\n",
       "│         <span style=\"color: #008080; text-decoration-color: #008080; font-weight: bold\">2</span> │ <span style=\"color: #008000; text-decoration-color: #008000\">blush thistle blue yellow saddle        </span> │ <span style=\"color: #008000; text-decoration-color: #008000\">Manufacturer#1</span> │ <span style=\"color: #008000; text-decoration-color: #008000\">Brand#13</span> │ <span style=\"color: #008000; text-decoration-color: #008000\">LARGE BRUSHED BRASS    </span> │      <span style=\"color: #008080; text-decoration-color: #008080; font-weight: bold\">1</span> │ <span style=\"color: #008000; text-decoration-color: #008000\">LG CASE    </span> │         <span style=\"color: #008080; text-decoration-color: #008080; font-weight: bold\">902.00</span> │ <span style=\"color: #008000; text-decoration-color: #008000\">nding, even pack   </span> │          <span style=\"color: #008080; text-decoration-color: #008080; font-weight: bold\">2</span> │          <span style=\"color: #008080; text-decoration-color: #008080; font-weight: bold\">3</span> │        <span style=\"color: #008080; text-decoration-color: #008080; font-weight: bold\">8895</span> │         <span style=\"color: #008080; text-decoration-color: #008080; font-weight: bold\">378.49</span> │ <span style=\"color: #008000; text-decoration-color: #008000\">sits. furiously regular packages boost blithely? requests affix slyly even pack…</span> │\n",
       "│         <span style=\"color: #008080; text-decoration-color: #008080; font-weight: bold\">2</span> │ <span style=\"color: #008000; text-decoration-color: #008000\">blush thistle blue yellow saddle        </span> │ <span style=\"color: #008000; text-decoration-color: #008000\">Manufacturer#1</span> │ <span style=\"color: #008000; text-decoration-color: #008000\">Brand#13</span> │ <span style=\"color: #008000; text-decoration-color: #008000\">LARGE BRUSHED BRASS    </span> │      <span style=\"color: #008080; text-decoration-color: #008080; font-weight: bold\">1</span> │ <span style=\"color: #008000; text-decoration-color: #008000\">LG CASE    </span> │         <span style=\"color: #008080; text-decoration-color: #008080; font-weight: bold\">902.00</span> │ <span style=\"color: #008000; text-decoration-color: #008000\">nding, even pack   </span> │          <span style=\"color: #008080; text-decoration-color: #008080; font-weight: bold\">2</span> │       <span style=\"color: #008080; text-decoration-color: #008080; font-weight: bold\">2503</span> │        <span style=\"color: #008080; text-decoration-color: #008080; font-weight: bold\">4969</span> │         <span style=\"color: #008080; text-decoration-color: #008080; font-weight: bold\">915.27</span> │ <span style=\"color: #008000; text-decoration-color: #008000\">deposits doze. slyly express pinto beans haggle blithely against the furiously …</span> │\n",
       "│         <span style=\"color: #008080; text-decoration-color: #008080; font-weight: bold\">2</span> │ <span style=\"color: #008000; text-decoration-color: #008000\">blush thistle blue yellow saddle        </span> │ <span style=\"color: #008000; text-decoration-color: #008000\">Manufacturer#1</span> │ <span style=\"color: #008000; text-decoration-color: #008000\">Brand#13</span> │ <span style=\"color: #008000; text-decoration-color: #008000\">LARGE BRUSHED BRASS    </span> │      <span style=\"color: #008080; text-decoration-color: #008080; font-weight: bold\">1</span> │ <span style=\"color: #008000; text-decoration-color: #008000\">LG CASE    </span> │         <span style=\"color: #008080; text-decoration-color: #008080; font-weight: bold\">902.00</span> │ <span style=\"color: #008000; text-decoration-color: #008000\">nding, even pack   </span> │          <span style=\"color: #008080; text-decoration-color: #008080; font-weight: bold\">2</span> │       <span style=\"color: #008080; text-decoration-color: #008080; font-weight: bold\">5003</span> │        <span style=\"color: #008080; text-decoration-color: #008080; font-weight: bold\">8539</span> │         <span style=\"color: #008080; text-decoration-color: #008080; font-weight: bold\">438.37</span> │ <span style=\"color: #008000; text-decoration-color: #008000\">s. furiously final dependencies boost slyly slyly regular accounts. final depos…</span> │\n",
       "│         <span style=\"color: #008080; text-decoration-color: #008080; font-weight: bold\">2</span> │ <span style=\"color: #008000; text-decoration-color: #008000\">blush thistle blue yellow saddle        </span> │ <span style=\"color: #008000; text-decoration-color: #008000\">Manufacturer#1</span> │ <span style=\"color: #008000; text-decoration-color: #008000\">Brand#13</span> │ <span style=\"color: #008000; text-decoration-color: #008000\">LARGE BRUSHED BRASS    </span> │      <span style=\"color: #008080; text-decoration-color: #008080; font-weight: bold\">1</span> │ <span style=\"color: #008000; text-decoration-color: #008000\">LG CASE    </span> │         <span style=\"color: #008080; text-decoration-color: #008080; font-weight: bold\">902.00</span> │ <span style=\"color: #008000; text-decoration-color: #008000\">nding, even pack   </span> │          <span style=\"color: #008080; text-decoration-color: #008080; font-weight: bold\">2</span> │       <span style=\"color: #008080; text-decoration-color: #008080; font-weight: bold\">7503</span> │        <span style=\"color: #008080; text-decoration-color: #008080; font-weight: bold\">3025</span> │         <span style=\"color: #008080; text-decoration-color: #008080; font-weight: bold\">306.39</span> │ <span style=\"color: #008000; text-decoration-color: #008000\">ecial accounts cajole carefully bold deposits. even, regular foxes above the fi…</span> │\n",
       "│         <span style=\"color: #008080; text-decoration-color: #008080; font-weight: bold\">3</span> │ <span style=\"color: #008000; text-decoration-color: #008000\">spring green yellow purple cornsilk     </span> │ <span style=\"color: #008000; text-decoration-color: #008000\">Manufacturer#4</span> │ <span style=\"color: #008000; text-decoration-color: #008000\">Brand#42</span> │ <span style=\"color: #008000; text-decoration-color: #008000\">STANDARD POLISHED BRASS</span> │     <span style=\"color: #008080; text-decoration-color: #008080; font-weight: bold\">21</span> │ <span style=\"color: #008000; text-decoration-color: #008000\">WRAP CASE  </span> │         <span style=\"color: #008080; text-decoration-color: #008080; font-weight: bold\">903.00</span> │ <span style=\"color: #008000; text-decoration-color: #008000\">ages. blithely fina</span> │          <span style=\"color: #008080; text-decoration-color: #008080; font-weight: bold\">3</span> │          <span style=\"color: #008080; text-decoration-color: #008080; font-weight: bold\">4</span> │        <span style=\"color: #008080; text-decoration-color: #008080; font-weight: bold\">4651</span> │         <span style=\"color: #008080; text-decoration-color: #008080; font-weight: bold\">920.92</span> │ <span style=\"color: #008000; text-decoration-color: #008000\"> silent accounts. slyly ironic pinto beans wake above the furiously express dep…</span> │\n",
       "│         <span style=\"color: #008080; text-decoration-color: #008080; font-weight: bold\">3</span> │ <span style=\"color: #008000; text-decoration-color: #008000\">spring green yellow purple cornsilk     </span> │ <span style=\"color: #008000; text-decoration-color: #008000\">Manufacturer#4</span> │ <span style=\"color: #008000; text-decoration-color: #008000\">Brand#42</span> │ <span style=\"color: #008000; text-decoration-color: #008000\">STANDARD POLISHED BRASS</span> │     <span style=\"color: #008080; text-decoration-color: #008080; font-weight: bold\">21</span> │ <span style=\"color: #008000; text-decoration-color: #008000\">WRAP CASE  </span> │         <span style=\"color: #008080; text-decoration-color: #008080; font-weight: bold\">903.00</span> │ <span style=\"color: #008000; text-decoration-color: #008000\">ages. blithely fina</span> │          <span style=\"color: #008080; text-decoration-color: #008080; font-weight: bold\">3</span> │       <span style=\"color: #008080; text-decoration-color: #008080; font-weight: bold\">2504</span> │        <span style=\"color: #008080; text-decoration-color: #008080; font-weight: bold\">4093</span> │         <span style=\"color: #008080; text-decoration-color: #008080; font-weight: bold\">498.13</span> │ <span style=\"color: #008000; text-decoration-color: #008000\">cross the furiously special theodolites. regular, ironic ideas around the furio…</span> │\n",
       "│         <span style=\"color: #7f7f7f; text-decoration-color: #7f7f7f\">…</span> │ <span style=\"color: #7f7f7f; text-decoration-color: #7f7f7f\">…</span>                                        │ <span style=\"color: #7f7f7f; text-decoration-color: #7f7f7f\">…</span>              │ <span style=\"color: #7f7f7f; text-decoration-color: #7f7f7f\">…</span>        │ <span style=\"color: #7f7f7f; text-decoration-color: #7f7f7f\">…</span>                       │      <span style=\"color: #7f7f7f; text-decoration-color: #7f7f7f\">…</span> │ <span style=\"color: #7f7f7f; text-decoration-color: #7f7f7f\">…</span>           │              <span style=\"color: #7f7f7f; text-decoration-color: #7f7f7f\">…</span> │ <span style=\"color: #7f7f7f; text-decoration-color: #7f7f7f\">…</span>                   │          <span style=\"color: #7f7f7f; text-decoration-color: #7f7f7f\">…</span> │          <span style=\"color: #7f7f7f; text-decoration-color: #7f7f7f\">…</span> │           <span style=\"color: #7f7f7f; text-decoration-color: #7f7f7f\">…</span> │              <span style=\"color: #7f7f7f; text-decoration-color: #7f7f7f\">…</span> │ <span style=\"color: #7f7f7f; text-decoration-color: #7f7f7f\">…</span>                                                                                │\n",
       "└───────────┴──────────────────────────────────────────┴────────────────┴──────────┴─────────────────────────┴────────┴─────────────┴────────────────┴─────────────────────┴────────────┴────────────┴─────────────┴────────────────┴──────────────────────────────────────────────────────────────────────────────────┘\n",
       "</pre>\n"
      ],
      "text/plain": [
       "┏━━━━━━━━━━━┳━━━━━━━━━━━━━━━━━━━━━━━━━━━━━━━━━━━━━━━━━━┳━━━━━━━━━━━━━━━━┳━━━━━━━━━━┳━━━━━━━━━━━━━━━━━━━━━━━━━┳━━━━━━━━┳━━━━━━━━━━━━━┳━━━━━━━━━━━━━━━━┳━━━━━━━━━━━━━━━━━━━━━┳━━━━━━━━━━━━┳━━━━━━━━━━━━┳━━━━━━━━━━━━━┳━━━━━━━━━━━━━━━━┳━━━━━━━━━━━━━━━━━━━━━━━━━━━━━━━━━━━━━━━━━━━━━━━━━━━━━━━━━━━━━━━━━━━━━━━━━━━━━━━━━━┓\n",
       "┃\u001b[1m \u001b[0m\u001b[1mp_partkey\u001b[0m\u001b[1m \u001b[0m┃\u001b[1m \u001b[0m\u001b[1mp_name\u001b[0m\u001b[1m                                  \u001b[0m\u001b[1m \u001b[0m┃\u001b[1m \u001b[0m\u001b[1mp_mfgr\u001b[0m\u001b[1m        \u001b[0m\u001b[1m \u001b[0m┃\u001b[1m \u001b[0m\u001b[1mp_brand\u001b[0m\u001b[1m \u001b[0m\u001b[1m \u001b[0m┃\u001b[1m \u001b[0m\u001b[1mp_type\u001b[0m\u001b[1m                 \u001b[0m\u001b[1m \u001b[0m┃\u001b[1m \u001b[0m\u001b[1mp_size\u001b[0m\u001b[1m \u001b[0m┃\u001b[1m \u001b[0m\u001b[1mp_container\u001b[0m\u001b[1m \u001b[0m┃\u001b[1m \u001b[0m\u001b[1mp_retailprice\u001b[0m\u001b[1m \u001b[0m\u001b[1m \u001b[0m┃\u001b[1m \u001b[0m\u001b[1mp_comment\u001b[0m\u001b[1m          \u001b[0m\u001b[1m \u001b[0m┃\u001b[1m \u001b[0m\u001b[1mps_partkey\u001b[0m\u001b[1m \u001b[0m┃\u001b[1m \u001b[0m\u001b[1mps_suppkey\u001b[0m\u001b[1m \u001b[0m┃\u001b[1m \u001b[0m\u001b[1mps_availqty\u001b[0m\u001b[1m \u001b[0m┃\u001b[1m \u001b[0m\u001b[1mps_supplycost\u001b[0m\u001b[1m \u001b[0m\u001b[1m \u001b[0m┃\u001b[1m \u001b[0m\u001b[1mps_comment\u001b[0m\u001b[1m                                                                      \u001b[0m\u001b[1m \u001b[0m┃\n",
       "┡━━━━━━━━━━━╇━━━━━━━━━━━━━━━━━━━━━━━━━━━━━━━━━━━━━━━━━━╇━━━━━━━━━━━━━━━━╇━━━━━━━━━━╇━━━━━━━━━━━━━━━━━━━━━━━━━╇━━━━━━━━╇━━━━━━━━━━━━━╇━━━━━━━━━━━━━━━━╇━━━━━━━━━━━━━━━━━━━━━╇━━━━━━━━━━━━╇━━━━━━━━━━━━╇━━━━━━━━━━━━━╇━━━━━━━━━━━━━━━━╇━━━━━━━━━━━━━━━━━━━━━━━━━━━━━━━━━━━━━━━━━━━━━━━━━━━━━━━━━━━━━━━━━━━━━━━━━━━━━━━━━━┩\n",
       "│ \u001b[2mint64\u001b[0m     │ \u001b[2mstring\u001b[0m                                   │ \u001b[2mstring\u001b[0m         │ \u001b[2mstring\u001b[0m   │ \u001b[2mstring\u001b[0m                  │ \u001b[2mint32\u001b[0m  │ \u001b[2mstring\u001b[0m      │ \u001b[2mdecimal(15, 2)\u001b[0m │ \u001b[2mstring\u001b[0m              │ \u001b[2mint64\u001b[0m      │ \u001b[2mint64\u001b[0m      │ \u001b[2mint64\u001b[0m       │ \u001b[2mdecimal(15, 2)\u001b[0m │ \u001b[2mstring\u001b[0m                                                                           │\n",
       "├───────────┼──────────────────────────────────────────┼────────────────┼──────────┼─────────────────────────┼────────┼─────────────┼────────────────┼─────────────────────┼────────────┼────────────┼─────────────┼────────────────┼──────────────────────────────────────────────────────────────────────────────────┤\n",
       "│         \u001b[1;36m1\u001b[0m │ \u001b[32mgoldenrod lavender spring chocolate lace\u001b[0m │ \u001b[32mManufacturer#1\u001b[0m │ \u001b[32mBrand#13\u001b[0m │ \u001b[32mPROMO BURNISHED COPPER \u001b[0m │      \u001b[1;36m7\u001b[0m │ \u001b[32mJUMBO PKG  \u001b[0m │         \u001b[1;36m901.00\u001b[0m │ \u001b[32mironic pinto be    \u001b[0m │          \u001b[1;36m1\u001b[0m │          \u001b[1;36m2\u001b[0m │        \u001b[1;36m3325\u001b[0m │         \u001b[1;36m771.64\u001b[0m │ \u001b[32mblithely regular theodolites sleep slyly across the sometimes bold dependencies…\u001b[0m │\n",
       "│         \u001b[1;36m1\u001b[0m │ \u001b[32mgoldenrod lavender spring chocolate lace\u001b[0m │ \u001b[32mManufacturer#1\u001b[0m │ \u001b[32mBrand#13\u001b[0m │ \u001b[32mPROMO BURNISHED COPPER \u001b[0m │      \u001b[1;36m7\u001b[0m │ \u001b[32mJUMBO PKG  \u001b[0m │         \u001b[1;36m901.00\u001b[0m │ \u001b[32mironic pinto be    \u001b[0m │          \u001b[1;36m1\u001b[0m │       \u001b[1;36m2502\u001b[0m │        \u001b[1;36m8076\u001b[0m │         \u001b[1;36m993.49\u001b[0m │ \u001b[32mts boost carefully ironic, regular accounts. final theodolites cajole slyly. fi…\u001b[0m │\n",
       "│         \u001b[1;36m1\u001b[0m │ \u001b[32mgoldenrod lavender spring chocolate lace\u001b[0m │ \u001b[32mManufacturer#1\u001b[0m │ \u001b[32mBrand#13\u001b[0m │ \u001b[32mPROMO BURNISHED COPPER \u001b[0m │      \u001b[1;36m7\u001b[0m │ \u001b[32mJUMBO PKG  \u001b[0m │         \u001b[1;36m901.00\u001b[0m │ \u001b[32mironic pinto be    \u001b[0m │          \u001b[1;36m1\u001b[0m │       \u001b[1;36m5002\u001b[0m │        \u001b[1;36m3956\u001b[0m │         \u001b[1;36m337.09\u001b[0m │ \u001b[32m fluffily regular multipliers? sheaves integrate slyly ideas. furiously special…\u001b[0m │\n",
       "│         \u001b[1;36m1\u001b[0m │ \u001b[32mgoldenrod lavender spring chocolate lace\u001b[0m │ \u001b[32mManufacturer#1\u001b[0m │ \u001b[32mBrand#13\u001b[0m │ \u001b[32mPROMO BURNISHED COPPER \u001b[0m │      \u001b[1;36m7\u001b[0m │ \u001b[32mJUMBO PKG  \u001b[0m │         \u001b[1;36m901.00\u001b[0m │ \u001b[32mironic pinto be    \u001b[0m │          \u001b[1;36m1\u001b[0m │       \u001b[1;36m7502\u001b[0m │        \u001b[1;36m4069\u001b[0m │         \u001b[1;36m357.84\u001b[0m │ \u001b[32mpress deposits. special courts about the slyly final accounts haggle blithely f…\u001b[0m │\n",
       "│         \u001b[1;36m2\u001b[0m │ \u001b[32mblush thistle blue yellow saddle        \u001b[0m │ \u001b[32mManufacturer#1\u001b[0m │ \u001b[32mBrand#13\u001b[0m │ \u001b[32mLARGE BRUSHED BRASS    \u001b[0m │      \u001b[1;36m1\u001b[0m │ \u001b[32mLG CASE    \u001b[0m │         \u001b[1;36m902.00\u001b[0m │ \u001b[32mnding, even pack   \u001b[0m │          \u001b[1;36m2\u001b[0m │          \u001b[1;36m3\u001b[0m │        \u001b[1;36m8895\u001b[0m │         \u001b[1;36m378.49\u001b[0m │ \u001b[32msits. furiously regular packages boost blithely? requests affix slyly even pack…\u001b[0m │\n",
       "│         \u001b[1;36m2\u001b[0m │ \u001b[32mblush thistle blue yellow saddle        \u001b[0m │ \u001b[32mManufacturer#1\u001b[0m │ \u001b[32mBrand#13\u001b[0m │ \u001b[32mLARGE BRUSHED BRASS    \u001b[0m │      \u001b[1;36m1\u001b[0m │ \u001b[32mLG CASE    \u001b[0m │         \u001b[1;36m902.00\u001b[0m │ \u001b[32mnding, even pack   \u001b[0m │          \u001b[1;36m2\u001b[0m │       \u001b[1;36m2503\u001b[0m │        \u001b[1;36m4969\u001b[0m │         \u001b[1;36m915.27\u001b[0m │ \u001b[32mdeposits doze. slyly express pinto beans haggle blithely against the furiously …\u001b[0m │\n",
       "│         \u001b[1;36m2\u001b[0m │ \u001b[32mblush thistle blue yellow saddle        \u001b[0m │ \u001b[32mManufacturer#1\u001b[0m │ \u001b[32mBrand#13\u001b[0m │ \u001b[32mLARGE BRUSHED BRASS    \u001b[0m │      \u001b[1;36m1\u001b[0m │ \u001b[32mLG CASE    \u001b[0m │         \u001b[1;36m902.00\u001b[0m │ \u001b[32mnding, even pack   \u001b[0m │          \u001b[1;36m2\u001b[0m │       \u001b[1;36m5003\u001b[0m │        \u001b[1;36m8539\u001b[0m │         \u001b[1;36m438.37\u001b[0m │ \u001b[32ms. furiously final dependencies boost slyly slyly regular accounts. final depos…\u001b[0m │\n",
       "│         \u001b[1;36m2\u001b[0m │ \u001b[32mblush thistle blue yellow saddle        \u001b[0m │ \u001b[32mManufacturer#1\u001b[0m │ \u001b[32mBrand#13\u001b[0m │ \u001b[32mLARGE BRUSHED BRASS    \u001b[0m │      \u001b[1;36m1\u001b[0m │ \u001b[32mLG CASE    \u001b[0m │         \u001b[1;36m902.00\u001b[0m │ \u001b[32mnding, even pack   \u001b[0m │          \u001b[1;36m2\u001b[0m │       \u001b[1;36m7503\u001b[0m │        \u001b[1;36m3025\u001b[0m │         \u001b[1;36m306.39\u001b[0m │ \u001b[32mecial accounts cajole carefully bold deposits. even, regular foxes above the fi…\u001b[0m │\n",
       "│         \u001b[1;36m3\u001b[0m │ \u001b[32mspring green yellow purple cornsilk     \u001b[0m │ \u001b[32mManufacturer#4\u001b[0m │ \u001b[32mBrand#42\u001b[0m │ \u001b[32mSTANDARD POLISHED BRASS\u001b[0m │     \u001b[1;36m21\u001b[0m │ \u001b[32mWRAP CASE  \u001b[0m │         \u001b[1;36m903.00\u001b[0m │ \u001b[32mages. blithely fina\u001b[0m │          \u001b[1;36m3\u001b[0m │          \u001b[1;36m4\u001b[0m │        \u001b[1;36m4651\u001b[0m │         \u001b[1;36m920.92\u001b[0m │ \u001b[32m silent accounts. slyly ironic pinto beans wake above the furiously express dep…\u001b[0m │\n",
       "│         \u001b[1;36m3\u001b[0m │ \u001b[32mspring green yellow purple cornsilk     \u001b[0m │ \u001b[32mManufacturer#4\u001b[0m │ \u001b[32mBrand#42\u001b[0m │ \u001b[32mSTANDARD POLISHED BRASS\u001b[0m │     \u001b[1;36m21\u001b[0m │ \u001b[32mWRAP CASE  \u001b[0m │         \u001b[1;36m903.00\u001b[0m │ \u001b[32mages. blithely fina\u001b[0m │          \u001b[1;36m3\u001b[0m │       \u001b[1;36m2504\u001b[0m │        \u001b[1;36m4093\u001b[0m │         \u001b[1;36m498.13\u001b[0m │ \u001b[32mcross the furiously special theodolites. regular, ironic ideas around the furio…\u001b[0m │\n",
       "│         \u001b[2m…\u001b[0m │ \u001b[2m…\u001b[0m                                        │ \u001b[2m…\u001b[0m              │ \u001b[2m…\u001b[0m        │ \u001b[2m…\u001b[0m                       │      \u001b[2m…\u001b[0m │ \u001b[2m…\u001b[0m           │              \u001b[2m…\u001b[0m │ \u001b[2m…\u001b[0m                   │          \u001b[2m…\u001b[0m │          \u001b[2m…\u001b[0m │           \u001b[2m…\u001b[0m │              \u001b[2m…\u001b[0m │ \u001b[2m…\u001b[0m                                                                                │\n",
       "└───────────┴──────────────────────────────────────────┴────────────────┴──────────┴─────────────────────────┴────────┴─────────────┴────────────────┴─────────────────────┴────────────┴────────────┴─────────────┴────────────────┴──────────────────────────────────────────────────────────────────────────────────┘"
      ]
     },
     "execution_count": 29,
     "metadata": {},
     "output_type": "execute_result"
    }
   ],
   "source": [
    "join = part.join(partsupp, part.p_partkey == partsupp.ps_partkey)\n",
    "join"
   ]
  },
  {
   "cell_type": "markdown",
   "metadata": {},
   "source": [
    "### Buildin an internal execution graph"
   ]
  },
  {
   "cell_type": "code",
   "execution_count": 5,
   "metadata": {},
   "outputs": [],
   "source": [
    "from ibis import _\n",
    "from ibis.expr.visualize import to_graph\n"
   ]
  },
  {
   "cell_type": "code",
   "execution_count": 6,
   "metadata": {},
   "outputs": [
    {
     "data": {
      "text/html": [
       "<pre style=\"white-space:pre;overflow-x:auto;line-height:normal;font-family:Menlo,'DejaVu Sans Mono',consolas,'Courier New',monospace\">┏━━━━━━━━━━━┳━━━━━━━━━━━━━━━━━━━━━━━━━━━━━━━━━━━━━━━━━━┳━━━━━━━━━━━━━━━━┳━━━━━━━━━━┳━━━━━━━━━━━━━━━━━━━━━━━━━┳━━━━━━━━┳━━━━━━━━━━━━━┳━━━━━━━━━━━━━━━━━┳━━━━━━━━━━━━━━━━━━━━━━┓\n",
       "┃<span style=\"font-weight: bold\"> p_partkey </span>┃<span style=\"font-weight: bold\"> p_name                                   </span>┃<span style=\"font-weight: bold\"> p_mfgr         </span>┃<span style=\"font-weight: bold\"> p_brand  </span>┃<span style=\"font-weight: bold\"> p_type                  </span>┃<span style=\"font-weight: bold\"> p_size </span>┃<span style=\"font-weight: bold\"> p_container </span>┃<span style=\"font-weight: bold\"> p_retailprice   </span>┃<span style=\"font-weight: bold\"> p_comment            </span>┃\n",
       "┡━━━━━━━━━━━╇━━━━━━━━━━━━━━━━━━━━━━━━━━━━━━━━━━━━━━━━━━╇━━━━━━━━━━━━━━━━╇━━━━━━━━━━╇━━━━━━━━━━━━━━━━━━━━━━━━━╇━━━━━━━━╇━━━━━━━━━━━━━╇━━━━━━━━━━━━━━━━━╇━━━━━━━━━━━━━━━━━━━━━━┩\n",
       "│ <span style=\"color: #7f7f7f; text-decoration-color: #7f7f7f\">!int64</span>    │ <span style=\"color: #7f7f7f; text-decoration-color: #7f7f7f\">!string</span>                                  │ <span style=\"color: #7f7f7f; text-decoration-color: #7f7f7f\">!string</span>        │ <span style=\"color: #7f7f7f; text-decoration-color: #7f7f7f\">!string</span>  │ <span style=\"color: #7f7f7f; text-decoration-color: #7f7f7f\">!string</span>                 │ <span style=\"color: #7f7f7f; text-decoration-color: #7f7f7f\">!int32</span> │ <span style=\"color: #7f7f7f; text-decoration-color: #7f7f7f\">!string</span>     │ <span style=\"color: #7f7f7f; text-decoration-color: #7f7f7f\">!decimal(15, 2)</span> │ <span style=\"color: #7f7f7f; text-decoration-color: #7f7f7f\">!string</span>              │\n",
       "├───────────┼──────────────────────────────────────────┼────────────────┼──────────┼─────────────────────────┼────────┼─────────────┼─────────────────┼──────────────────────┤\n",
       "│         <span style=\"color: #008080; text-decoration-color: #008080; font-weight: bold\">1</span> │ <span style=\"color: #008000; text-decoration-color: #008000\">goldenrod lavender spring chocolate lace</span> │ <span style=\"color: #008000; text-decoration-color: #008000\">Manufacturer#1</span> │ <span style=\"color: #008000; text-decoration-color: #008000\">Brand#13</span> │ <span style=\"color: #008000; text-decoration-color: #008000\">PROMO BURNISHED COPPER </span> │      <span style=\"color: #008080; text-decoration-color: #008080; font-weight: bold\">7</span> │ <span style=\"color: #008000; text-decoration-color: #008000\">JUMBO PKG  </span> │          <span style=\"color: #008080; text-decoration-color: #008080; font-weight: bold\">901.00</span> │ <span style=\"color: #008000; text-decoration-color: #008000\">ironic pinto be     </span> │\n",
       "│         <span style=\"color: #008080; text-decoration-color: #008080; font-weight: bold\">2</span> │ <span style=\"color: #008000; text-decoration-color: #008000\">blush thistle blue yellow saddle        </span> │ <span style=\"color: #008000; text-decoration-color: #008000\">Manufacturer#1</span> │ <span style=\"color: #008000; text-decoration-color: #008000\">Brand#13</span> │ <span style=\"color: #008000; text-decoration-color: #008000\">LARGE BRUSHED BRASS    </span> │      <span style=\"color: #008080; text-decoration-color: #008080; font-weight: bold\">1</span> │ <span style=\"color: #008000; text-decoration-color: #008000\">LG CASE    </span> │          <span style=\"color: #008080; text-decoration-color: #008080; font-weight: bold\">902.00</span> │ <span style=\"color: #008000; text-decoration-color: #008000\">nding, even pack    </span> │\n",
       "│         <span style=\"color: #008080; text-decoration-color: #008080; font-weight: bold\">3</span> │ <span style=\"color: #008000; text-decoration-color: #008000\">spring green yellow purple cornsilk     </span> │ <span style=\"color: #008000; text-decoration-color: #008000\">Manufacturer#4</span> │ <span style=\"color: #008000; text-decoration-color: #008000\">Brand#42</span> │ <span style=\"color: #008000; text-decoration-color: #008000\">STANDARD POLISHED BRASS</span> │     <span style=\"color: #008080; text-decoration-color: #008080; font-weight: bold\">21</span> │ <span style=\"color: #008000; text-decoration-color: #008000\">WRAP CASE  </span> │          <span style=\"color: #008080; text-decoration-color: #008080; font-weight: bold\">903.00</span> │ <span style=\"color: #008000; text-decoration-color: #008000\">ages. blithely fina </span> │\n",
       "│         <span style=\"color: #008080; text-decoration-color: #008080; font-weight: bold\">4</span> │ <span style=\"color: #008000; text-decoration-color: #008000\">cornflower chocolate smoke green pink   </span> │ <span style=\"color: #008000; text-decoration-color: #008000\">Manufacturer#3</span> │ <span style=\"color: #008000; text-decoration-color: #008000\">Brand#34</span> │ <span style=\"color: #008000; text-decoration-color: #008000\">SMALL PLATED BRASS     </span> │     <span style=\"color: #008080; text-decoration-color: #008080; font-weight: bold\">14</span> │ <span style=\"color: #008000; text-decoration-color: #008000\">MED DRUM   </span> │          <span style=\"color: #008080; text-decoration-color: #008080; font-weight: bold\">904.00</span> │ <span style=\"color: #008000; text-decoration-color: #008000\">ckages. regul       </span> │\n",
       "│         <span style=\"color: #008080; text-decoration-color: #008080; font-weight: bold\">5</span> │ <span style=\"color: #008000; text-decoration-color: #008000\">forest brown coral puff cream           </span> │ <span style=\"color: #008000; text-decoration-color: #008000\">Manufacturer#3</span> │ <span style=\"color: #008000; text-decoration-color: #008000\">Brand#32</span> │ <span style=\"color: #008000; text-decoration-color: #008000\">STANDARD POLISHED TIN  </span> │     <span style=\"color: #008080; text-decoration-color: #008080; font-weight: bold\">15</span> │ <span style=\"color: #008000; text-decoration-color: #008000\">SM PKG     </span> │          <span style=\"color: #008080; text-decoration-color: #008080; font-weight: bold\">905.00</span> │ <span style=\"color: #008000; text-decoration-color: #008000\">pinto beans are     </span> │\n",
       "│         <span style=\"color: #008080; text-decoration-color: #008080; font-weight: bold\">6</span> │ <span style=\"color: #008000; text-decoration-color: #008000\">bisque cornflower lawn forest magenta   </span> │ <span style=\"color: #008000; text-decoration-color: #008000\">Manufacturer#2</span> │ <span style=\"color: #008000; text-decoration-color: #008000\">Brand#24</span> │ <span style=\"color: #008000; text-decoration-color: #008000\">PROMO PLATED STEEL     </span> │      <span style=\"color: #008080; text-decoration-color: #008080; font-weight: bold\">4</span> │ <span style=\"color: #008000; text-decoration-color: #008000\">MED BAG    </span> │          <span style=\"color: #008080; text-decoration-color: #008080; font-weight: bold\">906.00</span> │ <span style=\"color: #008000; text-decoration-color: #008000\">kages               </span> │\n",
       "│         <span style=\"color: #008080; text-decoration-color: #008080; font-weight: bold\">7</span> │ <span style=\"color: #008000; text-decoration-color: #008000\">moccasin green thistle khaki floral     </span> │ <span style=\"color: #008000; text-decoration-color: #008000\">Manufacturer#1</span> │ <span style=\"color: #008000; text-decoration-color: #008000\">Brand#11</span> │ <span style=\"color: #008000; text-decoration-color: #008000\">SMALL PLATED COPPER    </span> │     <span style=\"color: #008080; text-decoration-color: #008080; font-weight: bold\">45</span> │ <span style=\"color: #008000; text-decoration-color: #008000\">SM BAG     </span> │          <span style=\"color: #008080; text-decoration-color: #008080; font-weight: bold\">907.00</span> │ <span style=\"color: #008000; text-decoration-color: #008000\">gular pi            </span> │\n",
       "│         <span style=\"color: #008080; text-decoration-color: #008080; font-weight: bold\">8</span> │ <span style=\"color: #008000; text-decoration-color: #008000\">misty lace thistle snow royal           </span> │ <span style=\"color: #008000; text-decoration-color: #008000\">Manufacturer#4</span> │ <span style=\"color: #008000; text-decoration-color: #008000\">Brand#44</span> │ <span style=\"color: #008000; text-decoration-color: #008000\">PROMO BURNISHED TIN    </span> │     <span style=\"color: #008080; text-decoration-color: #008080; font-weight: bold\">41</span> │ <span style=\"color: #008000; text-decoration-color: #008000\">LG DRUM    </span> │          <span style=\"color: #008080; text-decoration-color: #008080; font-weight: bold\">908.00</span> │ <span style=\"color: #008000; text-decoration-color: #008000\">beans               </span> │\n",
       "│         <span style=\"color: #008080; text-decoration-color: #008080; font-weight: bold\">9</span> │ <span style=\"color: #008000; text-decoration-color: #008000\">thistle dim navajo dark gainsboro       </span> │ <span style=\"color: #008000; text-decoration-color: #008000\">Manufacturer#4</span> │ <span style=\"color: #008000; text-decoration-color: #008000\">Brand#43</span> │ <span style=\"color: #008000; text-decoration-color: #008000\">SMALL BURNISHED STEEL  </span> │     <span style=\"color: #008080; text-decoration-color: #008080; font-weight: bold\">12</span> │ <span style=\"color: #008000; text-decoration-color: #008000\">WRAP CASE  </span> │          <span style=\"color: #008080; text-decoration-color: #008080; font-weight: bold\">909.00</span> │ <span style=\"color: #008000; text-decoration-color: #008000\">ole furious         </span> │\n",
       "│        <span style=\"color: #008080; text-decoration-color: #008080; font-weight: bold\">10</span> │ <span style=\"color: #008000; text-decoration-color: #008000\">linen pink saddle puff powder           </span> │ <span style=\"color: #008000; text-decoration-color: #008000\">Manufacturer#5</span> │ <span style=\"color: #008000; text-decoration-color: #008000\">Brand#54</span> │ <span style=\"color: #008000; text-decoration-color: #008000\">LARGE BURNISHED STEEL  </span> │     <span style=\"color: #008080; text-decoration-color: #008080; font-weight: bold\">44</span> │ <span style=\"color: #008000; text-decoration-color: #008000\">LG CAN     </span> │          <span style=\"color: #008080; text-decoration-color: #008080; font-weight: bold\">910.01</span> │ <span style=\"color: #008000; text-decoration-color: #008000\">into beans about the</span> │\n",
       "│         <span style=\"color: #7f7f7f; text-decoration-color: #7f7f7f\">…</span> │ <span style=\"color: #7f7f7f; text-decoration-color: #7f7f7f\">…</span>                                        │ <span style=\"color: #7f7f7f; text-decoration-color: #7f7f7f\">…</span>              │ <span style=\"color: #7f7f7f; text-decoration-color: #7f7f7f\">…</span>        │ <span style=\"color: #7f7f7f; text-decoration-color: #7f7f7f\">…</span>                       │      <span style=\"color: #7f7f7f; text-decoration-color: #7f7f7f\">…</span> │ <span style=\"color: #7f7f7f; text-decoration-color: #7f7f7f\">…</span>           │               <span style=\"color: #7f7f7f; text-decoration-color: #7f7f7f\">…</span> │ <span style=\"color: #7f7f7f; text-decoration-color: #7f7f7f\">…</span>                    │\n",
       "└───────────┴──────────────────────────────────────────┴────────────────┴──────────┴─────────────────────────┴────────┴─────────────┴─────────────────┴──────────────────────┘\n",
       "</pre>\n"
      ],
      "text/plain": [
       "┏━━━━━━━━━━━┳━━━━━━━━━━━━━━━━━━━━━━━━━━━━━━━━━━━━━━━━━━┳━━━━━━━━━━━━━━━━┳━━━━━━━━━━┳━━━━━━━━━━━━━━━━━━━━━━━━━┳━━━━━━━━┳━━━━━━━━━━━━━┳━━━━━━━━━━━━━━━━━┳━━━━━━━━━━━━━━━━━━━━━━┓\n",
       "┃\u001b[1m \u001b[0m\u001b[1mp_partkey\u001b[0m\u001b[1m \u001b[0m┃\u001b[1m \u001b[0m\u001b[1mp_name\u001b[0m\u001b[1m                                  \u001b[0m\u001b[1m \u001b[0m┃\u001b[1m \u001b[0m\u001b[1mp_mfgr\u001b[0m\u001b[1m        \u001b[0m\u001b[1m \u001b[0m┃\u001b[1m \u001b[0m\u001b[1mp_brand\u001b[0m\u001b[1m \u001b[0m\u001b[1m \u001b[0m┃\u001b[1m \u001b[0m\u001b[1mp_type\u001b[0m\u001b[1m                 \u001b[0m\u001b[1m \u001b[0m┃\u001b[1m \u001b[0m\u001b[1mp_size\u001b[0m\u001b[1m \u001b[0m┃\u001b[1m \u001b[0m\u001b[1mp_container\u001b[0m\u001b[1m \u001b[0m┃\u001b[1m \u001b[0m\u001b[1mp_retailprice\u001b[0m\u001b[1m  \u001b[0m\u001b[1m \u001b[0m┃\u001b[1m \u001b[0m\u001b[1mp_comment\u001b[0m\u001b[1m           \u001b[0m\u001b[1m \u001b[0m┃\n",
       "┡━━━━━━━━━━━╇━━━━━━━━━━━━━━━━━━━━━━━━━━━━━━━━━━━━━━━━━━╇━━━━━━━━━━━━━━━━╇━━━━━━━━━━╇━━━━━━━━━━━━━━━━━━━━━━━━━╇━━━━━━━━╇━━━━━━━━━━━━━╇━━━━━━━━━━━━━━━━━╇━━━━━━━━━━━━━━━━━━━━━━┩\n",
       "│ \u001b[2m!int64\u001b[0m    │ \u001b[2m!string\u001b[0m                                  │ \u001b[2m!string\u001b[0m        │ \u001b[2m!string\u001b[0m  │ \u001b[2m!string\u001b[0m                 │ \u001b[2m!int32\u001b[0m │ \u001b[2m!string\u001b[0m     │ \u001b[2m!decimal(15, 2)\u001b[0m │ \u001b[2m!string\u001b[0m              │\n",
       "├───────────┼──────────────────────────────────────────┼────────────────┼──────────┼─────────────────────────┼────────┼─────────────┼─────────────────┼──────────────────────┤\n",
       "│         \u001b[1;36m1\u001b[0m │ \u001b[32mgoldenrod lavender spring chocolate lace\u001b[0m │ \u001b[32mManufacturer#1\u001b[0m │ \u001b[32mBrand#13\u001b[0m │ \u001b[32mPROMO BURNISHED COPPER \u001b[0m │      \u001b[1;36m7\u001b[0m │ \u001b[32mJUMBO PKG  \u001b[0m │          \u001b[1;36m901.00\u001b[0m │ \u001b[32mironic pinto be     \u001b[0m │\n",
       "│         \u001b[1;36m2\u001b[0m │ \u001b[32mblush thistle blue yellow saddle        \u001b[0m │ \u001b[32mManufacturer#1\u001b[0m │ \u001b[32mBrand#13\u001b[0m │ \u001b[32mLARGE BRUSHED BRASS    \u001b[0m │      \u001b[1;36m1\u001b[0m │ \u001b[32mLG CASE    \u001b[0m │          \u001b[1;36m902.00\u001b[0m │ \u001b[32mnding, even pack    \u001b[0m │\n",
       "│         \u001b[1;36m3\u001b[0m │ \u001b[32mspring green yellow purple cornsilk     \u001b[0m │ \u001b[32mManufacturer#4\u001b[0m │ \u001b[32mBrand#42\u001b[0m │ \u001b[32mSTANDARD POLISHED BRASS\u001b[0m │     \u001b[1;36m21\u001b[0m │ \u001b[32mWRAP CASE  \u001b[0m │          \u001b[1;36m903.00\u001b[0m │ \u001b[32mages. blithely fina \u001b[0m │\n",
       "│         \u001b[1;36m4\u001b[0m │ \u001b[32mcornflower chocolate smoke green pink   \u001b[0m │ \u001b[32mManufacturer#3\u001b[0m │ \u001b[32mBrand#34\u001b[0m │ \u001b[32mSMALL PLATED BRASS     \u001b[0m │     \u001b[1;36m14\u001b[0m │ \u001b[32mMED DRUM   \u001b[0m │          \u001b[1;36m904.00\u001b[0m │ \u001b[32mckages. regul       \u001b[0m │\n",
       "│         \u001b[1;36m5\u001b[0m │ \u001b[32mforest brown coral puff cream           \u001b[0m │ \u001b[32mManufacturer#3\u001b[0m │ \u001b[32mBrand#32\u001b[0m │ \u001b[32mSTANDARD POLISHED TIN  \u001b[0m │     \u001b[1;36m15\u001b[0m │ \u001b[32mSM PKG     \u001b[0m │          \u001b[1;36m905.00\u001b[0m │ \u001b[32mpinto beans are     \u001b[0m │\n",
       "│         \u001b[1;36m6\u001b[0m │ \u001b[32mbisque cornflower lawn forest magenta   \u001b[0m │ \u001b[32mManufacturer#2\u001b[0m │ \u001b[32mBrand#24\u001b[0m │ \u001b[32mPROMO PLATED STEEL     \u001b[0m │      \u001b[1;36m4\u001b[0m │ \u001b[32mMED BAG    \u001b[0m │          \u001b[1;36m906.00\u001b[0m │ \u001b[32mkages               \u001b[0m │\n",
       "│         \u001b[1;36m7\u001b[0m │ \u001b[32mmoccasin green thistle khaki floral     \u001b[0m │ \u001b[32mManufacturer#1\u001b[0m │ \u001b[32mBrand#11\u001b[0m │ \u001b[32mSMALL PLATED COPPER    \u001b[0m │     \u001b[1;36m45\u001b[0m │ \u001b[32mSM BAG     \u001b[0m │          \u001b[1;36m907.00\u001b[0m │ \u001b[32mgular pi            \u001b[0m │\n",
       "│         \u001b[1;36m8\u001b[0m │ \u001b[32mmisty lace thistle snow royal           \u001b[0m │ \u001b[32mManufacturer#4\u001b[0m │ \u001b[32mBrand#44\u001b[0m │ \u001b[32mPROMO BURNISHED TIN    \u001b[0m │     \u001b[1;36m41\u001b[0m │ \u001b[32mLG DRUM    \u001b[0m │          \u001b[1;36m908.00\u001b[0m │ \u001b[32mbeans               \u001b[0m │\n",
       "│         \u001b[1;36m9\u001b[0m │ \u001b[32mthistle dim navajo dark gainsboro       \u001b[0m │ \u001b[32mManufacturer#4\u001b[0m │ \u001b[32mBrand#43\u001b[0m │ \u001b[32mSMALL BURNISHED STEEL  \u001b[0m │     \u001b[1;36m12\u001b[0m │ \u001b[32mWRAP CASE  \u001b[0m │          \u001b[1;36m909.00\u001b[0m │ \u001b[32mole furious         \u001b[0m │\n",
       "│        \u001b[1;36m10\u001b[0m │ \u001b[32mlinen pink saddle puff powder           \u001b[0m │ \u001b[32mManufacturer#5\u001b[0m │ \u001b[32mBrand#54\u001b[0m │ \u001b[32mLARGE BURNISHED STEEL  \u001b[0m │     \u001b[1;36m44\u001b[0m │ \u001b[32mLG CAN     \u001b[0m │          \u001b[1;36m910.01\u001b[0m │ \u001b[32minto beans about the\u001b[0m │\n",
       "│         \u001b[2m…\u001b[0m │ \u001b[2m…\u001b[0m                                        │ \u001b[2m…\u001b[0m              │ \u001b[2m…\u001b[0m        │ \u001b[2m…\u001b[0m                       │      \u001b[2m…\u001b[0m │ \u001b[2m…\u001b[0m           │               \u001b[2m…\u001b[0m │ \u001b[2m…\u001b[0m                    │\n",
       "└───────────┴──────────────────────────────────────────┴────────────────┴──────────┴─────────────────────────┴────────┴─────────────┴─────────────────┴──────────────────────┘"
      ]
     },
     "execution_count": 6,
     "metadata": {},
     "output_type": "execute_result"
    }
   ],
   "source": [
    "part"
   ]
  },
  {
   "cell_type": "code",
   "execution_count": 9,
   "metadata": {},
   "outputs": [
    {
     "data": {
      "image/svg+xml": [
       "<?xml version=\"1.0\" encoding=\"UTF-8\" standalone=\"no\"?>\n",
       "<!DOCTYPE svg PUBLIC \"-//W3C//DTD SVG 1.1//EN\"\n",
       " \"http://www.w3.org/Graphics/SVG/1.1/DTD/svg11.dtd\">\n",
       "<!-- Generated by graphviz version 2.43.0 (0)\n",
       " -->\n",
       "<!-- Title: %3 Pages: 1 -->\n",
       "<svg width=\"354pt\" height=\"386pt\"\n",
       " viewBox=\"0.00 0.00 354.00 386.00\" xmlns=\"http://www.w3.org/2000/svg\" xmlns:xlink=\"http://www.w3.org/1999/xlink\">\n",
       "<g id=\"graph0\" class=\"graph\" transform=\"scale(1 1) rotate(0) translate(4 382)\">\n",
       "<title>%3</title>\n",
       "<polygon fill=\"white\" stroke=\"transparent\" points=\"-4,4 -4,-382 350,-382 350,4 -4,4\"/>\n",
       "<!-- &#45;3340628190178144092 -->\n",
       "<g id=\"node1\" class=\"node\">\n",
       "<title>&#45;3340628190178144092</title>\n",
       "<polygon fill=\"none\" stroke=\"black\" points=\"248.5,-378 16.5,-378 16.5,-328 248.5,-328 248.5,-378\"/>\n",
       "<text text-anchor=\"start\" x=\"24.5\" y=\"-363.8\" font-family=\"Deja Vu Sans Mono\" font-weight=\"bold\" font-size=\"14.00\">Project</text>\n",
       "<text text-anchor=\"start\" x=\"24.5\" y=\"-349.8\" font-family=\"Deja Vu Sans Mono\" font-style=\"italic\" font-size=\"14.00\">Lowercase(p_type)</text>\n",
       "<text text-anchor=\"start\" x=\"165.5\" y=\"-349.8\" font-family=\"Deja Vu Sans Mono\" font-size=\"14.00\">: string</text>\n",
       "<text text-anchor=\"start\" x=\"24.5\" y=\"-335.8\" font-family=\"Deja Vu Sans Mono\" font-style=\"italic\" font-size=\"14.00\">Lowercase(p_brand)</text>\n",
       "<text text-anchor=\"start\" x=\"173.5\" y=\"-335.8\" font-family=\"Deja Vu Sans Mono\" font-size=\"14.00\">: string</text>\n",
       "</g>\n",
       "<!-- 7518500983042051661 -->\n",
       "<g id=\"node2\" class=\"node\">\n",
       "<title>7518500983042051661</title>\n",
       "<polygon fill=\"none\" stroke=\"black\" points=\"265,-148 0,-148 0,0 265,0 265,-148\"/>\n",
       "<text text-anchor=\"start\" x=\"8\" y=\"-133.8\" font-family=\"Deja Vu Sans Mono\" font-style=\"italic\" font-size=\"14.00\">part</text>\n",
       "<text text-anchor=\"start\" x=\"42\" y=\"-133.8\" font-family=\"Deja Vu Sans Mono\" font-size=\"14.00\">: </text>\n",
       "<text text-anchor=\"start\" x=\"59\" y=\"-133.8\" font-family=\"Deja Vu Sans Mono\" font-weight=\"bold\" font-size=\"14.00\">DatabaseTable</text>\n",
       "<text text-anchor=\"start\" x=\"8\" y=\"-119.8\" font-family=\"Deja Vu Sans Mono\" font-style=\"italic\" font-size=\"14.00\">p_partkey</text>\n",
       "<text text-anchor=\"start\" x=\"83\" y=\"-119.8\" font-family=\"Deja Vu Sans Mono\" font-size=\"14.00\">: !int64</text>\n",
       "<text text-anchor=\"start\" x=\"8\" y=\"-105.8\" font-family=\"Deja Vu Sans Mono\" font-style=\"italic\" font-size=\"14.00\">p_name</text>\n",
       "<text text-anchor=\"start\" x=\"58\" y=\"-105.8\" font-family=\"Deja Vu Sans Mono\" font-size=\"14.00\">: !string</text>\n",
       "<text text-anchor=\"start\" x=\"8\" y=\"-91.8\" font-family=\"Deja Vu Sans Mono\" font-style=\"italic\" font-size=\"14.00\">p_mfgr</text>\n",
       "<text text-anchor=\"start\" x=\"58\" y=\"-91.8\" font-family=\"Deja Vu Sans Mono\" font-size=\"14.00\">: !string</text>\n",
       "<text text-anchor=\"start\" x=\"8\" y=\"-77.8\" font-family=\"Deja Vu Sans Mono\" font-style=\"italic\" font-size=\"14.00\">p_brand</text>\n",
       "<text text-anchor=\"start\" x=\"66\" y=\"-77.8\" font-family=\"Deja Vu Sans Mono\" font-size=\"14.00\">: !string</text>\n",
       "<text text-anchor=\"start\" x=\"8\" y=\"-63.8\" font-family=\"Deja Vu Sans Mono\" font-style=\"italic\" font-size=\"14.00\">p_type</text>\n",
       "<text text-anchor=\"start\" x=\"58\" y=\"-63.8\" font-family=\"Deja Vu Sans Mono\" font-size=\"14.00\">: !string</text>\n",
       "<text text-anchor=\"start\" x=\"8\" y=\"-49.8\" font-family=\"Deja Vu Sans Mono\" font-style=\"italic\" font-size=\"14.00\">p_size</text>\n",
       "<text text-anchor=\"start\" x=\"58\" y=\"-49.8\" font-family=\"Deja Vu Sans Mono\" font-size=\"14.00\">: !int32</text>\n",
       "<text text-anchor=\"start\" x=\"8\" y=\"-35.8\" font-family=\"Deja Vu Sans Mono\" font-style=\"italic\" font-size=\"14.00\">p_container</text>\n",
       "<text text-anchor=\"start\" x=\"99\" y=\"-35.8\" font-family=\"Deja Vu Sans Mono\" font-size=\"14.00\">: !string</text>\n",
       "<text text-anchor=\"start\" x=\"8\" y=\"-21.8\" font-family=\"Deja Vu Sans Mono\" font-style=\"italic\" font-size=\"14.00\">p_retailprice</text>\n",
       "<text text-anchor=\"start\" x=\"116\" y=\"-21.8\" font-family=\"Deja Vu Sans Mono\" font-size=\"14.00\">: !decimal(15, 2)</text>\n",
       "<text text-anchor=\"start\" x=\"57.5\" y=\"-7.8\" font-family=\"Deja Vu Sans Mono\" font-style=\"italic\" font-size=\"14.00\">p_comment</text>\n",
       "<text text-anchor=\"start\" x=\"132.5\" y=\"-7.8\" font-family=\"Deja Vu Sans Mono\" font-size=\"14.00\">: !string</text>\n",
       "</g>\n",
       "<!-- 7518500983042051661&#45;&gt;&#45;3340628190178144092 -->\n",
       "<g id=\"edge1\" class=\"edge\">\n",
       "<title>7518500983042051661&#45;&gt;&#45;3340628190178144092</title>\n",
       "<path fill=\"none\" stroke=\"black\" d=\"M76.19,-148.06C69.75,-159.56 64.19,-171.73 60.5,-184 46.52,-230.54 54.76,-249.06 77.5,-292 82.92,-302.24 90.51,-312.07 98.32,-320.71\"/>\n",
       "<polygon fill=\"black\" stroke=\"black\" points=\"95.78,-323.12 105.2,-327.98 100.87,-318.31 95.78,-323.12\"/>\n",
       "</g>\n",
       "<!-- &#45;4371634225187400511 -->\n",
       "<g id=\"node5\" class=\"node\">\n",
       "<title>&#45;4371634225187400511</title>\n",
       "<polygon fill=\"none\" stroke=\"black\" points=\"195,-220 70,-220 70,-184 195,-184 195,-220\"/>\n",
       "<text text-anchor=\"start\" x=\"78\" y=\"-205.8\" font-family=\"Deja Vu Sans Mono\" font-style=\"italic\" font-size=\"14.00\">p_type</text>\n",
       "<text text-anchor=\"start\" x=\"128\" y=\"-205.8\" font-family=\"Deja Vu Sans Mono\" font-size=\"14.00\">: </text>\n",
       "<text text-anchor=\"start\" x=\"145\" y=\"-205.8\" font-family=\"Deja Vu Sans Mono\" font-weight=\"bold\" font-size=\"14.00\">Field</text>\n",
       "<text text-anchor=\"start\" x=\"91\" y=\"-191.8\" font-family=\"Deja Vu Sans Mono\" font-size=\"14.00\">:: !string</text>\n",
       "</g>\n",
       "<!-- 7518500983042051661&#45;&gt;&#45;4371634225187400511 -->\n",
       "<g id=\"edge6\" class=\"edge\">\n",
       "<title>7518500983042051661&#45;&gt;&#45;4371634225187400511</title>\n",
       "<path fill=\"none\" stroke=\"black\" d=\"M132.5,-148.29C132.5,-157.27 132.5,-165.97 132.5,-173.61\"/>\n",
       "<polygon fill=\"black\" stroke=\"black\" points=\"129,-173.65 132.5,-183.65 136,-173.65 129,-173.65\"/>\n",
       "</g>\n",
       "<!-- &#45;5268225989086430841 -->\n",
       "<g id=\"node6\" class=\"node\">\n",
       "<title>&#45;5268225989086430841</title>\n",
       "<polygon fill=\"none\" stroke=\"black\" points=\"346,-220 213,-220 213,-184 346,-184 346,-220\"/>\n",
       "<text text-anchor=\"start\" x=\"221\" y=\"-205.8\" font-family=\"Deja Vu Sans Mono\" font-style=\"italic\" font-size=\"14.00\">p_brand</text>\n",
       "<text text-anchor=\"start\" x=\"279\" y=\"-205.8\" font-family=\"Deja Vu Sans Mono\" font-size=\"14.00\">: </text>\n",
       "<text text-anchor=\"start\" x=\"296\" y=\"-205.8\" font-family=\"Deja Vu Sans Mono\" font-weight=\"bold\" font-size=\"14.00\">Field</text>\n",
       "<text text-anchor=\"start\" x=\"238\" y=\"-191.8\" font-family=\"Deja Vu Sans Mono\" font-size=\"14.00\">:: !string</text>\n",
       "</g>\n",
       "<!-- 7518500983042051661&#45;&gt;&#45;5268225989086430841 -->\n",
       "<g id=\"edge7\" class=\"edge\">\n",
       "<title>7518500983042051661&#45;&gt;&#45;5268225989086430841</title>\n",
       "<path fill=\"none\" stroke=\"black\" d=\"M218.01,-148.29C230.15,-158.7 241.84,-168.72 251.71,-177.18\"/>\n",
       "<polygon fill=\"black\" stroke=\"black\" points=\"249.67,-180.04 259.54,-183.89 254.22,-174.72 249.67,-180.04\"/>\n",
       "</g>\n",
       "<!-- &#45;2896839018777333418 -->\n",
       "<g id=\"node3\" class=\"node\">\n",
       "<title>&#45;2896839018777333418</title>\n",
       "<polygon fill=\"none\" stroke=\"black\" points=\"178,-292 87,-292 87,-256 178,-256 178,-292\"/>\n",
       "<text text-anchor=\"start\" x=\"95\" y=\"-277.8\" font-family=\"Deja Vu Sans Mono\" font-weight=\"bold\" font-size=\"14.00\">Lowercase</text>\n",
       "<text text-anchor=\"start\" x=\"95\" y=\"-263.8\" font-family=\"Deja Vu Sans Mono\" font-size=\"14.00\">:: string</text>\n",
       "</g>\n",
       "<!-- &#45;2896839018777333418&#45;&gt;&#45;3340628190178144092 -->\n",
       "<g id=\"edge2\" class=\"edge\">\n",
       "<title>&#45;2896839018777333418&#45;&gt;&#45;3340628190178144092</title>\n",
       "<path fill=\"none\" stroke=\"black\" d=\"M132.5,-292.09C132.5,-299.67 132.5,-308.87 132.5,-317.77\"/>\n",
       "<polygon fill=\"black\" stroke=\"black\" points=\"129,-317.95 132.5,-327.95 136,-317.95 129,-317.95\"/>\n",
       "</g>\n",
       "<!-- &#45;4212395640978047126 -->\n",
       "<g id=\"node4\" class=\"node\">\n",
       "<title>&#45;4212395640978047126</title>\n",
       "<polygon fill=\"none\" stroke=\"black\" points=\"306,-292 215,-292 215,-256 306,-256 306,-292\"/>\n",
       "<text text-anchor=\"start\" x=\"223\" y=\"-277.8\" font-family=\"Deja Vu Sans Mono\" font-weight=\"bold\" font-size=\"14.00\">Lowercase</text>\n",
       "<text text-anchor=\"start\" x=\"223\" y=\"-263.8\" font-family=\"Deja Vu Sans Mono\" font-size=\"14.00\">:: string</text>\n",
       "</g>\n",
       "<!-- &#45;4212395640978047126&#45;&gt;&#45;3340628190178144092 -->\n",
       "<g id=\"edge3\" class=\"edge\">\n",
       "<title>&#45;4212395640978047126&#45;&gt;&#45;3340628190178144092</title>\n",
       "<path fill=\"none\" stroke=\"black\" d=\"M232.09,-292.09C217.17,-301.07 198.45,-312.33 181.29,-322.65\"/>\n",
       "<polygon fill=\"black\" stroke=\"black\" points=\"179.24,-319.8 172.48,-327.95 182.85,-325.79 179.24,-319.8\"/>\n",
       "</g>\n",
       "<!-- &#45;4371634225187400511&#45;&gt;&#45;2896839018777333418 -->\n",
       "<g id=\"edge4\" class=\"edge\">\n",
       "<title>&#45;4371634225187400511&#45;&gt;&#45;2896839018777333418</title>\n",
       "<path fill=\"none\" stroke=\"black\" d=\"M132.5,-220.3C132.5,-228.02 132.5,-237.29 132.5,-245.89\"/>\n",
       "<polygon fill=\"black\" stroke=\"black\" points=\"129,-245.9 132.5,-255.9 136,-245.9 129,-245.9\"/>\n",
       "</g>\n",
       "<!-- &#45;5268225989086430841&#45;&gt;&#45;4212395640978047126 -->\n",
       "<g id=\"edge5\" class=\"edge\">\n",
       "<title>&#45;5268225989086430841&#45;&gt;&#45;4212395640978047126</title>\n",
       "<path fill=\"none\" stroke=\"black\" d=\"M274.8,-220.3C272.69,-228.1 270.14,-237.49 267.78,-246.17\"/>\n",
       "<polygon fill=\"black\" stroke=\"black\" points=\"264.38,-245.33 265.14,-255.9 271.14,-247.16 264.38,-245.33\"/>\n",
       "</g>\n",
       "</g>\n",
       "</svg>\n"
      ],
      "text/plain": [
       "<graphviz.graphs.Digraph at 0xffff66b650a0>"
      ]
     },
     "execution_count": 9,
     "metadata": {},
     "output_type": "execute_result"
    }
   ],
   "source": [
    "expr = part.select(_.p_type.lower(), _.p_brand.lower())\n",
    "to_graph(expr)\n"
   ]
  },
  {
   "cell_type": "code",
   "execution_count": 10,
   "metadata": {},
   "outputs": [
    {
     "data": {
      "text/markdown": [
       "```sql\n",
       "SELECT\n",
       "  LOWER(\"t0\".\"p_type\") AS \"Lowercase(p_type)\",\n",
       "  LOWER(\"t0\".\"p_brand\") AS \"Lowercase(p_brand)\"\n",
       "FROM \"part\" AS \"t0\"\n",
       "```"
      ],
      "text/plain": [
       "\u001b[34mSELECT\u001b[39;49;00m\u001b[37m\u001b[39;49;00m\n",
       "\u001b[37m  \u001b[39;49;00m\u001b[34mLOWER\u001b[39;49;00m(\u001b[33m\"t0\"\u001b[39;49;00m.\u001b[33m\"p_type\"\u001b[39;49;00m)\u001b[37m \u001b[39;49;00m\u001b[34mAS\u001b[39;49;00m\u001b[37m \u001b[39;49;00m\u001b[33m\"Lowercase(p_type)\"\u001b[39;49;00m,\u001b[37m\u001b[39;49;00m\n",
       "\u001b[37m  \u001b[39;49;00m\u001b[34mLOWER\u001b[39;49;00m(\u001b[33m\"t0\"\u001b[39;49;00m.\u001b[33m\"p_brand\"\u001b[39;49;00m)\u001b[37m \u001b[39;49;00m\u001b[34mAS\u001b[39;49;00m\u001b[37m \u001b[39;49;00m\u001b[33m\"Lowercase(p_brand)\"\u001b[39;49;00m\u001b[37m\u001b[39;49;00m\n",
       "\u001b[34mFROM\u001b[39;49;00m\u001b[37m \u001b[39;49;00m\u001b[33m\"part\"\u001b[39;49;00m\u001b[37m \u001b[39;49;00m\u001b[34mAS\u001b[39;49;00m\u001b[37m \u001b[39;49;00m\u001b[33m\"t0\"\u001b[39;49;00m\u001b[37m\u001b[39;49;00m"
      ]
     },
     "execution_count": 10,
     "metadata": {},
     "output_type": "execute_result"
    }
   ],
   "source": [
    "ibis.to_sql(expr)\n"
   ]
  },
  {
   "cell_type": "markdown",
   "metadata": {},
   "source": [
    "# Construct queries incrementally - TPHC Q1 Pricing summary"
   ]
  },
  {
   "cell_type": "code",
   "execution_count": 11,
   "metadata": {},
   "outputs": [
    {
     "data": {
      "text/html": [
       "<pre style=\"white-space:pre;overflow-x:auto;line-height:normal;font-family:Menlo,'DejaVu Sans Mono',consolas,'Courier New',monospace\">┏━━━━━━━━━━━━┳━━━━━━━━━━━┳━━━━━━━━━━━┳━━━━━━━━━━━━━━┳━━━━━━━━━━━━━━━━━┳━━━━━━━━━━━━━━━━━┳━━━━━━━━━━━━━━━━━┳━━━━━━━━━━━━━━━━━┳━━━━━━━━━━━━━━┳━━━━━━━━━━━━━━┳━━━━━━━━━━━━┳━━━━━━━━━━━━━━┳━━━━━━━━━━━━━━━┳━━━━━━━━━━━━━━━━━━━┳━━━━━━━━━━━━┳━━━━━━━━━━━━━━━━━━━━━━━━━━━━━━━━━━━━━┓\n",
       "┃<span style=\"font-weight: bold\"> l_orderkey </span>┃<span style=\"font-weight: bold\"> l_partkey </span>┃<span style=\"font-weight: bold\"> l_suppkey </span>┃<span style=\"font-weight: bold\"> l_linenumber </span>┃<span style=\"font-weight: bold\"> l_quantity      </span>┃<span style=\"font-weight: bold\"> l_extendedprice </span>┃<span style=\"font-weight: bold\"> l_discount      </span>┃<span style=\"font-weight: bold\"> l_tax           </span>┃<span style=\"font-weight: bold\"> l_returnflag </span>┃<span style=\"font-weight: bold\"> l_linestatus </span>┃<span style=\"font-weight: bold\"> l_shipdate </span>┃<span style=\"font-weight: bold\"> l_commitdate </span>┃<span style=\"font-weight: bold\"> l_receiptdate </span>┃<span style=\"font-weight: bold\"> l_shipinstruct    </span>┃<span style=\"font-weight: bold\"> l_shipmode </span>┃<span style=\"font-weight: bold\"> l_comment                           </span>┃\n",
       "┡━━━━━━━━━━━━╇━━━━━━━━━━━╇━━━━━━━━━━━╇━━━━━━━━━━━━━━╇━━━━━━━━━━━━━━━━━╇━━━━━━━━━━━━━━━━━╇━━━━━━━━━━━━━━━━━╇━━━━━━━━━━━━━━━━━╇━━━━━━━━━━━━━━╇━━━━━━━━━━━━━━╇━━━━━━━━━━━━╇━━━━━━━━━━━━━━╇━━━━━━━━━━━━━━━╇━━━━━━━━━━━━━━━━━━━╇━━━━━━━━━━━━╇━━━━━━━━━━━━━━━━━━━━━━━━━━━━━━━━━━━━━┩\n",
       "│ <span style=\"color: #7f7f7f; text-decoration-color: #7f7f7f\">!int64</span>     │ <span style=\"color: #7f7f7f; text-decoration-color: #7f7f7f\">!int64</span>    │ <span style=\"color: #7f7f7f; text-decoration-color: #7f7f7f\">!int64</span>    │ <span style=\"color: #7f7f7f; text-decoration-color: #7f7f7f\">!int64</span>       │ <span style=\"color: #7f7f7f; text-decoration-color: #7f7f7f\">!decimal(15, 2)</span> │ <span style=\"color: #7f7f7f; text-decoration-color: #7f7f7f\">!decimal(15, 2)</span> │ <span style=\"color: #7f7f7f; text-decoration-color: #7f7f7f\">!decimal(15, 2)</span> │ <span style=\"color: #7f7f7f; text-decoration-color: #7f7f7f\">!decimal(15, 2)</span> │ <span style=\"color: #7f7f7f; text-decoration-color: #7f7f7f\">!string</span>      │ <span style=\"color: #7f7f7f; text-decoration-color: #7f7f7f\">!string</span>      │ <span style=\"color: #7f7f7f; text-decoration-color: #7f7f7f\">!date</span>      │ <span style=\"color: #7f7f7f; text-decoration-color: #7f7f7f\">!date</span>        │ <span style=\"color: #7f7f7f; text-decoration-color: #7f7f7f\">!date</span>         │ <span style=\"color: #7f7f7f; text-decoration-color: #7f7f7f\">!string</span>           │ <span style=\"color: #7f7f7f; text-decoration-color: #7f7f7f\">!string</span>    │ <span style=\"color: #7f7f7f; text-decoration-color: #7f7f7f\">!string</span>                             │\n",
       "├────────────┼───────────┼───────────┼──────────────┼─────────────────┼─────────────────┼─────────────────┼─────────────────┼──────────────┼──────────────┼────────────┼──────────────┼───────────────┼───────────────────┼────────────┼─────────────────────────────────────┤\n",
       "│          <span style=\"color: #008080; text-decoration-color: #008080; font-weight: bold\">1</span> │    <span style=\"color: #008080; text-decoration-color: #008080; font-weight: bold\">155190</span> │      <span style=\"color: #008080; text-decoration-color: #008080; font-weight: bold\">7706</span> │            <span style=\"color: #008080; text-decoration-color: #008080; font-weight: bold\">1</span> │           <span style=\"color: #008080; text-decoration-color: #008080; font-weight: bold\">17.00</span> │        <span style=\"color: #008080; text-decoration-color: #008080; font-weight: bold\">21168.23</span> │            <span style=\"color: #008080; text-decoration-color: #008080; font-weight: bold\">0.04</span> │            <span style=\"color: #008080; text-decoration-color: #008080; font-weight: bold\">0.02</span> │ <span style=\"color: #008000; text-decoration-color: #008000\">N           </span> │ <span style=\"color: #008000; text-decoration-color: #008000\">O           </span> │ <span style=\"color: #800080; text-decoration-color: #800080\">1996-03-13</span> │ <span style=\"color: #800080; text-decoration-color: #800080\">1996-02-12</span>   │ <span style=\"color: #800080; text-decoration-color: #800080\">1996-03-22</span>    │ <span style=\"color: #008000; text-decoration-color: #008000\">DELIVER IN PERSON</span> │ <span style=\"color: #008000; text-decoration-color: #008000\">TRUCK     </span> │ <span style=\"color: #008000; text-decoration-color: #008000\">to beans x-ray carefull            </span> │\n",
       "│          <span style=\"color: #008080; text-decoration-color: #008080; font-weight: bold\">1</span> │     <span style=\"color: #008080; text-decoration-color: #008080; font-weight: bold\">67310</span> │      <span style=\"color: #008080; text-decoration-color: #008080; font-weight: bold\">7311</span> │            <span style=\"color: #008080; text-decoration-color: #008080; font-weight: bold\">2</span> │           <span style=\"color: #008080; text-decoration-color: #008080; font-weight: bold\">36.00</span> │        <span style=\"color: #008080; text-decoration-color: #008080; font-weight: bold\">45983.16</span> │            <span style=\"color: #008080; text-decoration-color: #008080; font-weight: bold\">0.09</span> │            <span style=\"color: #008080; text-decoration-color: #008080; font-weight: bold\">0.06</span> │ <span style=\"color: #008000; text-decoration-color: #008000\">N           </span> │ <span style=\"color: #008000; text-decoration-color: #008000\">O           </span> │ <span style=\"color: #800080; text-decoration-color: #800080\">1996-04-12</span> │ <span style=\"color: #800080; text-decoration-color: #800080\">1996-02-28</span>   │ <span style=\"color: #800080; text-decoration-color: #800080\">1996-04-20</span>    │ <span style=\"color: #008000; text-decoration-color: #008000\">TAKE BACK RETURN </span> │ <span style=\"color: #008000; text-decoration-color: #008000\">MAIL      </span> │ <span style=\"color: #008000; text-decoration-color: #008000\"> according to the final foxes. qui </span> │\n",
       "│          <span style=\"color: #008080; text-decoration-color: #008080; font-weight: bold\">1</span> │     <span style=\"color: #008080; text-decoration-color: #008080; font-weight: bold\">63700</span> │      <span style=\"color: #008080; text-decoration-color: #008080; font-weight: bold\">3701</span> │            <span style=\"color: #008080; text-decoration-color: #008080; font-weight: bold\">3</span> │            <span style=\"color: #008080; text-decoration-color: #008080; font-weight: bold\">8.00</span> │        <span style=\"color: #008080; text-decoration-color: #008080; font-weight: bold\">13309.60</span> │            <span style=\"color: #008080; text-decoration-color: #008080; font-weight: bold\">0.10</span> │            <span style=\"color: #008080; text-decoration-color: #008080; font-weight: bold\">0.02</span> │ <span style=\"color: #008000; text-decoration-color: #008000\">N           </span> │ <span style=\"color: #008000; text-decoration-color: #008000\">O           </span> │ <span style=\"color: #800080; text-decoration-color: #800080\">1996-01-29</span> │ <span style=\"color: #800080; text-decoration-color: #800080\">1996-03-05</span>   │ <span style=\"color: #800080; text-decoration-color: #800080\">1996-01-31</span>    │ <span style=\"color: #008000; text-decoration-color: #008000\">TAKE BACK RETURN </span> │ <span style=\"color: #008000; text-decoration-color: #008000\">REG AIR   </span> │ <span style=\"color: #008000; text-decoration-color: #008000\">ourts cajole above the furiou      </span> │\n",
       "│          <span style=\"color: #008080; text-decoration-color: #008080; font-weight: bold\">1</span> │      <span style=\"color: #008080; text-decoration-color: #008080; font-weight: bold\">2132</span> │      <span style=\"color: #008080; text-decoration-color: #008080; font-weight: bold\">4633</span> │            <span style=\"color: #008080; text-decoration-color: #008080; font-weight: bold\">4</span> │           <span style=\"color: #008080; text-decoration-color: #008080; font-weight: bold\">28.00</span> │        <span style=\"color: #008080; text-decoration-color: #008080; font-weight: bold\">28955.64</span> │            <span style=\"color: #008080; text-decoration-color: #008080; font-weight: bold\">0.09</span> │            <span style=\"color: #008080; text-decoration-color: #008080; font-weight: bold\">0.06</span> │ <span style=\"color: #008000; text-decoration-color: #008000\">N           </span> │ <span style=\"color: #008000; text-decoration-color: #008000\">O           </span> │ <span style=\"color: #800080; text-decoration-color: #800080\">1996-04-21</span> │ <span style=\"color: #800080; text-decoration-color: #800080\">1996-03-30</span>   │ <span style=\"color: #800080; text-decoration-color: #800080\">1996-05-16</span>    │ <span style=\"color: #008000; text-decoration-color: #008000\">NONE             </span> │ <span style=\"color: #008000; text-decoration-color: #008000\">AIR       </span> │ <span style=\"color: #008000; text-decoration-color: #008000\">s cajole busily above t            </span> │\n",
       "│          <span style=\"color: #008080; text-decoration-color: #008080; font-weight: bold\">1</span> │     <span style=\"color: #008080; text-decoration-color: #008080; font-weight: bold\">24027</span> │      <span style=\"color: #008080; text-decoration-color: #008080; font-weight: bold\">1534</span> │            <span style=\"color: #008080; text-decoration-color: #008080; font-weight: bold\">5</span> │           <span style=\"color: #008080; text-decoration-color: #008080; font-weight: bold\">24.00</span> │        <span style=\"color: #008080; text-decoration-color: #008080; font-weight: bold\">22824.48</span> │            <span style=\"color: #008080; text-decoration-color: #008080; font-weight: bold\">0.10</span> │            <span style=\"color: #008080; text-decoration-color: #008080; font-weight: bold\">0.04</span> │ <span style=\"color: #008000; text-decoration-color: #008000\">N           </span> │ <span style=\"color: #008000; text-decoration-color: #008000\">O           </span> │ <span style=\"color: #800080; text-decoration-color: #800080\">1996-03-30</span> │ <span style=\"color: #800080; text-decoration-color: #800080\">1996-03-14</span>   │ <span style=\"color: #800080; text-decoration-color: #800080\">1996-04-01</span>    │ <span style=\"color: #008000; text-decoration-color: #008000\">NONE             </span> │ <span style=\"color: #008000; text-decoration-color: #008000\">FOB       </span> │ <span style=\"color: #008000; text-decoration-color: #008000\"> the regular, regular pa           </span> │\n",
       "│          <span style=\"color: #008080; text-decoration-color: #008080; font-weight: bold\">1</span> │     <span style=\"color: #008080; text-decoration-color: #008080; font-weight: bold\">15635</span> │       <span style=\"color: #008080; text-decoration-color: #008080; font-weight: bold\">638</span> │            <span style=\"color: #008080; text-decoration-color: #008080; font-weight: bold\">6</span> │           <span style=\"color: #008080; text-decoration-color: #008080; font-weight: bold\">32.00</span> │        <span style=\"color: #008080; text-decoration-color: #008080; font-weight: bold\">49620.16</span> │            <span style=\"color: #008080; text-decoration-color: #008080; font-weight: bold\">0.07</span> │            <span style=\"color: #008080; text-decoration-color: #008080; font-weight: bold\">0.02</span> │ <span style=\"color: #008000; text-decoration-color: #008000\">N           </span> │ <span style=\"color: #008000; text-decoration-color: #008000\">O           </span> │ <span style=\"color: #800080; text-decoration-color: #800080\">1996-01-30</span> │ <span style=\"color: #800080; text-decoration-color: #800080\">1996-02-07</span>   │ <span style=\"color: #800080; text-decoration-color: #800080\">1996-02-03</span>    │ <span style=\"color: #008000; text-decoration-color: #008000\">DELIVER IN PERSON</span> │ <span style=\"color: #008000; text-decoration-color: #008000\">MAIL      </span> │ <span style=\"color: #008000; text-decoration-color: #008000\">rouches. special                   </span> │\n",
       "│          <span style=\"color: #008080; text-decoration-color: #008080; font-weight: bold\">2</span> │    <span style=\"color: #008080; text-decoration-color: #008080; font-weight: bold\">106170</span> │      <span style=\"color: #008080; text-decoration-color: #008080; font-weight: bold\">1191</span> │            <span style=\"color: #008080; text-decoration-color: #008080; font-weight: bold\">1</span> │           <span style=\"color: #008080; text-decoration-color: #008080; font-weight: bold\">38.00</span> │        <span style=\"color: #008080; text-decoration-color: #008080; font-weight: bold\">44694.46</span> │            <span style=\"color: #008080; text-decoration-color: #008080; font-weight: bold\">0.00</span> │            <span style=\"color: #008080; text-decoration-color: #008080; font-weight: bold\">0.05</span> │ <span style=\"color: #008000; text-decoration-color: #008000\">N           </span> │ <span style=\"color: #008000; text-decoration-color: #008000\">O           </span> │ <span style=\"color: #800080; text-decoration-color: #800080\">1997-01-28</span> │ <span style=\"color: #800080; text-decoration-color: #800080\">1997-01-14</span>   │ <span style=\"color: #800080; text-decoration-color: #800080\">1997-02-02</span>    │ <span style=\"color: #008000; text-decoration-color: #008000\">TAKE BACK RETURN </span> │ <span style=\"color: #008000; text-decoration-color: #008000\">RAIL      </span> │ <span style=\"color: #008000; text-decoration-color: #008000\">re. enticingly regular instruct    </span> │\n",
       "│          <span style=\"color: #008080; text-decoration-color: #008080; font-weight: bold\">3</span> │      <span style=\"color: #008080; text-decoration-color: #008080; font-weight: bold\">4297</span> │      <span style=\"color: #008080; text-decoration-color: #008080; font-weight: bold\">1798</span> │            <span style=\"color: #008080; text-decoration-color: #008080; font-weight: bold\">1</span> │           <span style=\"color: #008080; text-decoration-color: #008080; font-weight: bold\">45.00</span> │        <span style=\"color: #008080; text-decoration-color: #008080; font-weight: bold\">54058.05</span> │            <span style=\"color: #008080; text-decoration-color: #008080; font-weight: bold\">0.06</span> │            <span style=\"color: #008080; text-decoration-color: #008080; font-weight: bold\">0.00</span> │ <span style=\"color: #008000; text-decoration-color: #008000\">R           </span> │ <span style=\"color: #008000; text-decoration-color: #008000\">F           </span> │ <span style=\"color: #800080; text-decoration-color: #800080\">1994-02-02</span> │ <span style=\"color: #800080; text-decoration-color: #800080\">1994-01-04</span>   │ <span style=\"color: #800080; text-decoration-color: #800080\">1994-02-23</span>    │ <span style=\"color: #008000; text-decoration-color: #008000\">NONE             </span> │ <span style=\"color: #008000; text-decoration-color: #008000\">AIR       </span> │ <span style=\"color: #008000; text-decoration-color: #008000\">s cajole above the pinto beans. iro</span> │\n",
       "│          <span style=\"color: #008080; text-decoration-color: #008080; font-weight: bold\">3</span> │     <span style=\"color: #008080; text-decoration-color: #008080; font-weight: bold\">19036</span> │      <span style=\"color: #008080; text-decoration-color: #008080; font-weight: bold\">6540</span> │            <span style=\"color: #008080; text-decoration-color: #008080; font-weight: bold\">2</span> │           <span style=\"color: #008080; text-decoration-color: #008080; font-weight: bold\">49.00</span> │        <span style=\"color: #008080; text-decoration-color: #008080; font-weight: bold\">46796.47</span> │            <span style=\"color: #008080; text-decoration-color: #008080; font-weight: bold\">0.10</span> │            <span style=\"color: #008080; text-decoration-color: #008080; font-weight: bold\">0.00</span> │ <span style=\"color: #008000; text-decoration-color: #008000\">R           </span> │ <span style=\"color: #008000; text-decoration-color: #008000\">F           </span> │ <span style=\"color: #800080; text-decoration-color: #800080\">1993-11-09</span> │ <span style=\"color: #800080; text-decoration-color: #800080\">1993-12-20</span>   │ <span style=\"color: #800080; text-decoration-color: #800080\">1993-11-24</span>    │ <span style=\"color: #008000; text-decoration-color: #008000\">TAKE BACK RETURN </span> │ <span style=\"color: #008000; text-decoration-color: #008000\">RAIL      </span> │ <span style=\"color: #008000; text-decoration-color: #008000\">ecial pinto beans. sly             </span> │\n",
       "│          <span style=\"color: #008080; text-decoration-color: #008080; font-weight: bold\">3</span> │    <span style=\"color: #008080; text-decoration-color: #008080; font-weight: bold\">128449</span> │      <span style=\"color: #008080; text-decoration-color: #008080; font-weight: bold\">3474</span> │            <span style=\"color: #008080; text-decoration-color: #008080; font-weight: bold\">3</span> │           <span style=\"color: #008080; text-decoration-color: #008080; font-weight: bold\">27.00</span> │        <span style=\"color: #008080; text-decoration-color: #008080; font-weight: bold\">39890.88</span> │            <span style=\"color: #008080; text-decoration-color: #008080; font-weight: bold\">0.06</span> │            <span style=\"color: #008080; text-decoration-color: #008080; font-weight: bold\">0.07</span> │ <span style=\"color: #008000; text-decoration-color: #008000\">A           </span> │ <span style=\"color: #008000; text-decoration-color: #008000\">F           </span> │ <span style=\"color: #800080; text-decoration-color: #800080\">1994-01-16</span> │ <span style=\"color: #800080; text-decoration-color: #800080\">1993-11-22</span>   │ <span style=\"color: #800080; text-decoration-color: #800080\">1994-01-23</span>    │ <span style=\"color: #008000; text-decoration-color: #008000\">DELIVER IN PERSON</span> │ <span style=\"color: #008000; text-decoration-color: #008000\">SHIP      </span> │ <span style=\"color: #008000; text-decoration-color: #008000\">e carefully fina                   </span> │\n",
       "│          <span style=\"color: #7f7f7f; text-decoration-color: #7f7f7f\">…</span> │         <span style=\"color: #7f7f7f; text-decoration-color: #7f7f7f\">…</span> │         <span style=\"color: #7f7f7f; text-decoration-color: #7f7f7f\">…</span> │            <span style=\"color: #7f7f7f; text-decoration-color: #7f7f7f\">…</span> │               <span style=\"color: #7f7f7f; text-decoration-color: #7f7f7f\">…</span> │               <span style=\"color: #7f7f7f; text-decoration-color: #7f7f7f\">…</span> │               <span style=\"color: #7f7f7f; text-decoration-color: #7f7f7f\">…</span> │               <span style=\"color: #7f7f7f; text-decoration-color: #7f7f7f\">…</span> │ <span style=\"color: #7f7f7f; text-decoration-color: #7f7f7f\">…</span>            │ <span style=\"color: #7f7f7f; text-decoration-color: #7f7f7f\">…</span>            │ <span style=\"color: #7f7f7f; text-decoration-color: #7f7f7f\">…</span>          │ <span style=\"color: #7f7f7f; text-decoration-color: #7f7f7f\">…</span>            │ <span style=\"color: #7f7f7f; text-decoration-color: #7f7f7f\">…</span>             │ <span style=\"color: #7f7f7f; text-decoration-color: #7f7f7f\">…</span>                 │ <span style=\"color: #7f7f7f; text-decoration-color: #7f7f7f\">…</span>          │ <span style=\"color: #7f7f7f; text-decoration-color: #7f7f7f\">…</span>                                   │\n",
       "└────────────┴───────────┴───────────┴──────────────┴─────────────────┴─────────────────┴─────────────────┴─────────────────┴──────────────┴──────────────┴────────────┴──────────────┴───────────────┴───────────────────┴────────────┴─────────────────────────────────────┘\n",
       "</pre>\n"
      ],
      "text/plain": [
       "┏━━━━━━━━━━━━┳━━━━━━━━━━━┳━━━━━━━━━━━┳━━━━━━━━━━━━━━┳━━━━━━━━━━━━━━━━━┳━━━━━━━━━━━━━━━━━┳━━━━━━━━━━━━━━━━━┳━━━━━━━━━━━━━━━━━┳━━━━━━━━━━━━━━┳━━━━━━━━━━━━━━┳━━━━━━━━━━━━┳━━━━━━━━━━━━━━┳━━━━━━━━━━━━━━━┳━━━━━━━━━━━━━━━━━━━┳━━━━━━━━━━━━┳━━━━━━━━━━━━━━━━━━━━━━━━━━━━━━━━━━━━━┓\n",
       "┃\u001b[1m \u001b[0m\u001b[1ml_orderkey\u001b[0m\u001b[1m \u001b[0m┃\u001b[1m \u001b[0m\u001b[1ml_partkey\u001b[0m\u001b[1m \u001b[0m┃\u001b[1m \u001b[0m\u001b[1ml_suppkey\u001b[0m\u001b[1m \u001b[0m┃\u001b[1m \u001b[0m\u001b[1ml_linenumber\u001b[0m\u001b[1m \u001b[0m┃\u001b[1m \u001b[0m\u001b[1ml_quantity\u001b[0m\u001b[1m     \u001b[0m\u001b[1m \u001b[0m┃\u001b[1m \u001b[0m\u001b[1ml_extendedprice\u001b[0m\u001b[1m \u001b[0m┃\u001b[1m \u001b[0m\u001b[1ml_discount\u001b[0m\u001b[1m     \u001b[0m\u001b[1m \u001b[0m┃\u001b[1m \u001b[0m\u001b[1ml_tax\u001b[0m\u001b[1m          \u001b[0m\u001b[1m \u001b[0m┃\u001b[1m \u001b[0m\u001b[1ml_returnflag\u001b[0m\u001b[1m \u001b[0m┃\u001b[1m \u001b[0m\u001b[1ml_linestatus\u001b[0m\u001b[1m \u001b[0m┃\u001b[1m \u001b[0m\u001b[1ml_shipdate\u001b[0m\u001b[1m \u001b[0m┃\u001b[1m \u001b[0m\u001b[1ml_commitdate\u001b[0m\u001b[1m \u001b[0m┃\u001b[1m \u001b[0m\u001b[1ml_receiptdate\u001b[0m\u001b[1m \u001b[0m┃\u001b[1m \u001b[0m\u001b[1ml_shipinstruct\u001b[0m\u001b[1m   \u001b[0m\u001b[1m \u001b[0m┃\u001b[1m \u001b[0m\u001b[1ml_shipmode\u001b[0m\u001b[1m \u001b[0m┃\u001b[1m \u001b[0m\u001b[1ml_comment\u001b[0m\u001b[1m                          \u001b[0m\u001b[1m \u001b[0m┃\n",
       "┡━━━━━━━━━━━━╇━━━━━━━━━━━╇━━━━━━━━━━━╇━━━━━━━━━━━━━━╇━━━━━━━━━━━━━━━━━╇━━━━━━━━━━━━━━━━━╇━━━━━━━━━━━━━━━━━╇━━━━━━━━━━━━━━━━━╇━━━━━━━━━━━━━━╇━━━━━━━━━━━━━━╇━━━━━━━━━━━━╇━━━━━━━━━━━━━━╇━━━━━━━━━━━━━━━╇━━━━━━━━━━━━━━━━━━━╇━━━━━━━━━━━━╇━━━━━━━━━━━━━━━━━━━━━━━━━━━━━━━━━━━━━┩\n",
       "│ \u001b[2m!int64\u001b[0m     │ \u001b[2m!int64\u001b[0m    │ \u001b[2m!int64\u001b[0m    │ \u001b[2m!int64\u001b[0m       │ \u001b[2m!decimal(15, 2)\u001b[0m │ \u001b[2m!decimal(15, 2)\u001b[0m │ \u001b[2m!decimal(15, 2)\u001b[0m │ \u001b[2m!decimal(15, 2)\u001b[0m │ \u001b[2m!string\u001b[0m      │ \u001b[2m!string\u001b[0m      │ \u001b[2m!date\u001b[0m      │ \u001b[2m!date\u001b[0m        │ \u001b[2m!date\u001b[0m         │ \u001b[2m!string\u001b[0m           │ \u001b[2m!string\u001b[0m    │ \u001b[2m!string\u001b[0m                             │\n",
       "├────────────┼───────────┼───────────┼──────────────┼─────────────────┼─────────────────┼─────────────────┼─────────────────┼──────────────┼──────────────┼────────────┼──────────────┼───────────────┼───────────────────┼────────────┼─────────────────────────────────────┤\n",
       "│          \u001b[1;36m1\u001b[0m │    \u001b[1;36m155190\u001b[0m │      \u001b[1;36m7706\u001b[0m │            \u001b[1;36m1\u001b[0m │           \u001b[1;36m17.00\u001b[0m │        \u001b[1;36m21168.23\u001b[0m │            \u001b[1;36m0.04\u001b[0m │            \u001b[1;36m0.02\u001b[0m │ \u001b[32mN           \u001b[0m │ \u001b[32mO           \u001b[0m │ \u001b[35m1996-03-13\u001b[0m │ \u001b[35m1996-02-12\u001b[0m   │ \u001b[35m1996-03-22\u001b[0m    │ \u001b[32mDELIVER IN PERSON\u001b[0m │ \u001b[32mTRUCK     \u001b[0m │ \u001b[32mto beans x-ray carefull            \u001b[0m │\n",
       "│          \u001b[1;36m1\u001b[0m │     \u001b[1;36m67310\u001b[0m │      \u001b[1;36m7311\u001b[0m │            \u001b[1;36m2\u001b[0m │           \u001b[1;36m36.00\u001b[0m │        \u001b[1;36m45983.16\u001b[0m │            \u001b[1;36m0.09\u001b[0m │            \u001b[1;36m0.06\u001b[0m │ \u001b[32mN           \u001b[0m │ \u001b[32mO           \u001b[0m │ \u001b[35m1996-04-12\u001b[0m │ \u001b[35m1996-02-28\u001b[0m   │ \u001b[35m1996-04-20\u001b[0m    │ \u001b[32mTAKE BACK RETURN \u001b[0m │ \u001b[32mMAIL      \u001b[0m │ \u001b[32m according to the final foxes. qui \u001b[0m │\n",
       "│          \u001b[1;36m1\u001b[0m │     \u001b[1;36m63700\u001b[0m │      \u001b[1;36m3701\u001b[0m │            \u001b[1;36m3\u001b[0m │            \u001b[1;36m8.00\u001b[0m │        \u001b[1;36m13309.60\u001b[0m │            \u001b[1;36m0.10\u001b[0m │            \u001b[1;36m0.02\u001b[0m │ \u001b[32mN           \u001b[0m │ \u001b[32mO           \u001b[0m │ \u001b[35m1996-01-29\u001b[0m │ \u001b[35m1996-03-05\u001b[0m   │ \u001b[35m1996-01-31\u001b[0m    │ \u001b[32mTAKE BACK RETURN \u001b[0m │ \u001b[32mREG AIR   \u001b[0m │ \u001b[32mourts cajole above the furiou      \u001b[0m │\n",
       "│          \u001b[1;36m1\u001b[0m │      \u001b[1;36m2132\u001b[0m │      \u001b[1;36m4633\u001b[0m │            \u001b[1;36m4\u001b[0m │           \u001b[1;36m28.00\u001b[0m │        \u001b[1;36m28955.64\u001b[0m │            \u001b[1;36m0.09\u001b[0m │            \u001b[1;36m0.06\u001b[0m │ \u001b[32mN           \u001b[0m │ \u001b[32mO           \u001b[0m │ \u001b[35m1996-04-21\u001b[0m │ \u001b[35m1996-03-30\u001b[0m   │ \u001b[35m1996-05-16\u001b[0m    │ \u001b[32mNONE             \u001b[0m │ \u001b[32mAIR       \u001b[0m │ \u001b[32ms cajole busily above t            \u001b[0m │\n",
       "│          \u001b[1;36m1\u001b[0m │     \u001b[1;36m24027\u001b[0m │      \u001b[1;36m1534\u001b[0m │            \u001b[1;36m5\u001b[0m │           \u001b[1;36m24.00\u001b[0m │        \u001b[1;36m22824.48\u001b[0m │            \u001b[1;36m0.10\u001b[0m │            \u001b[1;36m0.04\u001b[0m │ \u001b[32mN           \u001b[0m │ \u001b[32mO           \u001b[0m │ \u001b[35m1996-03-30\u001b[0m │ \u001b[35m1996-03-14\u001b[0m   │ \u001b[35m1996-04-01\u001b[0m    │ \u001b[32mNONE             \u001b[0m │ \u001b[32mFOB       \u001b[0m │ \u001b[32m the regular, regular pa           \u001b[0m │\n",
       "│          \u001b[1;36m1\u001b[0m │     \u001b[1;36m15635\u001b[0m │       \u001b[1;36m638\u001b[0m │            \u001b[1;36m6\u001b[0m │           \u001b[1;36m32.00\u001b[0m │        \u001b[1;36m49620.16\u001b[0m │            \u001b[1;36m0.07\u001b[0m │            \u001b[1;36m0.02\u001b[0m │ \u001b[32mN           \u001b[0m │ \u001b[32mO           \u001b[0m │ \u001b[35m1996-01-30\u001b[0m │ \u001b[35m1996-02-07\u001b[0m   │ \u001b[35m1996-02-03\u001b[0m    │ \u001b[32mDELIVER IN PERSON\u001b[0m │ \u001b[32mMAIL      \u001b[0m │ \u001b[32mrouches. special                   \u001b[0m │\n",
       "│          \u001b[1;36m2\u001b[0m │    \u001b[1;36m106170\u001b[0m │      \u001b[1;36m1191\u001b[0m │            \u001b[1;36m1\u001b[0m │           \u001b[1;36m38.00\u001b[0m │        \u001b[1;36m44694.46\u001b[0m │            \u001b[1;36m0.00\u001b[0m │            \u001b[1;36m0.05\u001b[0m │ \u001b[32mN           \u001b[0m │ \u001b[32mO           \u001b[0m │ \u001b[35m1997-01-28\u001b[0m │ \u001b[35m1997-01-14\u001b[0m   │ \u001b[35m1997-02-02\u001b[0m    │ \u001b[32mTAKE BACK RETURN \u001b[0m │ \u001b[32mRAIL      \u001b[0m │ \u001b[32mre. enticingly regular instruct    \u001b[0m │\n",
       "│          \u001b[1;36m3\u001b[0m │      \u001b[1;36m4297\u001b[0m │      \u001b[1;36m1798\u001b[0m │            \u001b[1;36m1\u001b[0m │           \u001b[1;36m45.00\u001b[0m │        \u001b[1;36m54058.05\u001b[0m │            \u001b[1;36m0.06\u001b[0m │            \u001b[1;36m0.00\u001b[0m │ \u001b[32mR           \u001b[0m │ \u001b[32mF           \u001b[0m │ \u001b[35m1994-02-02\u001b[0m │ \u001b[35m1994-01-04\u001b[0m   │ \u001b[35m1994-02-23\u001b[0m    │ \u001b[32mNONE             \u001b[0m │ \u001b[32mAIR       \u001b[0m │ \u001b[32ms cajole above the pinto beans. iro\u001b[0m │\n",
       "│          \u001b[1;36m3\u001b[0m │     \u001b[1;36m19036\u001b[0m │      \u001b[1;36m6540\u001b[0m │            \u001b[1;36m2\u001b[0m │           \u001b[1;36m49.00\u001b[0m │        \u001b[1;36m46796.47\u001b[0m │            \u001b[1;36m0.10\u001b[0m │            \u001b[1;36m0.00\u001b[0m │ \u001b[32mR           \u001b[0m │ \u001b[32mF           \u001b[0m │ \u001b[35m1993-11-09\u001b[0m │ \u001b[35m1993-12-20\u001b[0m   │ \u001b[35m1993-11-24\u001b[0m    │ \u001b[32mTAKE BACK RETURN \u001b[0m │ \u001b[32mRAIL      \u001b[0m │ \u001b[32mecial pinto beans. sly             \u001b[0m │\n",
       "│          \u001b[1;36m3\u001b[0m │    \u001b[1;36m128449\u001b[0m │      \u001b[1;36m3474\u001b[0m │            \u001b[1;36m3\u001b[0m │           \u001b[1;36m27.00\u001b[0m │        \u001b[1;36m39890.88\u001b[0m │            \u001b[1;36m0.06\u001b[0m │            \u001b[1;36m0.07\u001b[0m │ \u001b[32mA           \u001b[0m │ \u001b[32mF           \u001b[0m │ \u001b[35m1994-01-16\u001b[0m │ \u001b[35m1993-11-22\u001b[0m   │ \u001b[35m1994-01-23\u001b[0m    │ \u001b[32mDELIVER IN PERSON\u001b[0m │ \u001b[32mSHIP      \u001b[0m │ \u001b[32me carefully fina                   \u001b[0m │\n",
       "│          \u001b[2m…\u001b[0m │         \u001b[2m…\u001b[0m │         \u001b[2m…\u001b[0m │            \u001b[2m…\u001b[0m │               \u001b[2m…\u001b[0m │               \u001b[2m…\u001b[0m │               \u001b[2m…\u001b[0m │               \u001b[2m…\u001b[0m │ \u001b[2m…\u001b[0m            │ \u001b[2m…\u001b[0m            │ \u001b[2m…\u001b[0m          │ \u001b[2m…\u001b[0m            │ \u001b[2m…\u001b[0m             │ \u001b[2m…\u001b[0m                 │ \u001b[2m…\u001b[0m          │ \u001b[2m…\u001b[0m                                   │\n",
       "└────────────┴───────────┴───────────┴──────────────┴─────────────────┴─────────────────┴─────────────────┴─────────────────┴──────────────┴──────────────┴────────────┴──────────────┴───────────────┴───────────────────┴────────────┴─────────────────────────────────────┘"
      ]
     },
     "execution_count": 11,
     "metadata": {},
     "output_type": "execute_result"
    }
   ],
   "source": [
    "from __future__ import annotations\n",
    "import ibis\n",
    "import datetime\n",
    "from ibis.expr.types import DateScalar\n",
    "from dateutil.relativedelta import relativedelta\n",
    "\n",
    "\n",
    "def add_date(datestr: str, dy: int = 0, dm: int = 0, dd: int = 0) -> DateScalar:\n",
    "    dt = datetime.date.fromisoformat(datestr)\n",
    "    dt += relativedelta(years=dy, months=dm, days=dd)\n",
    "    return ibis.date(dt.isoformat())\n",
    "\n",
    "\n",
    "lineitem = con.table(\"lineitem\", database=f\"tpch\")\n",
    "lineitem\n"
   ]
  },
  {
   "cell_type": "code",
   "execution_count": 12,
   "metadata": {},
   "outputs": [],
   "source": [
    "t = lineitem\n",
    "where = lineitem.filter(t.l_shipdate <= add_date(\"1998-12-01\", dd=-90))"
   ]
  },
  {
   "cell_type": "code",
   "execution_count": 13,
   "metadata": {},
   "outputs": [
    {
     "data": {
      "text/html": [
       "<pre style=\"white-space:pre;overflow-x:auto;line-height:normal;font-family:Menlo,'DejaVu Sans Mono',consolas,'Courier New',monospace\">┏━━━━━━━━━━━━┳━━━━━━━━━━━┳━━━━━━━━━━━┳━━━━━━━━━━━━━━┳━━━━━━━━━━━━━━━━━┳━━━━━━━━━━━━━━━━━┳━━━━━━━━━━━━━━━━━┳━━━━━━━━━━━━━━━━━┳━━━━━━━━━━━━━━┳━━━━━━━━━━━━━━┳━━━━━━━━━━━━┳━━━━━━━━━━━━━━┳━━━━━━━━━━━━━━━┳━━━━━━━━━━━━━━━━━━━┳━━━━━━━━━━━━┳━━━━━━━━━━━━━━━━━━━━━━━━━━━━━━━━━━━━━┓\n",
       "┃<span style=\"font-weight: bold\"> l_orderkey </span>┃<span style=\"font-weight: bold\"> l_partkey </span>┃<span style=\"font-weight: bold\"> l_suppkey </span>┃<span style=\"font-weight: bold\"> l_linenumber </span>┃<span style=\"font-weight: bold\"> l_quantity      </span>┃<span style=\"font-weight: bold\"> l_extendedprice </span>┃<span style=\"font-weight: bold\"> l_discount      </span>┃<span style=\"font-weight: bold\"> l_tax           </span>┃<span style=\"font-weight: bold\"> l_returnflag </span>┃<span style=\"font-weight: bold\"> l_linestatus </span>┃<span style=\"font-weight: bold\"> l_shipdate </span>┃<span style=\"font-weight: bold\"> l_commitdate </span>┃<span style=\"font-weight: bold\"> l_receiptdate </span>┃<span style=\"font-weight: bold\"> l_shipinstruct    </span>┃<span style=\"font-weight: bold\"> l_shipmode </span>┃<span style=\"font-weight: bold\"> l_comment                           </span>┃\n",
       "┡━━━━━━━━━━━━╇━━━━━━━━━━━╇━━━━━━━━━━━╇━━━━━━━━━━━━━━╇━━━━━━━━━━━━━━━━━╇━━━━━━━━━━━━━━━━━╇━━━━━━━━━━━━━━━━━╇━━━━━━━━━━━━━━━━━╇━━━━━━━━━━━━━━╇━━━━━━━━━━━━━━╇━━━━━━━━━━━━╇━━━━━━━━━━━━━━╇━━━━━━━━━━━━━━━╇━━━━━━━━━━━━━━━━━━━╇━━━━━━━━━━━━╇━━━━━━━━━━━━━━━━━━━━━━━━━━━━━━━━━━━━━┩\n",
       "│ <span style=\"color: #7f7f7f; text-decoration-color: #7f7f7f\">!int64</span>     │ <span style=\"color: #7f7f7f; text-decoration-color: #7f7f7f\">!int64</span>    │ <span style=\"color: #7f7f7f; text-decoration-color: #7f7f7f\">!int64</span>    │ <span style=\"color: #7f7f7f; text-decoration-color: #7f7f7f\">!int64</span>       │ <span style=\"color: #7f7f7f; text-decoration-color: #7f7f7f\">!decimal(15, 2)</span> │ <span style=\"color: #7f7f7f; text-decoration-color: #7f7f7f\">!decimal(15, 2)</span> │ <span style=\"color: #7f7f7f; text-decoration-color: #7f7f7f\">!decimal(15, 2)</span> │ <span style=\"color: #7f7f7f; text-decoration-color: #7f7f7f\">!decimal(15, 2)</span> │ <span style=\"color: #7f7f7f; text-decoration-color: #7f7f7f\">!string</span>      │ <span style=\"color: #7f7f7f; text-decoration-color: #7f7f7f\">!string</span>      │ <span style=\"color: #7f7f7f; text-decoration-color: #7f7f7f\">!date</span>      │ <span style=\"color: #7f7f7f; text-decoration-color: #7f7f7f\">!date</span>        │ <span style=\"color: #7f7f7f; text-decoration-color: #7f7f7f\">!date</span>         │ <span style=\"color: #7f7f7f; text-decoration-color: #7f7f7f\">!string</span>           │ <span style=\"color: #7f7f7f; text-decoration-color: #7f7f7f\">!string</span>    │ <span style=\"color: #7f7f7f; text-decoration-color: #7f7f7f\">!string</span>                             │\n",
       "├────────────┼───────────┼───────────┼──────────────┼─────────────────┼─────────────────┼─────────────────┼─────────────────┼──────────────┼──────────────┼────────────┼──────────────┼───────────────┼───────────────────┼────────────┼─────────────────────────────────────┤\n",
       "│          <span style=\"color: #008080; text-decoration-color: #008080; font-weight: bold\">1</span> │    <span style=\"color: #008080; text-decoration-color: #008080; font-weight: bold\">155190</span> │      <span style=\"color: #008080; text-decoration-color: #008080; font-weight: bold\">7706</span> │            <span style=\"color: #008080; text-decoration-color: #008080; font-weight: bold\">1</span> │           <span style=\"color: #008080; text-decoration-color: #008080; font-weight: bold\">17.00</span> │        <span style=\"color: #008080; text-decoration-color: #008080; font-weight: bold\">21168.23</span> │            <span style=\"color: #008080; text-decoration-color: #008080; font-weight: bold\">0.04</span> │            <span style=\"color: #008080; text-decoration-color: #008080; font-weight: bold\">0.02</span> │ <span style=\"color: #008000; text-decoration-color: #008000\">N           </span> │ <span style=\"color: #008000; text-decoration-color: #008000\">O           </span> │ <span style=\"color: #800080; text-decoration-color: #800080\">1996-03-13</span> │ <span style=\"color: #800080; text-decoration-color: #800080\">1996-02-12</span>   │ <span style=\"color: #800080; text-decoration-color: #800080\">1996-03-22</span>    │ <span style=\"color: #008000; text-decoration-color: #008000\">DELIVER IN PERSON</span> │ <span style=\"color: #008000; text-decoration-color: #008000\">TRUCK     </span> │ <span style=\"color: #008000; text-decoration-color: #008000\">to beans x-ray carefull            </span> │\n",
       "│          <span style=\"color: #008080; text-decoration-color: #008080; font-weight: bold\">1</span> │     <span style=\"color: #008080; text-decoration-color: #008080; font-weight: bold\">67310</span> │      <span style=\"color: #008080; text-decoration-color: #008080; font-weight: bold\">7311</span> │            <span style=\"color: #008080; text-decoration-color: #008080; font-weight: bold\">2</span> │           <span style=\"color: #008080; text-decoration-color: #008080; font-weight: bold\">36.00</span> │        <span style=\"color: #008080; text-decoration-color: #008080; font-weight: bold\">45983.16</span> │            <span style=\"color: #008080; text-decoration-color: #008080; font-weight: bold\">0.09</span> │            <span style=\"color: #008080; text-decoration-color: #008080; font-weight: bold\">0.06</span> │ <span style=\"color: #008000; text-decoration-color: #008000\">N           </span> │ <span style=\"color: #008000; text-decoration-color: #008000\">O           </span> │ <span style=\"color: #800080; text-decoration-color: #800080\">1996-04-12</span> │ <span style=\"color: #800080; text-decoration-color: #800080\">1996-02-28</span>   │ <span style=\"color: #800080; text-decoration-color: #800080\">1996-04-20</span>    │ <span style=\"color: #008000; text-decoration-color: #008000\">TAKE BACK RETURN </span> │ <span style=\"color: #008000; text-decoration-color: #008000\">MAIL      </span> │ <span style=\"color: #008000; text-decoration-color: #008000\"> according to the final foxes. qui </span> │\n",
       "│          <span style=\"color: #008080; text-decoration-color: #008080; font-weight: bold\">1</span> │     <span style=\"color: #008080; text-decoration-color: #008080; font-weight: bold\">63700</span> │      <span style=\"color: #008080; text-decoration-color: #008080; font-weight: bold\">3701</span> │            <span style=\"color: #008080; text-decoration-color: #008080; font-weight: bold\">3</span> │            <span style=\"color: #008080; text-decoration-color: #008080; font-weight: bold\">8.00</span> │        <span style=\"color: #008080; text-decoration-color: #008080; font-weight: bold\">13309.60</span> │            <span style=\"color: #008080; text-decoration-color: #008080; font-weight: bold\">0.10</span> │            <span style=\"color: #008080; text-decoration-color: #008080; font-weight: bold\">0.02</span> │ <span style=\"color: #008000; text-decoration-color: #008000\">N           </span> │ <span style=\"color: #008000; text-decoration-color: #008000\">O           </span> │ <span style=\"color: #800080; text-decoration-color: #800080\">1996-01-29</span> │ <span style=\"color: #800080; text-decoration-color: #800080\">1996-03-05</span>   │ <span style=\"color: #800080; text-decoration-color: #800080\">1996-01-31</span>    │ <span style=\"color: #008000; text-decoration-color: #008000\">TAKE BACK RETURN </span> │ <span style=\"color: #008000; text-decoration-color: #008000\">REG AIR   </span> │ <span style=\"color: #008000; text-decoration-color: #008000\">ourts cajole above the furiou      </span> │\n",
       "│          <span style=\"color: #008080; text-decoration-color: #008080; font-weight: bold\">1</span> │      <span style=\"color: #008080; text-decoration-color: #008080; font-weight: bold\">2132</span> │      <span style=\"color: #008080; text-decoration-color: #008080; font-weight: bold\">4633</span> │            <span style=\"color: #008080; text-decoration-color: #008080; font-weight: bold\">4</span> │           <span style=\"color: #008080; text-decoration-color: #008080; font-weight: bold\">28.00</span> │        <span style=\"color: #008080; text-decoration-color: #008080; font-weight: bold\">28955.64</span> │            <span style=\"color: #008080; text-decoration-color: #008080; font-weight: bold\">0.09</span> │            <span style=\"color: #008080; text-decoration-color: #008080; font-weight: bold\">0.06</span> │ <span style=\"color: #008000; text-decoration-color: #008000\">N           </span> │ <span style=\"color: #008000; text-decoration-color: #008000\">O           </span> │ <span style=\"color: #800080; text-decoration-color: #800080\">1996-04-21</span> │ <span style=\"color: #800080; text-decoration-color: #800080\">1996-03-30</span>   │ <span style=\"color: #800080; text-decoration-color: #800080\">1996-05-16</span>    │ <span style=\"color: #008000; text-decoration-color: #008000\">NONE             </span> │ <span style=\"color: #008000; text-decoration-color: #008000\">AIR       </span> │ <span style=\"color: #008000; text-decoration-color: #008000\">s cajole busily above t            </span> │\n",
       "│          <span style=\"color: #008080; text-decoration-color: #008080; font-weight: bold\">1</span> │     <span style=\"color: #008080; text-decoration-color: #008080; font-weight: bold\">24027</span> │      <span style=\"color: #008080; text-decoration-color: #008080; font-weight: bold\">1534</span> │            <span style=\"color: #008080; text-decoration-color: #008080; font-weight: bold\">5</span> │           <span style=\"color: #008080; text-decoration-color: #008080; font-weight: bold\">24.00</span> │        <span style=\"color: #008080; text-decoration-color: #008080; font-weight: bold\">22824.48</span> │            <span style=\"color: #008080; text-decoration-color: #008080; font-weight: bold\">0.10</span> │            <span style=\"color: #008080; text-decoration-color: #008080; font-weight: bold\">0.04</span> │ <span style=\"color: #008000; text-decoration-color: #008000\">N           </span> │ <span style=\"color: #008000; text-decoration-color: #008000\">O           </span> │ <span style=\"color: #800080; text-decoration-color: #800080\">1996-03-30</span> │ <span style=\"color: #800080; text-decoration-color: #800080\">1996-03-14</span>   │ <span style=\"color: #800080; text-decoration-color: #800080\">1996-04-01</span>    │ <span style=\"color: #008000; text-decoration-color: #008000\">NONE             </span> │ <span style=\"color: #008000; text-decoration-color: #008000\">FOB       </span> │ <span style=\"color: #008000; text-decoration-color: #008000\"> the regular, regular pa           </span> │\n",
       "│          <span style=\"color: #008080; text-decoration-color: #008080; font-weight: bold\">1</span> │     <span style=\"color: #008080; text-decoration-color: #008080; font-weight: bold\">15635</span> │       <span style=\"color: #008080; text-decoration-color: #008080; font-weight: bold\">638</span> │            <span style=\"color: #008080; text-decoration-color: #008080; font-weight: bold\">6</span> │           <span style=\"color: #008080; text-decoration-color: #008080; font-weight: bold\">32.00</span> │        <span style=\"color: #008080; text-decoration-color: #008080; font-weight: bold\">49620.16</span> │            <span style=\"color: #008080; text-decoration-color: #008080; font-weight: bold\">0.07</span> │            <span style=\"color: #008080; text-decoration-color: #008080; font-weight: bold\">0.02</span> │ <span style=\"color: #008000; text-decoration-color: #008000\">N           </span> │ <span style=\"color: #008000; text-decoration-color: #008000\">O           </span> │ <span style=\"color: #800080; text-decoration-color: #800080\">1996-01-30</span> │ <span style=\"color: #800080; text-decoration-color: #800080\">1996-02-07</span>   │ <span style=\"color: #800080; text-decoration-color: #800080\">1996-02-03</span>    │ <span style=\"color: #008000; text-decoration-color: #008000\">DELIVER IN PERSON</span> │ <span style=\"color: #008000; text-decoration-color: #008000\">MAIL      </span> │ <span style=\"color: #008000; text-decoration-color: #008000\">rouches. special                   </span> │\n",
       "│          <span style=\"color: #008080; text-decoration-color: #008080; font-weight: bold\">2</span> │    <span style=\"color: #008080; text-decoration-color: #008080; font-weight: bold\">106170</span> │      <span style=\"color: #008080; text-decoration-color: #008080; font-weight: bold\">1191</span> │            <span style=\"color: #008080; text-decoration-color: #008080; font-weight: bold\">1</span> │           <span style=\"color: #008080; text-decoration-color: #008080; font-weight: bold\">38.00</span> │        <span style=\"color: #008080; text-decoration-color: #008080; font-weight: bold\">44694.46</span> │            <span style=\"color: #008080; text-decoration-color: #008080; font-weight: bold\">0.00</span> │            <span style=\"color: #008080; text-decoration-color: #008080; font-weight: bold\">0.05</span> │ <span style=\"color: #008000; text-decoration-color: #008000\">N           </span> │ <span style=\"color: #008000; text-decoration-color: #008000\">O           </span> │ <span style=\"color: #800080; text-decoration-color: #800080\">1997-01-28</span> │ <span style=\"color: #800080; text-decoration-color: #800080\">1997-01-14</span>   │ <span style=\"color: #800080; text-decoration-color: #800080\">1997-02-02</span>    │ <span style=\"color: #008000; text-decoration-color: #008000\">TAKE BACK RETURN </span> │ <span style=\"color: #008000; text-decoration-color: #008000\">RAIL      </span> │ <span style=\"color: #008000; text-decoration-color: #008000\">re. enticingly regular instruct    </span> │\n",
       "│          <span style=\"color: #008080; text-decoration-color: #008080; font-weight: bold\">3</span> │      <span style=\"color: #008080; text-decoration-color: #008080; font-weight: bold\">4297</span> │      <span style=\"color: #008080; text-decoration-color: #008080; font-weight: bold\">1798</span> │            <span style=\"color: #008080; text-decoration-color: #008080; font-weight: bold\">1</span> │           <span style=\"color: #008080; text-decoration-color: #008080; font-weight: bold\">45.00</span> │        <span style=\"color: #008080; text-decoration-color: #008080; font-weight: bold\">54058.05</span> │            <span style=\"color: #008080; text-decoration-color: #008080; font-weight: bold\">0.06</span> │            <span style=\"color: #008080; text-decoration-color: #008080; font-weight: bold\">0.00</span> │ <span style=\"color: #008000; text-decoration-color: #008000\">R           </span> │ <span style=\"color: #008000; text-decoration-color: #008000\">F           </span> │ <span style=\"color: #800080; text-decoration-color: #800080\">1994-02-02</span> │ <span style=\"color: #800080; text-decoration-color: #800080\">1994-01-04</span>   │ <span style=\"color: #800080; text-decoration-color: #800080\">1994-02-23</span>    │ <span style=\"color: #008000; text-decoration-color: #008000\">NONE             </span> │ <span style=\"color: #008000; text-decoration-color: #008000\">AIR       </span> │ <span style=\"color: #008000; text-decoration-color: #008000\">s cajole above the pinto beans. iro</span> │\n",
       "│          <span style=\"color: #008080; text-decoration-color: #008080; font-weight: bold\">3</span> │     <span style=\"color: #008080; text-decoration-color: #008080; font-weight: bold\">19036</span> │      <span style=\"color: #008080; text-decoration-color: #008080; font-weight: bold\">6540</span> │            <span style=\"color: #008080; text-decoration-color: #008080; font-weight: bold\">2</span> │           <span style=\"color: #008080; text-decoration-color: #008080; font-weight: bold\">49.00</span> │        <span style=\"color: #008080; text-decoration-color: #008080; font-weight: bold\">46796.47</span> │            <span style=\"color: #008080; text-decoration-color: #008080; font-weight: bold\">0.10</span> │            <span style=\"color: #008080; text-decoration-color: #008080; font-weight: bold\">0.00</span> │ <span style=\"color: #008000; text-decoration-color: #008000\">R           </span> │ <span style=\"color: #008000; text-decoration-color: #008000\">F           </span> │ <span style=\"color: #800080; text-decoration-color: #800080\">1993-11-09</span> │ <span style=\"color: #800080; text-decoration-color: #800080\">1993-12-20</span>   │ <span style=\"color: #800080; text-decoration-color: #800080\">1993-11-24</span>    │ <span style=\"color: #008000; text-decoration-color: #008000\">TAKE BACK RETURN </span> │ <span style=\"color: #008000; text-decoration-color: #008000\">RAIL      </span> │ <span style=\"color: #008000; text-decoration-color: #008000\">ecial pinto beans. sly             </span> │\n",
       "│          <span style=\"color: #008080; text-decoration-color: #008080; font-weight: bold\">3</span> │    <span style=\"color: #008080; text-decoration-color: #008080; font-weight: bold\">128449</span> │      <span style=\"color: #008080; text-decoration-color: #008080; font-weight: bold\">3474</span> │            <span style=\"color: #008080; text-decoration-color: #008080; font-weight: bold\">3</span> │           <span style=\"color: #008080; text-decoration-color: #008080; font-weight: bold\">27.00</span> │        <span style=\"color: #008080; text-decoration-color: #008080; font-weight: bold\">39890.88</span> │            <span style=\"color: #008080; text-decoration-color: #008080; font-weight: bold\">0.06</span> │            <span style=\"color: #008080; text-decoration-color: #008080; font-weight: bold\">0.07</span> │ <span style=\"color: #008000; text-decoration-color: #008000\">A           </span> │ <span style=\"color: #008000; text-decoration-color: #008000\">F           </span> │ <span style=\"color: #800080; text-decoration-color: #800080\">1994-01-16</span> │ <span style=\"color: #800080; text-decoration-color: #800080\">1993-11-22</span>   │ <span style=\"color: #800080; text-decoration-color: #800080\">1994-01-23</span>    │ <span style=\"color: #008000; text-decoration-color: #008000\">DELIVER IN PERSON</span> │ <span style=\"color: #008000; text-decoration-color: #008000\">SHIP      </span> │ <span style=\"color: #008000; text-decoration-color: #008000\">e carefully fina                   </span> │\n",
       "│          <span style=\"color: #7f7f7f; text-decoration-color: #7f7f7f\">…</span> │         <span style=\"color: #7f7f7f; text-decoration-color: #7f7f7f\">…</span> │         <span style=\"color: #7f7f7f; text-decoration-color: #7f7f7f\">…</span> │            <span style=\"color: #7f7f7f; text-decoration-color: #7f7f7f\">…</span> │               <span style=\"color: #7f7f7f; text-decoration-color: #7f7f7f\">…</span> │               <span style=\"color: #7f7f7f; text-decoration-color: #7f7f7f\">…</span> │               <span style=\"color: #7f7f7f; text-decoration-color: #7f7f7f\">…</span> │               <span style=\"color: #7f7f7f; text-decoration-color: #7f7f7f\">…</span> │ <span style=\"color: #7f7f7f; text-decoration-color: #7f7f7f\">…</span>            │ <span style=\"color: #7f7f7f; text-decoration-color: #7f7f7f\">…</span>            │ <span style=\"color: #7f7f7f; text-decoration-color: #7f7f7f\">…</span>          │ <span style=\"color: #7f7f7f; text-decoration-color: #7f7f7f\">…</span>            │ <span style=\"color: #7f7f7f; text-decoration-color: #7f7f7f\">…</span>             │ <span style=\"color: #7f7f7f; text-decoration-color: #7f7f7f\">…</span>                 │ <span style=\"color: #7f7f7f; text-decoration-color: #7f7f7f\">…</span>          │ <span style=\"color: #7f7f7f; text-decoration-color: #7f7f7f\">…</span>                                   │\n",
       "└────────────┴───────────┴───────────┴──────────────┴─────────────────┴─────────────────┴─────────────────┴─────────────────┴──────────────┴──────────────┴────────────┴──────────────┴───────────────┴───────────────────┴────────────┴─────────────────────────────────────┘\n",
       "</pre>\n"
      ],
      "text/plain": [
       "┏━━━━━━━━━━━━┳━━━━━━━━━━━┳━━━━━━━━━━━┳━━━━━━━━━━━━━━┳━━━━━━━━━━━━━━━━━┳━━━━━━━━━━━━━━━━━┳━━━━━━━━━━━━━━━━━┳━━━━━━━━━━━━━━━━━┳━━━━━━━━━━━━━━┳━━━━━━━━━━━━━━┳━━━━━━━━━━━━┳━━━━━━━━━━━━━━┳━━━━━━━━━━━━━━━┳━━━━━━━━━━━━━━━━━━━┳━━━━━━━━━━━━┳━━━━━━━━━━━━━━━━━━━━━━━━━━━━━━━━━━━━━┓\n",
       "┃\u001b[1m \u001b[0m\u001b[1ml_orderkey\u001b[0m\u001b[1m \u001b[0m┃\u001b[1m \u001b[0m\u001b[1ml_partkey\u001b[0m\u001b[1m \u001b[0m┃\u001b[1m \u001b[0m\u001b[1ml_suppkey\u001b[0m\u001b[1m \u001b[0m┃\u001b[1m \u001b[0m\u001b[1ml_linenumber\u001b[0m\u001b[1m \u001b[0m┃\u001b[1m \u001b[0m\u001b[1ml_quantity\u001b[0m\u001b[1m     \u001b[0m\u001b[1m \u001b[0m┃\u001b[1m \u001b[0m\u001b[1ml_extendedprice\u001b[0m\u001b[1m \u001b[0m┃\u001b[1m \u001b[0m\u001b[1ml_discount\u001b[0m\u001b[1m     \u001b[0m\u001b[1m \u001b[0m┃\u001b[1m \u001b[0m\u001b[1ml_tax\u001b[0m\u001b[1m          \u001b[0m\u001b[1m \u001b[0m┃\u001b[1m \u001b[0m\u001b[1ml_returnflag\u001b[0m\u001b[1m \u001b[0m┃\u001b[1m \u001b[0m\u001b[1ml_linestatus\u001b[0m\u001b[1m \u001b[0m┃\u001b[1m \u001b[0m\u001b[1ml_shipdate\u001b[0m\u001b[1m \u001b[0m┃\u001b[1m \u001b[0m\u001b[1ml_commitdate\u001b[0m\u001b[1m \u001b[0m┃\u001b[1m \u001b[0m\u001b[1ml_receiptdate\u001b[0m\u001b[1m \u001b[0m┃\u001b[1m \u001b[0m\u001b[1ml_shipinstruct\u001b[0m\u001b[1m   \u001b[0m\u001b[1m \u001b[0m┃\u001b[1m \u001b[0m\u001b[1ml_shipmode\u001b[0m\u001b[1m \u001b[0m┃\u001b[1m \u001b[0m\u001b[1ml_comment\u001b[0m\u001b[1m                          \u001b[0m\u001b[1m \u001b[0m┃\n",
       "┡━━━━━━━━━━━━╇━━━━━━━━━━━╇━━━━━━━━━━━╇━━━━━━━━━━━━━━╇━━━━━━━━━━━━━━━━━╇━━━━━━━━━━━━━━━━━╇━━━━━━━━━━━━━━━━━╇━━━━━━━━━━━━━━━━━╇━━━━━━━━━━━━━━╇━━━━━━━━━━━━━━╇━━━━━━━━━━━━╇━━━━━━━━━━━━━━╇━━━━━━━━━━━━━━━╇━━━━━━━━━━━━━━━━━━━╇━━━━━━━━━━━━╇━━━━━━━━━━━━━━━━━━━━━━━━━━━━━━━━━━━━━┩\n",
       "│ \u001b[2m!int64\u001b[0m     │ \u001b[2m!int64\u001b[0m    │ \u001b[2m!int64\u001b[0m    │ \u001b[2m!int64\u001b[0m       │ \u001b[2m!decimal(15, 2)\u001b[0m │ \u001b[2m!decimal(15, 2)\u001b[0m │ \u001b[2m!decimal(15, 2)\u001b[0m │ \u001b[2m!decimal(15, 2)\u001b[0m │ \u001b[2m!string\u001b[0m      │ \u001b[2m!string\u001b[0m      │ \u001b[2m!date\u001b[0m      │ \u001b[2m!date\u001b[0m        │ \u001b[2m!date\u001b[0m         │ \u001b[2m!string\u001b[0m           │ \u001b[2m!string\u001b[0m    │ \u001b[2m!string\u001b[0m                             │\n",
       "├────────────┼───────────┼───────────┼──────────────┼─────────────────┼─────────────────┼─────────────────┼─────────────────┼──────────────┼──────────────┼────────────┼──────────────┼───────────────┼───────────────────┼────────────┼─────────────────────────────────────┤\n",
       "│          \u001b[1;36m1\u001b[0m │    \u001b[1;36m155190\u001b[0m │      \u001b[1;36m7706\u001b[0m │            \u001b[1;36m1\u001b[0m │           \u001b[1;36m17.00\u001b[0m │        \u001b[1;36m21168.23\u001b[0m │            \u001b[1;36m0.04\u001b[0m │            \u001b[1;36m0.02\u001b[0m │ \u001b[32mN           \u001b[0m │ \u001b[32mO           \u001b[0m │ \u001b[35m1996-03-13\u001b[0m │ \u001b[35m1996-02-12\u001b[0m   │ \u001b[35m1996-03-22\u001b[0m    │ \u001b[32mDELIVER IN PERSON\u001b[0m │ \u001b[32mTRUCK     \u001b[0m │ \u001b[32mto beans x-ray carefull            \u001b[0m │\n",
       "│          \u001b[1;36m1\u001b[0m │     \u001b[1;36m67310\u001b[0m │      \u001b[1;36m7311\u001b[0m │            \u001b[1;36m2\u001b[0m │           \u001b[1;36m36.00\u001b[0m │        \u001b[1;36m45983.16\u001b[0m │            \u001b[1;36m0.09\u001b[0m │            \u001b[1;36m0.06\u001b[0m │ \u001b[32mN           \u001b[0m │ \u001b[32mO           \u001b[0m │ \u001b[35m1996-04-12\u001b[0m │ \u001b[35m1996-02-28\u001b[0m   │ \u001b[35m1996-04-20\u001b[0m    │ \u001b[32mTAKE BACK RETURN \u001b[0m │ \u001b[32mMAIL      \u001b[0m │ \u001b[32m according to the final foxes. qui \u001b[0m │\n",
       "│          \u001b[1;36m1\u001b[0m │     \u001b[1;36m63700\u001b[0m │      \u001b[1;36m3701\u001b[0m │            \u001b[1;36m3\u001b[0m │            \u001b[1;36m8.00\u001b[0m │        \u001b[1;36m13309.60\u001b[0m │            \u001b[1;36m0.10\u001b[0m │            \u001b[1;36m0.02\u001b[0m │ \u001b[32mN           \u001b[0m │ \u001b[32mO           \u001b[0m │ \u001b[35m1996-01-29\u001b[0m │ \u001b[35m1996-03-05\u001b[0m   │ \u001b[35m1996-01-31\u001b[0m    │ \u001b[32mTAKE BACK RETURN \u001b[0m │ \u001b[32mREG AIR   \u001b[0m │ \u001b[32mourts cajole above the furiou      \u001b[0m │\n",
       "│          \u001b[1;36m1\u001b[0m │      \u001b[1;36m2132\u001b[0m │      \u001b[1;36m4633\u001b[0m │            \u001b[1;36m4\u001b[0m │           \u001b[1;36m28.00\u001b[0m │        \u001b[1;36m28955.64\u001b[0m │            \u001b[1;36m0.09\u001b[0m │            \u001b[1;36m0.06\u001b[0m │ \u001b[32mN           \u001b[0m │ \u001b[32mO           \u001b[0m │ \u001b[35m1996-04-21\u001b[0m │ \u001b[35m1996-03-30\u001b[0m   │ \u001b[35m1996-05-16\u001b[0m    │ \u001b[32mNONE             \u001b[0m │ \u001b[32mAIR       \u001b[0m │ \u001b[32ms cajole busily above t            \u001b[0m │\n",
       "│          \u001b[1;36m1\u001b[0m │     \u001b[1;36m24027\u001b[0m │      \u001b[1;36m1534\u001b[0m │            \u001b[1;36m5\u001b[0m │           \u001b[1;36m24.00\u001b[0m │        \u001b[1;36m22824.48\u001b[0m │            \u001b[1;36m0.10\u001b[0m │            \u001b[1;36m0.04\u001b[0m │ \u001b[32mN           \u001b[0m │ \u001b[32mO           \u001b[0m │ \u001b[35m1996-03-30\u001b[0m │ \u001b[35m1996-03-14\u001b[0m   │ \u001b[35m1996-04-01\u001b[0m    │ \u001b[32mNONE             \u001b[0m │ \u001b[32mFOB       \u001b[0m │ \u001b[32m the regular, regular pa           \u001b[0m │\n",
       "│          \u001b[1;36m1\u001b[0m │     \u001b[1;36m15635\u001b[0m │       \u001b[1;36m638\u001b[0m │            \u001b[1;36m6\u001b[0m │           \u001b[1;36m32.00\u001b[0m │        \u001b[1;36m49620.16\u001b[0m │            \u001b[1;36m0.07\u001b[0m │            \u001b[1;36m0.02\u001b[0m │ \u001b[32mN           \u001b[0m │ \u001b[32mO           \u001b[0m │ \u001b[35m1996-01-30\u001b[0m │ \u001b[35m1996-02-07\u001b[0m   │ \u001b[35m1996-02-03\u001b[0m    │ \u001b[32mDELIVER IN PERSON\u001b[0m │ \u001b[32mMAIL      \u001b[0m │ \u001b[32mrouches. special                   \u001b[0m │\n",
       "│          \u001b[1;36m2\u001b[0m │    \u001b[1;36m106170\u001b[0m │      \u001b[1;36m1191\u001b[0m │            \u001b[1;36m1\u001b[0m │           \u001b[1;36m38.00\u001b[0m │        \u001b[1;36m44694.46\u001b[0m │            \u001b[1;36m0.00\u001b[0m │            \u001b[1;36m0.05\u001b[0m │ \u001b[32mN           \u001b[0m │ \u001b[32mO           \u001b[0m │ \u001b[35m1997-01-28\u001b[0m │ \u001b[35m1997-01-14\u001b[0m   │ \u001b[35m1997-02-02\u001b[0m    │ \u001b[32mTAKE BACK RETURN \u001b[0m │ \u001b[32mRAIL      \u001b[0m │ \u001b[32mre. enticingly regular instruct    \u001b[0m │\n",
       "│          \u001b[1;36m3\u001b[0m │      \u001b[1;36m4297\u001b[0m │      \u001b[1;36m1798\u001b[0m │            \u001b[1;36m1\u001b[0m │           \u001b[1;36m45.00\u001b[0m │        \u001b[1;36m54058.05\u001b[0m │            \u001b[1;36m0.06\u001b[0m │            \u001b[1;36m0.00\u001b[0m │ \u001b[32mR           \u001b[0m │ \u001b[32mF           \u001b[0m │ \u001b[35m1994-02-02\u001b[0m │ \u001b[35m1994-01-04\u001b[0m   │ \u001b[35m1994-02-23\u001b[0m    │ \u001b[32mNONE             \u001b[0m │ \u001b[32mAIR       \u001b[0m │ \u001b[32ms cajole above the pinto beans. iro\u001b[0m │\n",
       "│          \u001b[1;36m3\u001b[0m │     \u001b[1;36m19036\u001b[0m │      \u001b[1;36m6540\u001b[0m │            \u001b[1;36m2\u001b[0m │           \u001b[1;36m49.00\u001b[0m │        \u001b[1;36m46796.47\u001b[0m │            \u001b[1;36m0.10\u001b[0m │            \u001b[1;36m0.00\u001b[0m │ \u001b[32mR           \u001b[0m │ \u001b[32mF           \u001b[0m │ \u001b[35m1993-11-09\u001b[0m │ \u001b[35m1993-12-20\u001b[0m   │ \u001b[35m1993-11-24\u001b[0m    │ \u001b[32mTAKE BACK RETURN \u001b[0m │ \u001b[32mRAIL      \u001b[0m │ \u001b[32mecial pinto beans. sly             \u001b[0m │\n",
       "│          \u001b[1;36m3\u001b[0m │    \u001b[1;36m128449\u001b[0m │      \u001b[1;36m3474\u001b[0m │            \u001b[1;36m3\u001b[0m │           \u001b[1;36m27.00\u001b[0m │        \u001b[1;36m39890.88\u001b[0m │            \u001b[1;36m0.06\u001b[0m │            \u001b[1;36m0.07\u001b[0m │ \u001b[32mA           \u001b[0m │ \u001b[32mF           \u001b[0m │ \u001b[35m1994-01-16\u001b[0m │ \u001b[35m1993-11-22\u001b[0m   │ \u001b[35m1994-01-23\u001b[0m    │ \u001b[32mDELIVER IN PERSON\u001b[0m │ \u001b[32mSHIP      \u001b[0m │ \u001b[32me carefully fina                   \u001b[0m │\n",
       "│          \u001b[2m…\u001b[0m │         \u001b[2m…\u001b[0m │         \u001b[2m…\u001b[0m │            \u001b[2m…\u001b[0m │               \u001b[2m…\u001b[0m │               \u001b[2m…\u001b[0m │               \u001b[2m…\u001b[0m │               \u001b[2m…\u001b[0m │ \u001b[2m…\u001b[0m            │ \u001b[2m…\u001b[0m            │ \u001b[2m…\u001b[0m          │ \u001b[2m…\u001b[0m            │ \u001b[2m…\u001b[0m             │ \u001b[2m…\u001b[0m                 │ \u001b[2m…\u001b[0m          │ \u001b[2m…\u001b[0m                                   │\n",
       "└────────────┴───────────┴───────────┴──────────────┴─────────────────┴─────────────────┴─────────────────┴─────────────────┴──────────────┴──────────────┴────────────┴──────────────┴───────────────┴───────────────────┴────────────┴─────────────────────────────────────┘"
      ]
     },
     "execution_count": 13,
     "metadata": {},
     "output_type": "execute_result"
    }
   ],
   "source": [
    "where"
   ]
  },
  {
   "cell_type": "code",
   "execution_count": 14,
   "metadata": {},
   "outputs": [],
   "source": [
    "discount_price = t.l_extendedprice * (1 - t.l_discount)\n",
    "charge = discount_price * (1 + t.l_tax)"
   ]
  },
  {
   "cell_type": "code",
   "execution_count": 15,
   "metadata": {},
   "outputs": [],
   "source": [
    "query = where.group_by([\"l_returnflag\", \"l_linestatus\"])\n",
    "query = query.aggregate(\n",
    "    sum_qty=t.l_quantity.sum(),\n",
    "    sum_base_price=t.l_extendedprice.sum(),\n",
    "    sum_disc_price=discount_price.sum(),\n",
    "    sum_charge=charge.sum(),\n",
    "    avg_qty=t.l_quantity.mean(),\n",
    "    avg_price=t.l_extendedprice.mean(),\n",
    "    avg_disc=t.l_discount.mean(),\n",
    "    count_order=lambda t: t.count(),\n",
    ")\n",
    "query = query.order_by([\"l_returnflag\", \"l_linestatus\"])"
   ]
  },
  {
   "cell_type": "code",
   "execution_count": 16,
   "metadata": {},
   "outputs": [
    {
     "data": {
      "text/html": [
       "<pre style=\"white-space:pre;overflow-x:auto;line-height:normal;font-family:Menlo,'DejaVu Sans Mono',consolas,'Courier New',monospace\">┏━━━━━━━━━━━━━━┳━━━━━━━━━━━━━━┳━━━━━━━━━━━━━━━━┳━━━━━━━━━━━━━━━━━┳━━━━━━━━━━━━━━━━━┳━━━━━━━━━━━━━━━━━┳━━━━━━━━━━━━━━━━┳━━━━━━━━━━━━━━━━┳━━━━━━━━━━━━━━━━┳━━━━━━━━━━━━━┓\n",
       "┃<span style=\"font-weight: bold\"> l_returnflag </span>┃<span style=\"font-weight: bold\"> l_linestatus </span>┃<span style=\"font-weight: bold\"> sum_qty        </span>┃<span style=\"font-weight: bold\"> sum_base_price  </span>┃<span style=\"font-weight: bold\"> sum_disc_price  </span>┃<span style=\"font-weight: bold\"> sum_charge      </span>┃<span style=\"font-weight: bold\"> avg_qty        </span>┃<span style=\"font-weight: bold\"> avg_price      </span>┃<span style=\"font-weight: bold\"> avg_disc       </span>┃<span style=\"font-weight: bold\"> count_order </span>┃\n",
       "┡━━━━━━━━━━━━━━╇━━━━━━━━━━━━━━╇━━━━━━━━━━━━━━━━╇━━━━━━━━━━━━━━━━━╇━━━━━━━━━━━━━━━━━╇━━━━━━━━━━━━━━━━━╇━━━━━━━━━━━━━━━━╇━━━━━━━━━━━━━━━━╇━━━━━━━━━━━━━━━━╇━━━━━━━━━━━━━┩\n",
       "│ <span style=\"color: #7f7f7f; text-decoration-color: #7f7f7f\">!string</span>      │ <span style=\"color: #7f7f7f; text-decoration-color: #7f7f7f\">!string</span>      │ <span style=\"color: #7f7f7f; text-decoration-color: #7f7f7f\">decimal(38, 2)</span> │ <span style=\"color: #7f7f7f; text-decoration-color: #7f7f7f\">decimal(38, 2)</span>  │ <span style=\"color: #7f7f7f; text-decoration-color: #7f7f7f\">decimal(38, 2)</span>  │ <span style=\"color: #7f7f7f; text-decoration-color: #7f7f7f\">decimal(38, 2)</span>  │ <span style=\"color: #7f7f7f; text-decoration-color: #7f7f7f\">decimal(15, 2)</span> │ <span style=\"color: #7f7f7f; text-decoration-color: #7f7f7f\">decimal(15, 2)</span> │ <span style=\"color: #7f7f7f; text-decoration-color: #7f7f7f\">decimal(15, 2)</span> │ <span style=\"color: #7f7f7f; text-decoration-color: #7f7f7f\">int64</span>       │\n",
       "├──────────────┼──────────────┼────────────────┼─────────────────┼─────────────────┼─────────────────┼────────────────┼────────────────┼────────────────┼─────────────┤\n",
       "│ <span style=\"color: #008000; text-decoration-color: #008000\">A           </span> │ <span style=\"color: #008000; text-decoration-color: #008000\">F           </span> │    <span style=\"color: #008080; text-decoration-color: #008080; font-weight: bold\">75468214.00</span> │ <span style=\"color: #008080; text-decoration-color: #008080; font-weight: bold\">113173108801.46</span> │ <span style=\"color: #008080; text-decoration-color: #008080; font-weight: bold\">107516514269.74</span> │ <span style=\"color: #008080; text-decoration-color: #008080; font-weight: bold\">111818130445.65</span> │          <span style=\"color: #008080; text-decoration-color: #008080; font-weight: bold\">25.52</span> │       <span style=\"color: #008080; text-decoration-color: #008080; font-weight: bold\">38273.13</span> │           <span style=\"color: #008080; text-decoration-color: #008080; font-weight: bold\">0.05</span> │     <span style=\"color: #008080; text-decoration-color: #008080; font-weight: bold\">2956986</span> │\n",
       "│ <span style=\"color: #008000; text-decoration-color: #008000\">N           </span> │ <span style=\"color: #008000; text-decoration-color: #008000\">F           </span> │     <span style=\"color: #008080; text-decoration-color: #008080; font-weight: bold\">1982834.00</span> │   <span style=\"color: #008080; text-decoration-color: #008080; font-weight: bold\">2975009420.76</span> │   <span style=\"color: #008080; text-decoration-color: #008080; font-weight: bold\">2826164336.10</span> │   <span style=\"color: #008080; text-decoration-color: #008080; font-weight: bold\">2939298446.38</span> │          <span style=\"color: #008080; text-decoration-color: #008080; font-weight: bold\">25.52</span> │       <span style=\"color: #008080; text-decoration-color: #008080; font-weight: bold\">38284.47</span> │           <span style=\"color: #008080; text-decoration-color: #008080; font-weight: bold\">0.05</span> │       <span style=\"color: #008080; text-decoration-color: #008080; font-weight: bold\">77708</span> │\n",
       "│ <span style=\"color: #008000; text-decoration-color: #008000\">N           </span> │ <span style=\"color: #008000; text-decoration-color: #008000\">O           </span> │   <span style=\"color: #008080; text-decoration-color: #008080; font-weight: bold\">148952080.00</span> │ <span style=\"color: #008080; text-decoration-color: #008080; font-weight: bold\">223403459395.48</span> │ <span style=\"color: #008080; text-decoration-color: #008080; font-weight: bold\">212236460615.21</span> │ <span style=\"color: #008080; text-decoration-color: #008080; font-weight: bold\">220734087744.99</span> │          <span style=\"color: #008080; text-decoration-color: #008080; font-weight: bold\">25.50</span> │       <span style=\"color: #008080; text-decoration-color: #008080; font-weight: bold\">38249.12</span> │           <span style=\"color: #008080; text-decoration-color: #008080; font-weight: bold\">0.05</span> │     <span style=\"color: #008080; text-decoration-color: #008080; font-weight: bold\">5840748</span> │\n",
       "│ <span style=\"color: #008000; text-decoration-color: #008000\">R           </span> │ <span style=\"color: #008000; text-decoration-color: #008000\">F           </span> │    <span style=\"color: #008080; text-decoration-color: #008080; font-weight: bold\">75439506.00</span> │ <span style=\"color: #008080; text-decoration-color: #008080; font-weight: bold\">113136082761.80</span> │ <span style=\"color: #008080; text-decoration-color: #008080; font-weight: bold\">107482585369.20</span> │ <span style=\"color: #008080; text-decoration-color: #008080; font-weight: bold\">111779238239.66</span> │          <span style=\"color: #008080; text-decoration-color: #008080; font-weight: bold\">25.51</span> │       <span style=\"color: #008080; text-decoration-color: #008080; font-weight: bold\">38250.85</span> │           <span style=\"color: #008080; text-decoration-color: #008080; font-weight: bold\">0.05</span> │     <span style=\"color: #008080; text-decoration-color: #008080; font-weight: bold\">2957740</span> │\n",
       "└──────────────┴──────────────┴────────────────┴─────────────────┴─────────────────┴─────────────────┴────────────────┴────────────────┴────────────────┴─────────────┘\n",
       "</pre>\n"
      ],
      "text/plain": [
       "┏━━━━━━━━━━━━━━┳━━━━━━━━━━━━━━┳━━━━━━━━━━━━━━━━┳━━━━━━━━━━━━━━━━━┳━━━━━━━━━━━━━━━━━┳━━━━━━━━━━━━━━━━━┳━━━━━━━━━━━━━━━━┳━━━━━━━━━━━━━━━━┳━━━━━━━━━━━━━━━━┳━━━━━━━━━━━━━┓\n",
       "┃\u001b[1m \u001b[0m\u001b[1ml_returnflag\u001b[0m\u001b[1m \u001b[0m┃\u001b[1m \u001b[0m\u001b[1ml_linestatus\u001b[0m\u001b[1m \u001b[0m┃\u001b[1m \u001b[0m\u001b[1msum_qty\u001b[0m\u001b[1m       \u001b[0m\u001b[1m \u001b[0m┃\u001b[1m \u001b[0m\u001b[1msum_base_price\u001b[0m\u001b[1m \u001b[0m\u001b[1m \u001b[0m┃\u001b[1m \u001b[0m\u001b[1msum_disc_price\u001b[0m\u001b[1m \u001b[0m\u001b[1m \u001b[0m┃\u001b[1m \u001b[0m\u001b[1msum_charge\u001b[0m\u001b[1m     \u001b[0m\u001b[1m \u001b[0m┃\u001b[1m \u001b[0m\u001b[1mavg_qty\u001b[0m\u001b[1m       \u001b[0m\u001b[1m \u001b[0m┃\u001b[1m \u001b[0m\u001b[1mavg_price\u001b[0m\u001b[1m     \u001b[0m\u001b[1m \u001b[0m┃\u001b[1m \u001b[0m\u001b[1mavg_disc\u001b[0m\u001b[1m      \u001b[0m\u001b[1m \u001b[0m┃\u001b[1m \u001b[0m\u001b[1mcount_order\u001b[0m\u001b[1m \u001b[0m┃\n",
       "┡━━━━━━━━━━━━━━╇━━━━━━━━━━━━━━╇━━━━━━━━━━━━━━━━╇━━━━━━━━━━━━━━━━━╇━━━━━━━━━━━━━━━━━╇━━━━━━━━━━━━━━━━━╇━━━━━━━━━━━━━━━━╇━━━━━━━━━━━━━━━━╇━━━━━━━━━━━━━━━━╇━━━━━━━━━━━━━┩\n",
       "│ \u001b[2m!string\u001b[0m      │ \u001b[2m!string\u001b[0m      │ \u001b[2mdecimal(38, 2)\u001b[0m │ \u001b[2mdecimal(38, 2)\u001b[0m  │ \u001b[2mdecimal(38, 2)\u001b[0m  │ \u001b[2mdecimal(38, 2)\u001b[0m  │ \u001b[2mdecimal(15, 2)\u001b[0m │ \u001b[2mdecimal(15, 2)\u001b[0m │ \u001b[2mdecimal(15, 2)\u001b[0m │ \u001b[2mint64\u001b[0m       │\n",
       "├──────────────┼──────────────┼────────────────┼─────────────────┼─────────────────┼─────────────────┼────────────────┼────────────────┼────────────────┼─────────────┤\n",
       "│ \u001b[32mA           \u001b[0m │ \u001b[32mF           \u001b[0m │    \u001b[1;36m75468214.00\u001b[0m │ \u001b[1;36m113173108801.46\u001b[0m │ \u001b[1;36m107516514269.74\u001b[0m │ \u001b[1;36m111818130445.65\u001b[0m │          \u001b[1;36m25.52\u001b[0m │       \u001b[1;36m38273.13\u001b[0m │           \u001b[1;36m0.05\u001b[0m │     \u001b[1;36m2956986\u001b[0m │\n",
       "│ \u001b[32mN           \u001b[0m │ \u001b[32mF           \u001b[0m │     \u001b[1;36m1982834.00\u001b[0m │   \u001b[1;36m2975009420.76\u001b[0m │   \u001b[1;36m2826164336.10\u001b[0m │   \u001b[1;36m2939298446.38\u001b[0m │          \u001b[1;36m25.52\u001b[0m │       \u001b[1;36m38284.47\u001b[0m │           \u001b[1;36m0.05\u001b[0m │       \u001b[1;36m77708\u001b[0m │\n",
       "│ \u001b[32mN           \u001b[0m │ \u001b[32mO           \u001b[0m │   \u001b[1;36m148952080.00\u001b[0m │ \u001b[1;36m223403459395.48\u001b[0m │ \u001b[1;36m212236460615.21\u001b[0m │ \u001b[1;36m220734087744.99\u001b[0m │          \u001b[1;36m25.50\u001b[0m │       \u001b[1;36m38249.12\u001b[0m │           \u001b[1;36m0.05\u001b[0m │     \u001b[1;36m5840748\u001b[0m │\n",
       "│ \u001b[32mR           \u001b[0m │ \u001b[32mF           \u001b[0m │    \u001b[1;36m75439506.00\u001b[0m │ \u001b[1;36m113136082761.80\u001b[0m │ \u001b[1;36m107482585369.20\u001b[0m │ \u001b[1;36m111779238239.66\u001b[0m │          \u001b[1;36m25.51\u001b[0m │       \u001b[1;36m38250.85\u001b[0m │           \u001b[1;36m0.05\u001b[0m │     \u001b[1;36m2957740\u001b[0m │\n",
       "└──────────────┴──────────────┴────────────────┴─────────────────┴─────────────────┴─────────────────┴────────────────┴────────────────┴────────────────┴─────────────┘"
      ]
     },
     "execution_count": 16,
     "metadata": {},
     "output_type": "execute_result"
    }
   ],
   "source": [
    "query"
   ]
  },
  {
   "cell_type": "markdown",
   "metadata": {},
   "source": [
    "## Using the `Table.sql` method"
   ]
  },
  {
   "cell_type": "code",
   "execution_count": 17,
   "metadata": {},
   "outputs": [],
   "source": [
    "sql = \"\"\"\n",
    "SELECT\n",
    "    l_returnflag,\n",
    "    l_linestatus,\n",
    "    SUM(l_quantity) AS sum_qty,\n",
    "    SUM(l_extendedprice) AS sum_base_price,\n",
    "    SUM(l_extendedprice * (1 - l_discount)) AS sum_disc_price,\n",
    "    SUM(l_extendedprice * (1 - l_discount) * (1 + l_tax)) AS sum_charge,\n",
    "    AVG(l_quantity) AS avg_qty,\n",
    "    AVG(l_extendedprice) AS avg_price,\n",
    "    AVG(l_discount) AS avg_disc,\n",
    "    COUNT(*) AS count_order\n",
    "FROM\n",
    "    lineitem\n",
    "WHERE\n",
    "    l_shipdate <= DATE '1998-12-01' - INTERVAL '90' DAY\n",
    "GROUP BY\n",
    "    l_returnflag,\n",
    "    l_linestatus\n",
    "ORDER BY\n",
    "    l_returnflag,\n",
    "    l_linestatus;\n",
    "\"\"\""
   ]
  },
  {
   "cell_type": "code",
   "execution_count": 18,
   "metadata": {},
   "outputs": [
    {
     "data": {
      "text/html": [
       "<pre style=\"white-space:pre;overflow-x:auto;line-height:normal;font-family:Menlo,'DejaVu Sans Mono',consolas,'Courier New',monospace\">┏━━━━━━━━━━━━━━┳━━━━━━━━━━━━━━┳━━━━━━━━━━━━━━━━┳━━━━━━━━━━━━━━━━━┳━━━━━━━━━━━━━━━━━━━┳━━━━━━━━━━━━━━━━━━━━━┳━━━━━━━━━━━┳━━━━━━━━━━━━━━┳━━━━━━━━━━┳━━━━━━━━━━━━━┓\n",
       "┃<span style=\"font-weight: bold\"> l_returnflag </span>┃<span style=\"font-weight: bold\"> l_linestatus </span>┃<span style=\"font-weight: bold\"> sum_qty        </span>┃<span style=\"font-weight: bold\"> sum_base_price  </span>┃<span style=\"font-weight: bold\"> sum_disc_price    </span>┃<span style=\"font-weight: bold\"> sum_charge          </span>┃<span style=\"font-weight: bold\"> avg_qty   </span>┃<span style=\"font-weight: bold\"> avg_price    </span>┃<span style=\"font-weight: bold\"> avg_disc </span>┃<span style=\"font-weight: bold\"> count_order </span>┃\n",
       "┡━━━━━━━━━━━━━━╇━━━━━━━━━━━━━━╇━━━━━━━━━━━━━━━━╇━━━━━━━━━━━━━━━━━╇━━━━━━━━━━━━━━━━━━━╇━━━━━━━━━━━━━━━━━━━━━╇━━━━━━━━━━━╇━━━━━━━━━━━━━━╇━━━━━━━━━━╇━━━━━━━━━━━━━┩\n",
       "│ <span style=\"color: #7f7f7f; text-decoration-color: #7f7f7f\">string</span>       │ <span style=\"color: #7f7f7f; text-decoration-color: #7f7f7f\">string</span>       │ <span style=\"color: #7f7f7f; text-decoration-color: #7f7f7f\">decimal(38, 2)</span> │ <span style=\"color: #7f7f7f; text-decoration-color: #7f7f7f\">decimal(38, 2)</span>  │ <span style=\"color: #7f7f7f; text-decoration-color: #7f7f7f\">decimal(38, 4)</span>    │ <span style=\"color: #7f7f7f; text-decoration-color: #7f7f7f\">decimal(38, 6)</span>      │ <span style=\"color: #7f7f7f; text-decoration-color: #7f7f7f\">float64</span>   │ <span style=\"color: #7f7f7f; text-decoration-color: #7f7f7f\">float64</span>      │ <span style=\"color: #7f7f7f; text-decoration-color: #7f7f7f\">float64</span>  │ <span style=\"color: #7f7f7f; text-decoration-color: #7f7f7f\">int64</span>       │\n",
       "├──────────────┼──────────────┼────────────────┼─────────────────┼───────────────────┼─────────────────────┼───────────┼──────────────┼──────────┼─────────────┤\n",
       "│ <span style=\"color: #008000; text-decoration-color: #008000\">A           </span> │ <span style=\"color: #008000; text-decoration-color: #008000\">F           </span> │    <span style=\"color: #008080; text-decoration-color: #008080; font-weight: bold\">75468214.00</span> │ <span style=\"color: #008080; text-decoration-color: #008080; font-weight: bold\">113173108801.46</span> │ <span style=\"color: #008080; text-decoration-color: #008080; font-weight: bold\">107516514269.7400</span> │ <span style=\"color: #008080; text-decoration-color: #008080; font-weight: bold\">111818130445.655384</span> │ <span style=\"color: #008080; text-decoration-color: #008080; font-weight: bold\">25.522006</span> │ <span style=\"color: #008080; text-decoration-color: #008080; font-weight: bold\">38273.129735</span> │ <span style=\"color: #008080; text-decoration-color: #008080; font-weight: bold\">0.049985</span> │     <span style=\"color: #008080; text-decoration-color: #008080; font-weight: bold\">2956986</span> │\n",
       "│ <span style=\"color: #008000; text-decoration-color: #008000\">N           </span> │ <span style=\"color: #008000; text-decoration-color: #008000\">F           </span> │     <span style=\"color: #008080; text-decoration-color: #008080; font-weight: bold\">1982834.00</span> │   <span style=\"color: #008080; text-decoration-color: #008080; font-weight: bold\">2975009420.76</span> │   <span style=\"color: #008080; text-decoration-color: #008080; font-weight: bold\">2826164336.1082</span> │   <span style=\"color: #008080; text-decoration-color: #008080; font-weight: bold\">2939298446.388750</span> │ <span style=\"color: #008080; text-decoration-color: #008080; font-weight: bold\">25.516472</span> │ <span style=\"color: #008080; text-decoration-color: #008080; font-weight: bold\">38284.467761</span> │ <span style=\"color: #008080; text-decoration-color: #008080; font-weight: bold\">0.050093</span> │       <span style=\"color: #008080; text-decoration-color: #008080; font-weight: bold\">77708</span> │\n",
       "│ <span style=\"color: #008000; text-decoration-color: #008000\">N           </span> │ <span style=\"color: #008000; text-decoration-color: #008000\">O           </span> │   <span style=\"color: #008080; text-decoration-color: #008080; font-weight: bold\">148952080.00</span> │ <span style=\"color: #008080; text-decoration-color: #008080; font-weight: bold\">223403459395.48</span> │ <span style=\"color: #008080; text-decoration-color: #008080; font-weight: bold\">212236460615.2112</span> │ <span style=\"color: #008080; text-decoration-color: #008080; font-weight: bold\">220734087744.994020</span> │ <span style=\"color: #008080; text-decoration-color: #008080; font-weight: bold\">25.502227</span> │ <span style=\"color: #008080; text-decoration-color: #008080; font-weight: bold\">38249.117989</span> │ <span style=\"color: #008080; text-decoration-color: #008080; font-weight: bold\">0.049997</span> │     <span style=\"color: #008080; text-decoration-color: #008080; font-weight: bold\">5840748</span> │\n",
       "│ <span style=\"color: #008000; text-decoration-color: #008000\">R           </span> │ <span style=\"color: #008000; text-decoration-color: #008000\">F           </span> │    <span style=\"color: #008080; text-decoration-color: #008080; font-weight: bold\">75439506.00</span> │ <span style=\"color: #008080; text-decoration-color: #008080; font-weight: bold\">113136082761.80</span> │ <span style=\"color: #008080; text-decoration-color: #008080; font-weight: bold\">107482585369.2080</span> │ <span style=\"color: #008080; text-decoration-color: #008080; font-weight: bold\">111779238239.663864</span> │ <span style=\"color: #008080; text-decoration-color: #008080; font-weight: bold\">25.505794</span> │ <span style=\"color: #008080; text-decoration-color: #008080; font-weight: bold\">38250.854626</span> │ <span style=\"color: #008080; text-decoration-color: #008080; font-weight: bold\">0.050009</span> │     <span style=\"color: #008080; text-decoration-color: #008080; font-weight: bold\">2957740</span> │\n",
       "└──────────────┴──────────────┴────────────────┴─────────────────┴───────────────────┴─────────────────────┴───────────┴──────────────┴──────────┴─────────────┘\n",
       "</pre>\n"
      ],
      "text/plain": [
       "┏━━━━━━━━━━━━━━┳━━━━━━━━━━━━━━┳━━━━━━━━━━━━━━━━┳━━━━━━━━━━━━━━━━━┳━━━━━━━━━━━━━━━━━━━┳━━━━━━━━━━━━━━━━━━━━━┳━━━━━━━━━━━┳━━━━━━━━━━━━━━┳━━━━━━━━━━┳━━━━━━━━━━━━━┓\n",
       "┃\u001b[1m \u001b[0m\u001b[1ml_returnflag\u001b[0m\u001b[1m \u001b[0m┃\u001b[1m \u001b[0m\u001b[1ml_linestatus\u001b[0m\u001b[1m \u001b[0m┃\u001b[1m \u001b[0m\u001b[1msum_qty\u001b[0m\u001b[1m       \u001b[0m\u001b[1m \u001b[0m┃\u001b[1m \u001b[0m\u001b[1msum_base_price\u001b[0m\u001b[1m \u001b[0m\u001b[1m \u001b[0m┃\u001b[1m \u001b[0m\u001b[1msum_disc_price\u001b[0m\u001b[1m   \u001b[0m\u001b[1m \u001b[0m┃\u001b[1m \u001b[0m\u001b[1msum_charge\u001b[0m\u001b[1m         \u001b[0m\u001b[1m \u001b[0m┃\u001b[1m \u001b[0m\u001b[1mavg_qty\u001b[0m\u001b[1m  \u001b[0m\u001b[1m \u001b[0m┃\u001b[1m \u001b[0m\u001b[1mavg_price\u001b[0m\u001b[1m   \u001b[0m\u001b[1m \u001b[0m┃\u001b[1m \u001b[0m\u001b[1mavg_disc\u001b[0m\u001b[1m \u001b[0m┃\u001b[1m \u001b[0m\u001b[1mcount_order\u001b[0m\u001b[1m \u001b[0m┃\n",
       "┡━━━━━━━━━━━━━━╇━━━━━━━━━━━━━━╇━━━━━━━━━━━━━━━━╇━━━━━━━━━━━━━━━━━╇━━━━━━━━━━━━━━━━━━━╇━━━━━━━━━━━━━━━━━━━━━╇━━━━━━━━━━━╇━━━━━━━━━━━━━━╇━━━━━━━━━━╇━━━━━━━━━━━━━┩\n",
       "│ \u001b[2mstring\u001b[0m       │ \u001b[2mstring\u001b[0m       │ \u001b[2mdecimal(38, 2)\u001b[0m │ \u001b[2mdecimal(38, 2)\u001b[0m  │ \u001b[2mdecimal(38, 4)\u001b[0m    │ \u001b[2mdecimal(38, 6)\u001b[0m      │ \u001b[2mfloat64\u001b[0m   │ \u001b[2mfloat64\u001b[0m      │ \u001b[2mfloat64\u001b[0m  │ \u001b[2mint64\u001b[0m       │\n",
       "├──────────────┼──────────────┼────────────────┼─────────────────┼───────────────────┼─────────────────────┼───────────┼──────────────┼──────────┼─────────────┤\n",
       "│ \u001b[32mA           \u001b[0m │ \u001b[32mF           \u001b[0m │    \u001b[1;36m75468214.00\u001b[0m │ \u001b[1;36m113173108801.46\u001b[0m │ \u001b[1;36m107516514269.7400\u001b[0m │ \u001b[1;36m111818130445.655384\u001b[0m │ \u001b[1;36m25.522006\u001b[0m │ \u001b[1;36m38273.129735\u001b[0m │ \u001b[1;36m0.049985\u001b[0m │     \u001b[1;36m2956986\u001b[0m │\n",
       "│ \u001b[32mN           \u001b[0m │ \u001b[32mF           \u001b[0m │     \u001b[1;36m1982834.00\u001b[0m │   \u001b[1;36m2975009420.76\u001b[0m │   \u001b[1;36m2826164336.1082\u001b[0m │   \u001b[1;36m2939298446.388750\u001b[0m │ \u001b[1;36m25.516472\u001b[0m │ \u001b[1;36m38284.467761\u001b[0m │ \u001b[1;36m0.050093\u001b[0m │       \u001b[1;36m77708\u001b[0m │\n",
       "│ \u001b[32mN           \u001b[0m │ \u001b[32mO           \u001b[0m │   \u001b[1;36m148952080.00\u001b[0m │ \u001b[1;36m223403459395.48\u001b[0m │ \u001b[1;36m212236460615.2112\u001b[0m │ \u001b[1;36m220734087744.994020\u001b[0m │ \u001b[1;36m25.502227\u001b[0m │ \u001b[1;36m38249.117989\u001b[0m │ \u001b[1;36m0.049997\u001b[0m │     \u001b[1;36m5840748\u001b[0m │\n",
       "│ \u001b[32mR           \u001b[0m │ \u001b[32mF           \u001b[0m │    \u001b[1;36m75439506.00\u001b[0m │ \u001b[1;36m113136082761.80\u001b[0m │ \u001b[1;36m107482585369.2080\u001b[0m │ \u001b[1;36m111779238239.663864\u001b[0m │ \u001b[1;36m25.505794\u001b[0m │ \u001b[1;36m38250.854626\u001b[0m │ \u001b[1;36m0.050009\u001b[0m │     \u001b[1;36m2957740\u001b[0m │\n",
       "└──────────────┴──────────────┴────────────────┴─────────────────┴───────────────────┴─────────────────────┴───────────┴──────────────┴──────────┴─────────────┘"
      ]
     },
     "execution_count": 18,
     "metadata": {},
     "output_type": "execute_result"
    }
   ],
   "source": [
    "con.sql(sql)"
   ]
  },
  {
   "cell_type": "markdown",
   "metadata": {},
   "source": []
  },
  {
   "cell_type": "markdown",
   "metadata": {},
   "source": [
    "# Q15 CTE example - Top Supplier Query"
   ]
  },
  {
   "cell_type": "code",
   "execution_count": 19,
   "metadata": {},
   "outputs": [],
   "source": [
    "sql_q15 = \"\"\"\n",
    "with revenue0 as (\n",
    "    select\n",
    "        l_suppkey as supplier_no,\n",
    "        sum(l_extendedprice * (1 - l_discount)) as total_revenue\n",
    "    from\n",
    "        lineitem\n",
    "    where\n",
    "        l_shipdate >= date '1996-01-01'\n",
    "        and l_shipdate < date '1996-01-01' + interval '3' month\n",
    "    group by\n",
    "        l_suppkey\n",
    ")\n",
    "select\n",
    "    s_suppkey,\n",
    "    s_name,\n",
    "    s_address,\n",
    "    s_phone,\n",
    "    total_revenue\n",
    "from\n",
    "    supplier,\n",
    "    revenue0\n",
    "where\n",
    "    s_suppkey = supplier_no\n",
    "    and total_revenue = (\n",
    "        select\n",
    "            max(total_revenue)\n",
    "        from\n",
    "            revenue0\n",
    "    )\n",
    "order by\n",
    "    s_suppkey\n",
    "\"\"\""
   ]
  },
  {
   "cell_type": "markdown",
   "metadata": {},
   "source": [
    "## Break it down into multiple table"
   ]
  },
  {
   "cell_type": "code",
   "execution_count": 20,
   "metadata": {},
   "outputs": [],
   "source": [
    "revenue = con.sql(\"\"\"\n",
    "    select\n",
    "        l_suppkey as supplier_no,\n",
    "        sum(l_extendedprice * (1 - l_discount)) as total_revenue\n",
    "    from\n",
    "        lineitem\n",
    "    where\n",
    "        l_shipdate >= date '1996-01-01'\n",
    "        and l_shipdate < date '1996-01-01' + interval '3' month\n",
    "    group by\n",
    "        l_suppkey\n",
    "        \"\"\").alias(\"revenue\")"
   ]
  },
  {
   "cell_type": "code",
   "execution_count": 22,
   "metadata": {},
   "outputs": [],
   "source": [
    "query = revenue.sql(\"\"\"select\n",
    "    s_suppkey,\n",
    "    s_name,\n",
    "    s_address,\n",
    "    s_phone,\n",
    "    total_revenue\n",
    "from\n",
    "    supplier,\n",
    "    revenue\n",
    "where\n",
    "    s_suppkey = supplier_no\n",
    "    and total_revenue = (\n",
    "        select\n",
    "            max(total_revenue)\n",
    "        from\n",
    "            revenue\n",
    "    )\n",
    "order by\n",
    "    s_suppkey\"\"\")"
   ]
  },
  {
   "cell_type": "code",
   "execution_count": 23,
   "metadata": {},
   "outputs": [
    {
     "data": {
      "text/markdown": [
       "```sql\n",
       "WITH \"revenue\" AS (\n",
       "  SELECT\n",
       "    l_suppkey AS supplier_no,\n",
       "    SUM(l_extendedprice * (\n",
       "      1 - l_discount\n",
       "    )) AS total_revenue\n",
       "  FROM lineitem\n",
       "  WHERE\n",
       "    l_shipdate >= CAST('1996-01-01' AS DATE)\n",
       "    AND l_shipdate < CAST('1996-01-01' AS DATE) + INTERVAL '3' MONTH\n",
       "  GROUP BY\n",
       "    l_suppkey\n",
       ")\n",
       "SELECT\n",
       "  *\n",
       "FROM \"revenue\"\n",
       "```"
      ],
      "text/plain": [
       "\u001b[34mWITH\u001b[39;49;00m\u001b[37m \u001b[39;49;00m\u001b[33m\"revenue\"\u001b[39;49;00m\u001b[37m \u001b[39;49;00m\u001b[34mAS\u001b[39;49;00m\u001b[37m \u001b[39;49;00m(\u001b[37m\u001b[39;49;00m\n",
       "\u001b[37m  \u001b[39;49;00m\u001b[34mSELECT\u001b[39;49;00m\u001b[37m\u001b[39;49;00m\n",
       "\u001b[37m    \u001b[39;49;00ml_suppkey\u001b[37m \u001b[39;49;00m\u001b[34mAS\u001b[39;49;00m\u001b[37m \u001b[39;49;00msupplier_no,\u001b[37m\u001b[39;49;00m\n",
       "\u001b[37m    \u001b[39;49;00m\u001b[34mSUM\u001b[39;49;00m(l_extendedprice\u001b[37m \u001b[39;49;00m*\u001b[37m \u001b[39;49;00m(\u001b[37m\u001b[39;49;00m\n",
       "\u001b[37m      \u001b[39;49;00m\u001b[34m1\u001b[39;49;00m\u001b[37m \u001b[39;49;00m-\u001b[37m \u001b[39;49;00ml_discount\u001b[37m\u001b[39;49;00m\n",
       "\u001b[37m    \u001b[39;49;00m))\u001b[37m \u001b[39;49;00m\u001b[34mAS\u001b[39;49;00m\u001b[37m \u001b[39;49;00mtotal_revenue\u001b[37m\u001b[39;49;00m\n",
       "\u001b[37m  \u001b[39;49;00m\u001b[34mFROM\u001b[39;49;00m\u001b[37m \u001b[39;49;00mlineitem\u001b[37m\u001b[39;49;00m\n",
       "\u001b[37m  \u001b[39;49;00m\u001b[34mWHERE\u001b[39;49;00m\u001b[37m\u001b[39;49;00m\n",
       "\u001b[37m    \u001b[39;49;00ml_shipdate\u001b[37m \u001b[39;49;00m>=\u001b[37m \u001b[39;49;00m\u001b[34mCAST\u001b[39;49;00m(\u001b[33m'1996-01-01'\u001b[39;49;00m\u001b[37m \u001b[39;49;00m\u001b[34mAS\u001b[39;49;00m\u001b[37m \u001b[39;49;00m\u001b[36mDATE\u001b[39;49;00m)\u001b[37m\u001b[39;49;00m\n",
       "\u001b[37m    \u001b[39;49;00m\u001b[34mAND\u001b[39;49;00m\u001b[37m \u001b[39;49;00ml_shipdate\u001b[37m \u001b[39;49;00m<\u001b[37m \u001b[39;49;00m\u001b[34mCAST\u001b[39;49;00m(\u001b[33m'1996-01-01'\u001b[39;49;00m\u001b[37m \u001b[39;49;00m\u001b[34mAS\u001b[39;49;00m\u001b[37m \u001b[39;49;00m\u001b[36mDATE\u001b[39;49;00m)\u001b[37m \u001b[39;49;00m+\u001b[37m \u001b[39;49;00m\u001b[36mINTERVAL\u001b[39;49;00m\u001b[37m \u001b[39;49;00m\u001b[33m'3'\u001b[39;49;00m\u001b[37m \u001b[39;49;00m\u001b[34mMONTH\u001b[39;49;00m\u001b[37m\u001b[39;49;00m\n",
       "\u001b[37m  \u001b[39;49;00m\u001b[34mGROUP\u001b[39;49;00m\u001b[37m \u001b[39;49;00m\u001b[34mBY\u001b[39;49;00m\u001b[37m\u001b[39;49;00m\n",
       "\u001b[37m    \u001b[39;49;00ml_suppkey\u001b[37m\u001b[39;49;00m\n",
       ")\u001b[37m\u001b[39;49;00m\n",
       "\u001b[34mSELECT\u001b[39;49;00m\u001b[37m\u001b[39;49;00m\n",
       "\u001b[37m  \u001b[39;49;00m*\u001b[37m\u001b[39;49;00m\n",
       "\u001b[34mFROM\u001b[39;49;00m\u001b[37m \u001b[39;49;00m\u001b[33m\"revenue\"\u001b[39;49;00m\u001b[37m\u001b[39;49;00m"
      ]
     },
     "execution_count": 23,
     "metadata": {},
     "output_type": "execute_result"
    }
   ],
   "source": [
    "ibis.to_sql(revenue)"
   ]
  },
  {
   "cell_type": "markdown",
   "metadata": {},
   "source": [
    "## Build the CTE first"
   ]
  },
  {
   "cell_type": "code",
   "execution_count": 24,
   "metadata": {},
   "outputs": [],
   "source": [
    "revenue = con.sql(\"\"\"    select\n",
    "        l_suppkey as supplier_no,\n",
    "        sum(l_extendedprice * (1 - l_discount)) as total_revenue\n",
    "    from\n",
    "        lineitem\n",
    "    where\n",
    "        l_shipdate >= date '1996-01-01'\n",
    "        and l_shipdate < date '1996-01-01' + interval '3' month\n",
    "    group by\n",
    "        l_suppkey\"\"\").alias(\"revenue\")\n",
    "supplier = revenue.sql(\"select * from supplier\")\n"
   ]
  },
  {
   "cell_type": "markdown",
   "metadata": {},
   "source": [
    "## Build the query"
   ]
  },
  {
   "cell_type": "code",
   "execution_count": 25,
   "metadata": {},
   "outputs": [],
   "source": [
    "final = supplier.sql(\"\"\"select\n",
    "    s_suppkey,\n",
    "    s_name,\n",
    "    s_address,\n",
    "    s_phone,\n",
    "    total_revenue\n",
    "from\n",
    "    supplier,\n",
    "    revenue\n",
    "where\n",
    "    s_suppkey = supplier_no\n",
    "    and total_revenue = (\n",
    "        select\n",
    "            max(total_revenue)\n",
    "        from\n",
    "            revenue\n",
    "    )\n",
    "order by\n",
    "    s_suppkey\"\"\")"
   ]
  },
  {
   "cell_type": "code",
   "execution_count": 26,
   "metadata": {},
   "outputs": [
    {
     "data": {
      "text/html": [
       "<pre style=\"white-space:pre;overflow-x:auto;line-height:normal;font-family:Menlo,'DejaVu Sans Mono',consolas,'Courier New',monospace\">┏━━━━━━━━━━━┳━━━━━━━━━━━━━━━━━━━━┳━━━━━━━━━━━━━━━━━━━┳━━━━━━━━━━━━━━━━━┳━━━━━━━━━━━━━━━━┓\n",
       "┃<span style=\"font-weight: bold\"> s_suppkey </span>┃<span style=\"font-weight: bold\"> s_name             </span>┃<span style=\"font-weight: bold\"> s_address         </span>┃<span style=\"font-weight: bold\"> s_phone         </span>┃<span style=\"font-weight: bold\"> total_revenue  </span>┃\n",
       "┡━━━━━━━━━━━╇━━━━━━━━━━━━━━━━━━━━╇━━━━━━━━━━━━━━━━━━━╇━━━━━━━━━━━━━━━━━╇━━━━━━━━━━━━━━━━┩\n",
       "│ <span style=\"color: #7f7f7f; text-decoration-color: #7f7f7f\">int64</span>     │ <span style=\"color: #7f7f7f; text-decoration-color: #7f7f7f\">string</span>             │ <span style=\"color: #7f7f7f; text-decoration-color: #7f7f7f\">string</span>            │ <span style=\"color: #7f7f7f; text-decoration-color: #7f7f7f\">string</span>          │ <span style=\"color: #7f7f7f; text-decoration-color: #7f7f7f\">decimal(38, 4)</span> │\n",
       "├───────────┼────────────────────┼───────────────────┼─────────────────┼────────────────┤\n",
       "│      <span style=\"color: #008080; text-decoration-color: #008080; font-weight: bold\">8449</span> │ <span style=\"color: #008000; text-decoration-color: #008000\">Supplier#000008449</span> │ <span style=\"color: #008000; text-decoration-color: #008000\">5BXWsJERA2mP5OyO4</span> │ <span style=\"color: #008000; text-decoration-color: #008000\">20-469-856-8873</span> │   <span style=\"color: #008080; text-decoration-color: #008080; font-weight: bold\">3545254.4174</span> │\n",
       "│      <span style=\"color: #008080; text-decoration-color: #008080; font-weight: bold\">8449</span> │ <span style=\"color: #008000; text-decoration-color: #008000\">Supplier#000008449</span> │ <span style=\"color: #008000; text-decoration-color: #008000\">5BXWsJERA2mP5OyO4</span> │ <span style=\"color: #008000; text-decoration-color: #008000\">20-469-856-8873</span> │   <span style=\"color: #008080; text-decoration-color: #008080; font-weight: bold\">3545254.4174</span> │\n",
       "└───────────┴────────────────────┴───────────────────┴─────────────────┴────────────────┘\n",
       "</pre>\n"
      ],
      "text/plain": [
       "┏━━━━━━━━━━━┳━━━━━━━━━━━━━━━━━━━━┳━━━━━━━━━━━━━━━━━━━┳━━━━━━━━━━━━━━━━━┳━━━━━━━━━━━━━━━━┓\n",
       "┃\u001b[1m \u001b[0m\u001b[1ms_suppkey\u001b[0m\u001b[1m \u001b[0m┃\u001b[1m \u001b[0m\u001b[1ms_name\u001b[0m\u001b[1m            \u001b[0m\u001b[1m \u001b[0m┃\u001b[1m \u001b[0m\u001b[1ms_address\u001b[0m\u001b[1m        \u001b[0m\u001b[1m \u001b[0m┃\u001b[1m \u001b[0m\u001b[1ms_phone\u001b[0m\u001b[1m        \u001b[0m\u001b[1m \u001b[0m┃\u001b[1m \u001b[0m\u001b[1mtotal_revenue\u001b[0m\u001b[1m \u001b[0m\u001b[1m \u001b[0m┃\n",
       "┡━━━━━━━━━━━╇━━━━━━━━━━━━━━━━━━━━╇━━━━━━━━━━━━━━━━━━━╇━━━━━━━━━━━━━━━━━╇━━━━━━━━━━━━━━━━┩\n",
       "│ \u001b[2mint64\u001b[0m     │ \u001b[2mstring\u001b[0m             │ \u001b[2mstring\u001b[0m            │ \u001b[2mstring\u001b[0m          │ \u001b[2mdecimal(38, 4)\u001b[0m │\n",
       "├───────────┼────────────────────┼───────────────────┼─────────────────┼────────────────┤\n",
       "│      \u001b[1;36m8449\u001b[0m │ \u001b[32mSupplier#000008449\u001b[0m │ \u001b[32m5BXWsJERA2mP5OyO4\u001b[0m │ \u001b[32m20-469-856-8873\u001b[0m │   \u001b[1;36m3545254.4174\u001b[0m │\n",
       "│      \u001b[1;36m8449\u001b[0m │ \u001b[32mSupplier#000008449\u001b[0m │ \u001b[32m5BXWsJERA2mP5OyO4\u001b[0m │ \u001b[32m20-469-856-8873\u001b[0m │   \u001b[1;36m3545254.4174\u001b[0m │\n",
       "└───────────┴────────────────────┴───────────────────┴─────────────────┴────────────────┘"
      ]
     },
     "execution_count": 26,
     "metadata": {},
     "output_type": "execute_result"
    }
   ],
   "source": [
    "final"
   ]
  },
  {
   "cell_type": "markdown",
   "metadata": {},
   "source": [
    "# Bonus: Ibis expression + sql"
   ]
  },
  {
   "cell_type": "code",
   "execution_count": null,
   "metadata": {},
   "outputs": [
    {
     "data": {
      "text/html": [
       "<pre style=\"white-space:pre;overflow-x:auto;line-height:normal;font-family:Menlo,'DejaVu Sans Mono',consolas,'Courier New',monospace\">┏━━━━━━━━━━━━━┳━━━━━━━━━━━━━━━━┓\n",
       "┃<span style=\"font-weight: bold\"> supplier_no </span>┃<span style=\"font-weight: bold\"> total_revenue  </span>┃\n",
       "┡━━━━━━━━━━━━━╇━━━━━━━━━━━━━━━━┩\n",
       "│ <span style=\"color: #7f7f7f; text-decoration-color: #7f7f7f\">int64</span>       │ <span style=\"color: #7f7f7f; text-decoration-color: #7f7f7f\">decimal(38, 4)</span> │\n",
       "├─────────────┼────────────────┤\n",
       "│        <span style=\"color: #008080; text-decoration-color: #008080; font-weight: bold\">3701</span> │    <span style=\"color: #008080; text-decoration-color: #008080; font-weight: bold\">999540.0360</span> │\n",
       "│        <span style=\"color: #008080; text-decoration-color: #008080; font-weight: bold\">6836</span> │    <span style=\"color: #008080; text-decoration-color: #008080; font-weight: bold\">945408.3378</span> │\n",
       "│         <span style=\"color: #008080; text-decoration-color: #008080; font-weight: bold\">588</span> │    <span style=\"color: #008080; text-decoration-color: #008080; font-weight: bold\">984253.3666</span> │\n",
       "│        <span style=\"color: #008080; text-decoration-color: #008080; font-weight: bold\">7300</span> │    <span style=\"color: #008080; text-decoration-color: #008080; font-weight: bold\">736906.9482</span> │\n",
       "│        <span style=\"color: #008080; text-decoration-color: #008080; font-weight: bold\">5091</span> │    <span style=\"color: #008080; text-decoration-color: #008080; font-weight: bold\">908724.7276</span> │\n",
       "│        <span style=\"color: #008080; text-decoration-color: #008080; font-weight: bold\">3636</span> │    <span style=\"color: #008080; text-decoration-color: #008080; font-weight: bold\">869185.6532</span> │\n",
       "│        <span style=\"color: #008080; text-decoration-color: #008080; font-weight: bold\">4646</span> │    <span style=\"color: #008080; text-decoration-color: #008080; font-weight: bold\">905186.8186</span> │\n",
       "│        <span style=\"color: #008080; text-decoration-color: #008080; font-weight: bold\">7820</span> │    <span style=\"color: #008080; text-decoration-color: #008080; font-weight: bold\">838587.9808</span> │\n",
       "│        <span style=\"color: #008080; text-decoration-color: #008080; font-weight: bold\">5007</span> │    <span style=\"color: #008080; text-decoration-color: #008080; font-weight: bold\">873000.0130</span> │\n",
       "│         <span style=\"color: #008080; text-decoration-color: #008080; font-weight: bold\">959</span> │    <span style=\"color: #008080; text-decoration-color: #008080; font-weight: bold\">849076.6788</span> │\n",
       "│           <span style=\"color: #7f7f7f; text-decoration-color: #7f7f7f\">…</span> │              <span style=\"color: #7f7f7f; text-decoration-color: #7f7f7f\">…</span> │\n",
       "└─────────────┴────────────────┘\n",
       "</pre>\n"
      ],
      "text/plain": [
       "┏━━━━━━━━━━━━━┳━━━━━━━━━━━━━━━━┓\n",
       "┃\u001b[1m \u001b[0m\u001b[1msupplier_no\u001b[0m\u001b[1m \u001b[0m┃\u001b[1m \u001b[0m\u001b[1mtotal_revenue\u001b[0m\u001b[1m \u001b[0m\u001b[1m \u001b[0m┃\n",
       "┡━━━━━━━━━━━━━╇━━━━━━━━━━━━━━━━┩\n",
       "│ \u001b[2mint64\u001b[0m       │ \u001b[2mdecimal(38, 4)\u001b[0m │\n",
       "├─────────────┼────────────────┤\n",
       "│        \u001b[1;36m3701\u001b[0m │    \u001b[1;36m999540.0360\u001b[0m │\n",
       "│        \u001b[1;36m6836\u001b[0m │    \u001b[1;36m945408.3378\u001b[0m │\n",
       "│         \u001b[1;36m588\u001b[0m │    \u001b[1;36m984253.3666\u001b[0m │\n",
       "│        \u001b[1;36m7300\u001b[0m │    \u001b[1;36m736906.9482\u001b[0m │\n",
       "│        \u001b[1;36m5091\u001b[0m │    \u001b[1;36m908724.7276\u001b[0m │\n",
       "│        \u001b[1;36m3636\u001b[0m │    \u001b[1;36m869185.6532\u001b[0m │\n",
       "│        \u001b[1;36m4646\u001b[0m │    \u001b[1;36m905186.8186\u001b[0m │\n",
       "│        \u001b[1;36m7820\u001b[0m │    \u001b[1;36m838587.9808\u001b[0m │\n",
       "│        \u001b[1;36m5007\u001b[0m │    \u001b[1;36m873000.0130\u001b[0m │\n",
       "│         \u001b[1;36m959\u001b[0m │    \u001b[1;36m849076.6788\u001b[0m │\n",
       "│           \u001b[2m…\u001b[0m │              \u001b[2m…\u001b[0m │\n",
       "└─────────────┴────────────────┘"
      ]
     },
     "execution_count": 27,
     "metadata": {},
     "output_type": "execute_result"
    }
   ],
   "source": [
    "revenue.filter(revenue.total_revenue < 1000000)\n"
   ]
  },
  {
   "cell_type": "code",
   "execution_count": 28,
   "metadata": {},
   "outputs": [
    {
     "data": {
      "text/markdown": [
       "```sql\n",
       "WITH \"revenue\" AS (\n",
       "  SELECT\n",
       "    l_suppkey AS supplier_no,\n",
       "    SUM(l_extendedprice * (\n",
       "      1 - l_discount\n",
       "    )) AS total_revenue\n",
       "  FROM lineitem\n",
       "  WHERE\n",
       "    l_shipdate >= CAST('1996-01-01' AS DATE)\n",
       "    AND l_shipdate < CAST('1996-01-01' AS DATE) + INTERVAL '3' MONTH\n",
       "  GROUP BY\n",
       "    l_suppkey\n",
       ")\n",
       "SELECT\n",
       "  *\n",
       "FROM \"revenue\" AS \"t1\"\n",
       "WHERE\n",
       "  \"t1\".\"total_revenue\" < 1000000\n",
       "```"
      ],
      "text/plain": [
       "\u001b[34mWITH\u001b[39;49;00m\u001b[37m \u001b[39;49;00m\u001b[33m\"revenue\"\u001b[39;49;00m\u001b[37m \u001b[39;49;00m\u001b[34mAS\u001b[39;49;00m\u001b[37m \u001b[39;49;00m(\u001b[37m\u001b[39;49;00m\n",
       "\u001b[37m  \u001b[39;49;00m\u001b[34mSELECT\u001b[39;49;00m\u001b[37m\u001b[39;49;00m\n",
       "\u001b[37m    \u001b[39;49;00ml_suppkey\u001b[37m \u001b[39;49;00m\u001b[34mAS\u001b[39;49;00m\u001b[37m \u001b[39;49;00msupplier_no,\u001b[37m\u001b[39;49;00m\n",
       "\u001b[37m    \u001b[39;49;00m\u001b[34mSUM\u001b[39;49;00m(l_extendedprice\u001b[37m \u001b[39;49;00m*\u001b[37m \u001b[39;49;00m(\u001b[37m\u001b[39;49;00m\n",
       "\u001b[37m      \u001b[39;49;00m\u001b[34m1\u001b[39;49;00m\u001b[37m \u001b[39;49;00m-\u001b[37m \u001b[39;49;00ml_discount\u001b[37m\u001b[39;49;00m\n",
       "\u001b[37m    \u001b[39;49;00m))\u001b[37m \u001b[39;49;00m\u001b[34mAS\u001b[39;49;00m\u001b[37m \u001b[39;49;00mtotal_revenue\u001b[37m\u001b[39;49;00m\n",
       "\u001b[37m  \u001b[39;49;00m\u001b[34mFROM\u001b[39;49;00m\u001b[37m \u001b[39;49;00mlineitem\u001b[37m\u001b[39;49;00m\n",
       "\u001b[37m  \u001b[39;49;00m\u001b[34mWHERE\u001b[39;49;00m\u001b[37m\u001b[39;49;00m\n",
       "\u001b[37m    \u001b[39;49;00ml_shipdate\u001b[37m \u001b[39;49;00m>=\u001b[37m \u001b[39;49;00m\u001b[34mCAST\u001b[39;49;00m(\u001b[33m'1996-01-01'\u001b[39;49;00m\u001b[37m \u001b[39;49;00m\u001b[34mAS\u001b[39;49;00m\u001b[37m \u001b[39;49;00m\u001b[36mDATE\u001b[39;49;00m)\u001b[37m\u001b[39;49;00m\n",
       "\u001b[37m    \u001b[39;49;00m\u001b[34mAND\u001b[39;49;00m\u001b[37m \u001b[39;49;00ml_shipdate\u001b[37m \u001b[39;49;00m<\u001b[37m \u001b[39;49;00m\u001b[34mCAST\u001b[39;49;00m(\u001b[33m'1996-01-01'\u001b[39;49;00m\u001b[37m \u001b[39;49;00m\u001b[34mAS\u001b[39;49;00m\u001b[37m \u001b[39;49;00m\u001b[36mDATE\u001b[39;49;00m)\u001b[37m \u001b[39;49;00m+\u001b[37m \u001b[39;49;00m\u001b[36mINTERVAL\u001b[39;49;00m\u001b[37m \u001b[39;49;00m\u001b[33m'3'\u001b[39;49;00m\u001b[37m \u001b[39;49;00m\u001b[34mMONTH\u001b[39;49;00m\u001b[37m\u001b[39;49;00m\n",
       "\u001b[37m  \u001b[39;49;00m\u001b[34mGROUP\u001b[39;49;00m\u001b[37m \u001b[39;49;00m\u001b[34mBY\u001b[39;49;00m\u001b[37m\u001b[39;49;00m\n",
       "\u001b[37m    \u001b[39;49;00ml_suppkey\u001b[37m\u001b[39;49;00m\n",
       ")\u001b[37m\u001b[39;49;00m\n",
       "\u001b[34mSELECT\u001b[39;49;00m\u001b[37m\u001b[39;49;00m\n",
       "\u001b[37m  \u001b[39;49;00m*\u001b[37m\u001b[39;49;00m\n",
       "\u001b[34mFROM\u001b[39;49;00m\u001b[37m \u001b[39;49;00m\u001b[33m\"revenue\"\u001b[39;49;00m\u001b[37m \u001b[39;49;00m\u001b[34mAS\u001b[39;49;00m\u001b[37m \u001b[39;49;00m\u001b[33m\"t1\"\u001b[39;49;00m\u001b[37m\u001b[39;49;00m\n",
       "\u001b[34mWHERE\u001b[39;49;00m\u001b[37m\u001b[39;49;00m\n",
       "\u001b[37m  \u001b[39;49;00m\u001b[33m\"t1\"\u001b[39;49;00m.\u001b[33m\"total_revenue\"\u001b[39;49;00m\u001b[37m \u001b[39;49;00m<\u001b[37m \u001b[39;49;00m\u001b[34m1000000\u001b[39;49;00m\u001b[37m\u001b[39;49;00m"
      ]
     },
     "execution_count": 28,
     "metadata": {},
     "output_type": "execute_result"
    }
   ],
   "source": [
    "ibis.to_sql(expr)"
   ]
  }
 ],
 "metadata": {
  "kernelspec": {
   "display_name": ".venv",
   "language": "python",
   "name": "python3"
  },
  "language_info": {
   "codemirror_mode": {
    "name": "ipython",
    "version": 3
   },
   "file_extension": ".py",
   "mimetype": "text/x-python",
   "name": "python",
   "nbconvert_exporter": "python",
   "pygments_lexer": "ipython3",
   "version": "3.12.3"
  }
 },
 "nbformat": 4,
 "nbformat_minor": 2
}
